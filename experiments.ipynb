{
 "cells": [
  {
   "cell_type": "markdown",
   "metadata": {},
   "source": [
    "**Эксперименты**"
   ]
  },
  {
   "cell_type": "markdown",
   "metadata": {},
   "source": [
    "**Эксперимент 1**\n",
    "\n",
    "Предобработка"
   ]
  },
  {
   "cell_type": "code",
   "execution_count": null,
   "metadata": {},
   "outputs": [],
   "source": [
    "%pip install pandas"
   ]
  },
  {
   "cell_type": "code",
   "execution_count": null,
   "metadata": {},
   "outputs": [],
   "source": [
    "%pip install matplotlib"
   ]
  },
  {
   "cell_type": "code",
   "execution_count": null,
   "metadata": {},
   "outputs": [],
   "source": [
    "%pip install seaborn"
   ]
  },
  {
   "cell_type": "code",
   "execution_count": null,
   "metadata": {},
   "outputs": [],
   "source": [
    "%pip install tqdm"
   ]
  },
  {
   "cell_type": "code",
   "execution_count": 1,
   "metadata": {},
   "outputs": [],
   "source": [
    "import pandas as pd\n",
    "import matplotlib.pyplot as plt\n",
    "import seaborn as sns\n",
    "%config InlineBackend.figure_format = 'svg' \n",
    "%matplotlib inline\n",
    "%load_ext autoreload\n",
    "from tqdm import tqdm\n",
    "%autoreload 2\n",
    "sns.set(style=\"darkgrid\")\n",
    "import numpy as np"
   ]
  },
  {
   "cell_type": "code",
   "execution_count": 2,
   "metadata": {},
   "outputs": [
    {
     "data": {
      "text/html": [
       "<div>\n",
       "<style scoped>\n",
       "    .dataframe tbody tr th:only-of-type {\n",
       "        vertical-align: middle;\n",
       "    }\n",
       "\n",
       "    .dataframe tbody tr th {\n",
       "        vertical-align: top;\n",
       "    }\n",
       "\n",
       "    .dataframe thead th {\n",
       "        text-align: right;\n",
       "    }\n",
       "</style>\n",
       "<table border=\"1\" class=\"dataframe\">\n",
       "  <thead>\n",
       "    <tr style=\"text-align: right;\">\n",
       "      <th></th>\n",
       "      <th>id</th>\n",
       "      <th>date</th>\n",
       "      <th>price</th>\n",
       "      <th>bedrooms</th>\n",
       "      <th>bathrooms</th>\n",
       "      <th>sqft_living</th>\n",
       "      <th>sqft_lot</th>\n",
       "      <th>floors</th>\n",
       "      <th>waterfront</th>\n",
       "      <th>view</th>\n",
       "      <th>...</th>\n",
       "      <th>grade</th>\n",
       "      <th>sqft_above</th>\n",
       "      <th>sqft_basement</th>\n",
       "      <th>yr_built</th>\n",
       "      <th>yr_renovated</th>\n",
       "      <th>zipcode</th>\n",
       "      <th>lat</th>\n",
       "      <th>long</th>\n",
       "      <th>sqft_living15</th>\n",
       "      <th>sqft_lot15</th>\n",
       "    </tr>\n",
       "  </thead>\n",
       "  <tbody>\n",
       "    <tr>\n",
       "      <th>9434</th>\n",
       "      <td>1223089038</td>\n",
       "      <td>20140711T000000</td>\n",
       "      <td>665000.0</td>\n",
       "      <td>5</td>\n",
       "      <td>2.25</td>\n",
       "      <td>3320</td>\n",
       "      <td>60984</td>\n",
       "      <td>2.0</td>\n",
       "      <td>0</td>\n",
       "      <td>0</td>\n",
       "      <td>...</td>\n",
       "      <td>9</td>\n",
       "      <td>3320</td>\n",
       "      <td>0</td>\n",
       "      <td>2000</td>\n",
       "      <td>0</td>\n",
       "      <td>98045</td>\n",
       "      <td>47.4862</td>\n",
       "      <td>-121.718</td>\n",
       "      <td>1580</td>\n",
       "      <td>55322</td>\n",
       "    </tr>\n",
       "    <tr>\n",
       "      <th>13192</th>\n",
       "      <td>7697800040</td>\n",
       "      <td>20140826T000000</td>\n",
       "      <td>470000.0</td>\n",
       "      <td>4</td>\n",
       "      <td>2.75</td>\n",
       "      <td>2150</td>\n",
       "      <td>9820</td>\n",
       "      <td>1.0</td>\n",
       "      <td>0</td>\n",
       "      <td>0</td>\n",
       "      <td>...</td>\n",
       "      <td>8</td>\n",
       "      <td>1220</td>\n",
       "      <td>930</td>\n",
       "      <td>1979</td>\n",
       "      <td>0</td>\n",
       "      <td>98011</td>\n",
       "      <td>47.7758</td>\n",
       "      <td>-122.200</td>\n",
       "      <td>2060</td>\n",
       "      <td>9830</td>\n",
       "    </tr>\n",
       "    <tr>\n",
       "      <th>2718</th>\n",
       "      <td>546000045</td>\n",
       "      <td>20150325T000000</td>\n",
       "      <td>422500.0</td>\n",
       "      <td>2</td>\n",
       "      <td>1.00</td>\n",
       "      <td>800</td>\n",
       "      <td>4046</td>\n",
       "      <td>1.0</td>\n",
       "      <td>0</td>\n",
       "      <td>0</td>\n",
       "      <td>...</td>\n",
       "      <td>7</td>\n",
       "      <td>800</td>\n",
       "      <td>0</td>\n",
       "      <td>1940</td>\n",
       "      <td>0</td>\n",
       "      <td>98117</td>\n",
       "      <td>47.6895</td>\n",
       "      <td>-122.382</td>\n",
       "      <td>1400</td>\n",
       "      <td>4046</td>\n",
       "    </tr>\n",
       "    <tr>\n",
       "      <th>20889</th>\n",
       "      <td>3278613060</td>\n",
       "      <td>20140805T000000</td>\n",
       "      <td>425000.0</td>\n",
       "      <td>4</td>\n",
       "      <td>2.50</td>\n",
       "      <td>1900</td>\n",
       "      <td>2766</td>\n",
       "      <td>2.0</td>\n",
       "      <td>0</td>\n",
       "      <td>0</td>\n",
       "      <td>...</td>\n",
       "      <td>8</td>\n",
       "      <td>1900</td>\n",
       "      <td>0</td>\n",
       "      <td>2014</td>\n",
       "      <td>0</td>\n",
       "      <td>98106</td>\n",
       "      <td>47.5430</td>\n",
       "      <td>-122.368</td>\n",
       "      <td>1900</td>\n",
       "      <td>2604</td>\n",
       "    </tr>\n",
       "    <tr>\n",
       "      <th>14273</th>\n",
       "      <td>5458800620</td>\n",
       "      <td>20140924T000000</td>\n",
       "      <td>685000.0</td>\n",
       "      <td>3</td>\n",
       "      <td>1.75</td>\n",
       "      <td>1650</td>\n",
       "      <td>8400</td>\n",
       "      <td>1.0</td>\n",
       "      <td>0</td>\n",
       "      <td>0</td>\n",
       "      <td>...</td>\n",
       "      <td>8</td>\n",
       "      <td>1470</td>\n",
       "      <td>180</td>\n",
       "      <td>1959</td>\n",
       "      <td>0</td>\n",
       "      <td>98040</td>\n",
       "      <td>47.5766</td>\n",
       "      <td>-122.236</td>\n",
       "      <td>2020</td>\n",
       "      <td>7777</td>\n",
       "    </tr>\n",
       "    <tr>\n",
       "      <th>6841</th>\n",
       "      <td>3449800290</td>\n",
       "      <td>20150406T000000</td>\n",
       "      <td>641000.0</td>\n",
       "      <td>5</td>\n",
       "      <td>2.75</td>\n",
       "      <td>3710</td>\n",
       "      <td>8674</td>\n",
       "      <td>2.0</td>\n",
       "      <td>0</td>\n",
       "      <td>0</td>\n",
       "      <td>...</td>\n",
       "      <td>9</td>\n",
       "      <td>3710</td>\n",
       "      <td>0</td>\n",
       "      <td>1996</td>\n",
       "      <td>0</td>\n",
       "      <td>98056</td>\n",
       "      <td>47.5140</td>\n",
       "      <td>-122.176</td>\n",
       "      <td>3250</td>\n",
       "      <td>8678</td>\n",
       "    </tr>\n",
       "    <tr>\n",
       "      <th>4712</th>\n",
       "      <td>2878601425</td>\n",
       "      <td>20140522T000000</td>\n",
       "      <td>600000.0</td>\n",
       "      <td>3</td>\n",
       "      <td>1.75</td>\n",
       "      <td>1650</td>\n",
       "      <td>5100</td>\n",
       "      <td>1.0</td>\n",
       "      <td>0</td>\n",
       "      <td>0</td>\n",
       "      <td>...</td>\n",
       "      <td>7</td>\n",
       "      <td>1040</td>\n",
       "      <td>610</td>\n",
       "      <td>1908</td>\n",
       "      <td>0</td>\n",
       "      <td>98115</td>\n",
       "      <td>47.6873</td>\n",
       "      <td>-122.321</td>\n",
       "      <td>1540</td>\n",
       "      <td>5100</td>\n",
       "    </tr>\n",
       "  </tbody>\n",
       "</table>\n",
       "<p>7 rows × 21 columns</p>\n",
       "</div>"
      ],
      "text/plain": [
       "               id             date     price  bedrooms  bathrooms  \\\n",
       "9434   1223089038  20140711T000000  665000.0         5       2.25   \n",
       "13192  7697800040  20140826T000000  470000.0         4       2.75   \n",
       "2718    546000045  20150325T000000  422500.0         2       1.00   \n",
       "20889  3278613060  20140805T000000  425000.0         4       2.50   \n",
       "14273  5458800620  20140924T000000  685000.0         3       1.75   \n",
       "6841   3449800290  20150406T000000  641000.0         5       2.75   \n",
       "4712   2878601425  20140522T000000  600000.0         3       1.75   \n",
       "\n",
       "       sqft_living  sqft_lot  floors  waterfront  view  ...  grade  \\\n",
       "9434          3320     60984     2.0           0     0  ...      9   \n",
       "13192         2150      9820     1.0           0     0  ...      8   \n",
       "2718           800      4046     1.0           0     0  ...      7   \n",
       "20889         1900      2766     2.0           0     0  ...      8   \n",
       "14273         1650      8400     1.0           0     0  ...      8   \n",
       "6841          3710      8674     2.0           0     0  ...      9   \n",
       "4712          1650      5100     1.0           0     0  ...      7   \n",
       "\n",
       "       sqft_above  sqft_basement  yr_built  yr_renovated  zipcode      lat  \\\n",
       "9434         3320              0      2000             0    98045  47.4862   \n",
       "13192        1220            930      1979             0    98011  47.7758   \n",
       "2718          800              0      1940             0    98117  47.6895   \n",
       "20889        1900              0      2014             0    98106  47.5430   \n",
       "14273        1470            180      1959             0    98040  47.5766   \n",
       "6841         3710              0      1996             0    98056  47.5140   \n",
       "4712         1040            610      1908             0    98115  47.6873   \n",
       "\n",
       "          long  sqft_living15  sqft_lot15  \n",
       "9434  -121.718           1580       55322  \n",
       "13192 -122.200           2060        9830  \n",
       "2718  -122.382           1400        4046  \n",
       "20889 -122.368           1900        2604  \n",
       "14273 -122.236           2020        7777  \n",
       "6841  -122.176           3250        8678  \n",
       "4712  -122.321           1540        5100  \n",
       "\n",
       "[7 rows x 21 columns]"
      ]
     },
     "execution_count": 2,
     "metadata": {},
     "output_type": "execute_result"
    }
   ],
   "source": [
    "data = pd.read_csv('kc_house_data.csv')\n",
    "data.sample(7)"
   ]
  },
  {
   "cell_type": "code",
   "execution_count": 3,
   "metadata": {},
   "outputs": [],
   "source": [
    "data['date'] = pd.to_datetime(data['date'])\n",
    "y = data['price']\n",
    "data = data.drop(['price'], axis=1)"
   ]
  },
  {
   "cell_type": "code",
   "execution_count": null,
   "metadata": {},
   "outputs": [],
   "source": []
  },
  {
   "cell_type": "code",
   "execution_count": 4,
   "metadata": {},
   "outputs": [
    {
     "data": {
      "text/html": [
       "<div>\n",
       "<style scoped>\n",
       "    .dataframe tbody tr th:only-of-type {\n",
       "        vertical-align: middle;\n",
       "    }\n",
       "\n",
       "    .dataframe tbody tr th {\n",
       "        vertical-align: top;\n",
       "    }\n",
       "\n",
       "    .dataframe thead th {\n",
       "        text-align: right;\n",
       "    }\n",
       "</style>\n",
       "<table border=\"1\" class=\"dataframe\">\n",
       "  <thead>\n",
       "    <tr style=\"text-align: right;\">\n",
       "      <th></th>\n",
       "      <th>id</th>\n",
       "      <th>date</th>\n",
       "      <th>bedrooms</th>\n",
       "      <th>bathrooms</th>\n",
       "      <th>sqft_living</th>\n",
       "      <th>sqft_lot</th>\n",
       "      <th>floors</th>\n",
       "      <th>waterfront</th>\n",
       "      <th>view</th>\n",
       "      <th>condition</th>\n",
       "      <th>grade</th>\n",
       "      <th>sqft_above</th>\n",
       "      <th>sqft_basement</th>\n",
       "      <th>yr_built</th>\n",
       "      <th>yr_renovated</th>\n",
       "      <th>zipcode</th>\n",
       "      <th>lat</th>\n",
       "      <th>long</th>\n",
       "      <th>sqft_living15</th>\n",
       "      <th>sqft_lot15</th>\n",
       "    </tr>\n",
       "  </thead>\n",
       "  <tbody>\n",
       "    <tr>\n",
       "      <th>93</th>\n",
       "      <td>6021501535</td>\n",
       "      <td>2014-07-25</td>\n",
       "      <td>3</td>\n",
       "      <td>1.50</td>\n",
       "      <td>1580</td>\n",
       "      <td>5000</td>\n",
       "      <td>1.0</td>\n",
       "      <td>0</td>\n",
       "      <td>0</td>\n",
       "      <td>3</td>\n",
       "      <td>8</td>\n",
       "      <td>1290</td>\n",
       "      <td>290</td>\n",
       "      <td>1939</td>\n",
       "      <td>0</td>\n",
       "      <td>98117</td>\n",
       "      <td>47.6870</td>\n",
       "      <td>-122.386</td>\n",
       "      <td>1570</td>\n",
       "      <td>4500</td>\n",
       "    </tr>\n",
       "    <tr>\n",
       "      <th>94</th>\n",
       "      <td>6021501535</td>\n",
       "      <td>2014-12-23</td>\n",
       "      <td>3</td>\n",
       "      <td>1.50</td>\n",
       "      <td>1580</td>\n",
       "      <td>5000</td>\n",
       "      <td>1.0</td>\n",
       "      <td>0</td>\n",
       "      <td>0</td>\n",
       "      <td>3</td>\n",
       "      <td>8</td>\n",
       "      <td>1290</td>\n",
       "      <td>290</td>\n",
       "      <td>1939</td>\n",
       "      <td>0</td>\n",
       "      <td>98117</td>\n",
       "      <td>47.6870</td>\n",
       "      <td>-122.386</td>\n",
       "      <td>1570</td>\n",
       "      <td>4500</td>\n",
       "    </tr>\n",
       "    <tr>\n",
       "      <th>313</th>\n",
       "      <td>4139480200</td>\n",
       "      <td>2014-06-18</td>\n",
       "      <td>4</td>\n",
       "      <td>3.25</td>\n",
       "      <td>4290</td>\n",
       "      <td>12103</td>\n",
       "      <td>1.0</td>\n",
       "      <td>0</td>\n",
       "      <td>3</td>\n",
       "      <td>3</td>\n",
       "      <td>11</td>\n",
       "      <td>2690</td>\n",
       "      <td>1600</td>\n",
       "      <td>1997</td>\n",
       "      <td>0</td>\n",
       "      <td>98006</td>\n",
       "      <td>47.5503</td>\n",
       "      <td>-122.102</td>\n",
       "      <td>3860</td>\n",
       "      <td>11244</td>\n",
       "    </tr>\n",
       "    <tr>\n",
       "      <th>314</th>\n",
       "      <td>4139480200</td>\n",
       "      <td>2014-12-09</td>\n",
       "      <td>4</td>\n",
       "      <td>3.25</td>\n",
       "      <td>4290</td>\n",
       "      <td>12103</td>\n",
       "      <td>1.0</td>\n",
       "      <td>0</td>\n",
       "      <td>3</td>\n",
       "      <td>3</td>\n",
       "      <td>11</td>\n",
       "      <td>2690</td>\n",
       "      <td>1600</td>\n",
       "      <td>1997</td>\n",
       "      <td>0</td>\n",
       "      <td>98006</td>\n",
       "      <td>47.5503</td>\n",
       "      <td>-122.102</td>\n",
       "      <td>3860</td>\n",
       "      <td>11244</td>\n",
       "    </tr>\n",
       "    <tr>\n",
       "      <th>324</th>\n",
       "      <td>7520000520</td>\n",
       "      <td>2014-09-05</td>\n",
       "      <td>2</td>\n",
       "      <td>1.00</td>\n",
       "      <td>1240</td>\n",
       "      <td>12092</td>\n",
       "      <td>1.0</td>\n",
       "      <td>0</td>\n",
       "      <td>0</td>\n",
       "      <td>3</td>\n",
       "      <td>6</td>\n",
       "      <td>960</td>\n",
       "      <td>280</td>\n",
       "      <td>1922</td>\n",
       "      <td>1984</td>\n",
       "      <td>98146</td>\n",
       "      <td>47.4957</td>\n",
       "      <td>-122.352</td>\n",
       "      <td>1820</td>\n",
       "      <td>7460</td>\n",
       "    </tr>\n",
       "    <tr>\n",
       "      <th>...</th>\n",
       "      <td>...</td>\n",
       "      <td>...</td>\n",
       "      <td>...</td>\n",
       "      <td>...</td>\n",
       "      <td>...</td>\n",
       "      <td>...</td>\n",
       "      <td>...</td>\n",
       "      <td>...</td>\n",
       "      <td>...</td>\n",
       "      <td>...</td>\n",
       "      <td>...</td>\n",
       "      <td>...</td>\n",
       "      <td>...</td>\n",
       "      <td>...</td>\n",
       "      <td>...</td>\n",
       "      <td>...</td>\n",
       "      <td>...</td>\n",
       "      <td>...</td>\n",
       "      <td>...</td>\n",
       "      <td>...</td>\n",
       "    </tr>\n",
       "    <tr>\n",
       "      <th>20670</th>\n",
       "      <td>8564860270</td>\n",
       "      <td>2015-03-30</td>\n",
       "      <td>4</td>\n",
       "      <td>2.50</td>\n",
       "      <td>2680</td>\n",
       "      <td>5539</td>\n",
       "      <td>2.0</td>\n",
       "      <td>0</td>\n",
       "      <td>0</td>\n",
       "      <td>3</td>\n",
       "      <td>8</td>\n",
       "      <td>2680</td>\n",
       "      <td>0</td>\n",
       "      <td>2013</td>\n",
       "      <td>0</td>\n",
       "      <td>98045</td>\n",
       "      <td>47.4759</td>\n",
       "      <td>-121.734</td>\n",
       "      <td>2680</td>\n",
       "      <td>5992</td>\n",
       "    </tr>\n",
       "    <tr>\n",
       "      <th>20779</th>\n",
       "      <td>6300000226</td>\n",
       "      <td>2014-06-26</td>\n",
       "      <td>4</td>\n",
       "      <td>1.00</td>\n",
       "      <td>1200</td>\n",
       "      <td>2171</td>\n",
       "      <td>1.5</td>\n",
       "      <td>0</td>\n",
       "      <td>0</td>\n",
       "      <td>3</td>\n",
       "      <td>7</td>\n",
       "      <td>1200</td>\n",
       "      <td>0</td>\n",
       "      <td>1933</td>\n",
       "      <td>0</td>\n",
       "      <td>98133</td>\n",
       "      <td>47.7076</td>\n",
       "      <td>-122.342</td>\n",
       "      <td>1130</td>\n",
       "      <td>1598</td>\n",
       "    </tr>\n",
       "    <tr>\n",
       "      <th>20780</th>\n",
       "      <td>6300000226</td>\n",
       "      <td>2015-05-04</td>\n",
       "      <td>4</td>\n",
       "      <td>1.00</td>\n",
       "      <td>1200</td>\n",
       "      <td>2171</td>\n",
       "      <td>1.5</td>\n",
       "      <td>0</td>\n",
       "      <td>0</td>\n",
       "      <td>3</td>\n",
       "      <td>7</td>\n",
       "      <td>1200</td>\n",
       "      <td>0</td>\n",
       "      <td>1933</td>\n",
       "      <td>0</td>\n",
       "      <td>98133</td>\n",
       "      <td>47.7076</td>\n",
       "      <td>-122.342</td>\n",
       "      <td>1130</td>\n",
       "      <td>1598</td>\n",
       "    </tr>\n",
       "    <tr>\n",
       "      <th>21580</th>\n",
       "      <td>7853420110</td>\n",
       "      <td>2014-10-03</td>\n",
       "      <td>3</td>\n",
       "      <td>3.00</td>\n",
       "      <td>2780</td>\n",
       "      <td>6000</td>\n",
       "      <td>2.0</td>\n",
       "      <td>0</td>\n",
       "      <td>0</td>\n",
       "      <td>3</td>\n",
       "      <td>9</td>\n",
       "      <td>2780</td>\n",
       "      <td>0</td>\n",
       "      <td>2013</td>\n",
       "      <td>0</td>\n",
       "      <td>98065</td>\n",
       "      <td>47.5184</td>\n",
       "      <td>-121.886</td>\n",
       "      <td>2850</td>\n",
       "      <td>6000</td>\n",
       "    </tr>\n",
       "    <tr>\n",
       "      <th>21581</th>\n",
       "      <td>7853420110</td>\n",
       "      <td>2015-05-04</td>\n",
       "      <td>3</td>\n",
       "      <td>3.00</td>\n",
       "      <td>2780</td>\n",
       "      <td>6000</td>\n",
       "      <td>2.0</td>\n",
       "      <td>0</td>\n",
       "      <td>0</td>\n",
       "      <td>3</td>\n",
       "      <td>9</td>\n",
       "      <td>2780</td>\n",
       "      <td>0</td>\n",
       "      <td>2013</td>\n",
       "      <td>0</td>\n",
       "      <td>98065</td>\n",
       "      <td>47.5184</td>\n",
       "      <td>-121.886</td>\n",
       "      <td>2850</td>\n",
       "      <td>6000</td>\n",
       "    </tr>\n",
       "  </tbody>\n",
       "</table>\n",
       "<p>353 rows × 20 columns</p>\n",
       "</div>"
      ],
      "text/plain": [
       "               id       date  bedrooms  bathrooms  sqft_living  sqft_lot  \\\n",
       "93     6021501535 2014-07-25         3       1.50         1580      5000   \n",
       "94     6021501535 2014-12-23         3       1.50         1580      5000   \n",
       "313    4139480200 2014-06-18         4       3.25         4290     12103   \n",
       "314    4139480200 2014-12-09         4       3.25         4290     12103   \n",
       "324    7520000520 2014-09-05         2       1.00         1240     12092   \n",
       "...           ...        ...       ...        ...          ...       ...   \n",
       "20670  8564860270 2015-03-30         4       2.50         2680      5539   \n",
       "20779  6300000226 2014-06-26         4       1.00         1200      2171   \n",
       "20780  6300000226 2015-05-04         4       1.00         1200      2171   \n",
       "21580  7853420110 2014-10-03         3       3.00         2780      6000   \n",
       "21581  7853420110 2015-05-04         3       3.00         2780      6000   \n",
       "\n",
       "       floors  waterfront  view  condition  grade  sqft_above  sqft_basement  \\\n",
       "93        1.0           0     0          3      8        1290            290   \n",
       "94        1.0           0     0          3      8        1290            290   \n",
       "313       1.0           0     3          3     11        2690           1600   \n",
       "314       1.0           0     3          3     11        2690           1600   \n",
       "324       1.0           0     0          3      6         960            280   \n",
       "...       ...         ...   ...        ...    ...         ...            ...   \n",
       "20670     2.0           0     0          3      8        2680              0   \n",
       "20779     1.5           0     0          3      7        1200              0   \n",
       "20780     1.5           0     0          3      7        1200              0   \n",
       "21580     2.0           0     0          3      9        2780              0   \n",
       "21581     2.0           0     0          3      9        2780              0   \n",
       "\n",
       "       yr_built  yr_renovated  zipcode      lat     long  sqft_living15  \\\n",
       "93         1939             0    98117  47.6870 -122.386           1570   \n",
       "94         1939             0    98117  47.6870 -122.386           1570   \n",
       "313        1997             0    98006  47.5503 -122.102           3860   \n",
       "314        1997             0    98006  47.5503 -122.102           3860   \n",
       "324        1922          1984    98146  47.4957 -122.352           1820   \n",
       "...         ...           ...      ...      ...      ...            ...   \n",
       "20670      2013             0    98045  47.4759 -121.734           2680   \n",
       "20779      1933             0    98133  47.7076 -122.342           1130   \n",
       "20780      1933             0    98133  47.7076 -122.342           1130   \n",
       "21580      2013             0    98065  47.5184 -121.886           2850   \n",
       "21581      2013             0    98065  47.5184 -121.886           2850   \n",
       "\n",
       "       sqft_lot15  \n",
       "93           4500  \n",
       "94           4500  \n",
       "313         11244  \n",
       "314         11244  \n",
       "324          7460  \n",
       "...           ...  \n",
       "20670        5992  \n",
       "20779        1598  \n",
       "20780        1598  \n",
       "21580        6000  \n",
       "21581        6000  \n",
       "\n",
       "[353 rows x 20 columns]"
      ]
     },
     "execution_count": 4,
     "metadata": {},
     "output_type": "execute_result"
    }
   ],
   "source": [
    "data[data.duplicated(subset=['id'], keep=False)]\n",
    "#data = data.drop([['price', 'id']])"
   ]
  },
  {
   "cell_type": "markdown",
   "metadata": {},
   "source": [
    "Наводит на мысль чточем старше дом тем он дороже.  Тепер айдишники не несут никакой информации, их можно удалить."
   ]
  },
  {
   "cell_type": "code",
   "execution_count": 5,
   "metadata": {},
   "outputs": [],
   "source": [
    "data = data.drop(['id'], axis=1)\n"
   ]
  },
  {
   "cell_type": "code",
   "execution_count": 6,
   "metadata": {},
   "outputs": [],
   "source": [
    "data['year'] = data.date.dt.year\n",
    "data['day_of_weak'] = data.date.dt.day_of_week\n",
    "data['day'] = data.date.dt.day\n",
    "data['month'] = data.date.dt.month"
   ]
  },
  {
   "cell_type": "code",
   "execution_count": 7,
   "metadata": {},
   "outputs": [
    {
     "data": {
      "text/plain": [
       "<seaborn.axisgrid.FacetGrid at 0x7f7d20474ee0>"
      ]
     },
     "execution_count": 7,
     "metadata": {},
     "output_type": "execute_result"
    },
    {
     "data": {
      "image/svg+xml": "<?xml version=\"1.0\" encoding=\"utf-8\" standalone=\"no\"?>\n<!DOCTYPE svg PUBLIC \"-//W3C//DTD SVG 1.1//EN\"\n  \"http://www.w3.org/Graphics/SVG/1.1/DTD/svg11.dtd\">\n<svg xmlns:xlink=\"http://www.w3.org/1999/xlink\" width=\"348.546562pt\" height=\"348.634219pt\" viewBox=\"0 0 348.546562 348.634219\" xmlns=\"http://www.w3.org/2000/svg\" version=\"1.1\">\n <metadata>\n  <rdf:RDF xmlns:dc=\"http://purl.org/dc/elements/1.1/\" xmlns:cc=\"http://creativecommons.org/ns#\" xmlns:rdf=\"http://www.w3.org/1999/02/22-rdf-syntax-ns#\">\n   <cc:Work>\n    <dc:type rdf:resource=\"http://purl.org/dc/dcmitype/StillImage\"/>\n    <dc:date>2022-12-19T22:37:47.546368</dc:date>\n    <dc:format>image/svg+xml</dc:format>\n    <dc:creator>\n     <cc:Agent>\n      <dc:title>Matplotlib v3.6.2, https://matplotlib.org/</dc:title>\n     </cc:Agent>\n    </dc:creator>\n   </cc:Work>\n  </rdf:RDF>\n </metadata>\n <defs>\n  <style type=\"text/css\">*{stroke-linejoin: round; stroke-linecap: butt}</style>\n </defs>\n <g id=\"figure_1\">\n  <g id=\"patch_1\">\n   <path d=\"M 0 348.634219 \nL 348.546562 348.634219 \nL 348.546562 0 \nL 0 0 \nz\n\" style=\"fill: #ffffff\"/>\n  </g>\n  <g id=\"axes_1\">\n   <g id=\"patch_2\">\n    <path d=\"M 68.376563 306.9 \nL 341.346562 306.9 \nL 341.346562 7.2 \nL 68.376563 7.2 \nz\n\" style=\"fill: #eaeaf2\"/>\n   </g>\n   <g id=\"matplotlib.axis_1\">\n    <g id=\"xtick_1\">\n     <g id=\"line2d_1\">\n      <path d=\"M 103.343794 306.9 \nL 103.343794 7.2 \n\" clip-path=\"url(#pe149185db8)\" style=\"fill: none; stroke: #ffffff; stroke-linecap: round\"/>\n     </g>\n     <g id=\"text_1\">\n      <!-- 2 -->\n      <g style=\"fill: #262626\" transform=\"translate(100.285278 324.273594) scale(0.11 -0.11)\">\n       <defs>\n        <path id=\"ArialMT-32\" d=\"M 3222 541 \nL 3222 0 \nL 194 0 \nQ 188 203 259 391 \nQ 375 700 629 1000 \nQ 884 1300 1366 1694 \nQ 2113 2306 2375 2664 \nQ 2638 3022 2638 3341 \nQ 2638 3675 2398 3904 \nQ 2159 4134 1775 4134 \nQ 1369 4134 1125 3890 \nQ 881 3647 878 3216 \nL 300 3275 \nQ 359 3922 746 4261 \nQ 1134 4600 1788 4600 \nQ 2447 4600 2831 4234 \nQ 3216 3869 3216 3328 \nQ 3216 3053 3103 2787 \nQ 2991 2522 2730 2228 \nQ 2469 1934 1863 1422 \nQ 1356 997 1212 845 \nQ 1069 694 975 541 \nL 3222 541 \nz\n\" transform=\"scale(0.015625)\"/>\n       </defs>\n       <use xlink:href=\"#ArialMT-32\"/>\n      </g>\n     </g>\n    </g>\n    <g id=\"xtick_2\">\n     <g id=\"line2d_2\">\n      <path d=\"M 148.462802 306.9 \nL 148.462802 7.2 \n\" clip-path=\"url(#pe149185db8)\" style=\"fill: none; stroke: #ffffff; stroke-linecap: round\"/>\n     </g>\n     <g id=\"text_2\">\n      <!-- 4 -->\n      <g style=\"fill: #262626\" transform=\"translate(145.404287 324.273594) scale(0.11 -0.11)\">\n       <defs>\n        <path id=\"ArialMT-34\" d=\"M 2069 0 \nL 2069 1097 \nL 81 1097 \nL 81 1613 \nL 2172 4581 \nL 2631 4581 \nL 2631 1613 \nL 3250 1613 \nL 3250 1097 \nL 2631 1097 \nL 2631 0 \nL 2069 0 \nz\nM 2069 1613 \nL 2069 3678 \nL 634 1613 \nL 2069 1613 \nz\n\" transform=\"scale(0.015625)\"/>\n       </defs>\n       <use xlink:href=\"#ArialMT-34\"/>\n      </g>\n     </g>\n    </g>\n    <g id=\"xtick_3\">\n     <g id=\"line2d_3\">\n      <path d=\"M 193.58181 306.9 \nL 193.58181 7.2 \n\" clip-path=\"url(#pe149185db8)\" style=\"fill: none; stroke: #ffffff; stroke-linecap: round\"/>\n     </g>\n     <g id=\"text_3\">\n      <!-- 6 -->\n      <g style=\"fill: #262626\" transform=\"translate(190.523295 324.273594) scale(0.11 -0.11)\">\n       <defs>\n        <path id=\"ArialMT-36\" d=\"M 3184 3459 \nL 2625 3416 \nQ 2550 3747 2413 3897 \nQ 2184 4138 1850 4138 \nQ 1581 4138 1378 3988 \nQ 1113 3794 959 3422 \nQ 806 3050 800 2363 \nQ 1003 2672 1297 2822 \nQ 1591 2972 1913 2972 \nQ 2475 2972 2870 2558 \nQ 3266 2144 3266 1488 \nQ 3266 1056 3080 686 \nQ 2894 316 2569 119 \nQ 2244 -78 1831 -78 \nQ 1128 -78 684 439 \nQ 241 956 241 2144 \nQ 241 3472 731 4075 \nQ 1159 4600 1884 4600 \nQ 2425 4600 2770 4297 \nQ 3116 3994 3184 3459 \nz\nM 888 1484 \nQ 888 1194 1011 928 \nQ 1134 663 1356 523 \nQ 1578 384 1822 384 \nQ 2178 384 2434 671 \nQ 2691 959 2691 1453 \nQ 2691 1928 2437 2201 \nQ 2184 2475 1800 2475 \nQ 1419 2475 1153 2201 \nQ 888 1928 888 1484 \nz\n\" transform=\"scale(0.015625)\"/>\n       </defs>\n       <use xlink:href=\"#ArialMT-36\"/>\n      </g>\n     </g>\n    </g>\n    <g id=\"xtick_4\">\n     <g id=\"line2d_4\">\n      <path d=\"M 238.700819 306.9 \nL 238.700819 7.2 \n\" clip-path=\"url(#pe149185db8)\" style=\"fill: none; stroke: #ffffff; stroke-linecap: round\"/>\n     </g>\n     <g id=\"text_4\">\n      <!-- 8 -->\n      <g style=\"fill: #262626\" transform=\"translate(235.642303 324.273594) scale(0.11 -0.11)\">\n       <defs>\n        <path id=\"ArialMT-38\" d=\"M 1131 2484 \nQ 781 2613 612 2850 \nQ 444 3088 444 3419 \nQ 444 3919 803 4259 \nQ 1163 4600 1759 4600 \nQ 2359 4600 2725 4251 \nQ 3091 3903 3091 3403 \nQ 3091 3084 2923 2848 \nQ 2756 2613 2416 2484 \nQ 2838 2347 3058 2040 \nQ 3278 1734 3278 1309 \nQ 3278 722 2862 322 \nQ 2447 -78 1769 -78 \nQ 1091 -78 675 323 \nQ 259 725 259 1325 \nQ 259 1772 486 2073 \nQ 713 2375 1131 2484 \nz\nM 1019 3438 \nQ 1019 3113 1228 2906 \nQ 1438 2700 1772 2700 \nQ 2097 2700 2305 2904 \nQ 2513 3109 2513 3406 \nQ 2513 3716 2298 3927 \nQ 2084 4138 1766 4138 \nQ 1444 4138 1231 3931 \nQ 1019 3725 1019 3438 \nz\nM 838 1322 \nQ 838 1081 952 856 \nQ 1066 631 1291 507 \nQ 1516 384 1775 384 \nQ 2178 384 2440 643 \nQ 2703 903 2703 1303 \nQ 2703 1709 2433 1975 \nQ 2163 2241 1756 2241 \nQ 1359 2241 1098 1978 \nQ 838 1716 838 1322 \nz\n\" transform=\"scale(0.015625)\"/>\n       </defs>\n       <use xlink:href=\"#ArialMT-38\"/>\n      </g>\n     </g>\n    </g>\n    <g id=\"xtick_5\">\n     <g id=\"line2d_5\">\n      <path d=\"M 283.819827 306.9 \nL 283.819827 7.2 \n\" clip-path=\"url(#pe149185db8)\" style=\"fill: none; stroke: #ffffff; stroke-linecap: round\"/>\n     </g>\n     <g id=\"text_5\">\n      <!-- 10 -->\n      <g style=\"fill: #262626\" transform=\"translate(277.702796 324.273594) scale(0.11 -0.11)\">\n       <defs>\n        <path id=\"ArialMT-31\" d=\"M 2384 0 \nL 1822 0 \nL 1822 3584 \nQ 1619 3391 1289 3197 \nQ 959 3003 697 2906 \nL 697 3450 \nQ 1169 3672 1522 3987 \nQ 1875 4303 2022 4600 \nL 2384 4600 \nL 2384 0 \nz\n\" transform=\"scale(0.015625)\"/>\n        <path id=\"ArialMT-30\" d=\"M 266 2259 \nQ 266 3072 433 3567 \nQ 600 4063 929 4331 \nQ 1259 4600 1759 4600 \nQ 2128 4600 2406 4451 \nQ 2684 4303 2865 4023 \nQ 3047 3744 3150 3342 \nQ 3253 2941 3253 2259 \nQ 3253 1453 3087 958 \nQ 2922 463 2592 192 \nQ 2263 -78 1759 -78 \nQ 1097 -78 719 397 \nQ 266 969 266 2259 \nz\nM 844 2259 \nQ 844 1131 1108 757 \nQ 1372 384 1759 384 \nQ 2147 384 2411 759 \nQ 2675 1134 2675 2259 \nQ 2675 3391 2411 3762 \nQ 2147 4134 1753 4134 \nQ 1366 4134 1134 3806 \nQ 844 3388 844 2259 \nz\n\" transform=\"scale(0.015625)\"/>\n       </defs>\n       <use xlink:href=\"#ArialMT-31\"/>\n       <use xlink:href=\"#ArialMT-30\" x=\"55.615234\"/>\n      </g>\n     </g>\n    </g>\n    <g id=\"xtick_6\">\n     <g id=\"line2d_6\">\n      <path d=\"M 328.938835 306.9 \nL 328.938835 7.2 \n\" clip-path=\"url(#pe149185db8)\" style=\"fill: none; stroke: #ffffff; stroke-linecap: round\"/>\n     </g>\n     <g id=\"text_6\">\n      <!-- 12 -->\n      <g style=\"fill: #262626\" transform=\"translate(322.821804 324.273594) scale(0.11 -0.11)\">\n       <use xlink:href=\"#ArialMT-31\"/>\n       <use xlink:href=\"#ArialMT-32\" x=\"55.615234\"/>\n      </g>\n     </g>\n    </g>\n    <g id=\"text_7\">\n     <!-- month -->\n     <g style=\"fill: #262626\" transform=\"translate(188.187187 339.049219) scale(0.12 -0.12)\">\n      <defs>\n       <path id=\"ArialMT-6d\" d=\"M 422 0 \nL 422 3319 \nL 925 3319 \nL 925 2853 \nQ 1081 3097 1340 3245 \nQ 1600 3394 1931 3394 \nQ 2300 3394 2536 3241 \nQ 2772 3088 2869 2813 \nQ 3263 3394 3894 3394 \nQ 4388 3394 4653 3120 \nQ 4919 2847 4919 2278 \nL 4919 0 \nL 4359 0 \nL 4359 2091 \nQ 4359 2428 4304 2576 \nQ 4250 2725 4106 2815 \nQ 3963 2906 3769 2906 \nQ 3419 2906 3187 2673 \nQ 2956 2441 2956 1928 \nL 2956 0 \nL 2394 0 \nL 2394 2156 \nQ 2394 2531 2256 2718 \nQ 2119 2906 1806 2906 \nQ 1569 2906 1367 2781 \nQ 1166 2656 1075 2415 \nQ 984 2175 984 1722 \nL 984 0 \nL 422 0 \nz\n\" transform=\"scale(0.015625)\"/>\n       <path id=\"ArialMT-6f\" d=\"M 213 1659 \nQ 213 2581 725 3025 \nQ 1153 3394 1769 3394 \nQ 2453 3394 2887 2945 \nQ 3322 2497 3322 1706 \nQ 3322 1066 3130 698 \nQ 2938 331 2570 128 \nQ 2203 -75 1769 -75 \nQ 1072 -75 642 372 \nQ 213 819 213 1659 \nz\nM 791 1659 \nQ 791 1022 1069 705 \nQ 1347 388 1769 388 \nQ 2188 388 2466 706 \nQ 2744 1025 2744 1678 \nQ 2744 2294 2464 2611 \nQ 2184 2928 1769 2928 \nQ 1347 2928 1069 2612 \nQ 791 2297 791 1659 \nz\n\" transform=\"scale(0.015625)\"/>\n       <path id=\"ArialMT-6e\" d=\"M 422 0 \nL 422 3319 \nL 928 3319 \nL 928 2847 \nQ 1294 3394 1984 3394 \nQ 2284 3394 2536 3286 \nQ 2788 3178 2913 3003 \nQ 3038 2828 3088 2588 \nQ 3119 2431 3119 2041 \nL 3119 0 \nL 2556 0 \nL 2556 2019 \nQ 2556 2363 2490 2533 \nQ 2425 2703 2258 2804 \nQ 2091 2906 1866 2906 \nQ 1506 2906 1245 2678 \nQ 984 2450 984 1813 \nL 984 0 \nL 422 0 \nz\n\" transform=\"scale(0.015625)\"/>\n       <path id=\"ArialMT-74\" d=\"M 1650 503 \nL 1731 6 \nQ 1494 -44 1306 -44 \nQ 1000 -44 831 53 \nQ 663 150 594 308 \nQ 525 466 525 972 \nL 525 2881 \nL 113 2881 \nL 113 3319 \nL 525 3319 \nL 525 4141 \nL 1084 4478 \nL 1084 3319 \nL 1650 3319 \nL 1650 2881 \nL 1084 2881 \nL 1084 941 \nQ 1084 700 1114 631 \nQ 1144 563 1211 522 \nQ 1278 481 1403 481 \nQ 1497 481 1650 503 \nz\n\" transform=\"scale(0.015625)\"/>\n       <path id=\"ArialMT-68\" d=\"M 422 0 \nL 422 4581 \nL 984 4581 \nL 984 2938 \nQ 1378 3394 1978 3394 \nQ 2347 3394 2619 3248 \nQ 2891 3103 3008 2847 \nQ 3125 2591 3125 2103 \nL 3125 0 \nL 2563 0 \nL 2563 2103 \nQ 2563 2525 2380 2717 \nQ 2197 2909 1863 2909 \nQ 1613 2909 1392 2779 \nQ 1172 2650 1078 2428 \nQ 984 2206 984 1816 \nL 984 0 \nL 422 0 \nz\n\" transform=\"scale(0.015625)\"/>\n      </defs>\n      <use xlink:href=\"#ArialMT-6d\"/>\n      <use xlink:href=\"#ArialMT-6f\" x=\"83.300781\"/>\n      <use xlink:href=\"#ArialMT-6e\" x=\"138.916016\"/>\n      <use xlink:href=\"#ArialMT-74\" x=\"194.53125\"/>\n      <use xlink:href=\"#ArialMT-68\" x=\"222.314453\"/>\n     </g>\n    </g>\n   </g>\n   <g id=\"matplotlib.axis_2\">\n    <g id=\"ytick_1\">\n     <g id=\"line2d_7\">\n      <path d=\"M 68.376563 263.060536 \nL 341.346562 263.060536 \n\" clip-path=\"url(#pe149185db8)\" style=\"fill: none; stroke: #ffffff; stroke-linecap: round\"/>\n     </g>\n     <g id=\"text_8\">\n      <!-- 500000 -->\n      <g style=\"fill: #262626\" transform=\"translate(22.174375 266.997333) scale(0.11 -0.11)\">\n       <defs>\n        <path id=\"ArialMT-35\" d=\"M 266 1200 \nL 856 1250 \nQ 922 819 1161 601 \nQ 1400 384 1738 384 \nQ 2144 384 2425 690 \nQ 2706 997 2706 1503 \nQ 2706 1984 2436 2262 \nQ 2166 2541 1728 2541 \nQ 1456 2541 1237 2417 \nQ 1019 2294 894 2097 \nL 366 2166 \nL 809 4519 \nL 3088 4519 \nL 3088 3981 \nL 1259 3981 \nL 1013 2750 \nQ 1425 3038 1878 3038 \nQ 2478 3038 2890 2622 \nQ 3303 2206 3303 1553 \nQ 3303 931 2941 478 \nQ 2500 -78 1738 -78 \nQ 1113 -78 717 272 \nQ 322 622 266 1200 \nz\n\" transform=\"scale(0.015625)\"/>\n       </defs>\n       <use xlink:href=\"#ArialMT-35\"/>\n       <use xlink:href=\"#ArialMT-30\" x=\"55.615234\"/>\n       <use xlink:href=\"#ArialMT-30\" x=\"111.230469\"/>\n       <use xlink:href=\"#ArialMT-30\" x=\"166.845703\"/>\n       <use xlink:href=\"#ArialMT-30\" x=\"222.460938\"/>\n       <use xlink:href=\"#ArialMT-30\" x=\"278.076172\"/>\n      </g>\n     </g>\n    </g>\n    <g id=\"ytick_2\">\n     <g id=\"line2d_8\">\n      <path d=\"M 68.376563 200.992003 \nL 341.346562 200.992003 \n\" clip-path=\"url(#pe149185db8)\" style=\"fill: none; stroke: #ffffff; stroke-linecap: round\"/>\n     </g>\n     <g id=\"text_9\">\n      <!-- 520000 -->\n      <g style=\"fill: #262626\" transform=\"translate(22.174375 204.9288) scale(0.11 -0.11)\">\n       <use xlink:href=\"#ArialMT-35\"/>\n       <use xlink:href=\"#ArialMT-32\" x=\"55.615234\"/>\n       <use xlink:href=\"#ArialMT-30\" x=\"111.230469\"/>\n       <use xlink:href=\"#ArialMT-30\" x=\"166.845703\"/>\n       <use xlink:href=\"#ArialMT-30\" x=\"222.460938\"/>\n       <use xlink:href=\"#ArialMT-30\" x=\"278.076172\"/>\n      </g>\n     </g>\n    </g>\n    <g id=\"ytick_3\">\n     <g id=\"line2d_9\">\n      <path d=\"M 68.376563 138.92347 \nL 341.346562 138.92347 \n\" clip-path=\"url(#pe149185db8)\" style=\"fill: none; stroke: #ffffff; stroke-linecap: round\"/>\n     </g>\n     <g id=\"text_10\">\n      <!-- 540000 -->\n      <g style=\"fill: #262626\" transform=\"translate(22.174375 142.860267) scale(0.11 -0.11)\">\n       <use xlink:href=\"#ArialMT-35\"/>\n       <use xlink:href=\"#ArialMT-34\" x=\"55.615234\"/>\n       <use xlink:href=\"#ArialMT-30\" x=\"111.230469\"/>\n       <use xlink:href=\"#ArialMT-30\" x=\"166.845703\"/>\n       <use xlink:href=\"#ArialMT-30\" x=\"222.460938\"/>\n       <use xlink:href=\"#ArialMT-30\" x=\"278.076172\"/>\n      </g>\n     </g>\n    </g>\n    <g id=\"ytick_4\">\n     <g id=\"line2d_10\">\n      <path d=\"M 68.376563 76.854937 \nL 341.346562 76.854937 \n\" clip-path=\"url(#pe149185db8)\" style=\"fill: none; stroke: #ffffff; stroke-linecap: round\"/>\n     </g>\n     <g id=\"text_11\">\n      <!-- 560000 -->\n      <g style=\"fill: #262626\" transform=\"translate(22.174375 80.791734) scale(0.11 -0.11)\">\n       <use xlink:href=\"#ArialMT-35\"/>\n       <use xlink:href=\"#ArialMT-36\" x=\"55.615234\"/>\n       <use xlink:href=\"#ArialMT-30\" x=\"111.230469\"/>\n       <use xlink:href=\"#ArialMT-30\" x=\"166.845703\"/>\n       <use xlink:href=\"#ArialMT-30\" x=\"222.460938\"/>\n       <use xlink:href=\"#ArialMT-30\" x=\"278.076172\"/>\n      </g>\n     </g>\n    </g>\n    <g id=\"ytick_5\">\n     <g id=\"line2d_11\">\n      <path d=\"M 68.376563 14.786404 \nL 341.346562 14.786404 \n\" clip-path=\"url(#pe149185db8)\" style=\"fill: none; stroke: #ffffff; stroke-linecap: round\"/>\n     </g>\n     <g id=\"text_12\">\n      <!-- 580000 -->\n      <g style=\"fill: #262626\" transform=\"translate(22.174375 18.723201) scale(0.11 -0.11)\">\n       <use xlink:href=\"#ArialMT-35\"/>\n       <use xlink:href=\"#ArialMT-38\" x=\"55.615234\"/>\n       <use xlink:href=\"#ArialMT-30\" x=\"111.230469\"/>\n       <use xlink:href=\"#ArialMT-30\" x=\"166.845703\"/>\n       <use xlink:href=\"#ArialMT-30\" x=\"222.460938\"/>\n       <use xlink:href=\"#ArialMT-30\" x=\"278.076172\"/>\n      </g>\n     </g>\n    </g>\n    <g id=\"text_13\">\n     <!-- price -->\n     <g style=\"fill: #262626\" transform=\"translate(15.789375 170.054062) rotate(-90) scale(0.12 -0.12)\">\n      <defs>\n       <path id=\"ArialMT-70\" d=\"M 422 -1272 \nL 422 3319 \nL 934 3319 \nL 934 2888 \nQ 1116 3141 1344 3267 \nQ 1572 3394 1897 3394 \nQ 2322 3394 2647 3175 \nQ 2972 2956 3137 2557 \nQ 3303 2159 3303 1684 \nQ 3303 1175 3120 767 \nQ 2938 359 2589 142 \nQ 2241 -75 1856 -75 \nQ 1575 -75 1351 44 \nQ 1128 163 984 344 \nL 984 -1272 \nL 422 -1272 \nz\nM 931 1641 \nQ 931 1000 1190 694 \nQ 1450 388 1819 388 \nQ 2194 388 2461 705 \nQ 2728 1022 2728 1688 \nQ 2728 2322 2467 2637 \nQ 2206 2953 1844 2953 \nQ 1484 2953 1207 2617 \nQ 931 2281 931 1641 \nz\n\" transform=\"scale(0.015625)\"/>\n       <path id=\"ArialMT-72\" d=\"M 416 0 \nL 416 3319 \nL 922 3319 \nL 922 2816 \nQ 1116 3169 1280 3281 \nQ 1444 3394 1641 3394 \nQ 1925 3394 2219 3213 \nL 2025 2691 \nQ 1819 2813 1613 2813 \nQ 1428 2813 1281 2702 \nQ 1134 2591 1072 2394 \nQ 978 2094 978 1738 \nL 978 0 \nL 416 0 \nz\n\" transform=\"scale(0.015625)\"/>\n       <path id=\"ArialMT-69\" d=\"M 425 3934 \nL 425 4581 \nL 988 4581 \nL 988 3934 \nL 425 3934 \nz\nM 425 0 \nL 425 3319 \nL 988 3319 \nL 988 0 \nL 425 0 \nz\n\" transform=\"scale(0.015625)\"/>\n       <path id=\"ArialMT-63\" d=\"M 2588 1216 \nL 3141 1144 \nQ 3050 572 2676 248 \nQ 2303 -75 1759 -75 \nQ 1078 -75 664 370 \nQ 250 816 250 1647 \nQ 250 2184 428 2587 \nQ 606 2991 970 3192 \nQ 1334 3394 1763 3394 \nQ 2303 3394 2647 3120 \nQ 2991 2847 3088 2344 \nL 2541 2259 \nQ 2463 2594 2264 2762 \nQ 2066 2931 1784 2931 \nQ 1359 2931 1093 2626 \nQ 828 2322 828 1663 \nQ 828 994 1084 691 \nQ 1341 388 1753 388 \nQ 2084 388 2306 591 \nQ 2528 794 2588 1216 \nz\n\" transform=\"scale(0.015625)\"/>\n       <path id=\"ArialMT-65\" d=\"M 2694 1069 \nL 3275 997 \nQ 3138 488 2766 206 \nQ 2394 -75 1816 -75 \nQ 1088 -75 661 373 \nQ 234 822 234 1631 \nQ 234 2469 665 2931 \nQ 1097 3394 1784 3394 \nQ 2450 3394 2872 2941 \nQ 3294 2488 3294 1666 \nQ 3294 1616 3291 1516 \nL 816 1516 \nQ 847 969 1125 678 \nQ 1403 388 1819 388 \nQ 2128 388 2347 550 \nQ 2566 713 2694 1069 \nz\nM 847 1978 \nL 2700 1978 \nQ 2663 2397 2488 2606 \nQ 2219 2931 1791 2931 \nQ 1403 2931 1139 2672 \nQ 875 2413 847 1978 \nz\n\" transform=\"scale(0.015625)\"/>\n      </defs>\n      <use xlink:href=\"#ArialMT-70\"/>\n      <use xlink:href=\"#ArialMT-72\" x=\"55.615234\"/>\n      <use xlink:href=\"#ArialMT-69\" x=\"88.916016\"/>\n      <use xlink:href=\"#ArialMT-63\" x=\"111.132812\"/>\n      <use xlink:href=\"#ArialMT-65\" x=\"161.132812\"/>\n     </g>\n    </g>\n   </g>\n   <g id=\"PolyCollection_1\">\n    <defs>\n     <path id=\"m7a37e3673e\" d=\"M 80.78429 -238.846159 \nL 80.78429 -98.971076 \nL 103.343794 -55.356946 \nL 125.903298 -174.643863 \nL 148.462802 -234.430038 \nL 171.022306 -194.4135 \nL 193.58181 -215.158973 \nL 216.141315 -182.671051 \nL 238.700819 -147.242451 \nL 261.260323 -125.49287 \nL 283.819827 -150.05005 \nL 306.379331 -96.216553 \nL 328.938835 -110.48947 \nL 328.938835 -217.329521 \nL 328.938835 -217.329521 \nL 306.379331 -211.246208 \nL 283.819827 -267.82863 \nL 261.260323 -229.474123 \nL 238.700819 -246.599757 \nL 216.141315 -272.296791 \nL 193.58181 -315.338404 \nL 171.022306 -287.981442 \nL 148.462802 -327.811491 \nL 125.903298 -271.575275 \nL 103.343794 -166.155779 \nL 80.78429 -238.846159 \nz\n\" style=\"stroke: #f77189; stroke-opacity: 0.2\"/>\n    </defs>\n    <g clip-path=\"url(#pe149185db8)\">\n     <use xlink:href=\"#m7a37e3673e\" x=\"0\" y=\"348.634219\" style=\"fill: #f77189; fill-opacity: 0.2; stroke: #f77189; stroke-opacity: 0.2\"/>\n    </g>\n   </g>\n   <g id=\"line2d_12\">\n    <path d=\"M 80.78429 182.772128 \nL 103.343794 238.694382 \nL 125.903298 126.580561 \nL 148.462802 71.151537 \nL 171.022306 105.503333 \nL 193.58181 83.054964 \nL 216.141315 124.061891 \nL 238.700819 149.955293 \nL 261.260323 172.273446 \nL 283.819827 141.943192 \nL 306.379331 194.906155 \nL 328.938835 187.144927 \n\" clip-path=\"url(#pe149185db8)\" style=\"fill: none; stroke: #f77189; stroke-width: 1.5; stroke-linecap: round\"/>\n   </g>\n   <g id=\"patch_3\">\n    <path d=\"M 68.376563 306.9 \nL 68.376563 7.2 \n\" style=\"fill: none; stroke: #ffffff; stroke-width: 1.25; stroke-linejoin: miter; stroke-linecap: square\"/>\n   </g>\n   <g id=\"patch_4\">\n    <path d=\"M 68.376563 306.9 \nL 341.346562 306.9 \n\" style=\"fill: none; stroke: #ffffff; stroke-width: 1.25; stroke-linejoin: miter; stroke-linecap: square\"/>\n   </g>\n  </g>\n </g>\n <defs>\n  <clipPath id=\"pe149185db8\">\n   <rect x=\"68.376563\" y=\"7.2\" width=\"272.97\" height=\"299.7\"/>\n  </clipPath>\n </defs>\n</svg>\n",
      "text/plain": [
       "<Figure size 500x500 with 1 Axes>"
      ]
     },
     "metadata": {},
     "output_type": "display_data"
    },
    {
     "data": {
      "image/svg+xml": "<?xml version=\"1.0\" encoding=\"utf-8\" standalone=\"no\"?>\n<!DOCTYPE svg PUBLIC \"-//W3C//DTD SVG 1.1//EN\"\n  \"http://www.w3.org/Graphics/SVG/1.1/DTD/svg11.dtd\">\n<svg xmlns:xlink=\"http://www.w3.org/1999/xlink\" width=\"348.546562pt\" height=\"348.921094pt\" viewBox=\"0 0 348.546562 348.921094\" xmlns=\"http://www.w3.org/2000/svg\" version=\"1.1\">\n <metadata>\n  <rdf:RDF xmlns:dc=\"http://purl.org/dc/elements/1.1/\" xmlns:cc=\"http://creativecommons.org/ns#\" xmlns:rdf=\"http://www.w3.org/1999/02/22-rdf-syntax-ns#\">\n   <cc:Work>\n    <dc:type rdf:resource=\"http://purl.org/dc/dcmitype/StillImage\"/>\n    <dc:date>2022-12-19T22:37:47.629041</dc:date>\n    <dc:format>image/svg+xml</dc:format>\n    <dc:creator>\n     <cc:Agent>\n      <dc:title>Matplotlib v3.6.2, https://matplotlib.org/</dc:title>\n     </cc:Agent>\n    </dc:creator>\n   </cc:Work>\n  </rdf:RDF>\n </metadata>\n <defs>\n  <style type=\"text/css\">*{stroke-linejoin: round; stroke-linecap: butt}</style>\n </defs>\n <g id=\"figure_1\">\n  <g id=\"patch_1\">\n   <path d=\"M 0 348.921094 \nL 348.546562 348.921094 \nL 348.546562 0 \nL 0 0 \nz\n\" style=\"fill: #ffffff\"/>\n  </g>\n  <g id=\"axes_1\">\n   <g id=\"patch_2\">\n    <path d=\"M 68.376563 306.9 \nL 341.346562 306.9 \nL 341.346562 7.2 \nL 68.376563 7.2 \nz\n\" style=\"fill: #eaeaf2\"/>\n   </g>\n   <g id=\"matplotlib.axis_1\">\n    <g id=\"xtick_1\">\n     <g id=\"line2d_1\">\n      <path d=\"M 80.78429 306.9 \nL 80.78429 7.2 \n\" clip-path=\"url(#p7d44be81a8)\" style=\"fill: none; stroke: #ffffff; stroke-linecap: round\"/>\n     </g>\n     <g id=\"text_1\">\n      <!-- 0 -->\n      <g style=\"fill: #262626\" transform=\"translate(77.725774 324.273594) scale(0.11 -0.11)\">\n       <defs>\n        <path id=\"ArialMT-30\" d=\"M 266 2259 \nQ 266 3072 433 3567 \nQ 600 4063 929 4331 \nQ 1259 4600 1759 4600 \nQ 2128 4600 2406 4451 \nQ 2684 4303 2865 4023 \nQ 3047 3744 3150 3342 \nQ 3253 2941 3253 2259 \nQ 3253 1453 3087 958 \nQ 2922 463 2592 192 \nQ 2263 -78 1759 -78 \nQ 1097 -78 719 397 \nQ 266 969 266 2259 \nz\nM 844 2259 \nQ 844 1131 1108 757 \nQ 1372 384 1759 384 \nQ 2147 384 2411 759 \nQ 2675 1134 2675 2259 \nQ 2675 3391 2411 3762 \nQ 2147 4134 1753 4134 \nQ 1366 4134 1134 3806 \nQ 844 3388 844 2259 \nz\n\" transform=\"scale(0.015625)\"/>\n       </defs>\n       <use xlink:href=\"#ArialMT-30\"/>\n      </g>\n     </g>\n    </g>\n    <g id=\"xtick_2\">\n     <g id=\"line2d_2\">\n      <path d=\"M 122.143381 306.9 \nL 122.143381 7.2 \n\" clip-path=\"url(#p7d44be81a8)\" style=\"fill: none; stroke: #ffffff; stroke-linecap: round\"/>\n     </g>\n     <g id=\"text_2\">\n      <!-- 1 -->\n      <g style=\"fill: #262626\" transform=\"translate(119.084865 324.273594) scale(0.11 -0.11)\">\n       <defs>\n        <path id=\"ArialMT-31\" d=\"M 2384 0 \nL 1822 0 \nL 1822 3584 \nQ 1619 3391 1289 3197 \nQ 959 3003 697 2906 \nL 697 3450 \nQ 1169 3672 1522 3987 \nQ 1875 4303 2022 4600 \nL 2384 4600 \nL 2384 0 \nz\n\" transform=\"scale(0.015625)\"/>\n       </defs>\n       <use xlink:href=\"#ArialMT-31\"/>\n      </g>\n     </g>\n    </g>\n    <g id=\"xtick_3\">\n     <g id=\"line2d_3\">\n      <path d=\"M 163.502472 306.9 \nL 163.502472 7.2 \n\" clip-path=\"url(#p7d44be81a8)\" style=\"fill: none; stroke: #ffffff; stroke-linecap: round\"/>\n     </g>\n     <g id=\"text_3\">\n      <!-- 2 -->\n      <g style=\"fill: #262626\" transform=\"translate(160.443956 324.273594) scale(0.11 -0.11)\">\n       <defs>\n        <path id=\"ArialMT-32\" d=\"M 3222 541 \nL 3222 0 \nL 194 0 \nQ 188 203 259 391 \nQ 375 700 629 1000 \nQ 884 1300 1366 1694 \nQ 2113 2306 2375 2664 \nQ 2638 3022 2638 3341 \nQ 2638 3675 2398 3904 \nQ 2159 4134 1775 4134 \nQ 1369 4134 1125 3890 \nQ 881 3647 878 3216 \nL 300 3275 \nQ 359 3922 746 4261 \nQ 1134 4600 1788 4600 \nQ 2447 4600 2831 4234 \nQ 3216 3869 3216 3328 \nQ 3216 3053 3103 2787 \nQ 2991 2522 2730 2228 \nQ 2469 1934 1863 1422 \nQ 1356 997 1212 845 \nQ 1069 694 975 541 \nL 3222 541 \nz\n\" transform=\"scale(0.015625)\"/>\n       </defs>\n       <use xlink:href=\"#ArialMT-32\"/>\n      </g>\n     </g>\n    </g>\n    <g id=\"xtick_4\">\n     <g id=\"line2d_4\">\n      <path d=\"M 204.861562 306.9 \nL 204.861562 7.2 \n\" clip-path=\"url(#p7d44be81a8)\" style=\"fill: none; stroke: #ffffff; stroke-linecap: round\"/>\n     </g>\n     <g id=\"text_4\">\n      <!-- 3 -->\n      <g style=\"fill: #262626\" transform=\"translate(201.803047 324.273594) scale(0.11 -0.11)\">\n       <defs>\n        <path id=\"ArialMT-33\" d=\"M 269 1209 \nL 831 1284 \nQ 928 806 1161 595 \nQ 1394 384 1728 384 \nQ 2125 384 2398 659 \nQ 2672 934 2672 1341 \nQ 2672 1728 2419 1979 \nQ 2166 2231 1775 2231 \nQ 1616 2231 1378 2169 \nL 1441 2663 \nQ 1497 2656 1531 2656 \nQ 1891 2656 2178 2843 \nQ 2466 3031 2466 3422 \nQ 2466 3731 2256 3934 \nQ 2047 4138 1716 4138 \nQ 1388 4138 1169 3931 \nQ 950 3725 888 3313 \nL 325 3413 \nQ 428 3978 793 4289 \nQ 1159 4600 1703 4600 \nQ 2078 4600 2393 4439 \nQ 2709 4278 2876 4000 \nQ 3044 3722 3044 3409 \nQ 3044 3113 2884 2869 \nQ 2725 2625 2413 2481 \nQ 2819 2388 3044 2092 \nQ 3269 1797 3269 1353 \nQ 3269 753 2831 336 \nQ 2394 -81 1725 -81 \nQ 1122 -81 723 278 \nQ 325 638 269 1209 \nz\n\" transform=\"scale(0.015625)\"/>\n       </defs>\n       <use xlink:href=\"#ArialMT-33\"/>\n      </g>\n     </g>\n    </g>\n    <g id=\"xtick_5\">\n     <g id=\"line2d_5\">\n      <path d=\"M 246.220653 306.9 \nL 246.220653 7.2 \n\" clip-path=\"url(#p7d44be81a8)\" style=\"fill: none; stroke: #ffffff; stroke-linecap: round\"/>\n     </g>\n     <g id=\"text_5\">\n      <!-- 4 -->\n      <g style=\"fill: #262626\" transform=\"translate(243.162138 324.273594) scale(0.11 -0.11)\">\n       <defs>\n        <path id=\"ArialMT-34\" d=\"M 2069 0 \nL 2069 1097 \nL 81 1097 \nL 81 1613 \nL 2172 4581 \nL 2631 4581 \nL 2631 1613 \nL 3250 1613 \nL 3250 1097 \nL 2631 1097 \nL 2631 0 \nL 2069 0 \nz\nM 2069 1613 \nL 2069 3678 \nL 634 1613 \nL 2069 1613 \nz\n\" transform=\"scale(0.015625)\"/>\n       </defs>\n       <use xlink:href=\"#ArialMT-34\"/>\n      </g>\n     </g>\n    </g>\n    <g id=\"xtick_6\">\n     <g id=\"line2d_6\">\n      <path d=\"M 287.579744 306.9 \nL 287.579744 7.2 \n\" clip-path=\"url(#p7d44be81a8)\" style=\"fill: none; stroke: #ffffff; stroke-linecap: round\"/>\n     </g>\n     <g id=\"text_6\">\n      <!-- 5 -->\n      <g style=\"fill: #262626\" transform=\"translate(284.521229 324.273594) scale(0.11 -0.11)\">\n       <defs>\n        <path id=\"ArialMT-35\" d=\"M 266 1200 \nL 856 1250 \nQ 922 819 1161 601 \nQ 1400 384 1738 384 \nQ 2144 384 2425 690 \nQ 2706 997 2706 1503 \nQ 2706 1984 2436 2262 \nQ 2166 2541 1728 2541 \nQ 1456 2541 1237 2417 \nQ 1019 2294 894 2097 \nL 366 2166 \nL 809 4519 \nL 3088 4519 \nL 3088 3981 \nL 1259 3981 \nL 1013 2750 \nQ 1425 3038 1878 3038 \nQ 2478 3038 2890 2622 \nQ 3303 2206 3303 1553 \nQ 3303 931 2941 478 \nQ 2500 -78 1738 -78 \nQ 1113 -78 717 272 \nQ 322 622 266 1200 \nz\n\" transform=\"scale(0.015625)\"/>\n       </defs>\n       <use xlink:href=\"#ArialMT-35\"/>\n      </g>\n     </g>\n    </g>\n    <g id=\"xtick_7\">\n     <g id=\"line2d_7\">\n      <path d=\"M 328.938835 306.9 \nL 328.938835 7.2 \n\" clip-path=\"url(#p7d44be81a8)\" style=\"fill: none; stroke: #ffffff; stroke-linecap: round\"/>\n     </g>\n     <g id=\"text_7\">\n      <!-- 6 -->\n      <g style=\"fill: #262626\" transform=\"translate(325.88032 324.273594) scale(0.11 -0.11)\">\n       <defs>\n        <path id=\"ArialMT-36\" d=\"M 3184 3459 \nL 2625 3416 \nQ 2550 3747 2413 3897 \nQ 2184 4138 1850 4138 \nQ 1581 4138 1378 3988 \nQ 1113 3794 959 3422 \nQ 806 3050 800 2363 \nQ 1003 2672 1297 2822 \nQ 1591 2972 1913 2972 \nQ 2475 2972 2870 2558 \nQ 3266 2144 3266 1488 \nQ 3266 1056 3080 686 \nQ 2894 316 2569 119 \nQ 2244 -78 1831 -78 \nQ 1128 -78 684 439 \nQ 241 956 241 2144 \nQ 241 3472 731 4075 \nQ 1159 4600 1884 4600 \nQ 2425 4600 2770 4297 \nQ 3116 3994 3184 3459 \nz\nM 888 1484 \nQ 888 1194 1011 928 \nQ 1134 663 1356 523 \nQ 1578 384 1822 384 \nQ 2178 384 2434 671 \nQ 2691 959 2691 1453 \nQ 2691 1928 2437 2201 \nQ 2184 2475 1800 2475 \nQ 1419 2475 1153 2201 \nQ 888 1928 888 1484 \nz\n\" transform=\"scale(0.015625)\"/>\n       </defs>\n       <use xlink:href=\"#ArialMT-36\"/>\n      </g>\n     </g>\n    </g>\n    <g id=\"text_8\">\n     <!-- day_of_weak -->\n     <g style=\"fill: #262626\" transform=\"translate(169.505625 339.195469) scale(0.12 -0.12)\">\n      <defs>\n       <path id=\"ArialMT-64\" d=\"M 2575 0 \nL 2575 419 \nQ 2259 -75 1647 -75 \nQ 1250 -75 917 144 \nQ 584 363 401 755 \nQ 219 1147 219 1656 \nQ 219 2153 384 2558 \nQ 550 2963 881 3178 \nQ 1213 3394 1622 3394 \nQ 1922 3394 2156 3267 \nQ 2391 3141 2538 2938 \nL 2538 4581 \nL 3097 4581 \nL 3097 0 \nL 2575 0 \nz\nM 797 1656 \nQ 797 1019 1065 703 \nQ 1334 388 1700 388 \nQ 2069 388 2326 689 \nQ 2584 991 2584 1609 \nQ 2584 2291 2321 2609 \nQ 2059 2928 1675 2928 \nQ 1300 2928 1048 2622 \nQ 797 2316 797 1656 \nz\n\" transform=\"scale(0.015625)\"/>\n       <path id=\"ArialMT-61\" d=\"M 2588 409 \nQ 2275 144 1986 34 \nQ 1697 -75 1366 -75 \nQ 819 -75 525 192 \nQ 231 459 231 875 \nQ 231 1119 342 1320 \nQ 453 1522 633 1644 \nQ 813 1766 1038 1828 \nQ 1203 1872 1538 1913 \nQ 2219 1994 2541 2106 \nQ 2544 2222 2544 2253 \nQ 2544 2597 2384 2738 \nQ 2169 2928 1744 2928 \nQ 1347 2928 1158 2789 \nQ 969 2650 878 2297 \nL 328 2372 \nQ 403 2725 575 2942 \nQ 747 3159 1072 3276 \nQ 1397 3394 1825 3394 \nQ 2250 3394 2515 3294 \nQ 2781 3194 2906 3042 \nQ 3031 2891 3081 2659 \nQ 3109 2516 3109 2141 \nL 3109 1391 \nQ 3109 606 3145 398 \nQ 3181 191 3288 0 \nL 2700 0 \nQ 2613 175 2588 409 \nz\nM 2541 1666 \nQ 2234 1541 1622 1453 \nQ 1275 1403 1131 1340 \nQ 988 1278 909 1158 \nQ 831 1038 831 891 \nQ 831 666 1001 516 \nQ 1172 366 1500 366 \nQ 1825 366 2078 508 \nQ 2331 650 2450 897 \nQ 2541 1088 2541 1459 \nL 2541 1666 \nz\n\" transform=\"scale(0.015625)\"/>\n       <path id=\"ArialMT-79\" d=\"M 397 -1278 \nL 334 -750 \nQ 519 -800 656 -800 \nQ 844 -800 956 -737 \nQ 1069 -675 1141 -563 \nQ 1194 -478 1313 -144 \nQ 1328 -97 1363 -6 \nL 103 3319 \nL 709 3319 \nL 1400 1397 \nQ 1534 1031 1641 628 \nQ 1738 1016 1872 1384 \nL 2581 3319 \nL 3144 3319 \nL 1881 -56 \nQ 1678 -603 1566 -809 \nQ 1416 -1088 1222 -1217 \nQ 1028 -1347 759 -1347 \nQ 597 -1347 397 -1278 \nz\n\" transform=\"scale(0.015625)\"/>\n       <path id=\"ArialMT-5f\" d=\"M -97 -1272 \nL -97 -866 \nL 3631 -866 \nL 3631 -1272 \nL -97 -1272 \nz\n\" transform=\"scale(0.015625)\"/>\n       <path id=\"ArialMT-6f\" d=\"M 213 1659 \nQ 213 2581 725 3025 \nQ 1153 3394 1769 3394 \nQ 2453 3394 2887 2945 \nQ 3322 2497 3322 1706 \nQ 3322 1066 3130 698 \nQ 2938 331 2570 128 \nQ 2203 -75 1769 -75 \nQ 1072 -75 642 372 \nQ 213 819 213 1659 \nz\nM 791 1659 \nQ 791 1022 1069 705 \nQ 1347 388 1769 388 \nQ 2188 388 2466 706 \nQ 2744 1025 2744 1678 \nQ 2744 2294 2464 2611 \nQ 2184 2928 1769 2928 \nQ 1347 2928 1069 2612 \nQ 791 2297 791 1659 \nz\n\" transform=\"scale(0.015625)\"/>\n       <path id=\"ArialMT-66\" d=\"M 556 0 \nL 556 2881 \nL 59 2881 \nL 59 3319 \nL 556 3319 \nL 556 3672 \nQ 556 4006 616 4169 \nQ 697 4388 901 4523 \nQ 1106 4659 1475 4659 \nQ 1713 4659 2000 4603 \nL 1916 4113 \nQ 1741 4144 1584 4144 \nQ 1328 4144 1222 4034 \nQ 1116 3925 1116 3625 \nL 1116 3319 \nL 1763 3319 \nL 1763 2881 \nL 1116 2881 \nL 1116 0 \nL 556 0 \nz\n\" transform=\"scale(0.015625)\"/>\n       <path id=\"ArialMT-77\" d=\"M 1034 0 \nL 19 3319 \nL 600 3319 \nL 1128 1403 \nL 1325 691 \nQ 1338 744 1497 1375 \nL 2025 3319 \nL 2603 3319 \nL 3100 1394 \nL 3266 759 \nL 3456 1400 \nL 4025 3319 \nL 4572 3319 \nL 3534 0 \nL 2950 0 \nL 2422 1988 \nL 2294 2553 \nL 1622 0 \nL 1034 0 \nz\n\" transform=\"scale(0.015625)\"/>\n       <path id=\"ArialMT-65\" d=\"M 2694 1069 \nL 3275 997 \nQ 3138 488 2766 206 \nQ 2394 -75 1816 -75 \nQ 1088 -75 661 373 \nQ 234 822 234 1631 \nQ 234 2469 665 2931 \nQ 1097 3394 1784 3394 \nQ 2450 3394 2872 2941 \nQ 3294 2488 3294 1666 \nQ 3294 1616 3291 1516 \nL 816 1516 \nQ 847 969 1125 678 \nQ 1403 388 1819 388 \nQ 2128 388 2347 550 \nQ 2566 713 2694 1069 \nz\nM 847 1978 \nL 2700 1978 \nQ 2663 2397 2488 2606 \nQ 2219 2931 1791 2931 \nQ 1403 2931 1139 2672 \nQ 875 2413 847 1978 \nz\n\" transform=\"scale(0.015625)\"/>\n       <path id=\"ArialMT-6b\" d=\"M 425 0 \nL 425 4581 \nL 988 4581 \nL 988 1969 \nL 2319 3319 \nL 3047 3319 \nL 1778 2088 \nL 3175 0 \nL 2481 0 \nL 1384 1697 \nL 988 1316 \nL 988 0 \nL 425 0 \nz\n\" transform=\"scale(0.015625)\"/>\n      </defs>\n      <use xlink:href=\"#ArialMT-64\"/>\n      <use xlink:href=\"#ArialMT-61\" x=\"55.615234\"/>\n      <use xlink:href=\"#ArialMT-79\" x=\"111.230469\"/>\n      <use xlink:href=\"#ArialMT-5f\" x=\"161.230469\"/>\n      <use xlink:href=\"#ArialMT-6f\" x=\"216.845703\"/>\n      <use xlink:href=\"#ArialMT-66\" x=\"272.460938\"/>\n      <use xlink:href=\"#ArialMT-5f\" x=\"300.244141\"/>\n      <use xlink:href=\"#ArialMT-77\" x=\"355.859375\"/>\n      <use xlink:href=\"#ArialMT-65\" x=\"428.076172\"/>\n      <use xlink:href=\"#ArialMT-61\" x=\"483.691406\"/>\n      <use xlink:href=\"#ArialMT-6b\" x=\"539.306641\"/>\n     </g>\n    </g>\n   </g>\n   <g id=\"matplotlib.axis_2\">\n    <g id=\"ytick_1\">\n     <g id=\"line2d_8\">\n      <path d=\"M 68.376563 294.616085 \nL 341.346562 294.616085 \n\" clip-path=\"url(#p7d44be81a8)\" style=\"fill: none; stroke: #ffffff; stroke-linecap: round\"/>\n     </g>\n     <g id=\"text_9\">\n      <!-- 500000 -->\n      <g style=\"fill: #262626\" transform=\"translate(22.174375 298.552882) scale(0.11 -0.11)\">\n       <use xlink:href=\"#ArialMT-35\"/>\n       <use xlink:href=\"#ArialMT-30\" x=\"55.615234\"/>\n       <use xlink:href=\"#ArialMT-30\" x=\"111.230469\"/>\n       <use xlink:href=\"#ArialMT-30\" x=\"166.845703\"/>\n       <use xlink:href=\"#ArialMT-30\" x=\"222.460938\"/>\n       <use xlink:href=\"#ArialMT-30\" x=\"278.076172\"/>\n      </g>\n     </g>\n    </g>\n    <g id=\"ytick_2\">\n     <g id=\"line2d_9\">\n      <path d=\"M 68.376563 245.5369 \nL 341.346562 245.5369 \n\" clip-path=\"url(#p7d44be81a8)\" style=\"fill: none; stroke: #ffffff; stroke-linecap: round\"/>\n     </g>\n     <g id=\"text_10\">\n      <!-- 520000 -->\n      <g style=\"fill: #262626\" transform=\"translate(22.174375 249.473697) scale(0.11 -0.11)\">\n       <use xlink:href=\"#ArialMT-35\"/>\n       <use xlink:href=\"#ArialMT-32\" x=\"55.615234\"/>\n       <use xlink:href=\"#ArialMT-30\" x=\"111.230469\"/>\n       <use xlink:href=\"#ArialMT-30\" x=\"166.845703\"/>\n       <use xlink:href=\"#ArialMT-30\" x=\"222.460938\"/>\n       <use xlink:href=\"#ArialMT-30\" x=\"278.076172\"/>\n      </g>\n     </g>\n    </g>\n    <g id=\"ytick_3\">\n     <g id=\"line2d_10\">\n      <path d=\"M 68.376563 196.457715 \nL 341.346562 196.457715 \n\" clip-path=\"url(#p7d44be81a8)\" style=\"fill: none; stroke: #ffffff; stroke-linecap: round\"/>\n     </g>\n     <g id=\"text_11\">\n      <!-- 540000 -->\n      <g style=\"fill: #262626\" transform=\"translate(22.174375 200.394512) scale(0.11 -0.11)\">\n       <use xlink:href=\"#ArialMT-35\"/>\n       <use xlink:href=\"#ArialMT-34\" x=\"55.615234\"/>\n       <use xlink:href=\"#ArialMT-30\" x=\"111.230469\"/>\n       <use xlink:href=\"#ArialMT-30\" x=\"166.845703\"/>\n       <use xlink:href=\"#ArialMT-30\" x=\"222.460938\"/>\n       <use xlink:href=\"#ArialMT-30\" x=\"278.076172\"/>\n      </g>\n     </g>\n    </g>\n    <g id=\"ytick_4\">\n     <g id=\"line2d_11\">\n      <path d=\"M 68.376563 147.37853 \nL 341.346562 147.37853 \n\" clip-path=\"url(#p7d44be81a8)\" style=\"fill: none; stroke: #ffffff; stroke-linecap: round\"/>\n     </g>\n     <g id=\"text_12\">\n      <!-- 560000 -->\n      <g style=\"fill: #262626\" transform=\"translate(22.174375 151.315326) scale(0.11 -0.11)\">\n       <use xlink:href=\"#ArialMT-35\"/>\n       <use xlink:href=\"#ArialMT-36\" x=\"55.615234\"/>\n       <use xlink:href=\"#ArialMT-30\" x=\"111.230469\"/>\n       <use xlink:href=\"#ArialMT-30\" x=\"166.845703\"/>\n       <use xlink:href=\"#ArialMT-30\" x=\"222.460938\"/>\n       <use xlink:href=\"#ArialMT-30\" x=\"278.076172\"/>\n      </g>\n     </g>\n    </g>\n    <g id=\"ytick_5\">\n     <g id=\"line2d_12\">\n      <path d=\"M 68.376563 98.299344 \nL 341.346562 98.299344 \n\" clip-path=\"url(#p7d44be81a8)\" style=\"fill: none; stroke: #ffffff; stroke-linecap: round\"/>\n     </g>\n     <g id=\"text_13\">\n      <!-- 580000 -->\n      <g style=\"fill: #262626\" transform=\"translate(22.174375 102.236141) scale(0.11 -0.11)\">\n       <defs>\n        <path id=\"ArialMT-38\" d=\"M 1131 2484 \nQ 781 2613 612 2850 \nQ 444 3088 444 3419 \nQ 444 3919 803 4259 \nQ 1163 4600 1759 4600 \nQ 2359 4600 2725 4251 \nQ 3091 3903 3091 3403 \nQ 3091 3084 2923 2848 \nQ 2756 2613 2416 2484 \nQ 2838 2347 3058 2040 \nQ 3278 1734 3278 1309 \nQ 3278 722 2862 322 \nQ 2447 -78 1769 -78 \nQ 1091 -78 675 323 \nQ 259 725 259 1325 \nQ 259 1772 486 2073 \nQ 713 2375 1131 2484 \nz\nM 1019 3438 \nQ 1019 3113 1228 2906 \nQ 1438 2700 1772 2700 \nQ 2097 2700 2305 2904 \nQ 2513 3109 2513 3406 \nQ 2513 3716 2298 3927 \nQ 2084 4138 1766 4138 \nQ 1444 4138 1231 3931 \nQ 1019 3725 1019 3438 \nz\nM 838 1322 \nQ 838 1081 952 856 \nQ 1066 631 1291 507 \nQ 1516 384 1775 384 \nQ 2178 384 2440 643 \nQ 2703 903 2703 1303 \nQ 2703 1709 2433 1975 \nQ 2163 2241 1756 2241 \nQ 1359 2241 1098 1978 \nQ 838 1716 838 1322 \nz\n\" transform=\"scale(0.015625)\"/>\n       </defs>\n       <use xlink:href=\"#ArialMT-35\"/>\n       <use xlink:href=\"#ArialMT-38\" x=\"55.615234\"/>\n       <use xlink:href=\"#ArialMT-30\" x=\"111.230469\"/>\n       <use xlink:href=\"#ArialMT-30\" x=\"166.845703\"/>\n       <use xlink:href=\"#ArialMT-30\" x=\"222.460938\"/>\n       <use xlink:href=\"#ArialMT-30\" x=\"278.076172\"/>\n      </g>\n     </g>\n    </g>\n    <g id=\"ytick_6\">\n     <g id=\"line2d_13\">\n      <path d=\"M 68.376563 49.220159 \nL 341.346562 49.220159 \n\" clip-path=\"url(#p7d44be81a8)\" style=\"fill: none; stroke: #ffffff; stroke-linecap: round\"/>\n     </g>\n     <g id=\"text_14\">\n      <!-- 600000 -->\n      <g style=\"fill: #262626\" transform=\"translate(22.174375 53.156956) scale(0.11 -0.11)\">\n       <use xlink:href=\"#ArialMT-36\"/>\n       <use xlink:href=\"#ArialMT-30\" x=\"55.615234\"/>\n       <use xlink:href=\"#ArialMT-30\" x=\"111.230469\"/>\n       <use xlink:href=\"#ArialMT-30\" x=\"166.845703\"/>\n       <use xlink:href=\"#ArialMT-30\" x=\"222.460938\"/>\n       <use xlink:href=\"#ArialMT-30\" x=\"278.076172\"/>\n      </g>\n     </g>\n    </g>\n    <g id=\"text_15\">\n     <!-- price -->\n     <g style=\"fill: #262626\" transform=\"translate(15.789375 170.054062) rotate(-90) scale(0.12 -0.12)\">\n      <defs>\n       <path id=\"ArialMT-70\" d=\"M 422 -1272 \nL 422 3319 \nL 934 3319 \nL 934 2888 \nQ 1116 3141 1344 3267 \nQ 1572 3394 1897 3394 \nQ 2322 3394 2647 3175 \nQ 2972 2956 3137 2557 \nQ 3303 2159 3303 1684 \nQ 3303 1175 3120 767 \nQ 2938 359 2589 142 \nQ 2241 -75 1856 -75 \nQ 1575 -75 1351 44 \nQ 1128 163 984 344 \nL 984 -1272 \nL 422 -1272 \nz\nM 931 1641 \nQ 931 1000 1190 694 \nQ 1450 388 1819 388 \nQ 2194 388 2461 705 \nQ 2728 1022 2728 1688 \nQ 2728 2322 2467 2637 \nQ 2206 2953 1844 2953 \nQ 1484 2953 1207 2617 \nQ 931 2281 931 1641 \nz\n\" transform=\"scale(0.015625)\"/>\n       <path id=\"ArialMT-72\" d=\"M 416 0 \nL 416 3319 \nL 922 3319 \nL 922 2816 \nQ 1116 3169 1280 3281 \nQ 1444 3394 1641 3394 \nQ 1925 3394 2219 3213 \nL 2025 2691 \nQ 1819 2813 1613 2813 \nQ 1428 2813 1281 2702 \nQ 1134 2591 1072 2394 \nQ 978 2094 978 1738 \nL 978 0 \nL 416 0 \nz\n\" transform=\"scale(0.015625)\"/>\n       <path id=\"ArialMT-69\" d=\"M 425 3934 \nL 425 4581 \nL 988 4581 \nL 988 3934 \nL 425 3934 \nz\nM 425 0 \nL 425 3319 \nL 988 3319 \nL 988 0 \nL 425 0 \nz\n\" transform=\"scale(0.015625)\"/>\n       <path id=\"ArialMT-63\" d=\"M 2588 1216 \nL 3141 1144 \nQ 3050 572 2676 248 \nQ 2303 -75 1759 -75 \nQ 1078 -75 664 370 \nQ 250 816 250 1647 \nQ 250 2184 428 2587 \nQ 606 2991 970 3192 \nQ 1334 3394 1763 3394 \nQ 2303 3394 2647 3120 \nQ 2991 2847 3088 2344 \nL 2541 2259 \nQ 2463 2594 2264 2762 \nQ 2066 2931 1784 2931 \nQ 1359 2931 1093 2626 \nQ 828 2322 828 1663 \nQ 828 994 1084 691 \nQ 1341 388 1753 388 \nQ 2084 388 2306 591 \nQ 2528 794 2588 1216 \nz\n\" transform=\"scale(0.015625)\"/>\n      </defs>\n      <use xlink:href=\"#ArialMT-70\"/>\n      <use xlink:href=\"#ArialMT-72\" x=\"55.615234\"/>\n      <use xlink:href=\"#ArialMT-69\" x=\"88.916016\"/>\n      <use xlink:href=\"#ArialMT-63\" x=\"111.132812\"/>\n      <use xlink:href=\"#ArialMT-65\" x=\"161.132812\"/>\n     </g>\n    </g>\n   </g>\n   <g id=\"PolyCollection_1\">\n    <defs>\n     <path id=\"m96bb66c7fd\" d=\"M 80.78429 -191.241711 \nL 80.78429 -132.494985 \nL 122.143381 -132.201285 \nL 163.502472 -124.074547 \nL 204.861562 -104.166093 \nL 246.220653 -136.22316 \nL 287.579744 -112.400789 \nL 328.938835 -55.643821 \nL 328.938835 -240.499401 \nL 328.938835 -240.499401 \nL 287.579744 -328.098366 \nL 246.220653 -194.444993 \nL 204.861562 -159.837524 \nL 163.502472 -175.94312 \nL 122.143381 -181.561037 \nL 80.78429 -191.241711 \nz\n\" style=\"stroke: #3ba3ec; stroke-opacity: 0.2\"/>\n    </defs>\n    <g clip-path=\"url(#p7d44be81a8)\">\n     <use xlink:href=\"#m96bb66c7fd\" x=\"0\" y=\"348.921094\" style=\"fill: #3ba3ec; fill-opacity: 0.2; stroke: #3ba3ec; stroke-opacity: 0.2\"/>\n    </g>\n   </g>\n   <g id=\"line2d_14\">\n    <path d=\"M 80.78429 187.235833 \nL 122.143381 193.870739 \nL 163.502472 200.053177 \nL 204.861562 217.208893 \nL 246.220653 186.099709 \nL 287.579744 135.229618 \nL 328.938835 203.565821 \n\" clip-path=\"url(#p7d44be81a8)\" style=\"fill: none; stroke: #3ba3ec; stroke-width: 1.5; stroke-linecap: round\"/>\n   </g>\n   <g id=\"patch_3\">\n    <path d=\"M 68.376563 306.9 \nL 68.376563 7.2 \n\" style=\"fill: none; stroke: #ffffff; stroke-width: 1.25; stroke-linejoin: miter; stroke-linecap: square\"/>\n   </g>\n   <g id=\"patch_4\">\n    <path d=\"M 68.376563 306.9 \nL 341.346562 306.9 \n\" style=\"fill: none; stroke: #ffffff; stroke-width: 1.25; stroke-linejoin: miter; stroke-linecap: square\"/>\n   </g>\n  </g>\n </g>\n <defs>\n  <clipPath id=\"p7d44be81a8\">\n   <rect x=\"68.376563\" y=\"7.2\" width=\"272.97\" height=\"299.7\"/>\n  </clipPath>\n </defs>\n</svg>\n",
      "text/plain": [
       "<Figure size 500x500 with 1 Axes>"
      ]
     },
     "metadata": {},
     "output_type": "display_data"
    }
   ],
   "source": [
    "sns.relplot(data=data, y=y, x='month', kind='line',\n",
    "    color=sns.husl_palette(n_colors=1)[0])\n",
    "\n",
    "sns.relplot(data=data, y=y, x='day_of_weak', kind='line',\n",
    "    color=sns.husl_palette(n_colors=3)[2])"
   ]
  },
  {
   "cell_type": "code",
   "execution_count": 8,
   "metadata": {},
   "outputs": [
    {
     "data": {
      "text/plain": [
       "date             0\n",
       "bedrooms         0\n",
       "bathrooms        0\n",
       "sqft_living      0\n",
       "sqft_lot         0\n",
       "floors           0\n",
       "waterfront       0\n",
       "view             0\n",
       "condition        0\n",
       "grade            0\n",
       "sqft_above       0\n",
       "sqft_basement    0\n",
       "yr_built         0\n",
       "yr_renovated     0\n",
       "zipcode          0\n",
       "lat              0\n",
       "long             0\n",
       "sqft_living15    0\n",
       "sqft_lot15       0\n",
       "year             0\n",
       "day_of_weak      0\n",
       "day              0\n",
       "month            0\n",
       "dtype: int64"
      ]
     },
     "execution_count": 8,
     "metadata": {},
     "output_type": "execute_result"
    }
   ],
   "source": [
    "data.isnull().sum()"
   ]
  },
  {
   "cell_type": "code",
   "execution_count": 9,
   "metadata": {},
   "outputs": [],
   "source": [
    "data = data.drop(['date'], axis=1)"
   ]
  },
  {
   "cell_type": "code",
   "execution_count": 10,
   "metadata": {},
   "outputs": [
    {
     "name": "stdout",
     "output_type": "stream",
     "text": [
      "Data shape (21613, 22)\n",
      "Train shape: (15129, 22)\n",
      "Test shape: (6484, 22)\n"
     ]
    }
   ],
   "source": [
    "from sklearn.model_selection import train_test_split\n",
    "print('Data shape', data.shape)\n",
    "X_train, X_test, y_train, y_test = train_test_split(data, y,\n",
    "    test_size=0.3, random_state=1)\n",
    "X_train = X_train.to_numpy()\n",
    "X_test = X_test.to_numpy()\n",
    "y_train = y_train.to_numpy()\n",
    "y_test = y_test.to_numpy()\n",
    "print(\"Train shape:\", X_train.shape)\n",
    "print(\"Test shape:\", X_test.shape)"
   ]
  },
  {
   "cell_type": "code",
   "execution_count": 21,
   "metadata": {},
   "outputs": [],
   "source": [
    "import sys\n",
    "sys.path.insert(0, '/Users/nickpan/PythonProjects/sem-5/prac/task3/src')"
   ]
  },
  {
   "cell_type": "code",
   "execution_count": 22,
   "metadata": {},
   "outputs": [
    {
     "name": "stdout",
     "output_type": "stream",
     "text": [
      "146079.46457833378\n",
      "146967.6152205644\n"
     ]
    }
   ],
   "source": [
    "from ensembles import RandomForestMSE, GradientBoostingMSE\n",
    "from sklearn.ensemble import GradientBoostingRegressor, RandomForestRegressor\n",
    "max_depth = [3, 4, 5, 6, 7]\n",
    "n_estimators = [1, 5, 10, 100, 200, 300, 400, 500, 600, 700]\n",
    "n_features = [1, 3, 7, 10, 13, 17, 19, 22]\n",
    "\n",
    "sk_mod = GradientBoostingRegressor()\n",
    "my_mod =  GradientBoostingMSE()\n",
    "sk_mod.fit(X_train, y_train)\n",
    "my_mod.fit(X_train, y_train)\n",
    "print(np.sqrt(np.mean((sk_mod.predict(X_test) - y_test) ** 2)))\n",
    "print(np.sqrt(np.mean((my_mod.predict(X_test) - y_test) ** 2)))"
   ]
  },
  {
   "cell_type": "code",
   "execution_count": 23,
   "metadata": {},
   "outputs": [
    {
     "name": "stdout",
     "output_type": "stream",
     "text": [
      "147945.9265958012\n",
      "151766.9804660369\n"
     ]
    }
   ],
   "source": [
    "sk_mod = RandomForestRegressor()\n",
    "my_mod =  RandomForestMSE()\n",
    "sk_mod.fit(X_train, y_train)\n",
    "my_mod.fit(X_train, y_train)\n",
    "print(np.sqrt(np.mean((sk_mod.predict(X_test) - y_test) ** 2)))\n",
    "print(np.sqrt(np.mean((my_mod.predict(X_test) - y_test) ** 2)))"
   ]
  },
  {
   "cell_type": "code",
   "execution_count": 24,
   "metadata": {},
   "outputs": [
    {
     "data": {
      "text/html": [
       "<div>\n",
       "<style scoped>\n",
       "    .dataframe tbody tr th:only-of-type {\n",
       "        vertical-align: middle;\n",
       "    }\n",
       "\n",
       "    .dataframe tbody tr th {\n",
       "        vertical-align: top;\n",
       "    }\n",
       "\n",
       "    .dataframe thead th {\n",
       "        text-align: right;\n",
       "    }\n",
       "</style>\n",
       "<table border=\"1\" class=\"dataframe\">\n",
       "  <thead>\n",
       "    <tr style=\"text-align: right;\">\n",
       "      <th></th>\n",
       "      <th>bedrooms</th>\n",
       "      <th>bathrooms</th>\n",
       "      <th>sqft_living</th>\n",
       "      <th>sqft_lot</th>\n",
       "      <th>floors</th>\n",
       "      <th>waterfront</th>\n",
       "      <th>view</th>\n",
       "      <th>condition</th>\n",
       "      <th>grade</th>\n",
       "      <th>sqft_above</th>\n",
       "      <th>...</th>\n",
       "      <th>yr_renovated</th>\n",
       "      <th>zipcode</th>\n",
       "      <th>lat</th>\n",
       "      <th>long</th>\n",
       "      <th>sqft_living15</th>\n",
       "      <th>sqft_lot15</th>\n",
       "      <th>year</th>\n",
       "      <th>day_of_weak</th>\n",
       "      <th>day</th>\n",
       "      <th>month</th>\n",
       "    </tr>\n",
       "  </thead>\n",
       "  <tbody>\n",
       "    <tr>\n",
       "      <th>8663</th>\n",
       "      <td>4</td>\n",
       "      <td>2.25</td>\n",
       "      <td>1810</td>\n",
       "      <td>7068</td>\n",
       "      <td>2.0</td>\n",
       "      <td>0</td>\n",
       "      <td>0</td>\n",
       "      <td>5</td>\n",
       "      <td>7</td>\n",
       "      <td>1810</td>\n",
       "      <td>...</td>\n",
       "      <td>0</td>\n",
       "      <td>98034</td>\n",
       "      <td>47.7319</td>\n",
       "      <td>-122.204</td>\n",
       "      <td>1460</td>\n",
       "      <td>7274</td>\n",
       "      <td>2015</td>\n",
       "      <td>2</td>\n",
       "      <td>1</td>\n",
       "      <td>4</td>\n",
       "    </tr>\n",
       "    <tr>\n",
       "      <th>20844</th>\n",
       "      <td>2</td>\n",
       "      <td>2.50</td>\n",
       "      <td>1780</td>\n",
       "      <td>2493</td>\n",
       "      <td>3.0</td>\n",
       "      <td>0</td>\n",
       "      <td>0</td>\n",
       "      <td>3</td>\n",
       "      <td>8</td>\n",
       "      <td>1780</td>\n",
       "      <td>...</td>\n",
       "      <td>0</td>\n",
       "      <td>98107</td>\n",
       "      <td>47.6704</td>\n",
       "      <td>-122.358</td>\n",
       "      <td>2050</td>\n",
       "      <td>4400</td>\n",
       "      <td>2015</td>\n",
       "      <td>1</td>\n",
       "      <td>28</td>\n",
       "      <td>4</td>\n",
       "    </tr>\n",
       "    <tr>\n",
       "      <th>20322</th>\n",
       "      <td>5</td>\n",
       "      <td>4.00</td>\n",
       "      <td>4410</td>\n",
       "      <td>14380</td>\n",
       "      <td>2.0</td>\n",
       "      <td>0</td>\n",
       "      <td>0</td>\n",
       "      <td>3</td>\n",
       "      <td>11</td>\n",
       "      <td>4410</td>\n",
       "      <td>...</td>\n",
       "      <td>0</td>\n",
       "      <td>98052</td>\n",
       "      <td>47.6463</td>\n",
       "      <td>-122.121</td>\n",
       "      <td>2720</td>\n",
       "      <td>11454</td>\n",
       "      <td>2014</td>\n",
       "      <td>3</td>\n",
       "      <td>12</td>\n",
       "      <td>6</td>\n",
       "    </tr>\n",
       "    <tr>\n",
       "      <th>20429</th>\n",
       "      <td>4</td>\n",
       "      <td>2.50</td>\n",
       "      <td>2440</td>\n",
       "      <td>4850</td>\n",
       "      <td>2.0</td>\n",
       "      <td>0</td>\n",
       "      <td>0</td>\n",
       "      <td>3</td>\n",
       "      <td>8</td>\n",
       "      <td>2440</td>\n",
       "      <td>...</td>\n",
       "      <td>0</td>\n",
       "      <td>98052</td>\n",
       "      <td>47.7043</td>\n",
       "      <td>-122.114</td>\n",
       "      <td>2970</td>\n",
       "      <td>5450</td>\n",
       "      <td>2014</td>\n",
       "      <td>1</td>\n",
       "      <td>24</td>\n",
       "      <td>6</td>\n",
       "    </tr>\n",
       "    <tr>\n",
       "      <th>19281</th>\n",
       "      <td>4</td>\n",
       "      <td>2.50</td>\n",
       "      <td>3440</td>\n",
       "      <td>6332</td>\n",
       "      <td>2.0</td>\n",
       "      <td>0</td>\n",
       "      <td>0</td>\n",
       "      <td>3</td>\n",
       "      <td>10</td>\n",
       "      <td>3440</td>\n",
       "      <td>...</td>\n",
       "      <td>0</td>\n",
       "      <td>98059</td>\n",
       "      <td>47.5347</td>\n",
       "      <td>-122.155</td>\n",
       "      <td>3310</td>\n",
       "      <td>6528</td>\n",
       "      <td>2015</td>\n",
       "      <td>2</td>\n",
       "      <td>18</td>\n",
       "      <td>2</td>\n",
       "    </tr>\n",
       "  </tbody>\n",
       "</table>\n",
       "<p>5 rows × 22 columns</p>\n",
       "</div>"
      ],
      "text/plain": [
       "       bedrooms  bathrooms  sqft_living  sqft_lot  floors  waterfront  view  \\\n",
       "8663          4       2.25         1810      7068     2.0           0     0   \n",
       "20844         2       2.50         1780      2493     3.0           0     0   \n",
       "20322         5       4.00         4410     14380     2.0           0     0   \n",
       "20429         4       2.50         2440      4850     2.0           0     0   \n",
       "19281         4       2.50         3440      6332     2.0           0     0   \n",
       "\n",
       "       condition  grade  sqft_above  ...  yr_renovated  zipcode      lat  \\\n",
       "8663           5      7        1810  ...             0    98034  47.7319   \n",
       "20844          3      8        1780  ...             0    98107  47.6704   \n",
       "20322          3     11        4410  ...             0    98052  47.6463   \n",
       "20429          3      8        2440  ...             0    98052  47.7043   \n",
       "19281          3     10        3440  ...             0    98059  47.5347   \n",
       "\n",
       "          long  sqft_living15  sqft_lot15  year  day_of_weak  day  month  \n",
       "8663  -122.204           1460        7274  2015            2    1      4  \n",
       "20844 -122.358           2050        4400  2015            1   28      4  \n",
       "20322 -122.121           2720       11454  2014            3   12      6  \n",
       "20429 -122.114           2970        5450  2014            1   24      6  \n",
       "19281 -122.155           3310        6528  2015            2   18      2  \n",
       "\n",
       "[5 rows x 22 columns]"
      ]
     },
     "execution_count": 24,
     "metadata": {},
     "output_type": "execute_result"
    }
   ],
   "source": [
    "data.sample(5)"
   ]
  },
  {
   "cell_type": "markdown",
   "metadata": {},
   "source": [
    "**Эксперимент 2**\n",
    "\n",
    "Исследуйте поведение алгоритма случайный лес. Изучите зависимость RMSE на отложенной выборке\n",
    "и время работы алгоритма в зависимости от следующих факторов:  \n",
    "\n",
    "• количество деревьев в ансамбле  \n",
    "• размерность подвыборки признаков для одного дерева  \n",
    "• максимальная глубина дерева (дополнительно разберите случай, когда глубина неограничена) "
   ]
  },
  {
   "cell_type": "code",
   "execution_count": 25,
   "metadata": {},
   "outputs": [],
   "source": [
    "from time import time\n",
    "max_depth = [1, 2, 3, 4, 5, 6, 7, 10, 14, None]\n",
    "n_estimators = [1, 5, 10, 100, 200, 300, 400, 500, 600, 700, 1000, 1500]\n",
    "n_features = [1, 3, 7, 10, 13, 17, 19, 22]\n",
    "rmse = lambda f, X, y: np.sqrt(np.mean((f.predict(X) - y) ** 2))\n",
    "rmse_rf_max_depth= []\n",
    "time_rf_max_depth = []\n",
    "for depth in max_depth:\n",
    "    rf_clf = RandomForestMSE(max_depth=depth)\n",
    "    start_time = time()\n",
    "    rf_clf.fit(X_train, y_train)\n",
    "    end_time = time()\n",
    "    time_rf_max_depth.append(end_time - start_time)\n",
    "    rmse_rf_max_depth.append(rmse(rf_clf, X_test, y_test))\n"
   ]
  },
  {
   "cell_type": "code",
   "execution_count": 26,
   "metadata": {},
   "outputs": [
    {
     "name": "stdout",
     "output_type": "stream",
     "text": [
      "/Users/nickpan/PythonProjects/sem-5/prac/task3\n"
     ]
    }
   ],
   "source": [
    "!pwd"
   ]
  },
  {
   "cell_type": "code",
   "execution_count": 27,
   "metadata": {},
   "outputs": [
    {
     "data": {
      "image/svg+xml": "<?xml version=\"1.0\" encoding=\"utf-8\" standalone=\"no\"?>\n<!DOCTYPE svg PUBLIC \"-//W3C//DTD SVG 1.1//EN\"\n  \"http://www.w3.org/Graphics/SVG/1.1/DTD/svg11.dtd\">\n<svg xmlns:xlink=\"http://www.w3.org/1999/xlink\" width=\"463.574844pt\" height=\"329.781844pt\" viewBox=\"0 0 463.574844 329.781844\" xmlns=\"http://www.w3.org/2000/svg\" version=\"1.1\">\n <metadata>\n  <rdf:RDF xmlns:dc=\"http://purl.org/dc/elements/1.1/\" xmlns:cc=\"http://creativecommons.org/ns#\" xmlns:rdf=\"http://www.w3.org/1999/02/22-rdf-syntax-ns#\">\n   <cc:Work>\n    <dc:type rdf:resource=\"http://purl.org/dc/dcmitype/StillImage\"/>\n    <dc:date>2022-12-19T22:41:40.644188</dc:date>\n    <dc:format>image/svg+xml</dc:format>\n    <dc:creator>\n     <cc:Agent>\n      <dc:title>Matplotlib v3.6.2, https://matplotlib.org/</dc:title>\n     </cc:Agent>\n    </dc:creator>\n   </cc:Work>\n  </rdf:RDF>\n </metadata>\n <defs>\n  <style type=\"text/css\">*{stroke-linejoin: round; stroke-linecap: butt}</style>\n </defs>\n <g id=\"figure_1\">\n  <g id=\"patch_1\">\n   <path d=\"M 0 329.781844 \nL 463.574844 329.781844 \nL 463.574844 0 \nL 0 0 \nz\n\" style=\"fill: #ffffff\"/>\n  </g>\n  <g id=\"axes_1\">\n   <g id=\"patch_2\">\n    <path d=\"M 68.376563 287.901375 \nL 425.496562 287.901375 \nL 425.496562 21.789375 \nL 68.376563 21.789375 \nz\n\" style=\"fill: #eaeaf2\"/>\n   </g>\n   <g id=\"matplotlib.axis_1\">\n    <g id=\"xtick_1\">\n     <g id=\"line2d_1\">\n      <path d=\"M 68.376563 287.901375 \nL 68.376563 21.789375 \n\" clip-path=\"url(#p0be7002a79)\" style=\"fill: none; stroke: #ffffff; stroke-linecap: round\"/>\n     </g>\n     <g id=\"text_1\">\n      <!-- 0 -->\n      <g style=\"fill: #262626\" transform=\"translate(65.318047 305.274969) scale(0.11 -0.11)\">\n       <defs>\n        <path id=\"ArialMT-30\" d=\"M 266 2259 \nQ 266 3072 433 3567 \nQ 600 4063 929 4331 \nQ 1259 4600 1759 4600 \nQ 2128 4600 2406 4451 \nQ 2684 4303 2865 4023 \nQ 3047 3744 3150 3342 \nQ 3253 2941 3253 2259 \nQ 3253 1453 3087 958 \nQ 2922 463 2592 192 \nQ 2263 -78 1759 -78 \nQ 1097 -78 719 397 \nQ 266 969 266 2259 \nz\nM 844 2259 \nQ 844 1131 1108 757 \nQ 1372 384 1759 384 \nQ 2147 384 2411 759 \nQ 2675 1134 2675 2259 \nQ 2675 3391 2411 3762 \nQ 2147 4134 1753 4134 \nQ 1366 4134 1134 3806 \nQ 844 3388 844 2259 \nz\n\" transform=\"scale(0.015625)\"/>\n       </defs>\n       <use xlink:href=\"#ArialMT-30\"/>\n      </g>\n     </g>\n    </g>\n    <g id=\"xtick_2\">\n     <g id=\"line2d_2\">\n      <path d=\"M 111.017757 287.901375 \nL 111.017757 21.789375 \n\" clip-path=\"url(#p0be7002a79)\" style=\"fill: none; stroke: #ffffff; stroke-linecap: round\"/>\n     </g>\n     <g id=\"text_2\">\n      <!-- 2 -->\n      <g style=\"fill: #262626\" transform=\"translate(107.959241 305.274969) scale(0.11 -0.11)\">\n       <defs>\n        <path id=\"ArialMT-32\" d=\"M 3222 541 \nL 3222 0 \nL 194 0 \nQ 188 203 259 391 \nQ 375 700 629 1000 \nQ 884 1300 1366 1694 \nQ 2113 2306 2375 2664 \nQ 2638 3022 2638 3341 \nQ 2638 3675 2398 3904 \nQ 2159 4134 1775 4134 \nQ 1369 4134 1125 3890 \nQ 881 3647 878 3216 \nL 300 3275 \nQ 359 3922 746 4261 \nQ 1134 4600 1788 4600 \nQ 2447 4600 2831 4234 \nQ 3216 3869 3216 3328 \nQ 3216 3053 3103 2787 \nQ 2991 2522 2730 2228 \nQ 2469 1934 1863 1422 \nQ 1356 997 1212 845 \nQ 1069 694 975 541 \nL 3222 541 \nz\n\" transform=\"scale(0.015625)\"/>\n       </defs>\n       <use xlink:href=\"#ArialMT-32\"/>\n      </g>\n     </g>\n    </g>\n    <g id=\"xtick_3\">\n     <g id=\"line2d_3\">\n      <path d=\"M 153.658951 287.901375 \nL 153.658951 21.789375 \n\" clip-path=\"url(#p0be7002a79)\" style=\"fill: none; stroke: #ffffff; stroke-linecap: round\"/>\n     </g>\n     <g id=\"text_3\">\n      <!-- 4 -->\n      <g style=\"fill: #262626\" transform=\"translate(150.600435 305.274969) scale(0.11 -0.11)\">\n       <defs>\n        <path id=\"ArialMT-34\" d=\"M 2069 0 \nL 2069 1097 \nL 81 1097 \nL 81 1613 \nL 2172 4581 \nL 2631 4581 \nL 2631 1613 \nL 3250 1613 \nL 3250 1097 \nL 2631 1097 \nL 2631 0 \nL 2069 0 \nz\nM 2069 1613 \nL 2069 3678 \nL 634 1613 \nL 2069 1613 \nz\n\" transform=\"scale(0.015625)\"/>\n       </defs>\n       <use xlink:href=\"#ArialMT-34\"/>\n      </g>\n     </g>\n    </g>\n    <g id=\"xtick_4\">\n     <g id=\"line2d_4\">\n      <path d=\"M 196.300145 287.901375 \nL 196.300145 21.789375 \n\" clip-path=\"url(#p0be7002a79)\" style=\"fill: none; stroke: #ffffff; stroke-linecap: round\"/>\n     </g>\n     <g id=\"text_4\">\n      <!-- 6 -->\n      <g style=\"fill: #262626\" transform=\"translate(193.241629 305.274969) scale(0.11 -0.11)\">\n       <defs>\n        <path id=\"ArialMT-36\" d=\"M 3184 3459 \nL 2625 3416 \nQ 2550 3747 2413 3897 \nQ 2184 4138 1850 4138 \nQ 1581 4138 1378 3988 \nQ 1113 3794 959 3422 \nQ 806 3050 800 2363 \nQ 1003 2672 1297 2822 \nQ 1591 2972 1913 2972 \nQ 2475 2972 2870 2558 \nQ 3266 2144 3266 1488 \nQ 3266 1056 3080 686 \nQ 2894 316 2569 119 \nQ 2244 -78 1831 -78 \nQ 1128 -78 684 439 \nQ 241 956 241 2144 \nQ 241 3472 731 4075 \nQ 1159 4600 1884 4600 \nQ 2425 4600 2770 4297 \nQ 3116 3994 3184 3459 \nz\nM 888 1484 \nQ 888 1194 1011 928 \nQ 1134 663 1356 523 \nQ 1578 384 1822 384 \nQ 2178 384 2434 671 \nQ 2691 959 2691 1453 \nQ 2691 1928 2437 2201 \nQ 2184 2475 1800 2475 \nQ 1419 2475 1153 2201 \nQ 888 1928 888 1484 \nz\n\" transform=\"scale(0.015625)\"/>\n       </defs>\n       <use xlink:href=\"#ArialMT-36\"/>\n      </g>\n     </g>\n    </g>\n    <g id=\"xtick_5\">\n     <g id=\"line2d_5\">\n      <path d=\"M 238.941339 287.901375 \nL 238.941339 21.789375 \n\" clip-path=\"url(#p0be7002a79)\" style=\"fill: none; stroke: #ffffff; stroke-linecap: round\"/>\n     </g>\n     <g id=\"text_5\">\n      <!-- 8 -->\n      <g style=\"fill: #262626\" transform=\"translate(235.882823 305.274969) scale(0.11 -0.11)\">\n       <defs>\n        <path id=\"ArialMT-38\" d=\"M 1131 2484 \nQ 781 2613 612 2850 \nQ 444 3088 444 3419 \nQ 444 3919 803 4259 \nQ 1163 4600 1759 4600 \nQ 2359 4600 2725 4251 \nQ 3091 3903 3091 3403 \nQ 3091 3084 2923 2848 \nQ 2756 2613 2416 2484 \nQ 2838 2347 3058 2040 \nQ 3278 1734 3278 1309 \nQ 3278 722 2862 322 \nQ 2447 -78 1769 -78 \nQ 1091 -78 675 323 \nQ 259 725 259 1325 \nQ 259 1772 486 2073 \nQ 713 2375 1131 2484 \nz\nM 1019 3438 \nQ 1019 3113 1228 2906 \nQ 1438 2700 1772 2700 \nQ 2097 2700 2305 2904 \nQ 2513 3109 2513 3406 \nQ 2513 3716 2298 3927 \nQ 2084 4138 1766 4138 \nQ 1444 4138 1231 3931 \nQ 1019 3725 1019 3438 \nz\nM 838 1322 \nQ 838 1081 952 856 \nQ 1066 631 1291 507 \nQ 1516 384 1775 384 \nQ 2178 384 2440 643 \nQ 2703 903 2703 1303 \nQ 2703 1709 2433 1975 \nQ 2163 2241 1756 2241 \nQ 1359 2241 1098 1978 \nQ 838 1716 838 1322 \nz\n\" transform=\"scale(0.015625)\"/>\n       </defs>\n       <use xlink:href=\"#ArialMT-38\"/>\n      </g>\n     </g>\n    </g>\n    <g id=\"xtick_6\">\n     <g id=\"line2d_6\">\n      <path d=\"M 281.582533 287.901375 \nL 281.582533 21.789375 \n\" clip-path=\"url(#p0be7002a79)\" style=\"fill: none; stroke: #ffffff; stroke-linecap: round\"/>\n     </g>\n     <g id=\"text_6\">\n      <!-- 10 -->\n      <g style=\"fill: #262626\" transform=\"translate(275.465501 305.274969) scale(0.11 -0.11)\">\n       <defs>\n        <path id=\"ArialMT-31\" d=\"M 2384 0 \nL 1822 0 \nL 1822 3584 \nQ 1619 3391 1289 3197 \nQ 959 3003 697 2906 \nL 697 3450 \nQ 1169 3672 1522 3987 \nQ 1875 4303 2022 4600 \nL 2384 4600 \nL 2384 0 \nz\n\" transform=\"scale(0.015625)\"/>\n       </defs>\n       <use xlink:href=\"#ArialMT-31\"/>\n       <use xlink:href=\"#ArialMT-30\" x=\"55.615234\"/>\n      </g>\n     </g>\n    </g>\n    <g id=\"xtick_7\">\n     <g id=\"line2d_7\">\n      <path d=\"M 324.223727 287.901375 \nL 324.223727 21.789375 \n\" clip-path=\"url(#p0be7002a79)\" style=\"fill: none; stroke: #ffffff; stroke-linecap: round\"/>\n     </g>\n     <g id=\"text_7\">\n      <!-- 12 -->\n      <g style=\"fill: #262626\" transform=\"translate(318.106695 305.274969) scale(0.11 -0.11)\">\n       <use xlink:href=\"#ArialMT-31\"/>\n       <use xlink:href=\"#ArialMT-32\" x=\"55.615234\"/>\n      </g>\n     </g>\n    </g>\n    <g id=\"xtick_8\">\n     <g id=\"line2d_8\">\n      <path d=\"M 366.864921 287.901375 \nL 366.864921 21.789375 \n\" clip-path=\"url(#p0be7002a79)\" style=\"fill: none; stroke: #ffffff; stroke-linecap: round\"/>\n     </g>\n     <g id=\"text_8\">\n      <!-- 14 -->\n      <g style=\"fill: #262626\" transform=\"translate(360.747889 305.274969) scale(0.11 -0.11)\">\n       <use xlink:href=\"#ArialMT-31\"/>\n       <use xlink:href=\"#ArialMT-34\" x=\"55.615234\"/>\n      </g>\n     </g>\n    </g>\n    <g id=\"xtick_9\">\n     <g id=\"line2d_9\">\n      <path d=\"M 409.506115 287.901375 \nL 409.506115 21.789375 \n\" clip-path=\"url(#p0be7002a79)\" style=\"fill: none; stroke: #ffffff; stroke-linecap: round\"/>\n     </g>\n     <g id=\"text_9\">\n      <!-- $\\infty$ -->\n      <g style=\"fill: #262626\" transform=\"translate(404.886115 305.274969) scale(0.11 -0.11)\">\n       <defs>\n        <path id=\"DejaVuSans-221e\" d=\"M 2916 1091 \nQ 2819 1203 2666 1466 \nQ 2456 1091 2272 925 \nQ 2041 725 1681 725 \nQ 1259 725 981 1041 \nQ 688 1372 688 1919 \nQ 688 2444 981 2800 \nQ 1244 3116 1688 3116 \nQ 1916 3116 2084 3022 \nQ 2281 2919 2416 2741 \nQ 2541 2581 2666 2366 \nQ 2875 2741 3059 2906 \nQ 3291 3106 3650 3106 \nQ 4072 3106 4350 2791 \nQ 4644 2459 4644 1913 \nQ 4644 1388 4350 1031 \nQ 4088 716 3644 716 \nQ 3416 716 3247 809 \nQ 3078 894 2916 1091 \nz\nM 1647 1134 \nQ 2163 1134 2472 1884 \nQ 2075 2703 1647 2703 \nQ 1334 2703 1175 2478 \nQ 1003 2238 1003 1919 \nQ 1003 1569 1175 1353 \nQ 1350 1134 1647 1134 \nz\nM 3684 2697 \nQ 3219 2697 2859 1947 \nQ 3253 1128 3684 1128 \nQ 3997 1128 4156 1353 \nQ 4328 1594 4328 1913 \nQ 4328 2263 4156 2478 \nQ 3981 2697 3684 2697 \nz\n\" transform=\"scale(0.015625)\"/>\n       </defs>\n       <use xlink:href=\"#DejaVuSans-221e\" transform=\"translate(0 0.3125)\"/>\n      </g>\n     </g>\n    </g>\n    <g id=\"text_10\">\n     <!-- Max depth of the tree -->\n     <g style=\"fill: #262626\" transform=\"translate(190.240313 320.196844) scale(0.12 -0.12)\">\n      <defs>\n       <path id=\"ArialMT-4d\" d=\"M 475 0 \nL 475 4581 \nL 1388 4581 \nL 2472 1338 \nQ 2622 884 2691 659 \nQ 2769 909 2934 1394 \nL 4031 4581 \nL 4847 4581 \nL 4847 0 \nL 4263 0 \nL 4263 3834 \nL 2931 0 \nL 2384 0 \nL 1059 3900 \nL 1059 0 \nL 475 0 \nz\n\" transform=\"scale(0.015625)\"/>\n       <path id=\"ArialMT-61\" d=\"M 2588 409 \nQ 2275 144 1986 34 \nQ 1697 -75 1366 -75 \nQ 819 -75 525 192 \nQ 231 459 231 875 \nQ 231 1119 342 1320 \nQ 453 1522 633 1644 \nQ 813 1766 1038 1828 \nQ 1203 1872 1538 1913 \nQ 2219 1994 2541 2106 \nQ 2544 2222 2544 2253 \nQ 2544 2597 2384 2738 \nQ 2169 2928 1744 2928 \nQ 1347 2928 1158 2789 \nQ 969 2650 878 2297 \nL 328 2372 \nQ 403 2725 575 2942 \nQ 747 3159 1072 3276 \nQ 1397 3394 1825 3394 \nQ 2250 3394 2515 3294 \nQ 2781 3194 2906 3042 \nQ 3031 2891 3081 2659 \nQ 3109 2516 3109 2141 \nL 3109 1391 \nQ 3109 606 3145 398 \nQ 3181 191 3288 0 \nL 2700 0 \nQ 2613 175 2588 409 \nz\nM 2541 1666 \nQ 2234 1541 1622 1453 \nQ 1275 1403 1131 1340 \nQ 988 1278 909 1158 \nQ 831 1038 831 891 \nQ 831 666 1001 516 \nQ 1172 366 1500 366 \nQ 1825 366 2078 508 \nQ 2331 650 2450 897 \nQ 2541 1088 2541 1459 \nL 2541 1666 \nz\n\" transform=\"scale(0.015625)\"/>\n       <path id=\"ArialMT-78\" d=\"M 47 0 \nL 1259 1725 \nL 138 3319 \nL 841 3319 \nL 1350 2541 \nQ 1494 2319 1581 2169 \nQ 1719 2375 1834 2534 \nL 2394 3319 \nL 3066 3319 \nL 1919 1756 \nL 3153 0 \nL 2463 0 \nL 1781 1031 \nL 1600 1309 \nL 728 0 \nL 47 0 \nz\n\" transform=\"scale(0.015625)\"/>\n       <path id=\"ArialMT-20\" transform=\"scale(0.015625)\"/>\n       <path id=\"ArialMT-64\" d=\"M 2575 0 \nL 2575 419 \nQ 2259 -75 1647 -75 \nQ 1250 -75 917 144 \nQ 584 363 401 755 \nQ 219 1147 219 1656 \nQ 219 2153 384 2558 \nQ 550 2963 881 3178 \nQ 1213 3394 1622 3394 \nQ 1922 3394 2156 3267 \nQ 2391 3141 2538 2938 \nL 2538 4581 \nL 3097 4581 \nL 3097 0 \nL 2575 0 \nz\nM 797 1656 \nQ 797 1019 1065 703 \nQ 1334 388 1700 388 \nQ 2069 388 2326 689 \nQ 2584 991 2584 1609 \nQ 2584 2291 2321 2609 \nQ 2059 2928 1675 2928 \nQ 1300 2928 1048 2622 \nQ 797 2316 797 1656 \nz\n\" transform=\"scale(0.015625)\"/>\n       <path id=\"ArialMT-65\" d=\"M 2694 1069 \nL 3275 997 \nQ 3138 488 2766 206 \nQ 2394 -75 1816 -75 \nQ 1088 -75 661 373 \nQ 234 822 234 1631 \nQ 234 2469 665 2931 \nQ 1097 3394 1784 3394 \nQ 2450 3394 2872 2941 \nQ 3294 2488 3294 1666 \nQ 3294 1616 3291 1516 \nL 816 1516 \nQ 847 969 1125 678 \nQ 1403 388 1819 388 \nQ 2128 388 2347 550 \nQ 2566 713 2694 1069 \nz\nM 847 1978 \nL 2700 1978 \nQ 2663 2397 2488 2606 \nQ 2219 2931 1791 2931 \nQ 1403 2931 1139 2672 \nQ 875 2413 847 1978 \nz\n\" transform=\"scale(0.015625)\"/>\n       <path id=\"ArialMT-70\" d=\"M 422 -1272 \nL 422 3319 \nL 934 3319 \nL 934 2888 \nQ 1116 3141 1344 3267 \nQ 1572 3394 1897 3394 \nQ 2322 3394 2647 3175 \nQ 2972 2956 3137 2557 \nQ 3303 2159 3303 1684 \nQ 3303 1175 3120 767 \nQ 2938 359 2589 142 \nQ 2241 -75 1856 -75 \nQ 1575 -75 1351 44 \nQ 1128 163 984 344 \nL 984 -1272 \nL 422 -1272 \nz\nM 931 1641 \nQ 931 1000 1190 694 \nQ 1450 388 1819 388 \nQ 2194 388 2461 705 \nQ 2728 1022 2728 1688 \nQ 2728 2322 2467 2637 \nQ 2206 2953 1844 2953 \nQ 1484 2953 1207 2617 \nQ 931 2281 931 1641 \nz\n\" transform=\"scale(0.015625)\"/>\n       <path id=\"ArialMT-74\" d=\"M 1650 503 \nL 1731 6 \nQ 1494 -44 1306 -44 \nQ 1000 -44 831 53 \nQ 663 150 594 308 \nQ 525 466 525 972 \nL 525 2881 \nL 113 2881 \nL 113 3319 \nL 525 3319 \nL 525 4141 \nL 1084 4478 \nL 1084 3319 \nL 1650 3319 \nL 1650 2881 \nL 1084 2881 \nL 1084 941 \nQ 1084 700 1114 631 \nQ 1144 563 1211 522 \nQ 1278 481 1403 481 \nQ 1497 481 1650 503 \nz\n\" transform=\"scale(0.015625)\"/>\n       <path id=\"ArialMT-68\" d=\"M 422 0 \nL 422 4581 \nL 984 4581 \nL 984 2938 \nQ 1378 3394 1978 3394 \nQ 2347 3394 2619 3248 \nQ 2891 3103 3008 2847 \nQ 3125 2591 3125 2103 \nL 3125 0 \nL 2563 0 \nL 2563 2103 \nQ 2563 2525 2380 2717 \nQ 2197 2909 1863 2909 \nQ 1613 2909 1392 2779 \nQ 1172 2650 1078 2428 \nQ 984 2206 984 1816 \nL 984 0 \nL 422 0 \nz\n\" transform=\"scale(0.015625)\"/>\n       <path id=\"ArialMT-6f\" d=\"M 213 1659 \nQ 213 2581 725 3025 \nQ 1153 3394 1769 3394 \nQ 2453 3394 2887 2945 \nQ 3322 2497 3322 1706 \nQ 3322 1066 3130 698 \nQ 2938 331 2570 128 \nQ 2203 -75 1769 -75 \nQ 1072 -75 642 372 \nQ 213 819 213 1659 \nz\nM 791 1659 \nQ 791 1022 1069 705 \nQ 1347 388 1769 388 \nQ 2188 388 2466 706 \nQ 2744 1025 2744 1678 \nQ 2744 2294 2464 2611 \nQ 2184 2928 1769 2928 \nQ 1347 2928 1069 2612 \nQ 791 2297 791 1659 \nz\n\" transform=\"scale(0.015625)\"/>\n       <path id=\"ArialMT-66\" d=\"M 556 0 \nL 556 2881 \nL 59 2881 \nL 59 3319 \nL 556 3319 \nL 556 3672 \nQ 556 4006 616 4169 \nQ 697 4388 901 4523 \nQ 1106 4659 1475 4659 \nQ 1713 4659 2000 4603 \nL 1916 4113 \nQ 1741 4144 1584 4144 \nQ 1328 4144 1222 4034 \nQ 1116 3925 1116 3625 \nL 1116 3319 \nL 1763 3319 \nL 1763 2881 \nL 1116 2881 \nL 1116 0 \nL 556 0 \nz\n\" transform=\"scale(0.015625)\"/>\n       <path id=\"ArialMT-72\" d=\"M 416 0 \nL 416 3319 \nL 922 3319 \nL 922 2816 \nQ 1116 3169 1280 3281 \nQ 1444 3394 1641 3394 \nQ 1925 3394 2219 3213 \nL 2025 2691 \nQ 1819 2813 1613 2813 \nQ 1428 2813 1281 2702 \nQ 1134 2591 1072 2394 \nQ 978 2094 978 1738 \nL 978 0 \nL 416 0 \nz\n\" transform=\"scale(0.015625)\"/>\n      </defs>\n      <use xlink:href=\"#ArialMT-4d\"/>\n      <use xlink:href=\"#ArialMT-61\" x=\"83.300781\"/>\n      <use xlink:href=\"#ArialMT-78\" x=\"138.916016\"/>\n      <use xlink:href=\"#ArialMT-20\" x=\"188.916016\"/>\n      <use xlink:href=\"#ArialMT-64\" x=\"216.699219\"/>\n      <use xlink:href=\"#ArialMT-65\" x=\"272.314453\"/>\n      <use xlink:href=\"#ArialMT-70\" x=\"327.929688\"/>\n      <use xlink:href=\"#ArialMT-74\" x=\"383.544922\"/>\n      <use xlink:href=\"#ArialMT-68\" x=\"411.328125\"/>\n      <use xlink:href=\"#ArialMT-20\" x=\"466.943359\"/>\n      <use xlink:href=\"#ArialMT-6f\" x=\"494.726562\"/>\n      <use xlink:href=\"#ArialMT-66\" x=\"550.341797\"/>\n      <use xlink:href=\"#ArialMT-20\" x=\"578.125\"/>\n      <use xlink:href=\"#ArialMT-74\" x=\"605.908203\"/>\n      <use xlink:href=\"#ArialMT-68\" x=\"633.691406\"/>\n      <use xlink:href=\"#ArialMT-65\" x=\"689.306641\"/>\n      <use xlink:href=\"#ArialMT-20\" x=\"744.921875\"/>\n      <use xlink:href=\"#ArialMT-74\" x=\"772.705078\"/>\n      <use xlink:href=\"#ArialMT-72\" x=\"800.488281\"/>\n      <use xlink:href=\"#ArialMT-65\" x=\"833.789062\"/>\n      <use xlink:href=\"#ArialMT-65\" x=\"889.404297\"/>\n     </g>\n    </g>\n   </g>\n   <g id=\"matplotlib.axis_2\">\n    <g id=\"ytick_1\">\n     <g id=\"line2d_10\">\n      <path d=\"M 68.376563 271.876001 \nL 425.496562 271.876001 \n\" clip-path=\"url(#p0be7002a79)\" style=\"fill: none; stroke: #ffffff; stroke-linecap: round\"/>\n     </g>\n     <g id=\"line2d_11\">\n      <defs>\n       <path id=\"mfee6264c3e\" d=\"M 0 0 \nL -6 0 \n\" style=\"stroke: #f77189; stroke-width: 1.25\"/>\n      </defs>\n      <g>\n       <use xlink:href=\"#mfee6264c3e\" x=\"68.376563\" y=\"271.876001\" style=\"fill: #f77189; stroke: #f77189; stroke-width: 1.25\"/>\n      </g>\n     </g>\n     <g id=\"text_11\">\n      <!-- 150000 -->\n      <g style=\"fill: #f77189\" transform=\"translate(22.174375 275.812798) scale(0.11 -0.11)\">\n       <defs>\n        <path id=\"ArialMT-35\" d=\"M 266 1200 \nL 856 1250 \nQ 922 819 1161 601 \nQ 1400 384 1738 384 \nQ 2144 384 2425 690 \nQ 2706 997 2706 1503 \nQ 2706 1984 2436 2262 \nQ 2166 2541 1728 2541 \nQ 1456 2541 1237 2417 \nQ 1019 2294 894 2097 \nL 366 2166 \nL 809 4519 \nL 3088 4519 \nL 3088 3981 \nL 1259 3981 \nL 1013 2750 \nQ 1425 3038 1878 3038 \nQ 2478 3038 2890 2622 \nQ 3303 2206 3303 1553 \nQ 3303 931 2941 478 \nQ 2500 -78 1738 -78 \nQ 1113 -78 717 272 \nQ 322 622 266 1200 \nz\n\" transform=\"scale(0.015625)\"/>\n       </defs>\n       <use xlink:href=\"#ArialMT-31\"/>\n       <use xlink:href=\"#ArialMT-35\" x=\"55.615234\"/>\n       <use xlink:href=\"#ArialMT-30\" x=\"111.230469\"/>\n       <use xlink:href=\"#ArialMT-30\" x=\"166.845703\"/>\n       <use xlink:href=\"#ArialMT-30\" x=\"222.460938\"/>\n       <use xlink:href=\"#ArialMT-30\" x=\"278.076172\"/>\n      </g>\n     </g>\n    </g>\n    <g id=\"ytick_2\">\n     <g id=\"line2d_12\">\n      <path d=\"M 68.376563 236.599665 \nL 425.496562 236.599665 \n\" clip-path=\"url(#p0be7002a79)\" style=\"fill: none; stroke: #ffffff; stroke-linecap: round\"/>\n     </g>\n     <g id=\"line2d_13\">\n      <g>\n       <use xlink:href=\"#mfee6264c3e\" x=\"68.376563\" y=\"236.599665\" style=\"fill: #f77189; stroke: #f77189; stroke-width: 1.25\"/>\n      </g>\n     </g>\n     <g id=\"text_12\">\n      <!-- 175000 -->\n      <g style=\"fill: #f77189\" transform=\"translate(22.174375 240.536462) scale(0.11 -0.11)\">\n       <defs>\n        <path id=\"ArialMT-37\" d=\"M 303 3981 \nL 303 4522 \nL 3269 4522 \nL 3269 4084 \nQ 2831 3619 2401 2847 \nQ 1972 2075 1738 1259 \nQ 1569 684 1522 0 \nL 944 0 \nQ 953 541 1156 1306 \nQ 1359 2072 1739 2783 \nQ 2119 3494 2547 3981 \nL 303 3981 \nz\n\" transform=\"scale(0.015625)\"/>\n       </defs>\n       <use xlink:href=\"#ArialMT-31\"/>\n       <use xlink:href=\"#ArialMT-37\" x=\"55.615234\"/>\n       <use xlink:href=\"#ArialMT-35\" x=\"111.230469\"/>\n       <use xlink:href=\"#ArialMT-30\" x=\"166.845703\"/>\n       <use xlink:href=\"#ArialMT-30\" x=\"222.460938\"/>\n       <use xlink:href=\"#ArialMT-30\" x=\"278.076172\"/>\n      </g>\n     </g>\n    </g>\n    <g id=\"ytick_3\">\n     <g id=\"line2d_14\">\n      <path d=\"M 68.376563 201.323329 \nL 425.496562 201.323329 \n\" clip-path=\"url(#p0be7002a79)\" style=\"fill: none; stroke: #ffffff; stroke-linecap: round\"/>\n     </g>\n     <g id=\"line2d_15\">\n      <g>\n       <use xlink:href=\"#mfee6264c3e\" x=\"68.376563\" y=\"201.323329\" style=\"fill: #f77189; stroke: #f77189; stroke-width: 1.25\"/>\n      </g>\n     </g>\n     <g id=\"text_13\">\n      <!-- 200000 -->\n      <g style=\"fill: #f77189\" transform=\"translate(22.174375 205.260126) scale(0.11 -0.11)\">\n       <use xlink:href=\"#ArialMT-32\"/>\n       <use xlink:href=\"#ArialMT-30\" x=\"55.615234\"/>\n       <use xlink:href=\"#ArialMT-30\" x=\"111.230469\"/>\n       <use xlink:href=\"#ArialMT-30\" x=\"166.845703\"/>\n       <use xlink:href=\"#ArialMT-30\" x=\"222.460938\"/>\n       <use xlink:href=\"#ArialMT-30\" x=\"278.076172\"/>\n      </g>\n     </g>\n    </g>\n    <g id=\"ytick_4\">\n     <g id=\"line2d_16\">\n      <path d=\"M 68.376563 166.046993 \nL 425.496562 166.046993 \n\" clip-path=\"url(#p0be7002a79)\" style=\"fill: none; stroke: #ffffff; stroke-linecap: round\"/>\n     </g>\n     <g id=\"line2d_17\">\n      <g>\n       <use xlink:href=\"#mfee6264c3e\" x=\"68.376563\" y=\"166.046993\" style=\"fill: #f77189; stroke: #f77189; stroke-width: 1.25\"/>\n      </g>\n     </g>\n     <g id=\"text_14\">\n      <!-- 225000 -->\n      <g style=\"fill: #f77189\" transform=\"translate(22.174375 169.98379) scale(0.11 -0.11)\">\n       <use xlink:href=\"#ArialMT-32\"/>\n       <use xlink:href=\"#ArialMT-32\" x=\"55.615234\"/>\n       <use xlink:href=\"#ArialMT-35\" x=\"111.230469\"/>\n       <use xlink:href=\"#ArialMT-30\" x=\"166.845703\"/>\n       <use xlink:href=\"#ArialMT-30\" x=\"222.460938\"/>\n       <use xlink:href=\"#ArialMT-30\" x=\"278.076172\"/>\n      </g>\n     </g>\n    </g>\n    <g id=\"ytick_5\">\n     <g id=\"line2d_18\">\n      <path d=\"M 68.376563 130.770657 \nL 425.496562 130.770657 \n\" clip-path=\"url(#p0be7002a79)\" style=\"fill: none; stroke: #ffffff; stroke-linecap: round\"/>\n     </g>\n     <g id=\"line2d_19\">\n      <g>\n       <use xlink:href=\"#mfee6264c3e\" x=\"68.376563\" y=\"130.770657\" style=\"fill: #f77189; stroke: #f77189; stroke-width: 1.25\"/>\n      </g>\n     </g>\n     <g id=\"text_15\">\n      <!-- 250000 -->\n      <g style=\"fill: #f77189\" transform=\"translate(22.174375 134.707453) scale(0.11 -0.11)\">\n       <use xlink:href=\"#ArialMT-32\"/>\n       <use xlink:href=\"#ArialMT-35\" x=\"55.615234\"/>\n       <use xlink:href=\"#ArialMT-30\" x=\"111.230469\"/>\n       <use xlink:href=\"#ArialMT-30\" x=\"166.845703\"/>\n       <use xlink:href=\"#ArialMT-30\" x=\"222.460938\"/>\n       <use xlink:href=\"#ArialMT-30\" x=\"278.076172\"/>\n      </g>\n     </g>\n    </g>\n    <g id=\"ytick_6\">\n     <g id=\"line2d_20\">\n      <path d=\"M 68.376563 95.49432 \nL 425.496562 95.49432 \n\" clip-path=\"url(#p0be7002a79)\" style=\"fill: none; stroke: #ffffff; stroke-linecap: round\"/>\n     </g>\n     <g id=\"line2d_21\">\n      <g>\n       <use xlink:href=\"#mfee6264c3e\" x=\"68.376563\" y=\"95.49432\" style=\"fill: #f77189; stroke: #f77189; stroke-width: 1.25\"/>\n      </g>\n     </g>\n     <g id=\"text_16\">\n      <!-- 275000 -->\n      <g style=\"fill: #f77189\" transform=\"translate(22.174375 99.431117) scale(0.11 -0.11)\">\n       <use xlink:href=\"#ArialMT-32\"/>\n       <use xlink:href=\"#ArialMT-37\" x=\"55.615234\"/>\n       <use xlink:href=\"#ArialMT-35\" x=\"111.230469\"/>\n       <use xlink:href=\"#ArialMT-30\" x=\"166.845703\"/>\n       <use xlink:href=\"#ArialMT-30\" x=\"222.460938\"/>\n       <use xlink:href=\"#ArialMT-30\" x=\"278.076172\"/>\n      </g>\n     </g>\n    </g>\n    <g id=\"ytick_7\">\n     <g id=\"line2d_22\">\n      <path d=\"M 68.376563 60.217984 \nL 425.496562 60.217984 \n\" clip-path=\"url(#p0be7002a79)\" style=\"fill: none; stroke: #ffffff; stroke-linecap: round\"/>\n     </g>\n     <g id=\"line2d_23\">\n      <g>\n       <use xlink:href=\"#mfee6264c3e\" x=\"68.376563\" y=\"60.217984\" style=\"fill: #f77189; stroke: #f77189; stroke-width: 1.25\"/>\n      </g>\n     </g>\n     <g id=\"text_17\">\n      <!-- 300000 -->\n      <g style=\"fill: #f77189\" transform=\"translate(22.174375 64.154781) scale(0.11 -0.11)\">\n       <defs>\n        <path id=\"ArialMT-33\" d=\"M 269 1209 \nL 831 1284 \nQ 928 806 1161 595 \nQ 1394 384 1728 384 \nQ 2125 384 2398 659 \nQ 2672 934 2672 1341 \nQ 2672 1728 2419 1979 \nQ 2166 2231 1775 2231 \nQ 1616 2231 1378 2169 \nL 1441 2663 \nQ 1497 2656 1531 2656 \nQ 1891 2656 2178 2843 \nQ 2466 3031 2466 3422 \nQ 2466 3731 2256 3934 \nQ 2047 4138 1716 4138 \nQ 1388 4138 1169 3931 \nQ 950 3725 888 3313 \nL 325 3413 \nQ 428 3978 793 4289 \nQ 1159 4600 1703 4600 \nQ 2078 4600 2393 4439 \nQ 2709 4278 2876 4000 \nQ 3044 3722 3044 3409 \nQ 3044 3113 2884 2869 \nQ 2725 2625 2413 2481 \nQ 2819 2388 3044 2092 \nQ 3269 1797 3269 1353 \nQ 3269 753 2831 336 \nQ 2394 -81 1725 -81 \nQ 1122 -81 723 278 \nQ 325 638 269 1209 \nz\n\" transform=\"scale(0.015625)\"/>\n       </defs>\n       <use xlink:href=\"#ArialMT-33\"/>\n       <use xlink:href=\"#ArialMT-30\" x=\"55.615234\"/>\n       <use xlink:href=\"#ArialMT-30\" x=\"111.230469\"/>\n       <use xlink:href=\"#ArialMT-30\" x=\"166.845703\"/>\n       <use xlink:href=\"#ArialMT-30\" x=\"222.460938\"/>\n       <use xlink:href=\"#ArialMT-30\" x=\"278.076172\"/>\n      </g>\n     </g>\n    </g>\n    <g id=\"ytick_8\">\n     <g id=\"line2d_24\">\n      <path d=\"M 68.376563 24.941648 \nL 425.496562 24.941648 \n\" clip-path=\"url(#p0be7002a79)\" style=\"fill: none; stroke: #ffffff; stroke-linecap: round\"/>\n     </g>\n     <g id=\"line2d_25\">\n      <g>\n       <use xlink:href=\"#mfee6264c3e\" x=\"68.376563\" y=\"24.941648\" style=\"fill: #f77189; stroke: #f77189; stroke-width: 1.25\"/>\n      </g>\n     </g>\n     <g id=\"text_18\">\n      <!-- 325000 -->\n      <g style=\"fill: #f77189\" transform=\"translate(22.174375 28.878445) scale(0.11 -0.11)\">\n       <use xlink:href=\"#ArialMT-33\"/>\n       <use xlink:href=\"#ArialMT-32\" x=\"55.615234\"/>\n       <use xlink:href=\"#ArialMT-35\" x=\"111.230469\"/>\n       <use xlink:href=\"#ArialMT-30\" x=\"166.845703\"/>\n       <use xlink:href=\"#ArialMT-30\" x=\"222.460938\"/>\n       <use xlink:href=\"#ArialMT-30\" x=\"278.076172\"/>\n      </g>\n     </g>\n    </g>\n    <g id=\"text_19\">\n     <!-- RMSE -->\n     <g style=\"fill: #f77189\" transform=\"translate(15.789375 172.180687) rotate(-90) scale(0.12 -0.12)\">\n      <defs>\n       <path id=\"ArialMT-52\" d=\"M 503 0 \nL 503 4581 \nL 2534 4581 \nQ 3147 4581 3465 4457 \nQ 3784 4334 3975 4021 \nQ 4166 3709 4166 3331 \nQ 4166 2844 3850 2509 \nQ 3534 2175 2875 2084 \nQ 3116 1969 3241 1856 \nQ 3506 1613 3744 1247 \nL 4541 0 \nL 3778 0 \nL 3172 953 \nQ 2906 1366 2734 1584 \nQ 2563 1803 2427 1890 \nQ 2291 1978 2150 2013 \nQ 2047 2034 1813 2034 \nL 1109 2034 \nL 1109 0 \nL 503 0 \nz\nM 1109 2559 \nL 2413 2559 \nQ 2828 2559 3062 2645 \nQ 3297 2731 3419 2920 \nQ 3541 3109 3541 3331 \nQ 3541 3656 3305 3865 \nQ 3069 4075 2559 4075 \nL 1109 4075 \nL 1109 2559 \nz\n\" transform=\"scale(0.015625)\"/>\n       <path id=\"ArialMT-53\" d=\"M 288 1472 \nL 859 1522 \nQ 900 1178 1048 958 \nQ 1197 738 1509 602 \nQ 1822 466 2213 466 \nQ 2559 466 2825 569 \nQ 3091 672 3220 851 \nQ 3350 1031 3350 1244 \nQ 3350 1459 3225 1620 \nQ 3100 1781 2813 1891 \nQ 2628 1963 1997 2114 \nQ 1366 2266 1113 2400 \nQ 784 2572 623 2826 \nQ 463 3081 463 3397 \nQ 463 3744 659 4045 \nQ 856 4347 1234 4503 \nQ 1613 4659 2075 4659 \nQ 2584 4659 2973 4495 \nQ 3363 4331 3572 4012 \nQ 3781 3694 3797 3291 \nL 3216 3247 \nQ 3169 3681 2898 3903 \nQ 2628 4125 2100 4125 \nQ 1550 4125 1298 3923 \nQ 1047 3722 1047 3438 \nQ 1047 3191 1225 3031 \nQ 1400 2872 2139 2705 \nQ 2878 2538 3153 2413 \nQ 3553 2228 3743 1945 \nQ 3934 1663 3934 1294 \nQ 3934 928 3725 604 \nQ 3516 281 3123 101 \nQ 2731 -78 2241 -78 \nQ 1619 -78 1198 103 \nQ 778 284 539 648 \nQ 300 1013 288 1472 \nz\n\" transform=\"scale(0.015625)\"/>\n       <path id=\"ArialMT-45\" d=\"M 506 0 \nL 506 4581 \nL 3819 4581 \nL 3819 4041 \nL 1113 4041 \nL 1113 2638 \nL 3647 2638 \nL 3647 2100 \nL 1113 2100 \nL 1113 541 \nL 3925 541 \nL 3925 0 \nL 506 0 \nz\n\" transform=\"scale(0.015625)\"/>\n      </defs>\n      <use xlink:href=\"#ArialMT-52\"/>\n      <use xlink:href=\"#ArialMT-4d\" x=\"72.216797\"/>\n      <use xlink:href=\"#ArialMT-53\" x=\"155.517578\"/>\n      <use xlink:href=\"#ArialMT-45\" x=\"222.216797\"/>\n     </g>\n    </g>\n   </g>\n   <g id=\"PolyCollection_1\"/>\n   <g id=\"line2d_26\">\n    <path d=\"M 89.69716 33.885375 \nL 111.017757 97.758798 \nL 132.338354 146.348473 \nL 153.658951 184.709151 \nL 174.979548 210.515992 \nL 196.300145 229.805196 \nL 217.620742 241.347926 \nL 281.582533 261.804528 \nL 366.864921 270.302648 \nL 409.506115 275.805375 \n\" clip-path=\"url(#p0be7002a79)\" style=\"fill: none; stroke: #f77189; stroke-width: 1.5; stroke-linecap: round\"/>\n   </g>\n   <g id=\"patch_3\">\n    <path d=\"M 68.376563 287.901375 \nL 68.376563 21.789375 \n\" style=\"fill: none; stroke: #ffffff; stroke-width: 1.25; stroke-linejoin: miter; stroke-linecap: square\"/>\n   </g>\n   <g id=\"patch_4\">\n    <path d=\"M 425.496562 287.901375 \nL 425.496562 21.789375 \n\" style=\"fill: none; stroke: #ffffff; stroke-width: 1.25; stroke-linejoin: miter; stroke-linecap: square\"/>\n   </g>\n   <g id=\"patch_5\">\n    <path d=\"M 68.376563 287.901375 \nL 425.496562 287.901375 \n\" style=\"fill: none; stroke: #ffffff; stroke-width: 1.25; stroke-linejoin: miter; stroke-linecap: square\"/>\n   </g>\n   <g id=\"patch_6\">\n    <path d=\"M 68.376563 21.789375 \nL 425.496562 21.789375 \n\" style=\"fill: none; stroke: #ffffff; stroke-width: 1.25; stroke-linejoin: miter; stroke-linecap: square\"/>\n   </g>\n  </g>\n  <g id=\"axes_2\">\n   <g id=\"matplotlib.axis_3\">\n    <g id=\"ytick_9\">\n     <g id=\"line2d_27\">\n      <defs>\n       <path id=\"m22cd3841aa\" d=\"M 0 0 \nL 6 0 \n\" style=\"stroke: #3ba3ec; stroke-width: 1.25\"/>\n      </defs>\n      <g>\n       <use xlink:href=\"#m22cd3841aa\" x=\"425.496562\" y=\"243.446383\" style=\"fill: #3ba3ec; stroke: #3ba3ec; stroke-width: 1.25\"/>\n      </g>\n     </g>\n     <g id=\"text_20\">\n      <!-- 1 -->\n      <g style=\"fill: #3ba3ec\" transform=\"translate(434.996562 247.38318) scale(0.11 -0.11)\">\n       <use xlink:href=\"#ArialMT-31\"/>\n      </g>\n     </g>\n    </g>\n    <g id=\"ytick_10\">\n     <g id=\"line2d_28\">\n      <g>\n       <use xlink:href=\"#m22cd3841aa\" x=\"425.496562\" y=\"190.264506\" style=\"fill: #3ba3ec; stroke: #3ba3ec; stroke-width: 1.25\"/>\n      </g>\n     </g>\n     <g id=\"text_21\">\n      <!-- 2 -->\n      <g style=\"fill: #3ba3ec\" transform=\"translate(434.996562 194.201303) scale(0.11 -0.11)\">\n       <use xlink:href=\"#ArialMT-32\"/>\n      </g>\n     </g>\n    </g>\n    <g id=\"ytick_11\">\n     <g id=\"line2d_29\">\n      <g>\n       <use xlink:href=\"#m22cd3841aa\" x=\"425.496562\" y=\"137.082628\" style=\"fill: #3ba3ec; stroke: #3ba3ec; stroke-width: 1.25\"/>\n      </g>\n     </g>\n     <g id=\"text_22\">\n      <!-- 3 -->\n      <g style=\"fill: #3ba3ec\" transform=\"translate(434.996562 141.019425) scale(0.11 -0.11)\">\n       <use xlink:href=\"#ArialMT-33\"/>\n      </g>\n     </g>\n    </g>\n    <g id=\"ytick_12\">\n     <g id=\"line2d_30\">\n      <g>\n       <use xlink:href=\"#m22cd3841aa\" x=\"425.496562\" y=\"83.900751\" style=\"fill: #3ba3ec; stroke: #3ba3ec; stroke-width: 1.25\"/>\n      </g>\n     </g>\n     <g id=\"text_23\">\n      <!-- 4 -->\n      <g style=\"fill: #3ba3ec\" transform=\"translate(434.996562 87.837548) scale(0.11 -0.11)\">\n       <use xlink:href=\"#ArialMT-34\"/>\n      </g>\n     </g>\n    </g>\n    <g id=\"ytick_13\">\n     <g id=\"line2d_31\">\n      <g>\n       <use xlink:href=\"#m22cd3841aa\" x=\"425.496562\" y=\"30.718874\" style=\"fill: #3ba3ec; stroke: #3ba3ec; stroke-width: 1.25\"/>\n      </g>\n     </g>\n     <g id=\"text_24\">\n      <!-- 5 -->\n      <g style=\"fill: #3ba3ec\" transform=\"translate(434.996562 34.65567) scale(0.11 -0.11)\">\n       <use xlink:href=\"#ArialMT-35\"/>\n      </g>\n     </g>\n    </g>\n    <g id=\"text_25\">\n     <!-- Time (s) -->\n     <g style=\"fill: #3ba3ec\" transform=\"translate(453.849219 176.615062) rotate(-90) scale(0.12 -0.12)\">\n      <defs>\n       <path id=\"ArialMT-54\" d=\"M 1659 0 \nL 1659 4041 \nL 150 4041 \nL 150 4581 \nL 3781 4581 \nL 3781 4041 \nL 2266 4041 \nL 2266 0 \nL 1659 0 \nz\n\" transform=\"scale(0.015625)\"/>\n       <path id=\"ArialMT-69\" d=\"M 425 3934 \nL 425 4581 \nL 988 4581 \nL 988 3934 \nL 425 3934 \nz\nM 425 0 \nL 425 3319 \nL 988 3319 \nL 988 0 \nL 425 0 \nz\n\" transform=\"scale(0.015625)\"/>\n       <path id=\"ArialMT-6d\" d=\"M 422 0 \nL 422 3319 \nL 925 3319 \nL 925 2853 \nQ 1081 3097 1340 3245 \nQ 1600 3394 1931 3394 \nQ 2300 3394 2536 3241 \nQ 2772 3088 2869 2813 \nQ 3263 3394 3894 3394 \nQ 4388 3394 4653 3120 \nQ 4919 2847 4919 2278 \nL 4919 0 \nL 4359 0 \nL 4359 2091 \nQ 4359 2428 4304 2576 \nQ 4250 2725 4106 2815 \nQ 3963 2906 3769 2906 \nQ 3419 2906 3187 2673 \nQ 2956 2441 2956 1928 \nL 2956 0 \nL 2394 0 \nL 2394 2156 \nQ 2394 2531 2256 2718 \nQ 2119 2906 1806 2906 \nQ 1569 2906 1367 2781 \nQ 1166 2656 1075 2415 \nQ 984 2175 984 1722 \nL 984 0 \nL 422 0 \nz\n\" transform=\"scale(0.015625)\"/>\n       <path id=\"ArialMT-28\" d=\"M 1497 -1347 \nQ 1031 -759 709 28 \nQ 388 816 388 1659 \nQ 388 2403 628 3084 \nQ 909 3875 1497 4659 \nL 1900 4659 \nQ 1522 4009 1400 3731 \nQ 1209 3300 1100 2831 \nQ 966 2247 966 1656 \nQ 966 153 1900 -1347 \nL 1497 -1347 \nz\n\" transform=\"scale(0.015625)\"/>\n       <path id=\"ArialMT-73\" d=\"M 197 991 \nL 753 1078 \nQ 800 744 1014 566 \nQ 1228 388 1613 388 \nQ 2000 388 2187 545 \nQ 2375 703 2375 916 \nQ 2375 1106 2209 1216 \nQ 2094 1291 1634 1406 \nQ 1016 1563 777 1677 \nQ 538 1791 414 1992 \nQ 291 2194 291 2438 \nQ 291 2659 392 2848 \nQ 494 3038 669 3163 \nQ 800 3259 1026 3326 \nQ 1253 3394 1513 3394 \nQ 1903 3394 2198 3281 \nQ 2494 3169 2634 2976 \nQ 2775 2784 2828 2463 \nL 2278 2388 \nQ 2241 2644 2061 2787 \nQ 1881 2931 1553 2931 \nQ 1166 2931 1000 2803 \nQ 834 2675 834 2503 \nQ 834 2394 903 2306 \nQ 972 2216 1119 2156 \nQ 1203 2125 1616 2013 \nQ 2213 1853 2448 1751 \nQ 2684 1650 2818 1456 \nQ 2953 1263 2953 975 \nQ 2953 694 2789 445 \nQ 2625 197 2315 61 \nQ 2006 -75 1616 -75 \nQ 969 -75 630 194 \nQ 291 463 197 991 \nz\n\" transform=\"scale(0.015625)\"/>\n       <path id=\"ArialMT-29\" d=\"M 791 -1347 \nL 388 -1347 \nQ 1322 153 1322 1656 \nQ 1322 2244 1188 2822 \nQ 1081 3291 891 3722 \nQ 769 4003 388 4659 \nL 791 4659 \nQ 1378 3875 1659 3084 \nQ 1900 2403 1900 1659 \nQ 1900 816 1576 28 \nQ 1253 -759 791 -1347 \nz\n\" transform=\"scale(0.015625)\"/>\n      </defs>\n      <use xlink:href=\"#ArialMT-54\"/>\n      <use xlink:href=\"#ArialMT-69\" x=\"57.333984\"/>\n      <use xlink:href=\"#ArialMT-6d\" x=\"79.550781\"/>\n      <use xlink:href=\"#ArialMT-65\" x=\"162.851562\"/>\n      <use xlink:href=\"#ArialMT-20\" x=\"218.466797\"/>\n      <use xlink:href=\"#ArialMT-28\" x=\"246.25\"/>\n      <use xlink:href=\"#ArialMT-73\" x=\"279.550781\"/>\n      <use xlink:href=\"#ArialMT-29\" x=\"329.550781\"/>\n     </g>\n    </g>\n   </g>\n   <g id=\"PolyCollection_2\"/>\n   <g id=\"line2d_32\">\n    <path d=\"M 89.69716 275.805375 \nL 111.017757 260.875892 \nL 132.338354 243.544751 \nL 153.658951 233.027054 \nL 174.979548 218.719833 \nL 196.300145 204.873196 \nL 217.620742 189.884525 \nL 281.582533 150.775475 \nL 366.864921 100.963568 \nL 409.506115 33.885375 \n\" clip-path=\"url(#p0be7002a79)\" style=\"fill: none; stroke: #3ba3ec; stroke-width: 1.5; stroke-linecap: round\"/>\n   </g>\n   <g id=\"patch_7\">\n    <path d=\"M 68.376563 287.901375 \nL 68.376563 21.789375 \n\" style=\"fill: none; stroke: #f77189; stroke-width: 1.25; stroke-linejoin: miter; stroke-linecap: square\"/>\n   </g>\n   <g id=\"patch_8\">\n    <path d=\"M 425.496562 287.901375 \nL 425.496562 21.789375 \n\" style=\"fill: none; stroke: #3ba3ec; stroke-width: 1.25; stroke-linejoin: miter; stroke-linecap: square\"/>\n   </g>\n   <g id=\"patch_9\">\n    <path d=\"M 68.376563 287.901375 \nL 425.496562 287.901375 \n\" style=\"fill: none; stroke: #ffffff; stroke-width: 1.25; stroke-linejoin: miter; stroke-linecap: square\"/>\n   </g>\n   <g id=\"patch_10\">\n    <path d=\"M 68.376563 21.789375 \nL 425.496562 21.789375 \n\" style=\"fill: none; stroke: #ffffff; stroke-width: 1.25; stroke-linejoin: miter; stroke-linecap: square\"/>\n   </g>\n   <g id=\"text_26\">\n    <!-- Random Forest -->\n    <g style=\"fill: #262626\" transform=\"translate(205.59 15.789375) scale(0.12 -0.12)\">\n     <defs>\n      <path id=\"ArialMT-6e\" d=\"M 422 0 \nL 422 3319 \nL 928 3319 \nL 928 2847 \nQ 1294 3394 1984 3394 \nQ 2284 3394 2536 3286 \nQ 2788 3178 2913 3003 \nQ 3038 2828 3088 2588 \nQ 3119 2431 3119 2041 \nL 3119 0 \nL 2556 0 \nL 2556 2019 \nQ 2556 2363 2490 2533 \nQ 2425 2703 2258 2804 \nQ 2091 2906 1866 2906 \nQ 1506 2906 1245 2678 \nQ 984 2450 984 1813 \nL 984 0 \nL 422 0 \nz\n\" transform=\"scale(0.015625)\"/>\n      <path id=\"ArialMT-46\" d=\"M 525 0 \nL 525 4581 \nL 3616 4581 \nL 3616 4041 \nL 1131 4041 \nL 1131 2622 \nL 3281 2622 \nL 3281 2081 \nL 1131 2081 \nL 1131 0 \nL 525 0 \nz\n\" transform=\"scale(0.015625)\"/>\n     </defs>\n     <use xlink:href=\"#ArialMT-52\"/>\n     <use xlink:href=\"#ArialMT-61\" x=\"72.216797\"/>\n     <use xlink:href=\"#ArialMT-6e\" x=\"127.832031\"/>\n     <use xlink:href=\"#ArialMT-64\" x=\"183.447266\"/>\n     <use xlink:href=\"#ArialMT-6f\" x=\"239.0625\"/>\n     <use xlink:href=\"#ArialMT-6d\" x=\"294.677734\"/>\n     <use xlink:href=\"#ArialMT-20\" x=\"377.978516\"/>\n     <use xlink:href=\"#ArialMT-46\" x=\"405.761719\"/>\n     <use xlink:href=\"#ArialMT-6f\" x=\"466.845703\"/>\n     <use xlink:href=\"#ArialMT-72\" x=\"522.460938\"/>\n     <use xlink:href=\"#ArialMT-65\" x=\"555.761719\"/>\n     <use xlink:href=\"#ArialMT-73\" x=\"611.376953\"/>\n     <use xlink:href=\"#ArialMT-74\" x=\"661.376953\"/>\n    </g>\n   </g>\n  </g>\n </g>\n <defs>\n  <clipPath id=\"p0be7002a79\">\n   <rect x=\"68.376563\" y=\"21.789375\" width=\"357.12\" height=\"266.112\"/>\n  </clipPath>\n </defs>\n</svg>\n",
      "text/plain": [
       "<Figure size 640x480 with 2 Axes>"
      ]
     },
     "metadata": {},
     "output_type": "display_data"
    }
   ],
   "source": [
    "color_rmse = sns.husl_palette(3)[0]\n",
    "color_time = sns.husl_palette(3)[2]\n",
    "x = max_depth[:-1] + [16]\n",
    "ax1 = sns.lineplot(x=x, y=rmse_rf_max_depth, ci=False, color=color_rmse)\n",
    "ax1.set_ylabel(\"RMSE\", color=color_rmse)\n",
    "ax1.tick_params(axis='y', colors=color_rmse)\n",
    "\n",
    "ax2 = ax1.twinx()\n",
    "\n",
    "sns.lineplot(x=x, y=time_rf_max_depth, ci=False, color=color_time, ax=ax2)\n",
    "ax2.set_ylabel(\"Time (s)\", color=color_time)\n",
    "ax2.tick_params(axis='y', colors=color_time)\n",
    "ax2.grid(False)\n",
    "\n",
    "ax2.spines['left'].set_color(color_rmse)\n",
    "ax2.spines['right'].set_color(color_time)\n",
    "ax2.set_title(\"Random Forest\")\n",
    "ax1.set_xlabel(\"Max depth of the tree\")\n",
    "labels = list(str(i) for i in range(0, 15, 2)) + ['$\\infty$']\n",
    "ax2.set_xticks(range(0, 17, 2), labels)\n",
    "plt.savefig('./report/exp1/max_depth.pdf', bbox_inches='tight')\n",
    "None"
   ]
  },
  {
   "cell_type": "code",
   "execution_count": 30,
   "metadata": {},
   "outputs": [
    {
     "data": {
      "text/plain": [
       "[318661.66694514354,\n",
       " 273395.18665432016,\n",
       " 238960.1515982343,\n",
       " 211774.3078623023,\n",
       " 193485.24829467415,\n",
       " 179815.17458128557,\n",
       " 171634.95308255238,\n",
       " 157137.55625138004,\n",
       " 151115.019820023,\n",
       " 147215.29039697273]"
      ]
     },
     "execution_count": 30,
     "metadata": {},
     "output_type": "execute_result"
    }
   ],
   "source": [
    "rmse_rf_max_depth"
   ]
  },
  {
   "cell_type": "code",
   "execution_count": null,
   "metadata": {},
   "outputs": [],
   "source": [
    "%pip install ipywidgets\n",
    "%pip install jupyter \n",
    "%pip freeze | grep -E '(jupyter|tqdm|ipy)'"
   ]
  },
  {
   "cell_type": "code",
   "execution_count": 29,
   "metadata": {},
   "outputs": [
    {
     "name": "stderr",
     "output_type": "stream",
     "text": [
      "100%|██████████| 12/12 [04:33<00:00, 22.78s/it]\n"
     ]
    }
   ],
   "source": [
    "rmse_rf_n_estimators = []\n",
    "time_rf_n_estimators = []\n",
    "for n in tqdm(n_estimators):\n",
    "    rf_clf = RandomForestMSE(max_depth=None, n_estimators=n)\n",
    "    start_time = time()\n",
    "    rf_clf.fit(X_train, y_train)\n",
    "    end_time = time()\n",
    "    time_rf_n_estimators.append(end_time - start_time)\n",
    "    rmse_rf_n_estimators.append(rmse(rf_clf, X_test, y_test))"
   ]
  },
  {
   "cell_type": "code",
   "execution_count": 32,
   "metadata": {},
   "outputs": [
    {
     "data": {
      "image/svg+xml": "<?xml version=\"1.0\" encoding=\"utf-8\" standalone=\"no\"?>\n<!DOCTYPE svg PUBLIC \"-//W3C//DTD SVG 1.1//EN\"\n  \"http://www.w3.org/Graphics/SVG/1.1/DTD/svg11.dtd\">\n<svg xmlns:xlink=\"http://www.w3.org/1999/xlink\" width=\"469.691875pt\" height=\"329.635594pt\" viewBox=\"0 0 469.691875 329.635594\" xmlns=\"http://www.w3.org/2000/svg\" version=\"1.1\">\n <metadata>\n  <rdf:RDF xmlns:dc=\"http://purl.org/dc/elements/1.1/\" xmlns:cc=\"http://creativecommons.org/ns#\" xmlns:rdf=\"http://www.w3.org/1999/02/22-rdf-syntax-ns#\">\n   <cc:Work>\n    <dc:type rdf:resource=\"http://purl.org/dc/dcmitype/StillImage\"/>\n    <dc:date>2022-12-19T22:48:05.963473</dc:date>\n    <dc:format>image/svg+xml</dc:format>\n    <dc:creator>\n     <cc:Agent>\n      <dc:title>Matplotlib v3.6.2, https://matplotlib.org/</dc:title>\n     </cc:Agent>\n    </dc:creator>\n   </cc:Work>\n  </rdf:RDF>\n </metadata>\n <defs>\n  <style type=\"text/css\">*{stroke-linejoin: round; stroke-linecap: butt}</style>\n </defs>\n <g id=\"figure_1\">\n  <g id=\"patch_1\">\n   <path d=\"M 0 329.635594 \nL 469.691875 329.635594 \nL 469.691875 0 \nL 0 0 \nz\n\" style=\"fill: #ffffff\"/>\n  </g>\n  <g id=\"axes_1\">\n   <g id=\"patch_2\">\n    <path d=\"M 68.376563 287.901375 \nL 425.496562 287.901375 \nL 425.496562 21.789375 \nL 68.376563 21.789375 \nz\n\" style=\"fill: #eaeaf2\"/>\n   </g>\n   <g id=\"matplotlib.axis_1\">\n    <g id=\"xtick_1\">\n     <g id=\"line2d_1\">\n      <path d=\"M 84.392709 287.901375 \nL 84.392709 21.789375 \n\" clip-path=\"url(#p502b0807d5)\" style=\"fill: none; stroke: #ffffff; stroke-linecap: round\"/>\n     </g>\n     <g id=\"text_1\">\n      <!-- 0 -->\n      <g style=\"fill: #262626\" transform=\"translate(81.334193 305.274969) scale(0.11 -0.11)\">\n       <defs>\n        <path id=\"ArialMT-30\" d=\"M 266 2259 \nQ 266 3072 433 3567 \nQ 600 4063 929 4331 \nQ 1259 4600 1759 4600 \nQ 2128 4600 2406 4451 \nQ 2684 4303 2865 4023 \nQ 3047 3744 3150 3342 \nQ 3253 2941 3253 2259 \nQ 3253 1453 3087 958 \nQ 2922 463 2592 192 \nQ 2263 -78 1759 -78 \nQ 1097 -78 719 397 \nQ 266 969 266 2259 \nz\nM 844 2259 \nQ 844 1131 1108 757 \nQ 1372 384 1759 384 \nQ 2147 384 2411 759 \nQ 2675 1134 2675 2259 \nQ 2675 3391 2411 3762 \nQ 2147 4134 1753 4134 \nQ 1366 4134 1134 3806 \nQ 844 3388 844 2259 \nz\n\" transform=\"scale(0.015625)\"/>\n       </defs>\n       <use xlink:href=\"#ArialMT-30\"/>\n      </g>\n     </g>\n    </g>\n    <g id=\"xtick_2\">\n     <g id=\"line2d_2\">\n      <path d=\"M 127.708859 287.901375 \nL 127.708859 21.789375 \n\" clip-path=\"url(#p502b0807d5)\" style=\"fill: none; stroke: #ffffff; stroke-linecap: round\"/>\n     </g>\n     <g id=\"text_2\">\n      <!-- 200 -->\n      <g style=\"fill: #262626\" transform=\"translate(118.533312 305.274969) scale(0.11 -0.11)\">\n       <defs>\n        <path id=\"ArialMT-32\" d=\"M 3222 541 \nL 3222 0 \nL 194 0 \nQ 188 203 259 391 \nQ 375 700 629 1000 \nQ 884 1300 1366 1694 \nQ 2113 2306 2375 2664 \nQ 2638 3022 2638 3341 \nQ 2638 3675 2398 3904 \nQ 2159 4134 1775 4134 \nQ 1369 4134 1125 3890 \nQ 881 3647 878 3216 \nL 300 3275 \nQ 359 3922 746 4261 \nQ 1134 4600 1788 4600 \nQ 2447 4600 2831 4234 \nQ 3216 3869 3216 3328 \nQ 3216 3053 3103 2787 \nQ 2991 2522 2730 2228 \nQ 2469 1934 1863 1422 \nQ 1356 997 1212 845 \nQ 1069 694 975 541 \nL 3222 541 \nz\n\" transform=\"scale(0.015625)\"/>\n       </defs>\n       <use xlink:href=\"#ArialMT-32\"/>\n       <use xlink:href=\"#ArialMT-30\" x=\"55.615234\"/>\n       <use xlink:href=\"#ArialMT-30\" x=\"111.230469\"/>\n      </g>\n     </g>\n    </g>\n    <g id=\"xtick_3\">\n     <g id=\"line2d_3\">\n      <path d=\"M 171.025009 287.901375 \nL 171.025009 21.789375 \n\" clip-path=\"url(#p502b0807d5)\" style=\"fill: none; stroke: #ffffff; stroke-linecap: round\"/>\n     </g>\n     <g id=\"text_3\">\n      <!-- 400 -->\n      <g style=\"fill: #262626\" transform=\"translate(161.849462 305.274969) scale(0.11 -0.11)\">\n       <defs>\n        <path id=\"ArialMT-34\" d=\"M 2069 0 \nL 2069 1097 \nL 81 1097 \nL 81 1613 \nL 2172 4581 \nL 2631 4581 \nL 2631 1613 \nL 3250 1613 \nL 3250 1097 \nL 2631 1097 \nL 2631 0 \nL 2069 0 \nz\nM 2069 1613 \nL 2069 3678 \nL 634 1613 \nL 2069 1613 \nz\n\" transform=\"scale(0.015625)\"/>\n       </defs>\n       <use xlink:href=\"#ArialMT-34\"/>\n       <use xlink:href=\"#ArialMT-30\" x=\"55.615234\"/>\n       <use xlink:href=\"#ArialMT-30\" x=\"111.230469\"/>\n      </g>\n     </g>\n    </g>\n    <g id=\"xtick_4\">\n     <g id=\"line2d_4\">\n      <path d=\"M 214.34116 287.901375 \nL 214.34116 21.789375 \n\" clip-path=\"url(#p502b0807d5)\" style=\"fill: none; stroke: #ffffff; stroke-linecap: round\"/>\n     </g>\n     <g id=\"text_4\">\n      <!-- 600 -->\n      <g style=\"fill: #262626\" transform=\"translate(205.165613 305.274969) scale(0.11 -0.11)\">\n       <defs>\n        <path id=\"ArialMT-36\" d=\"M 3184 3459 \nL 2625 3416 \nQ 2550 3747 2413 3897 \nQ 2184 4138 1850 4138 \nQ 1581 4138 1378 3988 \nQ 1113 3794 959 3422 \nQ 806 3050 800 2363 \nQ 1003 2672 1297 2822 \nQ 1591 2972 1913 2972 \nQ 2475 2972 2870 2558 \nQ 3266 2144 3266 1488 \nQ 3266 1056 3080 686 \nQ 2894 316 2569 119 \nQ 2244 -78 1831 -78 \nQ 1128 -78 684 439 \nQ 241 956 241 2144 \nQ 241 3472 731 4075 \nQ 1159 4600 1884 4600 \nQ 2425 4600 2770 4297 \nQ 3116 3994 3184 3459 \nz\nM 888 1484 \nQ 888 1194 1011 928 \nQ 1134 663 1356 523 \nQ 1578 384 1822 384 \nQ 2178 384 2434 671 \nQ 2691 959 2691 1453 \nQ 2691 1928 2437 2201 \nQ 2184 2475 1800 2475 \nQ 1419 2475 1153 2201 \nQ 888 1928 888 1484 \nz\n\" transform=\"scale(0.015625)\"/>\n       </defs>\n       <use xlink:href=\"#ArialMT-36\"/>\n       <use xlink:href=\"#ArialMT-30\" x=\"55.615234\"/>\n       <use xlink:href=\"#ArialMT-30\" x=\"111.230469\"/>\n      </g>\n     </g>\n    </g>\n    <g id=\"xtick_5\">\n     <g id=\"line2d_5\">\n      <path d=\"M 257.65731 287.901375 \nL 257.65731 21.789375 \n\" clip-path=\"url(#p502b0807d5)\" style=\"fill: none; stroke: #ffffff; stroke-linecap: round\"/>\n     </g>\n     <g id=\"text_5\">\n      <!-- 800 -->\n      <g style=\"fill: #262626\" transform=\"translate(248.481763 305.274969) scale(0.11 -0.11)\">\n       <defs>\n        <path id=\"ArialMT-38\" d=\"M 1131 2484 \nQ 781 2613 612 2850 \nQ 444 3088 444 3419 \nQ 444 3919 803 4259 \nQ 1163 4600 1759 4600 \nQ 2359 4600 2725 4251 \nQ 3091 3903 3091 3403 \nQ 3091 3084 2923 2848 \nQ 2756 2613 2416 2484 \nQ 2838 2347 3058 2040 \nQ 3278 1734 3278 1309 \nQ 3278 722 2862 322 \nQ 2447 -78 1769 -78 \nQ 1091 -78 675 323 \nQ 259 725 259 1325 \nQ 259 1772 486 2073 \nQ 713 2375 1131 2484 \nz\nM 1019 3438 \nQ 1019 3113 1228 2906 \nQ 1438 2700 1772 2700 \nQ 2097 2700 2305 2904 \nQ 2513 3109 2513 3406 \nQ 2513 3716 2298 3927 \nQ 2084 4138 1766 4138 \nQ 1444 4138 1231 3931 \nQ 1019 3725 1019 3438 \nz\nM 838 1322 \nQ 838 1081 952 856 \nQ 1066 631 1291 507 \nQ 1516 384 1775 384 \nQ 2178 384 2440 643 \nQ 2703 903 2703 1303 \nQ 2703 1709 2433 1975 \nQ 2163 2241 1756 2241 \nQ 1359 2241 1098 1978 \nQ 838 1716 838 1322 \nz\n\" transform=\"scale(0.015625)\"/>\n       </defs>\n       <use xlink:href=\"#ArialMT-38\"/>\n       <use xlink:href=\"#ArialMT-30\" x=\"55.615234\"/>\n       <use xlink:href=\"#ArialMT-30\" x=\"111.230469\"/>\n      </g>\n     </g>\n    </g>\n    <g id=\"xtick_6\">\n     <g id=\"line2d_6\">\n      <path d=\"M 300.97346 287.901375 \nL 300.97346 21.789375 \n\" clip-path=\"url(#p502b0807d5)\" style=\"fill: none; stroke: #ffffff; stroke-linecap: round\"/>\n     </g>\n     <g id=\"text_6\">\n      <!-- 1000 -->\n      <g style=\"fill: #262626\" transform=\"translate(288.739397 305.274969) scale(0.11 -0.11)\">\n       <defs>\n        <path id=\"ArialMT-31\" d=\"M 2384 0 \nL 1822 0 \nL 1822 3584 \nQ 1619 3391 1289 3197 \nQ 959 3003 697 2906 \nL 697 3450 \nQ 1169 3672 1522 3987 \nQ 1875 4303 2022 4600 \nL 2384 4600 \nL 2384 0 \nz\n\" transform=\"scale(0.015625)\"/>\n       </defs>\n       <use xlink:href=\"#ArialMT-31\"/>\n       <use xlink:href=\"#ArialMT-30\" x=\"55.615234\"/>\n       <use xlink:href=\"#ArialMT-30\" x=\"111.230469\"/>\n       <use xlink:href=\"#ArialMT-30\" x=\"166.845703\"/>\n      </g>\n     </g>\n    </g>\n    <g id=\"xtick_7\">\n     <g id=\"line2d_7\">\n      <path d=\"M 344.28961 287.901375 \nL 344.28961 21.789375 \n\" clip-path=\"url(#p502b0807d5)\" style=\"fill: none; stroke: #ffffff; stroke-linecap: round\"/>\n     </g>\n     <g id=\"text_7\">\n      <!-- 1200 -->\n      <g style=\"fill: #262626\" transform=\"translate(332.055547 305.274969) scale(0.11 -0.11)\">\n       <use xlink:href=\"#ArialMT-31\"/>\n       <use xlink:href=\"#ArialMT-32\" x=\"55.615234\"/>\n       <use xlink:href=\"#ArialMT-30\" x=\"111.230469\"/>\n       <use xlink:href=\"#ArialMT-30\" x=\"166.845703\"/>\n      </g>\n     </g>\n    </g>\n    <g id=\"xtick_8\">\n     <g id=\"line2d_8\">\n      <path d=\"M 387.60576 287.901375 \nL 387.60576 21.789375 \n\" clip-path=\"url(#p502b0807d5)\" style=\"fill: none; stroke: #ffffff; stroke-linecap: round\"/>\n     </g>\n     <g id=\"text_8\">\n      <!-- 1400 -->\n      <g style=\"fill: #262626\" transform=\"translate(375.371698 305.274969) scale(0.11 -0.11)\">\n       <use xlink:href=\"#ArialMT-31\"/>\n       <use xlink:href=\"#ArialMT-34\" x=\"55.615234\"/>\n       <use xlink:href=\"#ArialMT-30\" x=\"111.230469\"/>\n       <use xlink:href=\"#ArialMT-30\" x=\"166.845703\"/>\n      </g>\n     </g>\n    </g>\n    <g id=\"text_9\">\n     <!-- Amount of trees in ensemble -->\n     <g style=\"fill: #262626\" transform=\"translate(170.567813 320.050594) scale(0.12 -0.12)\">\n      <defs>\n       <path id=\"ArialMT-41\" d=\"M -9 0 \nL 1750 4581 \nL 2403 4581 \nL 4278 0 \nL 3588 0 \nL 3053 1388 \nL 1138 1388 \nL 634 0 \nL -9 0 \nz\nM 1313 1881 \nL 2866 1881 \nL 2388 3150 \nQ 2169 3728 2063 4100 \nQ 1975 3659 1816 3225 \nL 1313 1881 \nz\n\" transform=\"scale(0.015625)\"/>\n       <path id=\"ArialMT-6d\" d=\"M 422 0 \nL 422 3319 \nL 925 3319 \nL 925 2853 \nQ 1081 3097 1340 3245 \nQ 1600 3394 1931 3394 \nQ 2300 3394 2536 3241 \nQ 2772 3088 2869 2813 \nQ 3263 3394 3894 3394 \nQ 4388 3394 4653 3120 \nQ 4919 2847 4919 2278 \nL 4919 0 \nL 4359 0 \nL 4359 2091 \nQ 4359 2428 4304 2576 \nQ 4250 2725 4106 2815 \nQ 3963 2906 3769 2906 \nQ 3419 2906 3187 2673 \nQ 2956 2441 2956 1928 \nL 2956 0 \nL 2394 0 \nL 2394 2156 \nQ 2394 2531 2256 2718 \nQ 2119 2906 1806 2906 \nQ 1569 2906 1367 2781 \nQ 1166 2656 1075 2415 \nQ 984 2175 984 1722 \nL 984 0 \nL 422 0 \nz\n\" transform=\"scale(0.015625)\"/>\n       <path id=\"ArialMT-6f\" d=\"M 213 1659 \nQ 213 2581 725 3025 \nQ 1153 3394 1769 3394 \nQ 2453 3394 2887 2945 \nQ 3322 2497 3322 1706 \nQ 3322 1066 3130 698 \nQ 2938 331 2570 128 \nQ 2203 -75 1769 -75 \nQ 1072 -75 642 372 \nQ 213 819 213 1659 \nz\nM 791 1659 \nQ 791 1022 1069 705 \nQ 1347 388 1769 388 \nQ 2188 388 2466 706 \nQ 2744 1025 2744 1678 \nQ 2744 2294 2464 2611 \nQ 2184 2928 1769 2928 \nQ 1347 2928 1069 2612 \nQ 791 2297 791 1659 \nz\n\" transform=\"scale(0.015625)\"/>\n       <path id=\"ArialMT-75\" d=\"M 2597 0 \nL 2597 488 \nQ 2209 -75 1544 -75 \nQ 1250 -75 995 37 \nQ 741 150 617 320 \nQ 494 491 444 738 \nQ 409 903 409 1263 \nL 409 3319 \nL 972 3319 \nL 972 1478 \nQ 972 1038 1006 884 \nQ 1059 663 1231 536 \nQ 1403 409 1656 409 \nQ 1909 409 2131 539 \nQ 2353 669 2445 892 \nQ 2538 1116 2538 1541 \nL 2538 3319 \nL 3100 3319 \nL 3100 0 \nL 2597 0 \nz\n\" transform=\"scale(0.015625)\"/>\n       <path id=\"ArialMT-6e\" d=\"M 422 0 \nL 422 3319 \nL 928 3319 \nL 928 2847 \nQ 1294 3394 1984 3394 \nQ 2284 3394 2536 3286 \nQ 2788 3178 2913 3003 \nQ 3038 2828 3088 2588 \nQ 3119 2431 3119 2041 \nL 3119 0 \nL 2556 0 \nL 2556 2019 \nQ 2556 2363 2490 2533 \nQ 2425 2703 2258 2804 \nQ 2091 2906 1866 2906 \nQ 1506 2906 1245 2678 \nQ 984 2450 984 1813 \nL 984 0 \nL 422 0 \nz\n\" transform=\"scale(0.015625)\"/>\n       <path id=\"ArialMT-74\" d=\"M 1650 503 \nL 1731 6 \nQ 1494 -44 1306 -44 \nQ 1000 -44 831 53 \nQ 663 150 594 308 \nQ 525 466 525 972 \nL 525 2881 \nL 113 2881 \nL 113 3319 \nL 525 3319 \nL 525 4141 \nL 1084 4478 \nL 1084 3319 \nL 1650 3319 \nL 1650 2881 \nL 1084 2881 \nL 1084 941 \nQ 1084 700 1114 631 \nQ 1144 563 1211 522 \nQ 1278 481 1403 481 \nQ 1497 481 1650 503 \nz\n\" transform=\"scale(0.015625)\"/>\n       <path id=\"ArialMT-20\" transform=\"scale(0.015625)\"/>\n       <path id=\"ArialMT-66\" d=\"M 556 0 \nL 556 2881 \nL 59 2881 \nL 59 3319 \nL 556 3319 \nL 556 3672 \nQ 556 4006 616 4169 \nQ 697 4388 901 4523 \nQ 1106 4659 1475 4659 \nQ 1713 4659 2000 4603 \nL 1916 4113 \nQ 1741 4144 1584 4144 \nQ 1328 4144 1222 4034 \nQ 1116 3925 1116 3625 \nL 1116 3319 \nL 1763 3319 \nL 1763 2881 \nL 1116 2881 \nL 1116 0 \nL 556 0 \nz\n\" transform=\"scale(0.015625)\"/>\n       <path id=\"ArialMT-72\" d=\"M 416 0 \nL 416 3319 \nL 922 3319 \nL 922 2816 \nQ 1116 3169 1280 3281 \nQ 1444 3394 1641 3394 \nQ 1925 3394 2219 3213 \nL 2025 2691 \nQ 1819 2813 1613 2813 \nQ 1428 2813 1281 2702 \nQ 1134 2591 1072 2394 \nQ 978 2094 978 1738 \nL 978 0 \nL 416 0 \nz\n\" transform=\"scale(0.015625)\"/>\n       <path id=\"ArialMT-65\" d=\"M 2694 1069 \nL 3275 997 \nQ 3138 488 2766 206 \nQ 2394 -75 1816 -75 \nQ 1088 -75 661 373 \nQ 234 822 234 1631 \nQ 234 2469 665 2931 \nQ 1097 3394 1784 3394 \nQ 2450 3394 2872 2941 \nQ 3294 2488 3294 1666 \nQ 3294 1616 3291 1516 \nL 816 1516 \nQ 847 969 1125 678 \nQ 1403 388 1819 388 \nQ 2128 388 2347 550 \nQ 2566 713 2694 1069 \nz\nM 847 1978 \nL 2700 1978 \nQ 2663 2397 2488 2606 \nQ 2219 2931 1791 2931 \nQ 1403 2931 1139 2672 \nQ 875 2413 847 1978 \nz\n\" transform=\"scale(0.015625)\"/>\n       <path id=\"ArialMT-73\" d=\"M 197 991 \nL 753 1078 \nQ 800 744 1014 566 \nQ 1228 388 1613 388 \nQ 2000 388 2187 545 \nQ 2375 703 2375 916 \nQ 2375 1106 2209 1216 \nQ 2094 1291 1634 1406 \nQ 1016 1563 777 1677 \nQ 538 1791 414 1992 \nQ 291 2194 291 2438 \nQ 291 2659 392 2848 \nQ 494 3038 669 3163 \nQ 800 3259 1026 3326 \nQ 1253 3394 1513 3394 \nQ 1903 3394 2198 3281 \nQ 2494 3169 2634 2976 \nQ 2775 2784 2828 2463 \nL 2278 2388 \nQ 2241 2644 2061 2787 \nQ 1881 2931 1553 2931 \nQ 1166 2931 1000 2803 \nQ 834 2675 834 2503 \nQ 834 2394 903 2306 \nQ 972 2216 1119 2156 \nQ 1203 2125 1616 2013 \nQ 2213 1853 2448 1751 \nQ 2684 1650 2818 1456 \nQ 2953 1263 2953 975 \nQ 2953 694 2789 445 \nQ 2625 197 2315 61 \nQ 2006 -75 1616 -75 \nQ 969 -75 630 194 \nQ 291 463 197 991 \nz\n\" transform=\"scale(0.015625)\"/>\n       <path id=\"ArialMT-69\" d=\"M 425 3934 \nL 425 4581 \nL 988 4581 \nL 988 3934 \nL 425 3934 \nz\nM 425 0 \nL 425 3319 \nL 988 3319 \nL 988 0 \nL 425 0 \nz\n\" transform=\"scale(0.015625)\"/>\n       <path id=\"ArialMT-62\" d=\"M 941 0 \nL 419 0 \nL 419 4581 \nL 981 4581 \nL 981 2947 \nQ 1338 3394 1891 3394 \nQ 2197 3394 2470 3270 \nQ 2744 3147 2920 2923 \nQ 3097 2700 3197 2384 \nQ 3297 2069 3297 1709 \nQ 3297 856 2875 390 \nQ 2453 -75 1863 -75 \nQ 1275 -75 941 416 \nL 941 0 \nz\nM 934 1684 \nQ 934 1088 1097 822 \nQ 1363 388 1816 388 \nQ 2184 388 2453 708 \nQ 2722 1028 2722 1663 \nQ 2722 2313 2464 2622 \nQ 2206 2931 1841 2931 \nQ 1472 2931 1203 2611 \nQ 934 2291 934 1684 \nz\n\" transform=\"scale(0.015625)\"/>\n       <path id=\"ArialMT-6c\" d=\"M 409 0 \nL 409 4581 \nL 972 4581 \nL 972 0 \nL 409 0 \nz\n\" transform=\"scale(0.015625)\"/>\n      </defs>\n      <use xlink:href=\"#ArialMT-41\"/>\n      <use xlink:href=\"#ArialMT-6d\" x=\"66.699219\"/>\n      <use xlink:href=\"#ArialMT-6f\" x=\"150\"/>\n      <use xlink:href=\"#ArialMT-75\" x=\"205.615234\"/>\n      <use xlink:href=\"#ArialMT-6e\" x=\"261.230469\"/>\n      <use xlink:href=\"#ArialMT-74\" x=\"316.845703\"/>\n      <use xlink:href=\"#ArialMT-20\" x=\"344.628906\"/>\n      <use xlink:href=\"#ArialMT-6f\" x=\"372.412109\"/>\n      <use xlink:href=\"#ArialMT-66\" x=\"428.027344\"/>\n      <use xlink:href=\"#ArialMT-20\" x=\"455.810547\"/>\n      <use xlink:href=\"#ArialMT-74\" x=\"483.59375\"/>\n      <use xlink:href=\"#ArialMT-72\" x=\"511.376953\"/>\n      <use xlink:href=\"#ArialMT-65\" x=\"544.677734\"/>\n      <use xlink:href=\"#ArialMT-65\" x=\"600.292969\"/>\n      <use xlink:href=\"#ArialMT-73\" x=\"655.908203\"/>\n      <use xlink:href=\"#ArialMT-20\" x=\"705.908203\"/>\n      <use xlink:href=\"#ArialMT-69\" x=\"733.691406\"/>\n      <use xlink:href=\"#ArialMT-6e\" x=\"755.908203\"/>\n      <use xlink:href=\"#ArialMT-20\" x=\"811.523438\"/>\n      <use xlink:href=\"#ArialMT-65\" x=\"839.306641\"/>\n      <use xlink:href=\"#ArialMT-6e\" x=\"894.921875\"/>\n      <use xlink:href=\"#ArialMT-73\" x=\"950.537109\"/>\n      <use xlink:href=\"#ArialMT-65\" x=\"1000.537109\"/>\n      <use xlink:href=\"#ArialMT-6d\" x=\"1056.152344\"/>\n      <use xlink:href=\"#ArialMT-62\" x=\"1139.453125\"/>\n      <use xlink:href=\"#ArialMT-6c\" x=\"1195.068359\"/>\n      <use xlink:href=\"#ArialMT-65\" x=\"1217.285156\"/>\n     </g>\n    </g>\n   </g>\n   <g id=\"matplotlib.axis_2\">\n    <g id=\"ytick_1\">\n     <g id=\"line2d_9\">\n      <path d=\"M 68.376563 239.069773 \nL 425.496562 239.069773 \n\" clip-path=\"url(#p502b0807d5)\" style=\"fill: none; stroke: #ffffff; stroke-linecap: round\"/>\n     </g>\n     <g id=\"line2d_10\">\n      <defs>\n       <path id=\"m8249f8e24d\" d=\"M 0 0 \nL -6 0 \n\" style=\"stroke: #f77189; stroke-width: 1.25\"/>\n      </defs>\n      <g>\n       <use xlink:href=\"#m8249f8e24d\" x=\"68.376563\" y=\"239.069773\" style=\"fill: #f77189; stroke: #f77189; stroke-width: 1.25\"/>\n      </g>\n     </g>\n     <g id=\"text_10\">\n      <!-- 160000 -->\n      <g style=\"fill: #f77189\" transform=\"translate(22.174375 243.00657) scale(0.11 -0.11)\">\n       <use xlink:href=\"#ArialMT-31\"/>\n       <use xlink:href=\"#ArialMT-36\" x=\"55.615234\"/>\n       <use xlink:href=\"#ArialMT-30\" x=\"111.230469\"/>\n       <use xlink:href=\"#ArialMT-30\" x=\"166.845703\"/>\n       <use xlink:href=\"#ArialMT-30\" x=\"222.460938\"/>\n       <use xlink:href=\"#ArialMT-30\" x=\"278.076172\"/>\n      </g>\n     </g>\n    </g>\n    <g id=\"ytick_2\">\n     <g id=\"line2d_11\">\n      <path d=\"M 68.376563 182.213091 \nL 425.496562 182.213091 \n\" clip-path=\"url(#p502b0807d5)\" style=\"fill: none; stroke: #ffffff; stroke-linecap: round\"/>\n     </g>\n     <g id=\"line2d_12\">\n      <g>\n       <use xlink:href=\"#m8249f8e24d\" x=\"68.376563\" y=\"182.213091\" style=\"fill: #f77189; stroke: #f77189; stroke-width: 1.25\"/>\n      </g>\n     </g>\n     <g id=\"text_11\">\n      <!-- 180000 -->\n      <g style=\"fill: #f77189\" transform=\"translate(22.174375 186.149887) scale(0.11 -0.11)\">\n       <use xlink:href=\"#ArialMT-31\"/>\n       <use xlink:href=\"#ArialMT-38\" x=\"55.615234\"/>\n       <use xlink:href=\"#ArialMT-30\" x=\"111.230469\"/>\n       <use xlink:href=\"#ArialMT-30\" x=\"166.845703\"/>\n       <use xlink:href=\"#ArialMT-30\" x=\"222.460938\"/>\n       <use xlink:href=\"#ArialMT-30\" x=\"278.076172\"/>\n      </g>\n     </g>\n    </g>\n    <g id=\"ytick_3\">\n     <g id=\"line2d_13\">\n      <path d=\"M 68.376563 125.356408 \nL 425.496562 125.356408 \n\" clip-path=\"url(#p502b0807d5)\" style=\"fill: none; stroke: #ffffff; stroke-linecap: round\"/>\n     </g>\n     <g id=\"line2d_14\">\n      <g>\n       <use xlink:href=\"#m8249f8e24d\" x=\"68.376563\" y=\"125.356408\" style=\"fill: #f77189; stroke: #f77189; stroke-width: 1.25\"/>\n      </g>\n     </g>\n     <g id=\"text_12\">\n      <!-- 200000 -->\n      <g style=\"fill: #f77189\" transform=\"translate(22.174375 129.293205) scale(0.11 -0.11)\">\n       <use xlink:href=\"#ArialMT-32\"/>\n       <use xlink:href=\"#ArialMT-30\" x=\"55.615234\"/>\n       <use xlink:href=\"#ArialMT-30\" x=\"111.230469\"/>\n       <use xlink:href=\"#ArialMT-30\" x=\"166.845703\"/>\n       <use xlink:href=\"#ArialMT-30\" x=\"222.460938\"/>\n       <use xlink:href=\"#ArialMT-30\" x=\"278.076172\"/>\n      </g>\n     </g>\n    </g>\n    <g id=\"ytick_4\">\n     <g id=\"line2d_15\">\n      <path d=\"M 68.376563 68.499725 \nL 425.496562 68.499725 \n\" clip-path=\"url(#p502b0807d5)\" style=\"fill: none; stroke: #ffffff; stroke-linecap: round\"/>\n     </g>\n     <g id=\"line2d_16\">\n      <g>\n       <use xlink:href=\"#m8249f8e24d\" x=\"68.376563\" y=\"68.499725\" style=\"fill: #f77189; stroke: #f77189; stroke-width: 1.25\"/>\n      </g>\n     </g>\n     <g id=\"text_13\">\n      <!-- 220000 -->\n      <g style=\"fill: #f77189\" transform=\"translate(22.174375 72.436522) scale(0.11 -0.11)\">\n       <use xlink:href=\"#ArialMT-32\"/>\n       <use xlink:href=\"#ArialMT-32\" x=\"55.615234\"/>\n       <use xlink:href=\"#ArialMT-30\" x=\"111.230469\"/>\n       <use xlink:href=\"#ArialMT-30\" x=\"166.845703\"/>\n       <use xlink:href=\"#ArialMT-30\" x=\"222.460938\"/>\n       <use xlink:href=\"#ArialMT-30\" x=\"278.076172\"/>\n      </g>\n     </g>\n    </g>\n    <g id=\"text_14\">\n     <!-- RMSE -->\n     <g style=\"fill: #f77189\" transform=\"translate(15.789375 172.180687) rotate(-90) scale(0.12 -0.12)\">\n      <defs>\n       <path id=\"ArialMT-52\" d=\"M 503 0 \nL 503 4581 \nL 2534 4581 \nQ 3147 4581 3465 4457 \nQ 3784 4334 3975 4021 \nQ 4166 3709 4166 3331 \nQ 4166 2844 3850 2509 \nQ 3534 2175 2875 2084 \nQ 3116 1969 3241 1856 \nQ 3506 1613 3744 1247 \nL 4541 0 \nL 3778 0 \nL 3172 953 \nQ 2906 1366 2734 1584 \nQ 2563 1803 2427 1890 \nQ 2291 1978 2150 2013 \nQ 2047 2034 1813 2034 \nL 1109 2034 \nL 1109 0 \nL 503 0 \nz\nM 1109 2559 \nL 2413 2559 \nQ 2828 2559 3062 2645 \nQ 3297 2731 3419 2920 \nQ 3541 3109 3541 3331 \nQ 3541 3656 3305 3865 \nQ 3069 4075 2559 4075 \nL 1109 4075 \nL 1109 2559 \nz\n\" transform=\"scale(0.015625)\"/>\n       <path id=\"ArialMT-4d\" d=\"M 475 0 \nL 475 4581 \nL 1388 4581 \nL 2472 1338 \nQ 2622 884 2691 659 \nQ 2769 909 2934 1394 \nL 4031 4581 \nL 4847 4581 \nL 4847 0 \nL 4263 0 \nL 4263 3834 \nL 2931 0 \nL 2384 0 \nL 1059 3900 \nL 1059 0 \nL 475 0 \nz\n\" transform=\"scale(0.015625)\"/>\n       <path id=\"ArialMT-53\" d=\"M 288 1472 \nL 859 1522 \nQ 900 1178 1048 958 \nQ 1197 738 1509 602 \nQ 1822 466 2213 466 \nQ 2559 466 2825 569 \nQ 3091 672 3220 851 \nQ 3350 1031 3350 1244 \nQ 3350 1459 3225 1620 \nQ 3100 1781 2813 1891 \nQ 2628 1963 1997 2114 \nQ 1366 2266 1113 2400 \nQ 784 2572 623 2826 \nQ 463 3081 463 3397 \nQ 463 3744 659 4045 \nQ 856 4347 1234 4503 \nQ 1613 4659 2075 4659 \nQ 2584 4659 2973 4495 \nQ 3363 4331 3572 4012 \nQ 3781 3694 3797 3291 \nL 3216 3247 \nQ 3169 3681 2898 3903 \nQ 2628 4125 2100 4125 \nQ 1550 4125 1298 3923 \nQ 1047 3722 1047 3438 \nQ 1047 3191 1225 3031 \nQ 1400 2872 2139 2705 \nQ 2878 2538 3153 2413 \nQ 3553 2228 3743 1945 \nQ 3934 1663 3934 1294 \nQ 3934 928 3725 604 \nQ 3516 281 3123 101 \nQ 2731 -78 2241 -78 \nQ 1619 -78 1198 103 \nQ 778 284 539 648 \nQ 300 1013 288 1472 \nz\n\" transform=\"scale(0.015625)\"/>\n       <path id=\"ArialMT-45\" d=\"M 506 0 \nL 506 4581 \nL 3819 4581 \nL 3819 4041 \nL 1113 4041 \nL 1113 2638 \nL 3647 2638 \nL 3647 2100 \nL 1113 2100 \nL 1113 541 \nL 3925 541 \nL 3925 0 \nL 506 0 \nz\n\" transform=\"scale(0.015625)\"/>\n      </defs>\n      <use xlink:href=\"#ArialMT-52\"/>\n      <use xlink:href=\"#ArialMT-4d\" x=\"72.216797\"/>\n      <use xlink:href=\"#ArialMT-53\" x=\"155.517578\"/>\n      <use xlink:href=\"#ArialMT-45\" x=\"222.216797\"/>\n     </g>\n    </g>\n   </g>\n   <g id=\"PolyCollection_1\"/>\n   <g id=\"line2d_17\">\n    <path d=\"M 84.60929 33.885375 \nL 85.475613 212.826206 \nL 86.558517 243.366596 \nL 106.050784 268.651058 \nL 127.708859 275.361985 \nL 149.366934 275.805375 \nL 171.025009 273.007532 \nL 192.683084 271.122263 \nL 214.34116 274.016032 \nL 235.999235 272.138473 \nL 300.97346 273.9578 \nL 409.263835 273.60324 \n\" clip-path=\"url(#p502b0807d5)\" style=\"fill: none; stroke: #f77189; stroke-width: 1.5; stroke-linecap: round\"/>\n   </g>\n   <g id=\"patch_3\">\n    <path d=\"M 68.376563 287.901375 \nL 68.376563 21.789375 \n\" style=\"fill: none; stroke: #ffffff; stroke-width: 1.25; stroke-linejoin: miter; stroke-linecap: square\"/>\n   </g>\n   <g id=\"patch_4\">\n    <path d=\"M 425.496562 287.901375 \nL 425.496562 21.789375 \n\" style=\"fill: none; stroke: #ffffff; stroke-width: 1.25; stroke-linejoin: miter; stroke-linecap: square\"/>\n   </g>\n   <g id=\"patch_5\">\n    <path d=\"M 68.376563 287.901375 \nL 425.496562 287.901375 \n\" style=\"fill: none; stroke: #ffffff; stroke-width: 1.25; stroke-linejoin: miter; stroke-linecap: square\"/>\n   </g>\n   <g id=\"patch_6\">\n    <path d=\"M 68.376563 21.789375 \nL 425.496562 21.789375 \n\" style=\"fill: none; stroke: #ffffff; stroke-width: 1.25; stroke-linejoin: miter; stroke-linecap: square\"/>\n   </g>\n  </g>\n  <g id=\"axes_2\">\n   <g id=\"matplotlib.axis_3\">\n    <g id=\"ytick_5\">\n     <g id=\"line2d_18\">\n      <defs>\n       <path id=\"m6a1cb59d7d\" d=\"M 0 0 \nL 6 0 \n\" style=\"stroke: #3ba3ec; stroke-width: 1.25\"/>\n      </defs>\n      <g>\n       <use xlink:href=\"#m6a1cb59d7d\" x=\"425.496562\" y=\"275.979735\" style=\"fill: #3ba3ec; stroke: #3ba3ec; stroke-width: 1.25\"/>\n      </g>\n     </g>\n     <g id=\"text_15\">\n      <!-- 0 -->\n      <g style=\"fill: #3ba3ec\" transform=\"translate(434.996562 279.916532) scale(0.11 -0.11)\">\n       <use xlink:href=\"#ArialMT-30\"/>\n      </g>\n     </g>\n    </g>\n    <g id=\"ytick_6\">\n     <g id=\"line2d_19\">\n      <g>\n       <use xlink:href=\"#m6a1cb59d7d\" x=\"425.496562\" y=\"243.842\" style=\"fill: #3ba3ec; stroke: #3ba3ec; stroke-width: 1.25\"/>\n      </g>\n     </g>\n     <g id=\"text_16\">\n      <!-- 10 -->\n      <g style=\"fill: #3ba3ec\" transform=\"translate(434.996562 247.778797) scale(0.11 -0.11)\">\n       <use xlink:href=\"#ArialMT-31\"/>\n       <use xlink:href=\"#ArialMT-30\" x=\"55.615234\"/>\n      </g>\n     </g>\n    </g>\n    <g id=\"ytick_7\">\n     <g id=\"line2d_20\">\n      <g>\n       <use xlink:href=\"#m6a1cb59d7d\" x=\"425.496562\" y=\"211.704266\" style=\"fill: #3ba3ec; stroke: #3ba3ec; stroke-width: 1.25\"/>\n      </g>\n     </g>\n     <g id=\"text_17\">\n      <!-- 20 -->\n      <g style=\"fill: #3ba3ec\" transform=\"translate(434.996562 215.641062) scale(0.11 -0.11)\">\n       <use xlink:href=\"#ArialMT-32\"/>\n       <use xlink:href=\"#ArialMT-30\" x=\"55.615234\"/>\n      </g>\n     </g>\n    </g>\n    <g id=\"ytick_8\">\n     <g id=\"line2d_21\">\n      <g>\n       <use xlink:href=\"#m6a1cb59d7d\" x=\"425.496562\" y=\"179.566531\" style=\"fill: #3ba3ec; stroke: #3ba3ec; stroke-width: 1.25\"/>\n      </g>\n     </g>\n     <g id=\"text_18\">\n      <!-- 30 -->\n      <g style=\"fill: #3ba3ec\" transform=\"translate(434.996562 183.503328) scale(0.11 -0.11)\">\n       <defs>\n        <path id=\"ArialMT-33\" d=\"M 269 1209 \nL 831 1284 \nQ 928 806 1161 595 \nQ 1394 384 1728 384 \nQ 2125 384 2398 659 \nQ 2672 934 2672 1341 \nQ 2672 1728 2419 1979 \nQ 2166 2231 1775 2231 \nQ 1616 2231 1378 2169 \nL 1441 2663 \nQ 1497 2656 1531 2656 \nQ 1891 2656 2178 2843 \nQ 2466 3031 2466 3422 \nQ 2466 3731 2256 3934 \nQ 2047 4138 1716 4138 \nQ 1388 4138 1169 3931 \nQ 950 3725 888 3313 \nL 325 3413 \nQ 428 3978 793 4289 \nQ 1159 4600 1703 4600 \nQ 2078 4600 2393 4439 \nQ 2709 4278 2876 4000 \nQ 3044 3722 3044 3409 \nQ 3044 3113 2884 2869 \nQ 2725 2625 2413 2481 \nQ 2819 2388 3044 2092 \nQ 3269 1797 3269 1353 \nQ 3269 753 2831 336 \nQ 2394 -81 1725 -81 \nQ 1122 -81 723 278 \nQ 325 638 269 1209 \nz\n\" transform=\"scale(0.015625)\"/>\n       </defs>\n       <use xlink:href=\"#ArialMT-33\"/>\n       <use xlink:href=\"#ArialMT-30\" x=\"55.615234\"/>\n      </g>\n     </g>\n    </g>\n    <g id=\"ytick_9\">\n     <g id=\"line2d_22\">\n      <g>\n       <use xlink:href=\"#m6a1cb59d7d\" x=\"425.496562\" y=\"147.428796\" style=\"fill: #3ba3ec; stroke: #3ba3ec; stroke-width: 1.25\"/>\n      </g>\n     </g>\n     <g id=\"text_19\">\n      <!-- 40 -->\n      <g style=\"fill: #3ba3ec\" transform=\"translate(434.996562 151.365593) scale(0.11 -0.11)\">\n       <use xlink:href=\"#ArialMT-34\"/>\n       <use xlink:href=\"#ArialMT-30\" x=\"55.615234\"/>\n      </g>\n     </g>\n    </g>\n    <g id=\"ytick_10\">\n     <g id=\"line2d_23\">\n      <g>\n       <use xlink:href=\"#m6a1cb59d7d\" x=\"425.496562\" y=\"115.291061\" style=\"fill: #3ba3ec; stroke: #3ba3ec; stroke-width: 1.25\"/>\n      </g>\n     </g>\n     <g id=\"text_20\">\n      <!-- 50 -->\n      <g style=\"fill: #3ba3ec\" transform=\"translate(434.996562 119.227858) scale(0.11 -0.11)\">\n       <defs>\n        <path id=\"ArialMT-35\" d=\"M 266 1200 \nL 856 1250 \nQ 922 819 1161 601 \nQ 1400 384 1738 384 \nQ 2144 384 2425 690 \nQ 2706 997 2706 1503 \nQ 2706 1984 2436 2262 \nQ 2166 2541 1728 2541 \nQ 1456 2541 1237 2417 \nQ 1019 2294 894 2097 \nL 366 2166 \nL 809 4519 \nL 3088 4519 \nL 3088 3981 \nL 1259 3981 \nL 1013 2750 \nQ 1425 3038 1878 3038 \nQ 2478 3038 2890 2622 \nQ 3303 2206 3303 1553 \nQ 3303 931 2941 478 \nQ 2500 -78 1738 -78 \nQ 1113 -78 717 272 \nQ 322 622 266 1200 \nz\n\" transform=\"scale(0.015625)\"/>\n       </defs>\n       <use xlink:href=\"#ArialMT-35\"/>\n       <use xlink:href=\"#ArialMT-30\" x=\"55.615234\"/>\n      </g>\n     </g>\n    </g>\n    <g id=\"ytick_11\">\n     <g id=\"line2d_24\">\n      <g>\n       <use xlink:href=\"#m6a1cb59d7d\" x=\"425.496562\" y=\"83.153326\" style=\"fill: #3ba3ec; stroke: #3ba3ec; stroke-width: 1.25\"/>\n      </g>\n     </g>\n     <g id=\"text_21\">\n      <!-- 60 -->\n      <g style=\"fill: #3ba3ec\" transform=\"translate(434.996562 87.090123) scale(0.11 -0.11)\">\n       <use xlink:href=\"#ArialMT-36\"/>\n       <use xlink:href=\"#ArialMT-30\" x=\"55.615234\"/>\n      </g>\n     </g>\n    </g>\n    <g id=\"ytick_12\">\n     <g id=\"line2d_25\">\n      <g>\n       <use xlink:href=\"#m6a1cb59d7d\" x=\"425.496562\" y=\"51.015591\" style=\"fill: #3ba3ec; stroke: #3ba3ec; stroke-width: 1.25\"/>\n      </g>\n     </g>\n     <g id=\"text_22\">\n      <!-- 70 -->\n      <g style=\"fill: #3ba3ec\" transform=\"translate(434.996562 54.952388) scale(0.11 -0.11)\">\n       <defs>\n        <path id=\"ArialMT-37\" d=\"M 303 3981 \nL 303 4522 \nL 3269 4522 \nL 3269 4084 \nQ 2831 3619 2401 2847 \nQ 1972 2075 1738 1259 \nQ 1569 684 1522 0 \nL 944 0 \nQ 953 541 1156 1306 \nQ 1359 2072 1739 2783 \nQ 2119 3494 2547 3981 \nL 303 3981 \nz\n\" transform=\"scale(0.015625)\"/>\n       </defs>\n       <use xlink:href=\"#ArialMT-37\"/>\n       <use xlink:href=\"#ArialMT-30\" x=\"55.615234\"/>\n      </g>\n     </g>\n    </g>\n    <g id=\"text_23\">\n     <!-- Time (s) -->\n     <g style=\"fill: #3ba3ec\" transform=\"translate(459.96625 176.615062) rotate(-90) scale(0.12 -0.12)\">\n      <defs>\n       <path id=\"ArialMT-54\" d=\"M 1659 0 \nL 1659 4041 \nL 150 4041 \nL 150 4581 \nL 3781 4581 \nL 3781 4041 \nL 2266 4041 \nL 2266 0 \nL 1659 0 \nz\n\" transform=\"scale(0.015625)\"/>\n       <path id=\"ArialMT-28\" d=\"M 1497 -1347 \nQ 1031 -759 709 28 \nQ 388 816 388 1659 \nQ 388 2403 628 3084 \nQ 909 3875 1497 4659 \nL 1900 4659 \nQ 1522 4009 1400 3731 \nQ 1209 3300 1100 2831 \nQ 966 2247 966 1656 \nQ 966 153 1900 -1347 \nL 1497 -1347 \nz\n\" transform=\"scale(0.015625)\"/>\n       <path id=\"ArialMT-29\" d=\"M 791 -1347 \nL 388 -1347 \nQ 1322 153 1322 1656 \nQ 1322 2244 1188 2822 \nQ 1081 3291 891 3722 \nQ 769 4003 388 4659 \nL 791 4659 \nQ 1378 3875 1659 3084 \nQ 1900 2403 1900 1659 \nQ 1900 816 1576 28 \nQ 1253 -759 791 -1347 \nz\n\" transform=\"scale(0.015625)\"/>\n      </defs>\n      <use xlink:href=\"#ArialMT-54\"/>\n      <use xlink:href=\"#ArialMT-69\" x=\"57.333984\"/>\n      <use xlink:href=\"#ArialMT-6d\" x=\"79.550781\"/>\n      <use xlink:href=\"#ArialMT-65\" x=\"162.851562\"/>\n      <use xlink:href=\"#ArialMT-20\" x=\"218.466797\"/>\n      <use xlink:href=\"#ArialMT-28\" x=\"246.25\"/>\n      <use xlink:href=\"#ArialMT-73\" x=\"279.550781\"/>\n      <use xlink:href=\"#ArialMT-29\" x=\"329.550781\"/>\n     </g>\n    </g>\n   </g>\n   <g id=\"PolyCollection_2\"/>\n   <g id=\"line2d_26\">\n    <path d=\"M 84.60929 275.805375 \nL 85.475613 275.1501 \nL 86.558517 274.335318 \nL 106.050784 259.251196 \nL 127.708859 243.73757 \nL 149.366934 227.861939 \nL 171.025009 211.820984 \nL 192.683084 196.110764 \nL 214.34116 179.765518 \nL 235.999235 161.928885 \nL 300.97346 115.316372 \nL 409.263835 33.885375 \n\" clip-path=\"url(#p502b0807d5)\" style=\"fill: none; stroke: #3ba3ec; stroke-width: 1.5; stroke-linecap: round\"/>\n   </g>\n   <g id=\"patch_7\">\n    <path d=\"M 68.376563 287.901375 \nL 68.376563 21.789375 \n\" style=\"fill: none; stroke: #f77189; stroke-width: 1.25; stroke-linejoin: miter; stroke-linecap: square\"/>\n   </g>\n   <g id=\"patch_8\">\n    <path d=\"M 425.496562 287.901375 \nL 425.496562 21.789375 \n\" style=\"fill: none; stroke: #3ba3ec; stroke-width: 1.25; stroke-linejoin: miter; stroke-linecap: square\"/>\n   </g>\n   <g id=\"patch_9\">\n    <path d=\"M 68.376563 287.901375 \nL 425.496562 287.901375 \n\" style=\"fill: none; stroke: #ffffff; stroke-width: 1.25; stroke-linejoin: miter; stroke-linecap: square\"/>\n   </g>\n   <g id=\"patch_10\">\n    <path d=\"M 68.376563 21.789375 \nL 425.496562 21.789375 \n\" style=\"fill: none; stroke: #ffffff; stroke-width: 1.25; stroke-linejoin: miter; stroke-linecap: square\"/>\n   </g>\n   <g id=\"text_24\">\n    <!-- Random Forest -->\n    <g style=\"fill: #262626\" transform=\"translate(205.59 15.789375) scale(0.12 -0.12)\">\n     <defs>\n      <path id=\"ArialMT-61\" d=\"M 2588 409 \nQ 2275 144 1986 34 \nQ 1697 -75 1366 -75 \nQ 819 -75 525 192 \nQ 231 459 231 875 \nQ 231 1119 342 1320 \nQ 453 1522 633 1644 \nQ 813 1766 1038 1828 \nQ 1203 1872 1538 1913 \nQ 2219 1994 2541 2106 \nQ 2544 2222 2544 2253 \nQ 2544 2597 2384 2738 \nQ 2169 2928 1744 2928 \nQ 1347 2928 1158 2789 \nQ 969 2650 878 2297 \nL 328 2372 \nQ 403 2725 575 2942 \nQ 747 3159 1072 3276 \nQ 1397 3394 1825 3394 \nQ 2250 3394 2515 3294 \nQ 2781 3194 2906 3042 \nQ 3031 2891 3081 2659 \nQ 3109 2516 3109 2141 \nL 3109 1391 \nQ 3109 606 3145 398 \nQ 3181 191 3288 0 \nL 2700 0 \nQ 2613 175 2588 409 \nz\nM 2541 1666 \nQ 2234 1541 1622 1453 \nQ 1275 1403 1131 1340 \nQ 988 1278 909 1158 \nQ 831 1038 831 891 \nQ 831 666 1001 516 \nQ 1172 366 1500 366 \nQ 1825 366 2078 508 \nQ 2331 650 2450 897 \nQ 2541 1088 2541 1459 \nL 2541 1666 \nz\n\" transform=\"scale(0.015625)\"/>\n      <path id=\"ArialMT-64\" d=\"M 2575 0 \nL 2575 419 \nQ 2259 -75 1647 -75 \nQ 1250 -75 917 144 \nQ 584 363 401 755 \nQ 219 1147 219 1656 \nQ 219 2153 384 2558 \nQ 550 2963 881 3178 \nQ 1213 3394 1622 3394 \nQ 1922 3394 2156 3267 \nQ 2391 3141 2538 2938 \nL 2538 4581 \nL 3097 4581 \nL 3097 0 \nL 2575 0 \nz\nM 797 1656 \nQ 797 1019 1065 703 \nQ 1334 388 1700 388 \nQ 2069 388 2326 689 \nQ 2584 991 2584 1609 \nQ 2584 2291 2321 2609 \nQ 2059 2928 1675 2928 \nQ 1300 2928 1048 2622 \nQ 797 2316 797 1656 \nz\n\" transform=\"scale(0.015625)\"/>\n      <path id=\"ArialMT-46\" d=\"M 525 0 \nL 525 4581 \nL 3616 4581 \nL 3616 4041 \nL 1131 4041 \nL 1131 2622 \nL 3281 2622 \nL 3281 2081 \nL 1131 2081 \nL 1131 0 \nL 525 0 \nz\n\" transform=\"scale(0.015625)\"/>\n     </defs>\n     <use xlink:href=\"#ArialMT-52\"/>\n     <use xlink:href=\"#ArialMT-61\" x=\"72.216797\"/>\n     <use xlink:href=\"#ArialMT-6e\" x=\"127.832031\"/>\n     <use xlink:href=\"#ArialMT-64\" x=\"183.447266\"/>\n     <use xlink:href=\"#ArialMT-6f\" x=\"239.0625\"/>\n     <use xlink:href=\"#ArialMT-6d\" x=\"294.677734\"/>\n     <use xlink:href=\"#ArialMT-20\" x=\"377.978516\"/>\n     <use xlink:href=\"#ArialMT-46\" x=\"405.761719\"/>\n     <use xlink:href=\"#ArialMT-6f\" x=\"466.845703\"/>\n     <use xlink:href=\"#ArialMT-72\" x=\"522.460938\"/>\n     <use xlink:href=\"#ArialMT-65\" x=\"555.761719\"/>\n     <use xlink:href=\"#ArialMT-73\" x=\"611.376953\"/>\n     <use xlink:href=\"#ArialMT-74\" x=\"661.376953\"/>\n    </g>\n   </g>\n  </g>\n </g>\n <defs>\n  <clipPath id=\"p502b0807d5\">\n   <rect x=\"68.376563\" y=\"21.789375\" width=\"357.12\" height=\"266.112\"/>\n  </clipPath>\n </defs>\n</svg>\n",
      "text/plain": [
       "<Figure size 640x480 with 2 Axes>"
      ]
     },
     "metadata": {},
     "output_type": "display_data"
    }
   ],
   "source": [
    "color_rmse = sns.husl_palette(3)[0]\n",
    "color_time = sns.husl_palette(3)[2]\n",
    "\n",
    "ax1 = sns.lineplot(x=n_estimators, y=rmse_rf_n_estimators, ci=False, color=color_rmse)\n",
    "ax1.set_ylabel(\"RMSE\", color=color_rmse)\n",
    "ax1.tick_params(axis='y', colors=color_rmse)\n",
    "\n",
    "ax2 = ax1.twinx()\n",
    "\n",
    "sns.lineplot(x=n_estimators, y=time_rf_n_estimators, ci=False, color=color_time, ax=ax2)\n",
    "ax2.set_ylabel(\"Time (s)\", color=color_time)\n",
    "ax2.tick_params(axis='y', colors=color_time)\n",
    "ax2.grid(False)\n",
    "\n",
    "ax2.spines['left'].set_color(color_rmse)\n",
    "ax2.spines['right'].set_color(color_time)\n",
    "ax2.set_title(\"Random Forest\")\n",
    "ax1.set_xlabel(\"Amount of trees in ensemble\")\n",
    "#labels = list(str(i) for i in range(0, 15, 2)) + ['None']\n",
    "#ax2.set_xticks(range(0, 17, 2), labels)\n",
    "plt.savefig('./report/exp1/n_estimators.pdf', bbox_inches='tight')\n",
    "None"
   ]
  },
  {
   "cell_type": "code",
   "execution_count": 33,
   "metadata": {},
   "outputs": [
    {
     "name": "stdout",
     "output_type": "stream",
     "text": [
      "[232176.00072611254, 169231.48020905035, 158488.54269719427, 149594.43861490293, 147233.79204181986, 147077.82438086043, 148061.99815158054, 148725.16358316076, 147707.24658048502, 148367.69977244607, 147727.7304131655, 147852.45096338293]\n"
     ]
    }
   ],
   "source": [
    "print(rmse_rf_n_estimators)"
   ]
  },
  {
   "cell_type": "code",
   "execution_count": 35,
   "metadata": {},
   "outputs": [
    {
     "name": "stderr",
     "output_type": "stream",
     "text": [
      "100%|██████████| 8/8 [03:08<00:00, 23.54s/it]\n"
     ]
    }
   ],
   "source": [
    "rmse_rf_n_features = []\n",
    "time_rf_n_features = []\n",
    "for n in tqdm(n_features):\n",
    "    rf_clf = RandomForestMSE(max_depth=None,\n",
    "                            n_estimators=300, feature_subsample_size=n)\n",
    "    start_time = time()\n",
    "    rf_clf.fit(X_train, y_train)\n",
    "    end_time = time()\n",
    "    time_rf_n_features.append(end_time - start_time)\n",
    "    rmse_rf_n_features.append(rmse(rf_clf, X_test, y_test))"
   ]
  },
  {
   "cell_type": "code",
   "execution_count": 36,
   "metadata": {},
   "outputs": [
    {
     "data": {
      "image/svg+xml": "<?xml version=\"1.0\" encoding=\"utf-8\" standalone=\"no\"?>\n<!DOCTYPE svg PUBLIC \"-//W3C//DTD SVG 1.1//EN\"\n  \"http://www.w3.org/Graphics/SVG/1.1/DTD/svg11.dtd\">\n<svg xmlns:xlink=\"http://www.w3.org/1999/xlink\" width=\"469.691875pt\" height=\"329.635594pt\" viewBox=\"0 0 469.691875 329.635594\" xmlns=\"http://www.w3.org/2000/svg\" version=\"1.1\">\n <metadata>\n  <rdf:RDF xmlns:dc=\"http://purl.org/dc/elements/1.1/\" xmlns:cc=\"http://creativecommons.org/ns#\" xmlns:rdf=\"http://www.w3.org/1999/02/22-rdf-syntax-ns#\">\n   <cc:Work>\n    <dc:type rdf:resource=\"http://purl.org/dc/dcmitype/StillImage\"/>\n    <dc:date>2022-12-19T23:02:12.897294</dc:date>\n    <dc:format>image/svg+xml</dc:format>\n    <dc:creator>\n     <cc:Agent>\n      <dc:title>Matplotlib v3.6.2, https://matplotlib.org/</dc:title>\n     </cc:Agent>\n    </dc:creator>\n   </cc:Work>\n  </rdf:RDF>\n </metadata>\n <defs>\n  <style type=\"text/css\">*{stroke-linejoin: round; stroke-linecap: butt}</style>\n </defs>\n <g id=\"figure_1\">\n  <g id=\"patch_1\">\n   <path d=\"M 0 329.635594 \nL 469.691875 329.635594 \nL 469.691875 0 \nL 0 0 \nz\n\" style=\"fill: #ffffff\"/>\n  </g>\n  <g id=\"axes_1\">\n   <g id=\"patch_2\">\n    <path d=\"M 68.376563 287.901375 \nL 425.496562 287.901375 \nL 425.496562 21.789375 \nL 68.376563 21.789375 \nz\n\" style=\"fill: #eaeaf2\"/>\n   </g>\n   <g id=\"matplotlib.axis_1\">\n    <g id=\"xtick_1\">\n     <g id=\"line2d_1\">\n      <path d=\"M 69.14955 287.901375 \nL 69.14955 21.789375 \n\" clip-path=\"url(#pb421833537)\" style=\"fill: none; stroke: #ffffff; stroke-linecap: round\"/>\n     </g>\n     <g id=\"text_1\">\n      <!-- 0 -->\n      <g style=\"fill: #262626\" transform=\"translate(66.091034 305.274969) scale(0.11 -0.11)\">\n       <defs>\n        <path id=\"ArialMT-30\" d=\"M 266 2259 \nQ 266 3072 433 3567 \nQ 600 4063 929 4331 \nQ 1259 4600 1759 4600 \nQ 2128 4600 2406 4451 \nQ 2684 4303 2865 4023 \nQ 3047 3744 3150 3342 \nQ 3253 2941 3253 2259 \nQ 3253 1453 3087 958 \nQ 2922 463 2592 192 \nQ 2263 -78 1759 -78 \nQ 1097 -78 719 397 \nQ 266 969 266 2259 \nz\nM 844 2259 \nQ 844 1131 1108 757 \nQ 1372 384 1759 384 \nQ 2147 384 2411 759 \nQ 2675 1134 2675 2259 \nQ 2675 3391 2411 3762 \nQ 2147 4134 1753 4134 \nQ 1366 4134 1134 3806 \nQ 844 3388 844 2259 \nz\n\" transform=\"scale(0.015625)\"/>\n       </defs>\n       <use xlink:href=\"#ArialMT-30\"/>\n      </g>\n     </g>\n    </g>\n    <g id=\"xtick_2\">\n     <g id=\"line2d_2\">\n      <path d=\"M 146.448251 287.901375 \nL 146.448251 21.789375 \n\" clip-path=\"url(#pb421833537)\" style=\"fill: none; stroke: #ffffff; stroke-linecap: round\"/>\n     </g>\n     <g id=\"text_2\">\n      <!-- 5 -->\n      <g style=\"fill: #262626\" transform=\"translate(143.389735 305.274969) scale(0.11 -0.11)\">\n       <defs>\n        <path id=\"ArialMT-35\" d=\"M 266 1200 \nL 856 1250 \nQ 922 819 1161 601 \nQ 1400 384 1738 384 \nQ 2144 384 2425 690 \nQ 2706 997 2706 1503 \nQ 2706 1984 2436 2262 \nQ 2166 2541 1728 2541 \nQ 1456 2541 1237 2417 \nQ 1019 2294 894 2097 \nL 366 2166 \nL 809 4519 \nL 3088 4519 \nL 3088 3981 \nL 1259 3981 \nL 1013 2750 \nQ 1425 3038 1878 3038 \nQ 2478 3038 2890 2622 \nQ 3303 2206 3303 1553 \nQ 3303 931 2941 478 \nQ 2500 -78 1738 -78 \nQ 1113 -78 717 272 \nQ 322 622 266 1200 \nz\n\" transform=\"scale(0.015625)\"/>\n       </defs>\n       <use xlink:href=\"#ArialMT-35\"/>\n      </g>\n     </g>\n    </g>\n    <g id=\"xtick_3\">\n     <g id=\"line2d_3\">\n      <path d=\"M 223.746952 287.901375 \nL 223.746952 21.789375 \n\" clip-path=\"url(#pb421833537)\" style=\"fill: none; stroke: #ffffff; stroke-linecap: round\"/>\n     </g>\n     <g id=\"text_3\">\n      <!-- 10 -->\n      <g style=\"fill: #262626\" transform=\"translate(217.629921 305.274969) scale(0.11 -0.11)\">\n       <defs>\n        <path id=\"ArialMT-31\" d=\"M 2384 0 \nL 1822 0 \nL 1822 3584 \nQ 1619 3391 1289 3197 \nQ 959 3003 697 2906 \nL 697 3450 \nQ 1169 3672 1522 3987 \nQ 1875 4303 2022 4600 \nL 2384 4600 \nL 2384 0 \nz\n\" transform=\"scale(0.015625)\"/>\n       </defs>\n       <use xlink:href=\"#ArialMT-31\"/>\n       <use xlink:href=\"#ArialMT-30\" x=\"55.615234\"/>\n      </g>\n     </g>\n    </g>\n    <g id=\"xtick_4\">\n     <g id=\"line2d_4\">\n      <path d=\"M 301.045653 287.901375 \nL 301.045653 21.789375 \n\" clip-path=\"url(#pb421833537)\" style=\"fill: none; stroke: #ffffff; stroke-linecap: round\"/>\n     </g>\n     <g id=\"text_4\">\n      <!-- 15 -->\n      <g style=\"fill: #262626\" transform=\"translate(294.928622 305.274969) scale(0.11 -0.11)\">\n       <use xlink:href=\"#ArialMT-31\"/>\n       <use xlink:href=\"#ArialMT-35\" x=\"55.615234\"/>\n      </g>\n     </g>\n    </g>\n    <g id=\"xtick_5\">\n     <g id=\"line2d_5\">\n      <path d=\"M 378.344355 287.901375 \nL 378.344355 21.789375 \n\" clip-path=\"url(#pb421833537)\" style=\"fill: none; stroke: #ffffff; stroke-linecap: round\"/>\n     </g>\n     <g id=\"text_5\">\n      <!-- 20 -->\n      <g style=\"fill: #262626\" transform=\"translate(372.227323 305.274969) scale(0.11 -0.11)\">\n       <defs>\n        <path id=\"ArialMT-32\" d=\"M 3222 541 \nL 3222 0 \nL 194 0 \nQ 188 203 259 391 \nQ 375 700 629 1000 \nQ 884 1300 1366 1694 \nQ 2113 2306 2375 2664 \nQ 2638 3022 2638 3341 \nQ 2638 3675 2398 3904 \nQ 2159 4134 1775 4134 \nQ 1369 4134 1125 3890 \nQ 881 3647 878 3216 \nL 300 3275 \nQ 359 3922 746 4261 \nQ 1134 4600 1788 4600 \nQ 2447 4600 2831 4234 \nQ 3216 3869 3216 3328 \nQ 3216 3053 3103 2787 \nQ 2991 2522 2730 2228 \nQ 2469 1934 1863 1422 \nQ 1356 997 1212 845 \nQ 1069 694 975 541 \nL 3222 541 \nz\n\" transform=\"scale(0.015625)\"/>\n       </defs>\n       <use xlink:href=\"#ArialMT-32\"/>\n       <use xlink:href=\"#ArialMT-30\" x=\"55.615234\"/>\n      </g>\n     </g>\n    </g>\n    <g id=\"text_6\">\n     <!-- Number of features -->\n     <g style=\"fill: #262626\" transform=\"translate(195.583125 320.050594) scale(0.12 -0.12)\">\n      <defs>\n       <path id=\"ArialMT-4e\" d=\"M 488 0 \nL 488 4581 \nL 1109 4581 \nL 3516 984 \nL 3516 4581 \nL 4097 4581 \nL 4097 0 \nL 3475 0 \nL 1069 3600 \nL 1069 0 \nL 488 0 \nz\n\" transform=\"scale(0.015625)\"/>\n       <path id=\"ArialMT-75\" d=\"M 2597 0 \nL 2597 488 \nQ 2209 -75 1544 -75 \nQ 1250 -75 995 37 \nQ 741 150 617 320 \nQ 494 491 444 738 \nQ 409 903 409 1263 \nL 409 3319 \nL 972 3319 \nL 972 1478 \nQ 972 1038 1006 884 \nQ 1059 663 1231 536 \nQ 1403 409 1656 409 \nQ 1909 409 2131 539 \nQ 2353 669 2445 892 \nQ 2538 1116 2538 1541 \nL 2538 3319 \nL 3100 3319 \nL 3100 0 \nL 2597 0 \nz\n\" transform=\"scale(0.015625)\"/>\n       <path id=\"ArialMT-6d\" d=\"M 422 0 \nL 422 3319 \nL 925 3319 \nL 925 2853 \nQ 1081 3097 1340 3245 \nQ 1600 3394 1931 3394 \nQ 2300 3394 2536 3241 \nQ 2772 3088 2869 2813 \nQ 3263 3394 3894 3394 \nQ 4388 3394 4653 3120 \nQ 4919 2847 4919 2278 \nL 4919 0 \nL 4359 0 \nL 4359 2091 \nQ 4359 2428 4304 2576 \nQ 4250 2725 4106 2815 \nQ 3963 2906 3769 2906 \nQ 3419 2906 3187 2673 \nQ 2956 2441 2956 1928 \nL 2956 0 \nL 2394 0 \nL 2394 2156 \nQ 2394 2531 2256 2718 \nQ 2119 2906 1806 2906 \nQ 1569 2906 1367 2781 \nQ 1166 2656 1075 2415 \nQ 984 2175 984 1722 \nL 984 0 \nL 422 0 \nz\n\" transform=\"scale(0.015625)\"/>\n       <path id=\"ArialMT-62\" d=\"M 941 0 \nL 419 0 \nL 419 4581 \nL 981 4581 \nL 981 2947 \nQ 1338 3394 1891 3394 \nQ 2197 3394 2470 3270 \nQ 2744 3147 2920 2923 \nQ 3097 2700 3197 2384 \nQ 3297 2069 3297 1709 \nQ 3297 856 2875 390 \nQ 2453 -75 1863 -75 \nQ 1275 -75 941 416 \nL 941 0 \nz\nM 934 1684 \nQ 934 1088 1097 822 \nQ 1363 388 1816 388 \nQ 2184 388 2453 708 \nQ 2722 1028 2722 1663 \nQ 2722 2313 2464 2622 \nQ 2206 2931 1841 2931 \nQ 1472 2931 1203 2611 \nQ 934 2291 934 1684 \nz\n\" transform=\"scale(0.015625)\"/>\n       <path id=\"ArialMT-65\" d=\"M 2694 1069 \nL 3275 997 \nQ 3138 488 2766 206 \nQ 2394 -75 1816 -75 \nQ 1088 -75 661 373 \nQ 234 822 234 1631 \nQ 234 2469 665 2931 \nQ 1097 3394 1784 3394 \nQ 2450 3394 2872 2941 \nQ 3294 2488 3294 1666 \nQ 3294 1616 3291 1516 \nL 816 1516 \nQ 847 969 1125 678 \nQ 1403 388 1819 388 \nQ 2128 388 2347 550 \nQ 2566 713 2694 1069 \nz\nM 847 1978 \nL 2700 1978 \nQ 2663 2397 2488 2606 \nQ 2219 2931 1791 2931 \nQ 1403 2931 1139 2672 \nQ 875 2413 847 1978 \nz\n\" transform=\"scale(0.015625)\"/>\n       <path id=\"ArialMT-72\" d=\"M 416 0 \nL 416 3319 \nL 922 3319 \nL 922 2816 \nQ 1116 3169 1280 3281 \nQ 1444 3394 1641 3394 \nQ 1925 3394 2219 3213 \nL 2025 2691 \nQ 1819 2813 1613 2813 \nQ 1428 2813 1281 2702 \nQ 1134 2591 1072 2394 \nQ 978 2094 978 1738 \nL 978 0 \nL 416 0 \nz\n\" transform=\"scale(0.015625)\"/>\n       <path id=\"ArialMT-20\" transform=\"scale(0.015625)\"/>\n       <path id=\"ArialMT-6f\" d=\"M 213 1659 \nQ 213 2581 725 3025 \nQ 1153 3394 1769 3394 \nQ 2453 3394 2887 2945 \nQ 3322 2497 3322 1706 \nQ 3322 1066 3130 698 \nQ 2938 331 2570 128 \nQ 2203 -75 1769 -75 \nQ 1072 -75 642 372 \nQ 213 819 213 1659 \nz\nM 791 1659 \nQ 791 1022 1069 705 \nQ 1347 388 1769 388 \nQ 2188 388 2466 706 \nQ 2744 1025 2744 1678 \nQ 2744 2294 2464 2611 \nQ 2184 2928 1769 2928 \nQ 1347 2928 1069 2612 \nQ 791 2297 791 1659 \nz\n\" transform=\"scale(0.015625)\"/>\n       <path id=\"ArialMT-66\" d=\"M 556 0 \nL 556 2881 \nL 59 2881 \nL 59 3319 \nL 556 3319 \nL 556 3672 \nQ 556 4006 616 4169 \nQ 697 4388 901 4523 \nQ 1106 4659 1475 4659 \nQ 1713 4659 2000 4603 \nL 1916 4113 \nQ 1741 4144 1584 4144 \nQ 1328 4144 1222 4034 \nQ 1116 3925 1116 3625 \nL 1116 3319 \nL 1763 3319 \nL 1763 2881 \nL 1116 2881 \nL 1116 0 \nL 556 0 \nz\n\" transform=\"scale(0.015625)\"/>\n       <path id=\"ArialMT-61\" d=\"M 2588 409 \nQ 2275 144 1986 34 \nQ 1697 -75 1366 -75 \nQ 819 -75 525 192 \nQ 231 459 231 875 \nQ 231 1119 342 1320 \nQ 453 1522 633 1644 \nQ 813 1766 1038 1828 \nQ 1203 1872 1538 1913 \nQ 2219 1994 2541 2106 \nQ 2544 2222 2544 2253 \nQ 2544 2597 2384 2738 \nQ 2169 2928 1744 2928 \nQ 1347 2928 1158 2789 \nQ 969 2650 878 2297 \nL 328 2372 \nQ 403 2725 575 2942 \nQ 747 3159 1072 3276 \nQ 1397 3394 1825 3394 \nQ 2250 3394 2515 3294 \nQ 2781 3194 2906 3042 \nQ 3031 2891 3081 2659 \nQ 3109 2516 3109 2141 \nL 3109 1391 \nQ 3109 606 3145 398 \nQ 3181 191 3288 0 \nL 2700 0 \nQ 2613 175 2588 409 \nz\nM 2541 1666 \nQ 2234 1541 1622 1453 \nQ 1275 1403 1131 1340 \nQ 988 1278 909 1158 \nQ 831 1038 831 891 \nQ 831 666 1001 516 \nQ 1172 366 1500 366 \nQ 1825 366 2078 508 \nQ 2331 650 2450 897 \nQ 2541 1088 2541 1459 \nL 2541 1666 \nz\n\" transform=\"scale(0.015625)\"/>\n       <path id=\"ArialMT-74\" d=\"M 1650 503 \nL 1731 6 \nQ 1494 -44 1306 -44 \nQ 1000 -44 831 53 \nQ 663 150 594 308 \nQ 525 466 525 972 \nL 525 2881 \nL 113 2881 \nL 113 3319 \nL 525 3319 \nL 525 4141 \nL 1084 4478 \nL 1084 3319 \nL 1650 3319 \nL 1650 2881 \nL 1084 2881 \nL 1084 941 \nQ 1084 700 1114 631 \nQ 1144 563 1211 522 \nQ 1278 481 1403 481 \nQ 1497 481 1650 503 \nz\n\" transform=\"scale(0.015625)\"/>\n       <path id=\"ArialMT-73\" d=\"M 197 991 \nL 753 1078 \nQ 800 744 1014 566 \nQ 1228 388 1613 388 \nQ 2000 388 2187 545 \nQ 2375 703 2375 916 \nQ 2375 1106 2209 1216 \nQ 2094 1291 1634 1406 \nQ 1016 1563 777 1677 \nQ 538 1791 414 1992 \nQ 291 2194 291 2438 \nQ 291 2659 392 2848 \nQ 494 3038 669 3163 \nQ 800 3259 1026 3326 \nQ 1253 3394 1513 3394 \nQ 1903 3394 2198 3281 \nQ 2494 3169 2634 2976 \nQ 2775 2784 2828 2463 \nL 2278 2388 \nQ 2241 2644 2061 2787 \nQ 1881 2931 1553 2931 \nQ 1166 2931 1000 2803 \nQ 834 2675 834 2503 \nQ 834 2394 903 2306 \nQ 972 2216 1119 2156 \nQ 1203 2125 1616 2013 \nQ 2213 1853 2448 1751 \nQ 2684 1650 2818 1456 \nQ 2953 1263 2953 975 \nQ 2953 694 2789 445 \nQ 2625 197 2315 61 \nQ 2006 -75 1616 -75 \nQ 969 -75 630 194 \nQ 291 463 197 991 \nz\n\" transform=\"scale(0.015625)\"/>\n      </defs>\n      <use xlink:href=\"#ArialMT-4e\"/>\n      <use xlink:href=\"#ArialMT-75\" x=\"72.216797\"/>\n      <use xlink:href=\"#ArialMT-6d\" x=\"127.832031\"/>\n      <use xlink:href=\"#ArialMT-62\" x=\"211.132812\"/>\n      <use xlink:href=\"#ArialMT-65\" x=\"266.748047\"/>\n      <use xlink:href=\"#ArialMT-72\" x=\"322.363281\"/>\n      <use xlink:href=\"#ArialMT-20\" x=\"355.664062\"/>\n      <use xlink:href=\"#ArialMT-6f\" x=\"383.447266\"/>\n      <use xlink:href=\"#ArialMT-66\" x=\"439.0625\"/>\n      <use xlink:href=\"#ArialMT-20\" x=\"466.845703\"/>\n      <use xlink:href=\"#ArialMT-66\" x=\"494.628906\"/>\n      <use xlink:href=\"#ArialMT-65\" x=\"522.412109\"/>\n      <use xlink:href=\"#ArialMT-61\" x=\"578.027344\"/>\n      <use xlink:href=\"#ArialMT-74\" x=\"633.642578\"/>\n      <use xlink:href=\"#ArialMT-75\" x=\"661.425781\"/>\n      <use xlink:href=\"#ArialMT-72\" x=\"717.041016\"/>\n      <use xlink:href=\"#ArialMT-65\" x=\"750.341797\"/>\n      <use xlink:href=\"#ArialMT-73\" x=\"805.957031\"/>\n     </g>\n    </g>\n   </g>\n   <g id=\"matplotlib.axis_2\">\n    <g id=\"ytick_1\">\n     <g id=\"line2d_6\">\n      <path d=\"M 68.376563 247.021378 \nL 425.496562 247.021378 \n\" clip-path=\"url(#pb421833537)\" style=\"fill: none; stroke: #ffffff; stroke-linecap: round\"/>\n     </g>\n     <g id=\"line2d_7\">\n      <defs>\n       <path id=\"m260623437c\" d=\"M 0 0 \nL -6 0 \n\" style=\"stroke: #f77189; stroke-width: 1.25\"/>\n      </defs>\n      <g>\n       <use xlink:href=\"#m260623437c\" x=\"68.376563\" y=\"247.021378\" style=\"fill: #f77189; stroke: #f77189; stroke-width: 1.25\"/>\n      </g>\n     </g>\n     <g id=\"text_7\">\n      <!-- 150000 -->\n      <g style=\"fill: #f77189\" transform=\"translate(22.174375 250.958175) scale(0.11 -0.11)\">\n       <use xlink:href=\"#ArialMT-31\"/>\n       <use xlink:href=\"#ArialMT-35\" x=\"55.615234\"/>\n       <use xlink:href=\"#ArialMT-30\" x=\"111.230469\"/>\n       <use xlink:href=\"#ArialMT-30\" x=\"166.845703\"/>\n       <use xlink:href=\"#ArialMT-30\" x=\"222.460938\"/>\n       <use xlink:href=\"#ArialMT-30\" x=\"278.076172\"/>\n      </g>\n     </g>\n    </g>\n    <g id=\"ytick_2\">\n     <g id=\"line2d_8\">\n      <path d=\"M 68.376563 191.254313 \nL 425.496562 191.254313 \n\" clip-path=\"url(#pb421833537)\" style=\"fill: none; stroke: #ffffff; stroke-linecap: round\"/>\n     </g>\n     <g id=\"line2d_9\">\n      <g>\n       <use xlink:href=\"#m260623437c\" x=\"68.376563\" y=\"191.254313\" style=\"fill: #f77189; stroke: #f77189; stroke-width: 1.25\"/>\n      </g>\n     </g>\n     <g id=\"text_8\">\n      <!-- 160000 -->\n      <g style=\"fill: #f77189\" transform=\"translate(22.174375 195.19111) scale(0.11 -0.11)\">\n       <defs>\n        <path id=\"ArialMT-36\" d=\"M 3184 3459 \nL 2625 3416 \nQ 2550 3747 2413 3897 \nQ 2184 4138 1850 4138 \nQ 1581 4138 1378 3988 \nQ 1113 3794 959 3422 \nQ 806 3050 800 2363 \nQ 1003 2672 1297 2822 \nQ 1591 2972 1913 2972 \nQ 2475 2972 2870 2558 \nQ 3266 2144 3266 1488 \nQ 3266 1056 3080 686 \nQ 2894 316 2569 119 \nQ 2244 -78 1831 -78 \nQ 1128 -78 684 439 \nQ 241 956 241 2144 \nQ 241 3472 731 4075 \nQ 1159 4600 1884 4600 \nQ 2425 4600 2770 4297 \nQ 3116 3994 3184 3459 \nz\nM 888 1484 \nQ 888 1194 1011 928 \nQ 1134 663 1356 523 \nQ 1578 384 1822 384 \nQ 2178 384 2434 671 \nQ 2691 959 2691 1453 \nQ 2691 1928 2437 2201 \nQ 2184 2475 1800 2475 \nQ 1419 2475 1153 2201 \nQ 888 1928 888 1484 \nz\n\" transform=\"scale(0.015625)\"/>\n       </defs>\n       <use xlink:href=\"#ArialMT-31\"/>\n       <use xlink:href=\"#ArialMT-36\" x=\"55.615234\"/>\n       <use xlink:href=\"#ArialMT-30\" x=\"111.230469\"/>\n       <use xlink:href=\"#ArialMT-30\" x=\"166.845703\"/>\n       <use xlink:href=\"#ArialMT-30\" x=\"222.460938\"/>\n       <use xlink:href=\"#ArialMT-30\" x=\"278.076172\"/>\n      </g>\n     </g>\n    </g>\n    <g id=\"ytick_3\">\n     <g id=\"line2d_10\">\n      <path d=\"M 68.376563 135.487247 \nL 425.496562 135.487247 \n\" clip-path=\"url(#pb421833537)\" style=\"fill: none; stroke: #ffffff; stroke-linecap: round\"/>\n     </g>\n     <g id=\"line2d_11\">\n      <g>\n       <use xlink:href=\"#m260623437c\" x=\"68.376563\" y=\"135.487247\" style=\"fill: #f77189; stroke: #f77189; stroke-width: 1.25\"/>\n      </g>\n     </g>\n     <g id=\"text_9\">\n      <!-- 170000 -->\n      <g style=\"fill: #f77189\" transform=\"translate(22.174375 139.424044) scale(0.11 -0.11)\">\n       <defs>\n        <path id=\"ArialMT-37\" d=\"M 303 3981 \nL 303 4522 \nL 3269 4522 \nL 3269 4084 \nQ 2831 3619 2401 2847 \nQ 1972 2075 1738 1259 \nQ 1569 684 1522 0 \nL 944 0 \nQ 953 541 1156 1306 \nQ 1359 2072 1739 2783 \nQ 2119 3494 2547 3981 \nL 303 3981 \nz\n\" transform=\"scale(0.015625)\"/>\n       </defs>\n       <use xlink:href=\"#ArialMT-31\"/>\n       <use xlink:href=\"#ArialMT-37\" x=\"55.615234\"/>\n       <use xlink:href=\"#ArialMT-30\" x=\"111.230469\"/>\n       <use xlink:href=\"#ArialMT-30\" x=\"166.845703\"/>\n       <use xlink:href=\"#ArialMT-30\" x=\"222.460938\"/>\n       <use xlink:href=\"#ArialMT-30\" x=\"278.076172\"/>\n      </g>\n     </g>\n    </g>\n    <g id=\"ytick_4\">\n     <g id=\"line2d_12\">\n      <path d=\"M 68.376563 79.720181 \nL 425.496562 79.720181 \n\" clip-path=\"url(#pb421833537)\" style=\"fill: none; stroke: #ffffff; stroke-linecap: round\"/>\n     </g>\n     <g id=\"line2d_13\">\n      <g>\n       <use xlink:href=\"#m260623437c\" x=\"68.376563\" y=\"79.720181\" style=\"fill: #f77189; stroke: #f77189; stroke-width: 1.25\"/>\n      </g>\n     </g>\n     <g id=\"text_10\">\n      <!-- 180000 -->\n      <g style=\"fill: #f77189\" transform=\"translate(22.174375 83.656978) scale(0.11 -0.11)\">\n       <defs>\n        <path id=\"ArialMT-38\" d=\"M 1131 2484 \nQ 781 2613 612 2850 \nQ 444 3088 444 3419 \nQ 444 3919 803 4259 \nQ 1163 4600 1759 4600 \nQ 2359 4600 2725 4251 \nQ 3091 3903 3091 3403 \nQ 3091 3084 2923 2848 \nQ 2756 2613 2416 2484 \nQ 2838 2347 3058 2040 \nQ 3278 1734 3278 1309 \nQ 3278 722 2862 322 \nQ 2447 -78 1769 -78 \nQ 1091 -78 675 323 \nQ 259 725 259 1325 \nQ 259 1772 486 2073 \nQ 713 2375 1131 2484 \nz\nM 1019 3438 \nQ 1019 3113 1228 2906 \nQ 1438 2700 1772 2700 \nQ 2097 2700 2305 2904 \nQ 2513 3109 2513 3406 \nQ 2513 3716 2298 3927 \nQ 2084 4138 1766 4138 \nQ 1444 4138 1231 3931 \nQ 1019 3725 1019 3438 \nz\nM 838 1322 \nQ 838 1081 952 856 \nQ 1066 631 1291 507 \nQ 1516 384 1775 384 \nQ 2178 384 2440 643 \nQ 2703 903 2703 1303 \nQ 2703 1709 2433 1975 \nQ 2163 2241 1756 2241 \nQ 1359 2241 1098 1978 \nQ 838 1716 838 1322 \nz\n\" transform=\"scale(0.015625)\"/>\n       </defs>\n       <use xlink:href=\"#ArialMT-31\"/>\n       <use xlink:href=\"#ArialMT-38\" x=\"55.615234\"/>\n       <use xlink:href=\"#ArialMT-30\" x=\"111.230469\"/>\n       <use xlink:href=\"#ArialMT-30\" x=\"166.845703\"/>\n       <use xlink:href=\"#ArialMT-30\" x=\"222.460938\"/>\n       <use xlink:href=\"#ArialMT-30\" x=\"278.076172\"/>\n      </g>\n     </g>\n    </g>\n    <g id=\"ytick_5\">\n     <g id=\"line2d_14\">\n      <path d=\"M 68.376563 23.953116 \nL 425.496562 23.953116 \n\" clip-path=\"url(#pb421833537)\" style=\"fill: none; stroke: #ffffff; stroke-linecap: round\"/>\n     </g>\n     <g id=\"line2d_15\">\n      <g>\n       <use xlink:href=\"#m260623437c\" x=\"68.376563\" y=\"23.953116\" style=\"fill: #f77189; stroke: #f77189; stroke-width: 1.25\"/>\n      </g>\n     </g>\n     <g id=\"text_11\">\n      <!-- 190000 -->\n      <g style=\"fill: #f77189\" transform=\"translate(22.174375 27.889913) scale(0.11 -0.11)\">\n       <defs>\n        <path id=\"ArialMT-39\" d=\"M 350 1059 \nL 891 1109 \nQ 959 728 1153 556 \nQ 1347 384 1650 384 \nQ 1909 384 2104 503 \nQ 2300 622 2425 820 \nQ 2550 1019 2634 1356 \nQ 2719 1694 2719 2044 \nQ 2719 2081 2716 2156 \nQ 2547 1888 2255 1720 \nQ 1963 1553 1622 1553 \nQ 1053 1553 659 1965 \nQ 266 2378 266 3053 \nQ 266 3750 677 4175 \nQ 1088 4600 1706 4600 \nQ 2153 4600 2523 4359 \nQ 2894 4119 3086 3673 \nQ 3278 3228 3278 2384 \nQ 3278 1506 3087 986 \nQ 2897 466 2520 194 \nQ 2144 -78 1638 -78 \nQ 1100 -78 759 220 \nQ 419 519 350 1059 \nz\nM 2653 3081 \nQ 2653 3566 2395 3850 \nQ 2138 4134 1775 4134 \nQ 1400 4134 1122 3828 \nQ 844 3522 844 3034 \nQ 844 2597 1108 2323 \nQ 1372 2050 1759 2050 \nQ 2150 2050 2401 2323 \nQ 2653 2597 2653 3081 \nz\n\" transform=\"scale(0.015625)\"/>\n       </defs>\n       <use xlink:href=\"#ArialMT-31\"/>\n       <use xlink:href=\"#ArialMT-39\" x=\"55.615234\"/>\n       <use xlink:href=\"#ArialMT-30\" x=\"111.230469\"/>\n       <use xlink:href=\"#ArialMT-30\" x=\"166.845703\"/>\n       <use xlink:href=\"#ArialMT-30\" x=\"222.460938\"/>\n       <use xlink:href=\"#ArialMT-30\" x=\"278.076172\"/>\n      </g>\n     </g>\n    </g>\n    <g id=\"text_12\">\n     <!-- RMSE -->\n     <g style=\"fill: #f77189\" transform=\"translate(15.789375 172.180687) rotate(-90) scale(0.12 -0.12)\">\n      <defs>\n       <path id=\"ArialMT-52\" d=\"M 503 0 \nL 503 4581 \nL 2534 4581 \nQ 3147 4581 3465 4457 \nQ 3784 4334 3975 4021 \nQ 4166 3709 4166 3331 \nQ 4166 2844 3850 2509 \nQ 3534 2175 2875 2084 \nQ 3116 1969 3241 1856 \nQ 3506 1613 3744 1247 \nL 4541 0 \nL 3778 0 \nL 3172 953 \nQ 2906 1366 2734 1584 \nQ 2563 1803 2427 1890 \nQ 2291 1978 2150 2013 \nQ 2047 2034 1813 2034 \nL 1109 2034 \nL 1109 0 \nL 503 0 \nz\nM 1109 2559 \nL 2413 2559 \nQ 2828 2559 3062 2645 \nQ 3297 2731 3419 2920 \nQ 3541 3109 3541 3331 \nQ 3541 3656 3305 3865 \nQ 3069 4075 2559 4075 \nL 1109 4075 \nL 1109 2559 \nz\n\" transform=\"scale(0.015625)\"/>\n       <path id=\"ArialMT-4d\" d=\"M 475 0 \nL 475 4581 \nL 1388 4581 \nL 2472 1338 \nQ 2622 884 2691 659 \nQ 2769 909 2934 1394 \nL 4031 4581 \nL 4847 4581 \nL 4847 0 \nL 4263 0 \nL 4263 3834 \nL 2931 0 \nL 2384 0 \nL 1059 3900 \nL 1059 0 \nL 475 0 \nz\n\" transform=\"scale(0.015625)\"/>\n       <path id=\"ArialMT-53\" d=\"M 288 1472 \nL 859 1522 \nQ 900 1178 1048 958 \nQ 1197 738 1509 602 \nQ 1822 466 2213 466 \nQ 2559 466 2825 569 \nQ 3091 672 3220 851 \nQ 3350 1031 3350 1244 \nQ 3350 1459 3225 1620 \nQ 3100 1781 2813 1891 \nQ 2628 1963 1997 2114 \nQ 1366 2266 1113 2400 \nQ 784 2572 623 2826 \nQ 463 3081 463 3397 \nQ 463 3744 659 4045 \nQ 856 4347 1234 4503 \nQ 1613 4659 2075 4659 \nQ 2584 4659 2973 4495 \nQ 3363 4331 3572 4012 \nQ 3781 3694 3797 3291 \nL 3216 3247 \nQ 3169 3681 2898 3903 \nQ 2628 4125 2100 4125 \nQ 1550 4125 1298 3923 \nQ 1047 3722 1047 3438 \nQ 1047 3191 1225 3031 \nQ 1400 2872 2139 2705 \nQ 2878 2538 3153 2413 \nQ 3553 2228 3743 1945 \nQ 3934 1663 3934 1294 \nQ 3934 928 3725 604 \nQ 3516 281 3123 101 \nQ 2731 -78 2241 -78 \nQ 1619 -78 1198 103 \nQ 778 284 539 648 \nQ 300 1013 288 1472 \nz\n\" transform=\"scale(0.015625)\"/>\n       <path id=\"ArialMT-45\" d=\"M 506 0 \nL 506 4581 \nL 3819 4581 \nL 3819 4041 \nL 1113 4041 \nL 1113 2638 \nL 3647 2638 \nL 3647 2100 \nL 1113 2100 \nL 1113 541 \nL 3925 541 \nL 3925 0 \nL 506 0 \nz\n\" transform=\"scale(0.015625)\"/>\n      </defs>\n      <use xlink:href=\"#ArialMT-52\"/>\n      <use xlink:href=\"#ArialMT-4d\" x=\"72.216797\"/>\n      <use xlink:href=\"#ArialMT-53\" x=\"155.517578\"/>\n      <use xlink:href=\"#ArialMT-45\" x=\"222.216797\"/>\n     </g>\n    </g>\n   </g>\n   <g id=\"PolyCollection_1\"/>\n   <g id=\"line2d_16\">\n    <path d=\"M 84.60929 33.885375 \nL 115.52877 200.022545 \nL 177.367731 260.077164 \nL 223.746952 268.921902 \nL 270.126173 275.805375 \nL 331.965134 269.705236 \nL 362.884614 272.668628 \nL 409.263835 271.83722 \n\" clip-path=\"url(#pb421833537)\" style=\"fill: none; stroke: #f77189; stroke-width: 1.5; stroke-linecap: round\"/>\n   </g>\n   <g id=\"patch_3\">\n    <path d=\"M 68.376563 287.901375 \nL 68.376563 21.789375 \n\" style=\"fill: none; stroke: #ffffff; stroke-width: 1.25; stroke-linejoin: miter; stroke-linecap: square\"/>\n   </g>\n   <g id=\"patch_4\">\n    <path d=\"M 425.496562 287.901375 \nL 425.496562 21.789375 \n\" style=\"fill: none; stroke: #ffffff; stroke-width: 1.25; stroke-linejoin: miter; stroke-linecap: square\"/>\n   </g>\n   <g id=\"patch_5\">\n    <path d=\"M 68.376563 287.901375 \nL 425.496562 287.901375 \n\" style=\"fill: none; stroke: #ffffff; stroke-width: 1.25; stroke-linejoin: miter; stroke-linecap: square\"/>\n   </g>\n   <g id=\"patch_6\">\n    <path d=\"M 68.376563 21.789375 \nL 425.496562 21.789375 \n\" style=\"fill: none; stroke: #ffffff; stroke-width: 1.25; stroke-linejoin: miter; stroke-linecap: square\"/>\n   </g>\n  </g>\n  <g id=\"axes_2\">\n   <g id=\"matplotlib.axis_3\">\n    <g id=\"ytick_6\">\n     <g id=\"line2d_17\">\n      <defs>\n       <path id=\"m3243c469df\" d=\"M 0 0 \nL 6 0 \n\" style=\"stroke: #3ba3ec; stroke-width: 1.25\"/>\n      </defs>\n      <g>\n       <use xlink:href=\"#m3243c469df\" x=\"425.496562\" y=\"270.646912\" style=\"fill: #3ba3ec; stroke: #3ba3ec; stroke-width: 1.25\"/>\n      </g>\n     </g>\n     <g id=\"text_13\">\n      <!-- 5 -->\n      <g style=\"fill: #3ba3ec\" transform=\"translate(434.996562 274.583709) scale(0.11 -0.11)\">\n       <use xlink:href=\"#ArialMT-35\"/>\n      </g>\n     </g>\n    </g>\n    <g id=\"ytick_7\">\n     <g id=\"line2d_18\">\n      <g>\n       <use xlink:href=\"#m3243c469df\" x=\"425.496562\" y=\"238.659901\" style=\"fill: #3ba3ec; stroke: #3ba3ec; stroke-width: 1.25\"/>\n      </g>\n     </g>\n     <g id=\"text_14\">\n      <!-- 10 -->\n      <g style=\"fill: #3ba3ec\" transform=\"translate(434.996562 242.596698) scale(0.11 -0.11)\">\n       <use xlink:href=\"#ArialMT-31\"/>\n       <use xlink:href=\"#ArialMT-30\" x=\"55.615234\"/>\n      </g>\n     </g>\n    </g>\n    <g id=\"ytick_8\">\n     <g id=\"line2d_19\">\n      <g>\n       <use xlink:href=\"#m3243c469df\" x=\"425.496562\" y=\"206.67289\" style=\"fill: #3ba3ec; stroke: #3ba3ec; stroke-width: 1.25\"/>\n      </g>\n     </g>\n     <g id=\"text_15\">\n      <!-- 15 -->\n      <g style=\"fill: #3ba3ec\" transform=\"translate(434.996562 210.609687) scale(0.11 -0.11)\">\n       <use xlink:href=\"#ArialMT-31\"/>\n       <use xlink:href=\"#ArialMT-35\" x=\"55.615234\"/>\n      </g>\n     </g>\n    </g>\n    <g id=\"ytick_9\">\n     <g id=\"line2d_20\">\n      <g>\n       <use xlink:href=\"#m3243c469df\" x=\"425.496562\" y=\"174.685879\" style=\"fill: #3ba3ec; stroke: #3ba3ec; stroke-width: 1.25\"/>\n      </g>\n     </g>\n     <g id=\"text_16\">\n      <!-- 20 -->\n      <g style=\"fill: #3ba3ec\" transform=\"translate(434.996562 178.622676) scale(0.11 -0.11)\">\n       <use xlink:href=\"#ArialMT-32\"/>\n       <use xlink:href=\"#ArialMT-30\" x=\"55.615234\"/>\n      </g>\n     </g>\n    </g>\n    <g id=\"ytick_10\">\n     <g id=\"line2d_21\">\n      <g>\n       <use xlink:href=\"#m3243c469df\" x=\"425.496562\" y=\"142.698868\" style=\"fill: #3ba3ec; stroke: #3ba3ec; stroke-width: 1.25\"/>\n      </g>\n     </g>\n     <g id=\"text_17\">\n      <!-- 25 -->\n      <g style=\"fill: #3ba3ec\" transform=\"translate(434.996562 146.635665) scale(0.11 -0.11)\">\n       <use xlink:href=\"#ArialMT-32\"/>\n       <use xlink:href=\"#ArialMT-35\" x=\"55.615234\"/>\n      </g>\n     </g>\n    </g>\n    <g id=\"ytick_11\">\n     <g id=\"line2d_22\">\n      <g>\n       <use xlink:href=\"#m3243c469df\" x=\"425.496562\" y=\"110.711857\" style=\"fill: #3ba3ec; stroke: #3ba3ec; stroke-width: 1.25\"/>\n      </g>\n     </g>\n     <g id=\"text_18\">\n      <!-- 30 -->\n      <g style=\"fill: #3ba3ec\" transform=\"translate(434.996562 114.648653) scale(0.11 -0.11)\">\n       <defs>\n        <path id=\"ArialMT-33\" d=\"M 269 1209 \nL 831 1284 \nQ 928 806 1161 595 \nQ 1394 384 1728 384 \nQ 2125 384 2398 659 \nQ 2672 934 2672 1341 \nQ 2672 1728 2419 1979 \nQ 2166 2231 1775 2231 \nQ 1616 2231 1378 2169 \nL 1441 2663 \nQ 1497 2656 1531 2656 \nQ 1891 2656 2178 2843 \nQ 2466 3031 2466 3422 \nQ 2466 3731 2256 3934 \nQ 2047 4138 1716 4138 \nQ 1388 4138 1169 3931 \nQ 950 3725 888 3313 \nL 325 3413 \nQ 428 3978 793 4289 \nQ 1159 4600 1703 4600 \nQ 2078 4600 2393 4439 \nQ 2709 4278 2876 4000 \nQ 3044 3722 3044 3409 \nQ 3044 3113 2884 2869 \nQ 2725 2625 2413 2481 \nQ 2819 2388 3044 2092 \nQ 3269 1797 3269 1353 \nQ 3269 753 2831 336 \nQ 2394 -81 1725 -81 \nQ 1122 -81 723 278 \nQ 325 638 269 1209 \nz\n\" transform=\"scale(0.015625)\"/>\n       </defs>\n       <use xlink:href=\"#ArialMT-33\"/>\n       <use xlink:href=\"#ArialMT-30\" x=\"55.615234\"/>\n      </g>\n     </g>\n    </g>\n    <g id=\"ytick_12\">\n     <g id=\"line2d_23\">\n      <g>\n       <use xlink:href=\"#m3243c469df\" x=\"425.496562\" y=\"78.724845\" style=\"fill: #3ba3ec; stroke: #3ba3ec; stroke-width: 1.25\"/>\n      </g>\n     </g>\n     <g id=\"text_19\">\n      <!-- 35 -->\n      <g style=\"fill: #3ba3ec\" transform=\"translate(434.996562 82.661642) scale(0.11 -0.11)\">\n       <use xlink:href=\"#ArialMT-33\"/>\n       <use xlink:href=\"#ArialMT-35\" x=\"55.615234\"/>\n      </g>\n     </g>\n    </g>\n    <g id=\"ytick_13\">\n     <g id=\"line2d_24\">\n      <g>\n       <use xlink:href=\"#m3243c469df\" x=\"425.496562\" y=\"46.737834\" style=\"fill: #3ba3ec; stroke: #3ba3ec; stroke-width: 1.25\"/>\n      </g>\n     </g>\n     <g id=\"text_20\">\n      <!-- 40 -->\n      <g style=\"fill: #3ba3ec\" transform=\"translate(434.996562 50.674631) scale(0.11 -0.11)\">\n       <defs>\n        <path id=\"ArialMT-34\" d=\"M 2069 0 \nL 2069 1097 \nL 81 1097 \nL 81 1613 \nL 2172 4581 \nL 2631 4581 \nL 2631 1613 \nL 3250 1613 \nL 3250 1097 \nL 2631 1097 \nL 2631 0 \nL 2069 0 \nz\nM 2069 1613 \nL 2069 3678 \nL 634 1613 \nL 2069 1613 \nz\n\" transform=\"scale(0.015625)\"/>\n       </defs>\n       <use xlink:href=\"#ArialMT-34\"/>\n       <use xlink:href=\"#ArialMT-30\" x=\"55.615234\"/>\n      </g>\n     </g>\n    </g>\n    <g id=\"text_21\">\n     <!-- Time (s) -->\n     <g style=\"fill: #3ba3ec\" transform=\"translate(459.96625 176.615062) rotate(-90) scale(0.12 -0.12)\">\n      <defs>\n       <path id=\"ArialMT-54\" d=\"M 1659 0 \nL 1659 4041 \nL 150 4041 \nL 150 4581 \nL 3781 4581 \nL 3781 4041 \nL 2266 4041 \nL 2266 0 \nL 1659 0 \nz\n\" transform=\"scale(0.015625)\"/>\n       <path id=\"ArialMT-69\" d=\"M 425 3934 \nL 425 4581 \nL 988 4581 \nL 988 3934 \nL 425 3934 \nz\nM 425 0 \nL 425 3319 \nL 988 3319 \nL 988 0 \nL 425 0 \nz\n\" transform=\"scale(0.015625)\"/>\n       <path id=\"ArialMT-28\" d=\"M 1497 -1347 \nQ 1031 -759 709 28 \nQ 388 816 388 1659 \nQ 388 2403 628 3084 \nQ 909 3875 1497 4659 \nL 1900 4659 \nQ 1522 4009 1400 3731 \nQ 1209 3300 1100 2831 \nQ 966 2247 966 1656 \nQ 966 153 1900 -1347 \nL 1497 -1347 \nz\n\" transform=\"scale(0.015625)\"/>\n       <path id=\"ArialMT-29\" d=\"M 791 -1347 \nL 388 -1347 \nQ 1322 153 1322 1656 \nQ 1322 2244 1188 2822 \nQ 1081 3291 891 3722 \nQ 769 4003 388 4659 \nL 791 4659 \nQ 1378 3875 1659 3084 \nQ 1900 2403 1900 1659 \nQ 1900 816 1576 28 \nQ 1253 -759 791 -1347 \nz\n\" transform=\"scale(0.015625)\"/>\n      </defs>\n      <use xlink:href=\"#ArialMT-54\"/>\n      <use xlink:href=\"#ArialMT-69\" x=\"57.333984\"/>\n      <use xlink:href=\"#ArialMT-6d\" x=\"79.550781\"/>\n      <use xlink:href=\"#ArialMT-65\" x=\"162.851562\"/>\n      <use xlink:href=\"#ArialMT-20\" x=\"218.466797\"/>\n      <use xlink:href=\"#ArialMT-28\" x=\"246.25\"/>\n      <use xlink:href=\"#ArialMT-73\" x=\"279.550781\"/>\n      <use xlink:href=\"#ArialMT-29\" x=\"329.550781\"/>\n     </g>\n    </g>\n   </g>\n   <g id=\"PolyCollection_2\"/>\n   <g id=\"line2d_25\">\n    <path d=\"M 84.60929 275.805375 \nL 115.52877 253.560346 \nL 177.367731 205.816681 \nL 223.746952 171.857843 \nL 270.126173 136.703567 \nL 331.965134 89.732581 \nL 362.884614 67.637923 \nL 409.263835 33.885375 \n\" clip-path=\"url(#pb421833537)\" style=\"fill: none; stroke: #3ba3ec; stroke-width: 1.5; stroke-linecap: round\"/>\n   </g>\n   <g id=\"patch_7\">\n    <path d=\"M 68.376563 287.901375 \nL 68.376563 21.789375 \n\" style=\"fill: none; stroke: #f77189; stroke-width: 1.25; stroke-linejoin: miter; stroke-linecap: square\"/>\n   </g>\n   <g id=\"patch_8\">\n    <path d=\"M 425.496562 287.901375 \nL 425.496562 21.789375 \n\" style=\"fill: none; stroke: #3ba3ec; stroke-width: 1.25; stroke-linejoin: miter; stroke-linecap: square\"/>\n   </g>\n   <g id=\"patch_9\">\n    <path d=\"M 68.376563 287.901375 \nL 425.496562 287.901375 \n\" style=\"fill: none; stroke: #ffffff; stroke-width: 1.25; stroke-linejoin: miter; stroke-linecap: square\"/>\n   </g>\n   <g id=\"patch_10\">\n    <path d=\"M 68.376563 21.789375 \nL 425.496562 21.789375 \n\" style=\"fill: none; stroke: #ffffff; stroke-width: 1.25; stroke-linejoin: miter; stroke-linecap: square\"/>\n   </g>\n   <g id=\"text_22\">\n    <!-- Random Forest -->\n    <g style=\"fill: #262626\" transform=\"translate(205.59 15.789375) scale(0.12 -0.12)\">\n     <defs>\n      <path id=\"ArialMT-6e\" d=\"M 422 0 \nL 422 3319 \nL 928 3319 \nL 928 2847 \nQ 1294 3394 1984 3394 \nQ 2284 3394 2536 3286 \nQ 2788 3178 2913 3003 \nQ 3038 2828 3088 2588 \nQ 3119 2431 3119 2041 \nL 3119 0 \nL 2556 0 \nL 2556 2019 \nQ 2556 2363 2490 2533 \nQ 2425 2703 2258 2804 \nQ 2091 2906 1866 2906 \nQ 1506 2906 1245 2678 \nQ 984 2450 984 1813 \nL 984 0 \nL 422 0 \nz\n\" transform=\"scale(0.015625)\"/>\n      <path id=\"ArialMT-64\" d=\"M 2575 0 \nL 2575 419 \nQ 2259 -75 1647 -75 \nQ 1250 -75 917 144 \nQ 584 363 401 755 \nQ 219 1147 219 1656 \nQ 219 2153 384 2558 \nQ 550 2963 881 3178 \nQ 1213 3394 1622 3394 \nQ 1922 3394 2156 3267 \nQ 2391 3141 2538 2938 \nL 2538 4581 \nL 3097 4581 \nL 3097 0 \nL 2575 0 \nz\nM 797 1656 \nQ 797 1019 1065 703 \nQ 1334 388 1700 388 \nQ 2069 388 2326 689 \nQ 2584 991 2584 1609 \nQ 2584 2291 2321 2609 \nQ 2059 2928 1675 2928 \nQ 1300 2928 1048 2622 \nQ 797 2316 797 1656 \nz\n\" transform=\"scale(0.015625)\"/>\n      <path id=\"ArialMT-46\" d=\"M 525 0 \nL 525 4581 \nL 3616 4581 \nL 3616 4041 \nL 1131 4041 \nL 1131 2622 \nL 3281 2622 \nL 3281 2081 \nL 1131 2081 \nL 1131 0 \nL 525 0 \nz\n\" transform=\"scale(0.015625)\"/>\n     </defs>\n     <use xlink:href=\"#ArialMT-52\"/>\n     <use xlink:href=\"#ArialMT-61\" x=\"72.216797\"/>\n     <use xlink:href=\"#ArialMT-6e\" x=\"127.832031\"/>\n     <use xlink:href=\"#ArialMT-64\" x=\"183.447266\"/>\n     <use xlink:href=\"#ArialMT-6f\" x=\"239.0625\"/>\n     <use xlink:href=\"#ArialMT-6d\" x=\"294.677734\"/>\n     <use xlink:href=\"#ArialMT-20\" x=\"377.978516\"/>\n     <use xlink:href=\"#ArialMT-46\" x=\"405.761719\"/>\n     <use xlink:href=\"#ArialMT-6f\" x=\"466.845703\"/>\n     <use xlink:href=\"#ArialMT-72\" x=\"522.460938\"/>\n     <use xlink:href=\"#ArialMT-65\" x=\"555.761719\"/>\n     <use xlink:href=\"#ArialMT-73\" x=\"611.376953\"/>\n     <use xlink:href=\"#ArialMT-74\" x=\"661.376953\"/>\n    </g>\n   </g>\n  </g>\n </g>\n <defs>\n  <clipPath id=\"pb421833537\">\n   <rect x=\"68.376563\" y=\"21.789375\" width=\"357.12\" height=\"266.112\"/>\n  </clipPath>\n </defs>\n</svg>\n",
      "text/plain": [
       "<Figure size 640x480 with 2 Axes>"
      ]
     },
     "metadata": {},
     "output_type": "display_data"
    }
   ],
   "source": [
    "max_depth = [1, 2, 3, 4, 5, 6, 7, 10, 14, None]\n",
    "n_estimators = [1, 5, 10, 100, 200, 300, 400, 500, 600, 700, 1000, 1500]\n",
    "n_features = [1, 3, 7, 10, 13, 17, 19, 22]\n",
    "color_rmse = sns.husl_palette(3)[0]\n",
    "color_time = sns.husl_palette(3)[2]\n",
    "\n",
    "ax1 = sns.lineplot(x=n_features, y=rmse_rf_n_features, ci=False, color=color_rmse)\n",
    "ax1.set_ylabel(\"RMSE\", color=color_rmse)\n",
    "ax1.tick_params(axis='y', colors=color_rmse)\n",
    "\n",
    "ax2 = ax1.twinx()\n",
    "\n",
    "sns.lineplot(x=n_features, y=time_rf_n_features, ci=False, color=color_time, ax=ax2)\n",
    "ax2.set_ylabel(\"Time (s)\", color=color_time)\n",
    "ax2.tick_params(axis='y', colors=color_time)\n",
    "ax2.grid(False)\n",
    "\n",
    "ax2.spines['left'].set_color(color_rmse)\n",
    "ax2.spines['right'].set_color(color_time)\n",
    "ax2.set_title(\"Random Forest\")\n",
    "ax1.set_xlabel(\"Number of features\")\n",
    "plt.savefig('./report/exp1/n_features.pdf', bbox_inches='tight')\n",
    "#labels = list(str(i) for i in range(0, 15, 2)) + ['None']\n",
    "#ax2.set_xticks(range(0, 17, 2), labels)\n",
    "None"
   ]
  },
  {
   "cell_type": "code",
   "execution_count": 37,
   "metadata": {},
   "outputs": [
    {
     "name": "stdout",
     "output_type": "stream",
     "text": [
      "[188218.97404222225, 158427.7042462191, 147658.8716117157, 146072.85711430406, 144838.531231202, 145932.3917359016, 145401.00430116444, 145550.09012585672]\n"
     ]
    }
   ],
   "source": [
    "print(rmse_rf_n_features)"
   ]
  },
  {
   "cell_type": "markdown",
   "metadata": {},
   "source": [
    "3. Исследуйте поведение алгоритма градиентный бустинг. Изучите зависимость RMSE на отложенной\n",
    "выборке и время работы алгоритма в зависимости от следующих факторов:\n",
    "\n",
    "• количество деревьев в ансамбле  \n",
    "• размерность подвыборки признаков для одного дерева  \n",
    "• максимальная глубина дерева (дополнительно разберите случай, когда глубина неограничена)  \n",
    "• выбранный learning_rate (каждый новый алгоритм добавляется в композицию с коэффициентом  \n",
    "α · learning_rate )  "
   ]
  },
  {
   "cell_type": "code",
   "execution_count": 39,
   "metadata": {},
   "outputs": [
    {
     "name": "stderr",
     "output_type": "stream",
     "text": [
      "100%|██████████| 12/12 [01:34<00:00,  7.85s/it]\n"
     ]
    }
   ],
   "source": [
    "max_depth = [1, 2, 3, 4, 5, 6, 7, 10, 14, None]\n",
    "n_estimators = [1, 5, 10, 100, 200, 300, 400, 500, 600, 700, 1000, 1500]\n",
    "n_features = [1, 3, 7, 10, 11, 12, 13, 15, 17, 19, 21, 22]\n",
    "rmse_gbt_n_estimators = []\n",
    "time_gbt_n_estimators = []\n",
    "for n in tqdm(n_estimators):\n",
    "    gbt_clf = GradientBoostingMSE(n_estimators=n)\n",
    "    start_time = time()\n",
    "    gbt_clf.fit(X_train, y_train)\n",
    "    end_time = time()\n",
    "    time_gbt_n_estimators.append(end_time - start_time)\n",
    "    rmse_gbt_n_estimators.append(rmse(gbt_clf, X_test, y_test))"
   ]
  },
  {
   "cell_type": "code",
   "execution_count": 40,
   "metadata": {},
   "outputs": [
    {
     "data": {
      "image/svg+xml": "<?xml version=\"1.0\" encoding=\"utf-8\" standalone=\"no\"?>\n<!DOCTYPE svg PUBLIC \"-//W3C//DTD SVG 1.1//EN\"\n  \"http://www.w3.org/Graphics/SVG/1.1/DTD/svg11.dtd\">\n<svg xmlns:xlink=\"http://www.w3.org/1999/xlink\" width=\"469.691875pt\" height=\"329.781844pt\" viewBox=\"0 0 469.691875 329.781844\" xmlns=\"http://www.w3.org/2000/svg\" version=\"1.1\">\n <metadata>\n  <rdf:RDF xmlns:dc=\"http://purl.org/dc/elements/1.1/\" xmlns:cc=\"http://creativecommons.org/ns#\" xmlns:rdf=\"http://www.w3.org/1999/02/22-rdf-syntax-ns#\">\n   <cc:Work>\n    <dc:type rdf:resource=\"http://purl.org/dc/dcmitype/StillImage\"/>\n    <dc:date>2022-12-19T23:11:55.292247</dc:date>\n    <dc:format>image/svg+xml</dc:format>\n    <dc:creator>\n     <cc:Agent>\n      <dc:title>Matplotlib v3.6.2, https://matplotlib.org/</dc:title>\n     </cc:Agent>\n    </dc:creator>\n   </cc:Work>\n  </rdf:RDF>\n </metadata>\n <defs>\n  <style type=\"text/css\">*{stroke-linejoin: round; stroke-linecap: butt}</style>\n </defs>\n <g id=\"figure_1\">\n  <g id=\"patch_1\">\n   <path d=\"M 0 329.781844 \nL 469.691875 329.781844 \nL 469.691875 0 \nL 0 0 \nz\n\" style=\"fill: #ffffff\"/>\n  </g>\n  <g id=\"axes_1\">\n   <g id=\"patch_2\">\n    <path d=\"M 68.376563 288.047625 \nL 425.496562 288.047625 \nL 425.496562 21.935625 \nL 68.376563 21.935625 \nz\n\" style=\"fill: #eaeaf2\"/>\n   </g>\n   <g id=\"matplotlib.axis_1\">\n    <g id=\"xtick_1\">\n     <g id=\"line2d_1\">\n      <path d=\"M 84.392709 288.047625 \nL 84.392709 21.935625 \n\" clip-path=\"url(#pf330ece396)\" style=\"fill: none; stroke: #ffffff; stroke-linecap: round\"/>\n     </g>\n     <g id=\"text_1\">\n      <!-- 0 -->\n      <g style=\"fill: #262626\" transform=\"translate(81.334193 305.421219) scale(0.11 -0.11)\">\n       <defs>\n        <path id=\"ArialMT-30\" d=\"M 266 2259 \nQ 266 3072 433 3567 \nQ 600 4063 929 4331 \nQ 1259 4600 1759 4600 \nQ 2128 4600 2406 4451 \nQ 2684 4303 2865 4023 \nQ 3047 3744 3150 3342 \nQ 3253 2941 3253 2259 \nQ 3253 1453 3087 958 \nQ 2922 463 2592 192 \nQ 2263 -78 1759 -78 \nQ 1097 -78 719 397 \nQ 266 969 266 2259 \nz\nM 844 2259 \nQ 844 1131 1108 757 \nQ 1372 384 1759 384 \nQ 2147 384 2411 759 \nQ 2675 1134 2675 2259 \nQ 2675 3391 2411 3762 \nQ 2147 4134 1753 4134 \nQ 1366 4134 1134 3806 \nQ 844 3388 844 2259 \nz\n\" transform=\"scale(0.015625)\"/>\n       </defs>\n       <use xlink:href=\"#ArialMT-30\"/>\n      </g>\n     </g>\n    </g>\n    <g id=\"xtick_2\">\n     <g id=\"line2d_2\">\n      <path d=\"M 127.708859 288.047625 \nL 127.708859 21.935625 \n\" clip-path=\"url(#pf330ece396)\" style=\"fill: none; stroke: #ffffff; stroke-linecap: round\"/>\n     </g>\n     <g id=\"text_2\">\n      <!-- 200 -->\n      <g style=\"fill: #262626\" transform=\"translate(118.533312 305.421219) scale(0.11 -0.11)\">\n       <defs>\n        <path id=\"ArialMT-32\" d=\"M 3222 541 \nL 3222 0 \nL 194 0 \nQ 188 203 259 391 \nQ 375 700 629 1000 \nQ 884 1300 1366 1694 \nQ 2113 2306 2375 2664 \nQ 2638 3022 2638 3341 \nQ 2638 3675 2398 3904 \nQ 2159 4134 1775 4134 \nQ 1369 4134 1125 3890 \nQ 881 3647 878 3216 \nL 300 3275 \nQ 359 3922 746 4261 \nQ 1134 4600 1788 4600 \nQ 2447 4600 2831 4234 \nQ 3216 3869 3216 3328 \nQ 3216 3053 3103 2787 \nQ 2991 2522 2730 2228 \nQ 2469 1934 1863 1422 \nQ 1356 997 1212 845 \nQ 1069 694 975 541 \nL 3222 541 \nz\n\" transform=\"scale(0.015625)\"/>\n       </defs>\n       <use xlink:href=\"#ArialMT-32\"/>\n       <use xlink:href=\"#ArialMT-30\" x=\"55.615234\"/>\n       <use xlink:href=\"#ArialMT-30\" x=\"111.230469\"/>\n      </g>\n     </g>\n    </g>\n    <g id=\"xtick_3\">\n     <g id=\"line2d_3\">\n      <path d=\"M 171.025009 288.047625 \nL 171.025009 21.935625 \n\" clip-path=\"url(#pf330ece396)\" style=\"fill: none; stroke: #ffffff; stroke-linecap: round\"/>\n     </g>\n     <g id=\"text_3\">\n      <!-- 400 -->\n      <g style=\"fill: #262626\" transform=\"translate(161.849462 305.421219) scale(0.11 -0.11)\">\n       <defs>\n        <path id=\"ArialMT-34\" d=\"M 2069 0 \nL 2069 1097 \nL 81 1097 \nL 81 1613 \nL 2172 4581 \nL 2631 4581 \nL 2631 1613 \nL 3250 1613 \nL 3250 1097 \nL 2631 1097 \nL 2631 0 \nL 2069 0 \nz\nM 2069 1613 \nL 2069 3678 \nL 634 1613 \nL 2069 1613 \nz\n\" transform=\"scale(0.015625)\"/>\n       </defs>\n       <use xlink:href=\"#ArialMT-34\"/>\n       <use xlink:href=\"#ArialMT-30\" x=\"55.615234\"/>\n       <use xlink:href=\"#ArialMT-30\" x=\"111.230469\"/>\n      </g>\n     </g>\n    </g>\n    <g id=\"xtick_4\">\n     <g id=\"line2d_4\">\n      <path d=\"M 214.34116 288.047625 \nL 214.34116 21.935625 \n\" clip-path=\"url(#pf330ece396)\" style=\"fill: none; stroke: #ffffff; stroke-linecap: round\"/>\n     </g>\n     <g id=\"text_4\">\n      <!-- 600 -->\n      <g style=\"fill: #262626\" transform=\"translate(205.165613 305.421219) scale(0.11 -0.11)\">\n       <defs>\n        <path id=\"ArialMT-36\" d=\"M 3184 3459 \nL 2625 3416 \nQ 2550 3747 2413 3897 \nQ 2184 4138 1850 4138 \nQ 1581 4138 1378 3988 \nQ 1113 3794 959 3422 \nQ 806 3050 800 2363 \nQ 1003 2672 1297 2822 \nQ 1591 2972 1913 2972 \nQ 2475 2972 2870 2558 \nQ 3266 2144 3266 1488 \nQ 3266 1056 3080 686 \nQ 2894 316 2569 119 \nQ 2244 -78 1831 -78 \nQ 1128 -78 684 439 \nQ 241 956 241 2144 \nQ 241 3472 731 4075 \nQ 1159 4600 1884 4600 \nQ 2425 4600 2770 4297 \nQ 3116 3994 3184 3459 \nz\nM 888 1484 \nQ 888 1194 1011 928 \nQ 1134 663 1356 523 \nQ 1578 384 1822 384 \nQ 2178 384 2434 671 \nQ 2691 959 2691 1453 \nQ 2691 1928 2437 2201 \nQ 2184 2475 1800 2475 \nQ 1419 2475 1153 2201 \nQ 888 1928 888 1484 \nz\n\" transform=\"scale(0.015625)\"/>\n       </defs>\n       <use xlink:href=\"#ArialMT-36\"/>\n       <use xlink:href=\"#ArialMT-30\" x=\"55.615234\"/>\n       <use xlink:href=\"#ArialMT-30\" x=\"111.230469\"/>\n      </g>\n     </g>\n    </g>\n    <g id=\"xtick_5\">\n     <g id=\"line2d_5\">\n      <path d=\"M 257.65731 288.047625 \nL 257.65731 21.935625 \n\" clip-path=\"url(#pf330ece396)\" style=\"fill: none; stroke: #ffffff; stroke-linecap: round\"/>\n     </g>\n     <g id=\"text_5\">\n      <!-- 800 -->\n      <g style=\"fill: #262626\" transform=\"translate(248.481763 305.421219) scale(0.11 -0.11)\">\n       <defs>\n        <path id=\"ArialMT-38\" d=\"M 1131 2484 \nQ 781 2613 612 2850 \nQ 444 3088 444 3419 \nQ 444 3919 803 4259 \nQ 1163 4600 1759 4600 \nQ 2359 4600 2725 4251 \nQ 3091 3903 3091 3403 \nQ 3091 3084 2923 2848 \nQ 2756 2613 2416 2484 \nQ 2838 2347 3058 2040 \nQ 3278 1734 3278 1309 \nQ 3278 722 2862 322 \nQ 2447 -78 1769 -78 \nQ 1091 -78 675 323 \nQ 259 725 259 1325 \nQ 259 1772 486 2073 \nQ 713 2375 1131 2484 \nz\nM 1019 3438 \nQ 1019 3113 1228 2906 \nQ 1438 2700 1772 2700 \nQ 2097 2700 2305 2904 \nQ 2513 3109 2513 3406 \nQ 2513 3716 2298 3927 \nQ 2084 4138 1766 4138 \nQ 1444 4138 1231 3931 \nQ 1019 3725 1019 3438 \nz\nM 838 1322 \nQ 838 1081 952 856 \nQ 1066 631 1291 507 \nQ 1516 384 1775 384 \nQ 2178 384 2440 643 \nQ 2703 903 2703 1303 \nQ 2703 1709 2433 1975 \nQ 2163 2241 1756 2241 \nQ 1359 2241 1098 1978 \nQ 838 1716 838 1322 \nz\n\" transform=\"scale(0.015625)\"/>\n       </defs>\n       <use xlink:href=\"#ArialMT-38\"/>\n       <use xlink:href=\"#ArialMT-30\" x=\"55.615234\"/>\n       <use xlink:href=\"#ArialMT-30\" x=\"111.230469\"/>\n      </g>\n     </g>\n    </g>\n    <g id=\"xtick_6\">\n     <g id=\"line2d_6\">\n      <path d=\"M 300.97346 288.047625 \nL 300.97346 21.935625 \n\" clip-path=\"url(#pf330ece396)\" style=\"fill: none; stroke: #ffffff; stroke-linecap: round\"/>\n     </g>\n     <g id=\"text_6\">\n      <!-- 1000 -->\n      <g style=\"fill: #262626\" transform=\"translate(288.739397 305.421219) scale(0.11 -0.11)\">\n       <defs>\n        <path id=\"ArialMT-31\" d=\"M 2384 0 \nL 1822 0 \nL 1822 3584 \nQ 1619 3391 1289 3197 \nQ 959 3003 697 2906 \nL 697 3450 \nQ 1169 3672 1522 3987 \nQ 1875 4303 2022 4600 \nL 2384 4600 \nL 2384 0 \nz\n\" transform=\"scale(0.015625)\"/>\n       </defs>\n       <use xlink:href=\"#ArialMT-31\"/>\n       <use xlink:href=\"#ArialMT-30\" x=\"55.615234\"/>\n       <use xlink:href=\"#ArialMT-30\" x=\"111.230469\"/>\n       <use xlink:href=\"#ArialMT-30\" x=\"166.845703\"/>\n      </g>\n     </g>\n    </g>\n    <g id=\"xtick_7\">\n     <g id=\"line2d_7\">\n      <path d=\"M 344.28961 288.047625 \nL 344.28961 21.935625 \n\" clip-path=\"url(#pf330ece396)\" style=\"fill: none; stroke: #ffffff; stroke-linecap: round\"/>\n     </g>\n     <g id=\"text_7\">\n      <!-- 1200 -->\n      <g style=\"fill: #262626\" transform=\"translate(332.055547 305.421219) scale(0.11 -0.11)\">\n       <use xlink:href=\"#ArialMT-31\"/>\n       <use xlink:href=\"#ArialMT-32\" x=\"55.615234\"/>\n       <use xlink:href=\"#ArialMT-30\" x=\"111.230469\"/>\n       <use xlink:href=\"#ArialMT-30\" x=\"166.845703\"/>\n      </g>\n     </g>\n    </g>\n    <g id=\"xtick_8\">\n     <g id=\"line2d_8\">\n      <path d=\"M 387.60576 288.047625 \nL 387.60576 21.935625 \n\" clip-path=\"url(#pf330ece396)\" style=\"fill: none; stroke: #ffffff; stroke-linecap: round\"/>\n     </g>\n     <g id=\"text_8\">\n      <!-- 1400 -->\n      <g style=\"fill: #262626\" transform=\"translate(375.371698 305.421219) scale(0.11 -0.11)\">\n       <use xlink:href=\"#ArialMT-31\"/>\n       <use xlink:href=\"#ArialMT-34\" x=\"55.615234\"/>\n       <use xlink:href=\"#ArialMT-30\" x=\"111.230469\"/>\n       <use xlink:href=\"#ArialMT-30\" x=\"166.845703\"/>\n      </g>\n     </g>\n    </g>\n    <g id=\"text_9\">\n     <!-- Amount of trees in ensemble -->\n     <g style=\"fill: #262626\" transform=\"translate(170.567813 320.196844) scale(0.12 -0.12)\">\n      <defs>\n       <path id=\"ArialMT-41\" d=\"M -9 0 \nL 1750 4581 \nL 2403 4581 \nL 4278 0 \nL 3588 0 \nL 3053 1388 \nL 1138 1388 \nL 634 0 \nL -9 0 \nz\nM 1313 1881 \nL 2866 1881 \nL 2388 3150 \nQ 2169 3728 2063 4100 \nQ 1975 3659 1816 3225 \nL 1313 1881 \nz\n\" transform=\"scale(0.015625)\"/>\n       <path id=\"ArialMT-6d\" d=\"M 422 0 \nL 422 3319 \nL 925 3319 \nL 925 2853 \nQ 1081 3097 1340 3245 \nQ 1600 3394 1931 3394 \nQ 2300 3394 2536 3241 \nQ 2772 3088 2869 2813 \nQ 3263 3394 3894 3394 \nQ 4388 3394 4653 3120 \nQ 4919 2847 4919 2278 \nL 4919 0 \nL 4359 0 \nL 4359 2091 \nQ 4359 2428 4304 2576 \nQ 4250 2725 4106 2815 \nQ 3963 2906 3769 2906 \nQ 3419 2906 3187 2673 \nQ 2956 2441 2956 1928 \nL 2956 0 \nL 2394 0 \nL 2394 2156 \nQ 2394 2531 2256 2718 \nQ 2119 2906 1806 2906 \nQ 1569 2906 1367 2781 \nQ 1166 2656 1075 2415 \nQ 984 2175 984 1722 \nL 984 0 \nL 422 0 \nz\n\" transform=\"scale(0.015625)\"/>\n       <path id=\"ArialMT-6f\" d=\"M 213 1659 \nQ 213 2581 725 3025 \nQ 1153 3394 1769 3394 \nQ 2453 3394 2887 2945 \nQ 3322 2497 3322 1706 \nQ 3322 1066 3130 698 \nQ 2938 331 2570 128 \nQ 2203 -75 1769 -75 \nQ 1072 -75 642 372 \nQ 213 819 213 1659 \nz\nM 791 1659 \nQ 791 1022 1069 705 \nQ 1347 388 1769 388 \nQ 2188 388 2466 706 \nQ 2744 1025 2744 1678 \nQ 2744 2294 2464 2611 \nQ 2184 2928 1769 2928 \nQ 1347 2928 1069 2612 \nQ 791 2297 791 1659 \nz\n\" transform=\"scale(0.015625)\"/>\n       <path id=\"ArialMT-75\" d=\"M 2597 0 \nL 2597 488 \nQ 2209 -75 1544 -75 \nQ 1250 -75 995 37 \nQ 741 150 617 320 \nQ 494 491 444 738 \nQ 409 903 409 1263 \nL 409 3319 \nL 972 3319 \nL 972 1478 \nQ 972 1038 1006 884 \nQ 1059 663 1231 536 \nQ 1403 409 1656 409 \nQ 1909 409 2131 539 \nQ 2353 669 2445 892 \nQ 2538 1116 2538 1541 \nL 2538 3319 \nL 3100 3319 \nL 3100 0 \nL 2597 0 \nz\n\" transform=\"scale(0.015625)\"/>\n       <path id=\"ArialMT-6e\" d=\"M 422 0 \nL 422 3319 \nL 928 3319 \nL 928 2847 \nQ 1294 3394 1984 3394 \nQ 2284 3394 2536 3286 \nQ 2788 3178 2913 3003 \nQ 3038 2828 3088 2588 \nQ 3119 2431 3119 2041 \nL 3119 0 \nL 2556 0 \nL 2556 2019 \nQ 2556 2363 2490 2533 \nQ 2425 2703 2258 2804 \nQ 2091 2906 1866 2906 \nQ 1506 2906 1245 2678 \nQ 984 2450 984 1813 \nL 984 0 \nL 422 0 \nz\n\" transform=\"scale(0.015625)\"/>\n       <path id=\"ArialMT-74\" d=\"M 1650 503 \nL 1731 6 \nQ 1494 -44 1306 -44 \nQ 1000 -44 831 53 \nQ 663 150 594 308 \nQ 525 466 525 972 \nL 525 2881 \nL 113 2881 \nL 113 3319 \nL 525 3319 \nL 525 4141 \nL 1084 4478 \nL 1084 3319 \nL 1650 3319 \nL 1650 2881 \nL 1084 2881 \nL 1084 941 \nQ 1084 700 1114 631 \nQ 1144 563 1211 522 \nQ 1278 481 1403 481 \nQ 1497 481 1650 503 \nz\n\" transform=\"scale(0.015625)\"/>\n       <path id=\"ArialMT-20\" transform=\"scale(0.015625)\"/>\n       <path id=\"ArialMT-66\" d=\"M 556 0 \nL 556 2881 \nL 59 2881 \nL 59 3319 \nL 556 3319 \nL 556 3672 \nQ 556 4006 616 4169 \nQ 697 4388 901 4523 \nQ 1106 4659 1475 4659 \nQ 1713 4659 2000 4603 \nL 1916 4113 \nQ 1741 4144 1584 4144 \nQ 1328 4144 1222 4034 \nQ 1116 3925 1116 3625 \nL 1116 3319 \nL 1763 3319 \nL 1763 2881 \nL 1116 2881 \nL 1116 0 \nL 556 0 \nz\n\" transform=\"scale(0.015625)\"/>\n       <path id=\"ArialMT-72\" d=\"M 416 0 \nL 416 3319 \nL 922 3319 \nL 922 2816 \nQ 1116 3169 1280 3281 \nQ 1444 3394 1641 3394 \nQ 1925 3394 2219 3213 \nL 2025 2691 \nQ 1819 2813 1613 2813 \nQ 1428 2813 1281 2702 \nQ 1134 2591 1072 2394 \nQ 978 2094 978 1738 \nL 978 0 \nL 416 0 \nz\n\" transform=\"scale(0.015625)\"/>\n       <path id=\"ArialMT-65\" d=\"M 2694 1069 \nL 3275 997 \nQ 3138 488 2766 206 \nQ 2394 -75 1816 -75 \nQ 1088 -75 661 373 \nQ 234 822 234 1631 \nQ 234 2469 665 2931 \nQ 1097 3394 1784 3394 \nQ 2450 3394 2872 2941 \nQ 3294 2488 3294 1666 \nQ 3294 1616 3291 1516 \nL 816 1516 \nQ 847 969 1125 678 \nQ 1403 388 1819 388 \nQ 2128 388 2347 550 \nQ 2566 713 2694 1069 \nz\nM 847 1978 \nL 2700 1978 \nQ 2663 2397 2488 2606 \nQ 2219 2931 1791 2931 \nQ 1403 2931 1139 2672 \nQ 875 2413 847 1978 \nz\n\" transform=\"scale(0.015625)\"/>\n       <path id=\"ArialMT-73\" d=\"M 197 991 \nL 753 1078 \nQ 800 744 1014 566 \nQ 1228 388 1613 388 \nQ 2000 388 2187 545 \nQ 2375 703 2375 916 \nQ 2375 1106 2209 1216 \nQ 2094 1291 1634 1406 \nQ 1016 1563 777 1677 \nQ 538 1791 414 1992 \nQ 291 2194 291 2438 \nQ 291 2659 392 2848 \nQ 494 3038 669 3163 \nQ 800 3259 1026 3326 \nQ 1253 3394 1513 3394 \nQ 1903 3394 2198 3281 \nQ 2494 3169 2634 2976 \nQ 2775 2784 2828 2463 \nL 2278 2388 \nQ 2241 2644 2061 2787 \nQ 1881 2931 1553 2931 \nQ 1166 2931 1000 2803 \nQ 834 2675 834 2503 \nQ 834 2394 903 2306 \nQ 972 2216 1119 2156 \nQ 1203 2125 1616 2013 \nQ 2213 1853 2448 1751 \nQ 2684 1650 2818 1456 \nQ 2953 1263 2953 975 \nQ 2953 694 2789 445 \nQ 2625 197 2315 61 \nQ 2006 -75 1616 -75 \nQ 969 -75 630 194 \nQ 291 463 197 991 \nz\n\" transform=\"scale(0.015625)\"/>\n       <path id=\"ArialMT-69\" d=\"M 425 3934 \nL 425 4581 \nL 988 4581 \nL 988 3934 \nL 425 3934 \nz\nM 425 0 \nL 425 3319 \nL 988 3319 \nL 988 0 \nL 425 0 \nz\n\" transform=\"scale(0.015625)\"/>\n       <path id=\"ArialMT-62\" d=\"M 941 0 \nL 419 0 \nL 419 4581 \nL 981 4581 \nL 981 2947 \nQ 1338 3394 1891 3394 \nQ 2197 3394 2470 3270 \nQ 2744 3147 2920 2923 \nQ 3097 2700 3197 2384 \nQ 3297 2069 3297 1709 \nQ 3297 856 2875 390 \nQ 2453 -75 1863 -75 \nQ 1275 -75 941 416 \nL 941 0 \nz\nM 934 1684 \nQ 934 1088 1097 822 \nQ 1363 388 1816 388 \nQ 2184 388 2453 708 \nQ 2722 1028 2722 1663 \nQ 2722 2313 2464 2622 \nQ 2206 2931 1841 2931 \nQ 1472 2931 1203 2611 \nQ 934 2291 934 1684 \nz\n\" transform=\"scale(0.015625)\"/>\n       <path id=\"ArialMT-6c\" d=\"M 409 0 \nL 409 4581 \nL 972 4581 \nL 972 0 \nL 409 0 \nz\n\" transform=\"scale(0.015625)\"/>\n      </defs>\n      <use xlink:href=\"#ArialMT-41\"/>\n      <use xlink:href=\"#ArialMT-6d\" x=\"66.699219\"/>\n      <use xlink:href=\"#ArialMT-6f\" x=\"150\"/>\n      <use xlink:href=\"#ArialMT-75\" x=\"205.615234\"/>\n      <use xlink:href=\"#ArialMT-6e\" x=\"261.230469\"/>\n      <use xlink:href=\"#ArialMT-74\" x=\"316.845703\"/>\n      <use xlink:href=\"#ArialMT-20\" x=\"344.628906\"/>\n      <use xlink:href=\"#ArialMT-6f\" x=\"372.412109\"/>\n      <use xlink:href=\"#ArialMT-66\" x=\"428.027344\"/>\n      <use xlink:href=\"#ArialMT-20\" x=\"455.810547\"/>\n      <use xlink:href=\"#ArialMT-74\" x=\"483.59375\"/>\n      <use xlink:href=\"#ArialMT-72\" x=\"511.376953\"/>\n      <use xlink:href=\"#ArialMT-65\" x=\"544.677734\"/>\n      <use xlink:href=\"#ArialMT-65\" x=\"600.292969\"/>\n      <use xlink:href=\"#ArialMT-73\" x=\"655.908203\"/>\n      <use xlink:href=\"#ArialMT-20\" x=\"705.908203\"/>\n      <use xlink:href=\"#ArialMT-69\" x=\"733.691406\"/>\n      <use xlink:href=\"#ArialMT-6e\" x=\"755.908203\"/>\n      <use xlink:href=\"#ArialMT-20\" x=\"811.523438\"/>\n      <use xlink:href=\"#ArialMT-65\" x=\"839.306641\"/>\n      <use xlink:href=\"#ArialMT-6e\" x=\"894.921875\"/>\n      <use xlink:href=\"#ArialMT-73\" x=\"950.537109\"/>\n      <use xlink:href=\"#ArialMT-65\" x=\"1000.537109\"/>\n      <use xlink:href=\"#ArialMT-6d\" x=\"1056.152344\"/>\n      <use xlink:href=\"#ArialMT-62\" x=\"1139.453125\"/>\n      <use xlink:href=\"#ArialMT-6c\" x=\"1195.068359\"/>\n      <use xlink:href=\"#ArialMT-65\" x=\"1217.285156\"/>\n     </g>\n    </g>\n   </g>\n   <g id=\"matplotlib.axis_2\">\n    <g id=\"ytick_1\">\n     <g id=\"line2d_9\">\n      <path d=\"M 68.376563 258.427235 \nL 425.496562 258.427235 \n\" clip-path=\"url(#pf330ece396)\" style=\"fill: none; stroke: #ffffff; stroke-linecap: round\"/>\n     </g>\n     <g id=\"line2d_10\">\n      <defs>\n       <path id=\"ma9b65809e9\" d=\"M 0 0 \nL -6 0 \n\" style=\"stroke: #bb83f4; stroke-width: 1.25\"/>\n      </defs>\n      <g>\n       <use xlink:href=\"#ma9b65809e9\" x=\"68.376563\" y=\"258.427235\" style=\"fill: #bb83f4; stroke: #bb83f4; stroke-width: 1.25\"/>\n      </g>\n     </g>\n     <g id=\"text_10\">\n      <!-- 150000 -->\n      <g style=\"fill: #bb83f4\" transform=\"translate(22.174375 262.364032) scale(0.11 -0.11)\">\n       <defs>\n        <path id=\"ArialMT-35\" d=\"M 266 1200 \nL 856 1250 \nQ 922 819 1161 601 \nQ 1400 384 1738 384 \nQ 2144 384 2425 690 \nQ 2706 997 2706 1503 \nQ 2706 1984 2436 2262 \nQ 2166 2541 1728 2541 \nQ 1456 2541 1237 2417 \nQ 1019 2294 894 2097 \nL 366 2166 \nL 809 4519 \nL 3088 4519 \nL 3088 3981 \nL 1259 3981 \nL 1013 2750 \nQ 1425 3038 1878 3038 \nQ 2478 3038 2890 2622 \nQ 3303 2206 3303 1553 \nQ 3303 931 2941 478 \nQ 2500 -78 1738 -78 \nQ 1113 -78 717 272 \nQ 322 622 266 1200 \nz\n\" transform=\"scale(0.015625)\"/>\n       </defs>\n       <use xlink:href=\"#ArialMT-31\"/>\n       <use xlink:href=\"#ArialMT-35\" x=\"55.615234\"/>\n       <use xlink:href=\"#ArialMT-30\" x=\"111.230469\"/>\n       <use xlink:href=\"#ArialMT-30\" x=\"166.845703\"/>\n       <use xlink:href=\"#ArialMT-30\" x=\"222.460938\"/>\n       <use xlink:href=\"#ArialMT-30\" x=\"278.076172\"/>\n      </g>\n     </g>\n    </g>\n    <g id=\"ytick_2\">\n     <g id=\"line2d_11\">\n      <path d=\"M 68.376563 212.657968 \nL 425.496562 212.657968 \n\" clip-path=\"url(#pf330ece396)\" style=\"fill: none; stroke: #ffffff; stroke-linecap: round\"/>\n     </g>\n     <g id=\"line2d_12\">\n      <g>\n       <use xlink:href=\"#ma9b65809e9\" x=\"68.376563\" y=\"212.657968\" style=\"fill: #bb83f4; stroke: #bb83f4; stroke-width: 1.25\"/>\n      </g>\n     </g>\n     <g id=\"text_11\">\n      <!-- 200000 -->\n      <g style=\"fill: #bb83f4\" transform=\"translate(22.174375 216.594765) scale(0.11 -0.11)\">\n       <use xlink:href=\"#ArialMT-32\"/>\n       <use xlink:href=\"#ArialMT-30\" x=\"55.615234\"/>\n       <use xlink:href=\"#ArialMT-30\" x=\"111.230469\"/>\n       <use xlink:href=\"#ArialMT-30\" x=\"166.845703\"/>\n       <use xlink:href=\"#ArialMT-30\" x=\"222.460938\"/>\n       <use xlink:href=\"#ArialMT-30\" x=\"278.076172\"/>\n      </g>\n     </g>\n    </g>\n    <g id=\"ytick_3\">\n     <g id=\"line2d_13\">\n      <path d=\"M 68.376563 166.888701 \nL 425.496562 166.888701 \n\" clip-path=\"url(#pf330ece396)\" style=\"fill: none; stroke: #ffffff; stroke-linecap: round\"/>\n     </g>\n     <g id=\"line2d_14\">\n      <g>\n       <use xlink:href=\"#ma9b65809e9\" x=\"68.376563\" y=\"166.888701\" style=\"fill: #bb83f4; stroke: #bb83f4; stroke-width: 1.25\"/>\n      </g>\n     </g>\n     <g id=\"text_12\">\n      <!-- 250000 -->\n      <g style=\"fill: #bb83f4\" transform=\"translate(22.174375 170.825498) scale(0.11 -0.11)\">\n       <use xlink:href=\"#ArialMT-32\"/>\n       <use xlink:href=\"#ArialMT-35\" x=\"55.615234\"/>\n       <use xlink:href=\"#ArialMT-30\" x=\"111.230469\"/>\n       <use xlink:href=\"#ArialMT-30\" x=\"166.845703\"/>\n       <use xlink:href=\"#ArialMT-30\" x=\"222.460938\"/>\n       <use xlink:href=\"#ArialMT-30\" x=\"278.076172\"/>\n      </g>\n     </g>\n    </g>\n    <g id=\"ytick_4\">\n     <g id=\"line2d_15\">\n      <path d=\"M 68.376563 121.119434 \nL 425.496562 121.119434 \n\" clip-path=\"url(#pf330ece396)\" style=\"fill: none; stroke: #ffffff; stroke-linecap: round\"/>\n     </g>\n     <g id=\"line2d_16\">\n      <g>\n       <use xlink:href=\"#ma9b65809e9\" x=\"68.376563\" y=\"121.119434\" style=\"fill: #bb83f4; stroke: #bb83f4; stroke-width: 1.25\"/>\n      </g>\n     </g>\n     <g id=\"text_13\">\n      <!-- 300000 -->\n      <g style=\"fill: #bb83f4\" transform=\"translate(22.174375 125.056231) scale(0.11 -0.11)\">\n       <defs>\n        <path id=\"ArialMT-33\" d=\"M 269 1209 \nL 831 1284 \nQ 928 806 1161 595 \nQ 1394 384 1728 384 \nQ 2125 384 2398 659 \nQ 2672 934 2672 1341 \nQ 2672 1728 2419 1979 \nQ 2166 2231 1775 2231 \nQ 1616 2231 1378 2169 \nL 1441 2663 \nQ 1497 2656 1531 2656 \nQ 1891 2656 2178 2843 \nQ 2466 3031 2466 3422 \nQ 2466 3731 2256 3934 \nQ 2047 4138 1716 4138 \nQ 1388 4138 1169 3931 \nQ 950 3725 888 3313 \nL 325 3413 \nQ 428 3978 793 4289 \nQ 1159 4600 1703 4600 \nQ 2078 4600 2393 4439 \nQ 2709 4278 2876 4000 \nQ 3044 3722 3044 3409 \nQ 3044 3113 2884 2869 \nQ 2725 2625 2413 2481 \nQ 2819 2388 3044 2092 \nQ 3269 1797 3269 1353 \nQ 3269 753 2831 336 \nQ 2394 -81 1725 -81 \nQ 1122 -81 723 278 \nQ 325 638 269 1209 \nz\n\" transform=\"scale(0.015625)\"/>\n       </defs>\n       <use xlink:href=\"#ArialMT-33\"/>\n       <use xlink:href=\"#ArialMT-30\" x=\"55.615234\"/>\n       <use xlink:href=\"#ArialMT-30\" x=\"111.230469\"/>\n       <use xlink:href=\"#ArialMT-30\" x=\"166.845703\"/>\n       <use xlink:href=\"#ArialMT-30\" x=\"222.460938\"/>\n       <use xlink:href=\"#ArialMT-30\" x=\"278.076172\"/>\n      </g>\n     </g>\n    </g>\n    <g id=\"ytick_5\">\n     <g id=\"line2d_17\">\n      <path d=\"M 68.376563 75.350168 \nL 425.496562 75.350168 \n\" clip-path=\"url(#pf330ece396)\" style=\"fill: none; stroke: #ffffff; stroke-linecap: round\"/>\n     </g>\n     <g id=\"line2d_18\">\n      <g>\n       <use xlink:href=\"#ma9b65809e9\" x=\"68.376563\" y=\"75.350168\" style=\"fill: #bb83f4; stroke: #bb83f4; stroke-width: 1.25\"/>\n      </g>\n     </g>\n     <g id=\"text_14\">\n      <!-- 350000 -->\n      <g style=\"fill: #bb83f4\" transform=\"translate(22.174375 79.286964) scale(0.11 -0.11)\">\n       <use xlink:href=\"#ArialMT-33\"/>\n       <use xlink:href=\"#ArialMT-35\" x=\"55.615234\"/>\n       <use xlink:href=\"#ArialMT-30\" x=\"111.230469\"/>\n       <use xlink:href=\"#ArialMT-30\" x=\"166.845703\"/>\n       <use xlink:href=\"#ArialMT-30\" x=\"222.460938\"/>\n       <use xlink:href=\"#ArialMT-30\" x=\"278.076172\"/>\n      </g>\n     </g>\n    </g>\n    <g id=\"ytick_6\">\n     <g id=\"line2d_19\">\n      <path d=\"M 68.376563 29.580901 \nL 425.496562 29.580901 \n\" clip-path=\"url(#pf330ece396)\" style=\"fill: none; stroke: #ffffff; stroke-linecap: round\"/>\n     </g>\n     <g id=\"line2d_20\">\n      <g>\n       <use xlink:href=\"#ma9b65809e9\" x=\"68.376563\" y=\"29.580901\" style=\"fill: #bb83f4; stroke: #bb83f4; stroke-width: 1.25\"/>\n      </g>\n     </g>\n     <g id=\"text_15\">\n      <!-- 400000 -->\n      <g style=\"fill: #bb83f4\" transform=\"translate(22.174375 33.517698) scale(0.11 -0.11)\">\n       <use xlink:href=\"#ArialMT-34\"/>\n       <use xlink:href=\"#ArialMT-30\" x=\"55.615234\"/>\n       <use xlink:href=\"#ArialMT-30\" x=\"111.230469\"/>\n       <use xlink:href=\"#ArialMT-30\" x=\"166.845703\"/>\n       <use xlink:href=\"#ArialMT-30\" x=\"222.460938\"/>\n       <use xlink:href=\"#ArialMT-30\" x=\"278.076172\"/>\n      </g>\n     </g>\n    </g>\n    <g id=\"text_16\">\n     <!-- RMSE -->\n     <g style=\"fill: #bb83f4\" transform=\"translate(15.789375 172.326937) rotate(-90) scale(0.12 -0.12)\">\n      <defs>\n       <path id=\"ArialMT-52\" d=\"M 503 0 \nL 503 4581 \nL 2534 4581 \nQ 3147 4581 3465 4457 \nQ 3784 4334 3975 4021 \nQ 4166 3709 4166 3331 \nQ 4166 2844 3850 2509 \nQ 3534 2175 2875 2084 \nQ 3116 1969 3241 1856 \nQ 3506 1613 3744 1247 \nL 4541 0 \nL 3778 0 \nL 3172 953 \nQ 2906 1366 2734 1584 \nQ 2563 1803 2427 1890 \nQ 2291 1978 2150 2013 \nQ 2047 2034 1813 2034 \nL 1109 2034 \nL 1109 0 \nL 503 0 \nz\nM 1109 2559 \nL 2413 2559 \nQ 2828 2559 3062 2645 \nQ 3297 2731 3419 2920 \nQ 3541 3109 3541 3331 \nQ 3541 3656 3305 3865 \nQ 3069 4075 2559 4075 \nL 1109 4075 \nL 1109 2559 \nz\n\" transform=\"scale(0.015625)\"/>\n       <path id=\"ArialMT-4d\" d=\"M 475 0 \nL 475 4581 \nL 1388 4581 \nL 2472 1338 \nQ 2622 884 2691 659 \nQ 2769 909 2934 1394 \nL 4031 4581 \nL 4847 4581 \nL 4847 0 \nL 4263 0 \nL 4263 3834 \nL 2931 0 \nL 2384 0 \nL 1059 3900 \nL 1059 0 \nL 475 0 \nz\n\" transform=\"scale(0.015625)\"/>\n       <path id=\"ArialMT-53\" d=\"M 288 1472 \nL 859 1522 \nQ 900 1178 1048 958 \nQ 1197 738 1509 602 \nQ 1822 466 2213 466 \nQ 2559 466 2825 569 \nQ 3091 672 3220 851 \nQ 3350 1031 3350 1244 \nQ 3350 1459 3225 1620 \nQ 3100 1781 2813 1891 \nQ 2628 1963 1997 2114 \nQ 1366 2266 1113 2400 \nQ 784 2572 623 2826 \nQ 463 3081 463 3397 \nQ 463 3744 659 4045 \nQ 856 4347 1234 4503 \nQ 1613 4659 2075 4659 \nQ 2584 4659 2973 4495 \nQ 3363 4331 3572 4012 \nQ 3781 3694 3797 3291 \nL 3216 3247 \nQ 3169 3681 2898 3903 \nQ 2628 4125 2100 4125 \nQ 1550 4125 1298 3923 \nQ 1047 3722 1047 3438 \nQ 1047 3191 1225 3031 \nQ 1400 2872 2139 2705 \nQ 2878 2538 3153 2413 \nQ 3553 2228 3743 1945 \nQ 3934 1663 3934 1294 \nQ 3934 928 3725 604 \nQ 3516 281 3123 101 \nQ 2731 -78 2241 -78 \nQ 1619 -78 1198 103 \nQ 778 284 539 648 \nQ 300 1013 288 1472 \nz\n\" transform=\"scale(0.015625)\"/>\n       <path id=\"ArialMT-45\" d=\"M 506 0 \nL 506 4581 \nL 3819 4581 \nL 3819 4041 \nL 1113 4041 \nL 1113 2638 \nL 3647 2638 \nL 3647 2100 \nL 1113 2100 \nL 1113 541 \nL 3925 541 \nL 3925 0 \nL 506 0 \nz\n\" transform=\"scale(0.015625)\"/>\n      </defs>\n      <use xlink:href=\"#ArialMT-52\"/>\n      <use xlink:href=\"#ArialMT-4d\" x=\"72.216797\"/>\n      <use xlink:href=\"#ArialMT-53\" x=\"155.517578\"/>\n      <use xlink:href=\"#ArialMT-45\" x=\"222.216797\"/>\n     </g>\n    </g>\n   </g>\n   <g id=\"PolyCollection_1\"/>\n   <g id=\"line2d_21\">\n    <path d=\"M 84.60929 34.031625 \nL 85.475613 93.562929 \nL 86.558517 141.923663 \nL 106.050784 257.234386 \nL 127.708859 265.006709 \nL 149.366934 268.397637 \nL 171.025009 273.002229 \nL 192.683084 273.933906 \nL 214.34116 275.951625 \nL 235.999235 273.105022 \nL 300.97346 275.380414 \nL 409.263835 275.582464 \n\" clip-path=\"url(#pf330ece396)\" style=\"fill: none; stroke: #bb83f4; stroke-width: 1.5; stroke-linecap: round\"/>\n   </g>\n   <g id=\"patch_3\">\n    <path d=\"M 68.376563 288.047625 \nL 68.376563 21.935625 \n\" style=\"fill: none; stroke: #ffffff; stroke-width: 1.25; stroke-linejoin: miter; stroke-linecap: square\"/>\n   </g>\n   <g id=\"patch_4\">\n    <path d=\"M 425.496562 288.047625 \nL 425.496562 21.935625 \n\" style=\"fill: none; stroke: #ffffff; stroke-width: 1.25; stroke-linejoin: miter; stroke-linecap: square\"/>\n   </g>\n   <g id=\"patch_5\">\n    <path d=\"M 68.376563 288.047625 \nL 425.496562 288.047625 \n\" style=\"fill: none; stroke: #ffffff; stroke-width: 1.25; stroke-linejoin: miter; stroke-linecap: square\"/>\n   </g>\n   <g id=\"patch_6\">\n    <path d=\"M 68.376563 21.935625 \nL 425.496562 21.935625 \n\" style=\"fill: none; stroke: #ffffff; stroke-width: 1.25; stroke-linejoin: miter; stroke-linecap: square\"/>\n   </g>\n  </g>\n  <g id=\"axes_2\">\n   <g id=\"matplotlib.axis_3\">\n    <g id=\"ytick_7\">\n     <g id=\"line2d_22\">\n      <defs>\n       <path id=\"m3f6a529b2c\" d=\"M 0 0 \nL 6 0 \n\" style=\"stroke: #3ba3ec; stroke-width: 1.25\"/>\n      </defs>\n      <g>\n       <use xlink:href=\"#m3f6a529b2c\" x=\"425.496562\" y=\"275.952506\" style=\"fill: #3ba3ec; stroke: #3ba3ec; stroke-width: 1.25\"/>\n      </g>\n     </g>\n     <g id=\"text_17\">\n      <!-- 0 -->\n      <g style=\"fill: #3ba3ec\" transform=\"translate(434.996562 279.889303) scale(0.11 -0.11)\">\n       <use xlink:href=\"#ArialMT-30\"/>\n      </g>\n     </g>\n    </g>\n    <g id=\"ytick_8\">\n     <g id=\"line2d_23\">\n      <g>\n       <use xlink:href=\"#m3f6a529b2c\" x=\"425.496562\" y=\"230.977875\" style=\"fill: #3ba3ec; stroke: #3ba3ec; stroke-width: 1.25\"/>\n      </g>\n     </g>\n     <g id=\"text_18\">\n      <!-- 5 -->\n      <g style=\"fill: #3ba3ec\" transform=\"translate(434.996562 234.914672) scale(0.11 -0.11)\">\n       <use xlink:href=\"#ArialMT-35\"/>\n      </g>\n     </g>\n    </g>\n    <g id=\"ytick_9\">\n     <g id=\"line2d_24\">\n      <g>\n       <use xlink:href=\"#m3f6a529b2c\" x=\"425.496562\" y=\"186.003245\" style=\"fill: #3ba3ec; stroke: #3ba3ec; stroke-width: 1.25\"/>\n      </g>\n     </g>\n     <g id=\"text_19\">\n      <!-- 10 -->\n      <g style=\"fill: #3ba3ec\" transform=\"translate(434.996562 189.940041) scale(0.11 -0.11)\">\n       <use xlink:href=\"#ArialMT-31\"/>\n       <use xlink:href=\"#ArialMT-30\" x=\"55.615234\"/>\n      </g>\n     </g>\n    </g>\n    <g id=\"ytick_10\">\n     <g id=\"line2d_25\">\n      <g>\n       <use xlink:href=\"#m3f6a529b2c\" x=\"425.496562\" y=\"141.028614\" style=\"fill: #3ba3ec; stroke: #3ba3ec; stroke-width: 1.25\"/>\n      </g>\n     </g>\n     <g id=\"text_20\">\n      <!-- 15 -->\n      <g style=\"fill: #3ba3ec\" transform=\"translate(434.996562 144.965411) scale(0.11 -0.11)\">\n       <use xlink:href=\"#ArialMT-31\"/>\n       <use xlink:href=\"#ArialMT-35\" x=\"55.615234\"/>\n      </g>\n     </g>\n    </g>\n    <g id=\"ytick_11\">\n     <g id=\"line2d_26\">\n      <g>\n       <use xlink:href=\"#m3f6a529b2c\" x=\"425.496562\" y=\"96.053983\" style=\"fill: #3ba3ec; stroke: #3ba3ec; stroke-width: 1.25\"/>\n      </g>\n     </g>\n     <g id=\"text_21\">\n      <!-- 20 -->\n      <g style=\"fill: #3ba3ec\" transform=\"translate(434.996562 99.99078) scale(0.11 -0.11)\">\n       <use xlink:href=\"#ArialMT-32\"/>\n       <use xlink:href=\"#ArialMT-30\" x=\"55.615234\"/>\n      </g>\n     </g>\n    </g>\n    <g id=\"ytick_12\">\n     <g id=\"line2d_27\">\n      <g>\n       <use xlink:href=\"#m3f6a529b2c\" x=\"425.496562\" y=\"51.079352\" style=\"fill: #3ba3ec; stroke: #3ba3ec; stroke-width: 1.25\"/>\n      </g>\n     </g>\n     <g id=\"text_22\">\n      <!-- 25 -->\n      <g style=\"fill: #3ba3ec\" transform=\"translate(434.996562 55.016149) scale(0.11 -0.11)\">\n       <use xlink:href=\"#ArialMT-32\"/>\n       <use xlink:href=\"#ArialMT-35\" x=\"55.615234\"/>\n      </g>\n     </g>\n    </g>\n    <g id=\"text_23\">\n     <!-- Time (s) -->\n     <g style=\"fill: #3ba3ec\" transform=\"translate(459.96625 176.761312) rotate(-90) scale(0.12 -0.12)\">\n      <defs>\n       <path id=\"ArialMT-54\" d=\"M 1659 0 \nL 1659 4041 \nL 150 4041 \nL 150 4581 \nL 3781 4581 \nL 3781 4041 \nL 2266 4041 \nL 2266 0 \nL 1659 0 \nz\n\" transform=\"scale(0.015625)\"/>\n       <path id=\"ArialMT-28\" d=\"M 1497 -1347 \nQ 1031 -759 709 28 \nQ 388 816 388 1659 \nQ 388 2403 628 3084 \nQ 909 3875 1497 4659 \nL 1900 4659 \nQ 1522 4009 1400 3731 \nQ 1209 3300 1100 2831 \nQ 966 2247 966 1656 \nQ 966 153 1900 -1347 \nL 1497 -1347 \nz\n\" transform=\"scale(0.015625)\"/>\n       <path id=\"ArialMT-29\" d=\"M 791 -1347 \nL 388 -1347 \nQ 1322 153 1322 1656 \nQ 1322 2244 1188 2822 \nQ 1081 3291 891 3722 \nQ 769 4003 388 4659 \nL 791 4659 \nQ 1378 3875 1659 3084 \nQ 1900 2403 1900 1659 \nQ 1900 816 1576 28 \nQ 1253 -759 791 -1347 \nz\n\" transform=\"scale(0.015625)\"/>\n      </defs>\n      <use xlink:href=\"#ArialMT-54\"/>\n      <use xlink:href=\"#ArialMT-69\" x=\"57.333984\"/>\n      <use xlink:href=\"#ArialMT-6d\" x=\"79.550781\"/>\n      <use xlink:href=\"#ArialMT-65\" x=\"162.851562\"/>\n      <use xlink:href=\"#ArialMT-20\" x=\"218.466797\"/>\n      <use xlink:href=\"#ArialMT-28\" x=\"246.25\"/>\n      <use xlink:href=\"#ArialMT-73\" x=\"279.550781\"/>\n      <use xlink:href=\"#ArialMT-29\" x=\"329.550781\"/>\n     </g>\n    </g>\n   </g>\n   <g id=\"PolyCollection_2\"/>\n   <g id=\"line2d_28\">\n    <path d=\"M 84.60929 275.951625 \nL 85.475613 275.483925 \nL 86.558517 274.91898 \nL 106.050784 260.946351 \nL 127.708859 247.057871 \nL 149.366934 229.031572 \nL 171.025009 213.399881 \nL 192.683084 197.887169 \nL 214.34116 180.981375 \nL 235.999235 166.302396 \nL 300.97346 117.629527 \nL 409.263835 34.031625 \n\" clip-path=\"url(#pf330ece396)\" style=\"fill: none; stroke: #3ba3ec; stroke-width: 1.5; stroke-linecap: round\"/>\n   </g>\n   <g id=\"patch_7\">\n    <path d=\"M 68.376563 288.047625 \nL 68.376563 21.935625 \n\" style=\"fill: none; stroke: #bb83f4; stroke-width: 1.25; stroke-linejoin: miter; stroke-linecap: square\"/>\n   </g>\n   <g id=\"patch_8\">\n    <path d=\"M 425.496562 288.047625 \nL 425.496562 21.935625 \n\" style=\"fill: none; stroke: #3ba3ec; stroke-width: 1.25; stroke-linejoin: miter; stroke-linecap: square\"/>\n   </g>\n   <g id=\"patch_9\">\n    <path d=\"M 68.376563 288.047625 \nL 425.496562 288.047625 \n\" style=\"fill: none; stroke: #ffffff; stroke-width: 1.25; stroke-linejoin: miter; stroke-linecap: square\"/>\n   </g>\n   <g id=\"patch_10\">\n    <path d=\"M 68.376563 21.935625 \nL 425.496562 21.935625 \n\" style=\"fill: none; stroke: #ffffff; stroke-width: 1.25; stroke-linejoin: miter; stroke-linecap: square\"/>\n   </g>\n   <g id=\"text_24\">\n    <!-- Gradient Boosting Random Forest -->\n    <g style=\"fill: #262626\" transform=\"translate(155.896875 15.935625) scale(0.12 -0.12)\">\n     <defs>\n      <path id=\"ArialMT-47\" d=\"M 2638 1797 \nL 2638 2334 \nL 4578 2338 \nL 4578 638 \nQ 4131 281 3656 101 \nQ 3181 -78 2681 -78 \nQ 2006 -78 1454 211 \nQ 903 500 622 1047 \nQ 341 1594 341 2269 \nQ 341 2938 620 3517 \nQ 900 4097 1425 4378 \nQ 1950 4659 2634 4659 \nQ 3131 4659 3532 4498 \nQ 3934 4338 4162 4050 \nQ 4391 3763 4509 3300 \nL 3963 3150 \nQ 3859 3500 3706 3700 \nQ 3553 3900 3268 4020 \nQ 2984 4141 2638 4141 \nQ 2222 4141 1919 4014 \nQ 1616 3888 1430 3681 \nQ 1244 3475 1141 3228 \nQ 966 2803 966 2306 \nQ 966 1694 1177 1281 \nQ 1388 869 1791 669 \nQ 2194 469 2647 469 \nQ 3041 469 3416 620 \nQ 3791 772 3984 944 \nL 3984 1797 \nL 2638 1797 \nz\n\" transform=\"scale(0.015625)\"/>\n      <path id=\"ArialMT-61\" d=\"M 2588 409 \nQ 2275 144 1986 34 \nQ 1697 -75 1366 -75 \nQ 819 -75 525 192 \nQ 231 459 231 875 \nQ 231 1119 342 1320 \nQ 453 1522 633 1644 \nQ 813 1766 1038 1828 \nQ 1203 1872 1538 1913 \nQ 2219 1994 2541 2106 \nQ 2544 2222 2544 2253 \nQ 2544 2597 2384 2738 \nQ 2169 2928 1744 2928 \nQ 1347 2928 1158 2789 \nQ 969 2650 878 2297 \nL 328 2372 \nQ 403 2725 575 2942 \nQ 747 3159 1072 3276 \nQ 1397 3394 1825 3394 \nQ 2250 3394 2515 3294 \nQ 2781 3194 2906 3042 \nQ 3031 2891 3081 2659 \nQ 3109 2516 3109 2141 \nL 3109 1391 \nQ 3109 606 3145 398 \nQ 3181 191 3288 0 \nL 2700 0 \nQ 2613 175 2588 409 \nz\nM 2541 1666 \nQ 2234 1541 1622 1453 \nQ 1275 1403 1131 1340 \nQ 988 1278 909 1158 \nQ 831 1038 831 891 \nQ 831 666 1001 516 \nQ 1172 366 1500 366 \nQ 1825 366 2078 508 \nQ 2331 650 2450 897 \nQ 2541 1088 2541 1459 \nL 2541 1666 \nz\n\" transform=\"scale(0.015625)\"/>\n      <path id=\"ArialMT-64\" d=\"M 2575 0 \nL 2575 419 \nQ 2259 -75 1647 -75 \nQ 1250 -75 917 144 \nQ 584 363 401 755 \nQ 219 1147 219 1656 \nQ 219 2153 384 2558 \nQ 550 2963 881 3178 \nQ 1213 3394 1622 3394 \nQ 1922 3394 2156 3267 \nQ 2391 3141 2538 2938 \nL 2538 4581 \nL 3097 4581 \nL 3097 0 \nL 2575 0 \nz\nM 797 1656 \nQ 797 1019 1065 703 \nQ 1334 388 1700 388 \nQ 2069 388 2326 689 \nQ 2584 991 2584 1609 \nQ 2584 2291 2321 2609 \nQ 2059 2928 1675 2928 \nQ 1300 2928 1048 2622 \nQ 797 2316 797 1656 \nz\n\" transform=\"scale(0.015625)\"/>\n      <path id=\"ArialMT-42\" d=\"M 469 0 \nL 469 4581 \nL 2188 4581 \nQ 2713 4581 3030 4442 \nQ 3347 4303 3526 4014 \nQ 3706 3725 3706 3409 \nQ 3706 3116 3547 2856 \nQ 3388 2597 3066 2438 \nQ 3481 2316 3704 2022 \nQ 3928 1728 3928 1328 \nQ 3928 1006 3792 729 \nQ 3656 453 3456 303 \nQ 3256 153 2954 76 \nQ 2653 0 2216 0 \nL 469 0 \nz\nM 1075 2656 \nL 2066 2656 \nQ 2469 2656 2644 2709 \nQ 2875 2778 2992 2937 \nQ 3109 3097 3109 3338 \nQ 3109 3566 3000 3739 \nQ 2891 3913 2687 3977 \nQ 2484 4041 1991 4041 \nL 1075 4041 \nL 1075 2656 \nz\nM 1075 541 \nL 2216 541 \nQ 2509 541 2628 563 \nQ 2838 600 2978 687 \nQ 3119 775 3209 942 \nQ 3300 1109 3300 1328 \nQ 3300 1584 3169 1773 \nQ 3038 1963 2805 2039 \nQ 2572 2116 2134 2116 \nL 1075 2116 \nL 1075 541 \nz\n\" transform=\"scale(0.015625)\"/>\n      <path id=\"ArialMT-67\" d=\"M 319 -275 \nL 866 -356 \nQ 900 -609 1056 -725 \nQ 1266 -881 1628 -881 \nQ 2019 -881 2231 -725 \nQ 2444 -569 2519 -288 \nQ 2563 -116 2559 434 \nQ 2191 0 1641 0 \nQ 956 0 581 494 \nQ 206 988 206 1678 \nQ 206 2153 378 2554 \nQ 550 2956 876 3175 \nQ 1203 3394 1644 3394 \nQ 2231 3394 2613 2919 \nL 2613 3319 \nL 3131 3319 \nL 3131 450 \nQ 3131 -325 2973 -648 \nQ 2816 -972 2473 -1159 \nQ 2131 -1347 1631 -1347 \nQ 1038 -1347 672 -1080 \nQ 306 -813 319 -275 \nz\nM 784 1719 \nQ 784 1066 1043 766 \nQ 1303 466 1694 466 \nQ 2081 466 2343 764 \nQ 2606 1063 2606 1700 \nQ 2606 2309 2336 2618 \nQ 2066 2928 1684 2928 \nQ 1309 2928 1046 2623 \nQ 784 2319 784 1719 \nz\n\" transform=\"scale(0.015625)\"/>\n      <path id=\"ArialMT-46\" d=\"M 525 0 \nL 525 4581 \nL 3616 4581 \nL 3616 4041 \nL 1131 4041 \nL 1131 2622 \nL 3281 2622 \nL 3281 2081 \nL 1131 2081 \nL 1131 0 \nL 525 0 \nz\n\" transform=\"scale(0.015625)\"/>\n     </defs>\n     <use xlink:href=\"#ArialMT-47\"/>\n     <use xlink:href=\"#ArialMT-72\" x=\"77.783203\"/>\n     <use xlink:href=\"#ArialMT-61\" x=\"111.083984\"/>\n     <use xlink:href=\"#ArialMT-64\" x=\"166.699219\"/>\n     <use xlink:href=\"#ArialMT-69\" x=\"222.314453\"/>\n     <use xlink:href=\"#ArialMT-65\" x=\"244.53125\"/>\n     <use xlink:href=\"#ArialMT-6e\" x=\"300.146484\"/>\n     <use xlink:href=\"#ArialMT-74\" x=\"355.761719\"/>\n     <use xlink:href=\"#ArialMT-20\" x=\"383.544922\"/>\n     <use xlink:href=\"#ArialMT-42\" x=\"411.328125\"/>\n     <use xlink:href=\"#ArialMT-6f\" x=\"478.027344\"/>\n     <use xlink:href=\"#ArialMT-6f\" x=\"533.642578\"/>\n     <use xlink:href=\"#ArialMT-73\" x=\"589.257812\"/>\n     <use xlink:href=\"#ArialMT-74\" x=\"639.257812\"/>\n     <use xlink:href=\"#ArialMT-69\" x=\"667.041016\"/>\n     <use xlink:href=\"#ArialMT-6e\" x=\"689.257812\"/>\n     <use xlink:href=\"#ArialMT-67\" x=\"744.873047\"/>\n     <use xlink:href=\"#ArialMT-20\" x=\"800.488281\"/>\n     <use xlink:href=\"#ArialMT-52\" x=\"828.271484\"/>\n     <use xlink:href=\"#ArialMT-61\" x=\"900.488281\"/>\n     <use xlink:href=\"#ArialMT-6e\" x=\"956.103516\"/>\n     <use xlink:href=\"#ArialMT-64\" x=\"1011.71875\"/>\n     <use xlink:href=\"#ArialMT-6f\" x=\"1067.333984\"/>\n     <use xlink:href=\"#ArialMT-6d\" x=\"1122.949219\"/>\n     <use xlink:href=\"#ArialMT-20\" x=\"1206.25\"/>\n     <use xlink:href=\"#ArialMT-46\" x=\"1234.033203\"/>\n     <use xlink:href=\"#ArialMT-6f\" x=\"1295.117188\"/>\n     <use xlink:href=\"#ArialMT-72\" x=\"1350.732422\"/>\n     <use xlink:href=\"#ArialMT-65\" x=\"1384.033203\"/>\n     <use xlink:href=\"#ArialMT-73\" x=\"1439.648438\"/>\n     <use xlink:href=\"#ArialMT-74\" x=\"1489.648438\"/>\n    </g>\n   </g>\n  </g>\n </g>\n <defs>\n  <clipPath id=\"pf330ece396\">\n   <rect x=\"68.376563\" y=\"21.935625\" width=\"357.12\" height=\"266.112\"/>\n  </clipPath>\n </defs>\n</svg>\n",
      "text/plain": [
       "<Figure size 640x480 with 2 Axes>"
      ]
     },
     "metadata": {},
     "output_type": "display_data"
    }
   ],
   "source": [
    "color_rmse = sns.husl_palette(9)[7]\n",
    "color_time = sns.husl_palette(9)[6]\n",
    "\n",
    "ax1 = sns.lineplot(x=n_estimators, y=rmse_gbt_n_estimators, ci=False, color=color_rmse)\n",
    "ax1.set_ylabel(\"RMSE\", color=color_rmse)\n",
    "ax1.tick_params(axis='y', colors=color_rmse)\n",
    "\n",
    "ax2 = ax1.twinx()\n",
    "\n",
    "sns.lineplot(x=n_estimators, y=time_gbt_n_estimators, ci=False, color=color_time, ax=ax2)\n",
    "ax2.set_ylabel(\"Time (s)\", color=color_time)\n",
    "ax2.tick_params(axis='y', colors=color_time)\n",
    "ax2.grid(False)\n",
    "\n",
    "ax2.spines['left'].set_color(color_rmse)\n",
    "ax2.spines['right'].set_color(color_time)\n",
    "ax2.set_title(\"Gradient Boosting Random Forest\")\n",
    "ax1.set_xlabel(\"Amount of trees in ensemble\")\n",
    "plt.savefig('./report/exp2/n_estimators.pdf', bbox_inches='tight')\n",
    "#labels = list(str(i) for i in range(0, 15, 2)) + ['None']\n",
    "#ax2.set_xticks(range(0, 17, 2), labels)\n",
    "None"
   ]
  },
  {
   "cell_type": "code",
   "execution_count": 41,
   "metadata": {},
   "outputs": [
    {
     "data": {
      "text/plain": [
       "[395137.8681994684,\n",
       " 330103.72157330095,\n",
       " 277272.7095936283,\n",
       " 151303.11125139438,\n",
       " 142812.34444145253,\n",
       " 139107.97284265194,\n",
       " 134077.74954482287,\n",
       " 133059.95232669232,\n",
       " 130855.72304958143,\n",
       " 133965.4550101766,\n",
       " 131479.73450969244,\n",
       " 131259.00772494025]"
      ]
     },
     "execution_count": 41,
     "metadata": {},
     "output_type": "execute_result"
    }
   ],
   "source": [
    "rmse_gbt_n_estimators"
   ]
  },
  {
   "cell_type": "code",
   "execution_count": 42,
   "metadata": {},
   "outputs": [],
   "source": [
    "rmse_gbt_n_features = []\n",
    "time_gbt_n_features = []\n",
    "for n in n_features:\n",
    "    gbt_clf = GradientBoostingMSE(feature_subsample_size=n, n_estimators=600)\n",
    "    start_time = time()\n",
    "    gbt_clf.fit(X_train, y_train)\n",
    "    end_time = time()\n",
    "    time_gbt_n_features.append(end_time - start_time)\n",
    "    rmse_gbt_n_features.append(rmse(gbt_clf, X_test, y_test))"
   ]
  },
  {
   "cell_type": "code",
   "execution_count": 56,
   "metadata": {},
   "outputs": [
    {
     "data": {
      "image/svg+xml": "<?xml version=\"1.0\" encoding=\"utf-8\" standalone=\"no\"?>\n<!DOCTYPE svg PUBLIC \"-//W3C//DTD SVG 1.1//EN\"\n  \"http://www.w3.org/Graphics/SVG/1.1/DTD/svg11.dtd\">\n<svg xmlns:xlink=\"http://www.w3.org/1999/xlink\" width=\"515.656875pt\" height=\"349.323562pt\" viewBox=\"0 0 515.656875 349.323562\" xmlns=\"http://www.w3.org/2000/svg\" version=\"1.1\">\n <metadata>\n  <rdf:RDF xmlns:dc=\"http://purl.org/dc/elements/1.1/\" xmlns:cc=\"http://creativecommons.org/ns#\" xmlns:rdf=\"http://www.w3.org/1999/02/22-rdf-syntax-ns#\">\n   <cc:Work>\n    <dc:type rdf:resource=\"http://purl.org/dc/dcmitype/StillImage\"/>\n    <dc:date>2022-12-19T23:49:55.917672</dc:date>\n    <dc:format>image/svg+xml</dc:format>\n    <dc:creator>\n     <cc:Agent>\n      <dc:title>Matplotlib v3.6.2, https://matplotlib.org/</dc:title>\n     </cc:Agent>\n    </dc:creator>\n   </cc:Work>\n  </rdf:RDF>\n </metadata>\n <defs>\n  <style type=\"text/css\">*{stroke-linejoin: round; stroke-linecap: butt}</style>\n </defs>\n <g id=\"figure_1\">\n  <g id=\"patch_1\">\n   <path d=\"M 0 349.323562 \nL 515.656875 349.323562 \nL 515.656875 0 \nL 0 0 \nz\n\" style=\"fill: #ffffff\"/>\n  </g>\n  <g id=\"axes_1\">\n   <g id=\"patch_2\">\n    <path d=\"M 99.04875 293.871375 \nL 456.16875 293.871375 \nL 456.16875 27.759375 \nL 99.04875 27.759375 \nz\n\" style=\"fill: #eaeaf2\"/>\n   </g>\n   <g id=\"matplotlib.axis_1\">\n    <g id=\"xtick_1\">\n     <g id=\"line2d_1\">\n      <path d=\"M 99.821737 293.871375 \nL 99.821737 27.759375 \n\" clip-path=\"url(#p07e169260a)\" style=\"fill: none; stroke: #ffffff; stroke-linecap: round\"/>\n     </g>\n     <g id=\"text_1\">\n      <!-- 0 -->\n      <g style=\"fill: #262626\" transform=\"translate(94.816893 316.255437) scale(0.18 -0.18)\">\n       <defs>\n        <path id=\"ArialMT-30\" d=\"M 266 2259 \nQ 266 3072 433 3567 \nQ 600 4063 929 4331 \nQ 1259 4600 1759 4600 \nQ 2128 4600 2406 4451 \nQ 2684 4303 2865 4023 \nQ 3047 3744 3150 3342 \nQ 3253 2941 3253 2259 \nQ 3253 1453 3087 958 \nQ 2922 463 2592 192 \nQ 2263 -78 1759 -78 \nQ 1097 -78 719 397 \nQ 266 969 266 2259 \nz\nM 844 2259 \nQ 844 1131 1108 757 \nQ 1372 384 1759 384 \nQ 2147 384 2411 759 \nQ 2675 1134 2675 2259 \nQ 2675 3391 2411 3762 \nQ 2147 4134 1753 4134 \nQ 1366 4134 1134 3806 \nQ 844 3388 844 2259 \nz\n\" transform=\"scale(0.015625)\"/>\n       </defs>\n       <use xlink:href=\"#ArialMT-30\"/>\n      </g>\n     </g>\n    </g>\n    <g id=\"xtick_2\">\n     <g id=\"line2d_2\">\n      <path d=\"M 177.120438 293.871375 \nL 177.120438 27.759375 \n\" clip-path=\"url(#p07e169260a)\" style=\"fill: none; stroke: #ffffff; stroke-linecap: round\"/>\n     </g>\n     <g id=\"text_2\">\n      <!-- 5 -->\n      <g style=\"fill: #262626\" transform=\"translate(172.115595 316.255437) scale(0.18 -0.18)\">\n       <defs>\n        <path id=\"ArialMT-35\" d=\"M 266 1200 \nL 856 1250 \nQ 922 819 1161 601 \nQ 1400 384 1738 384 \nQ 2144 384 2425 690 \nQ 2706 997 2706 1503 \nQ 2706 1984 2436 2262 \nQ 2166 2541 1728 2541 \nQ 1456 2541 1237 2417 \nQ 1019 2294 894 2097 \nL 366 2166 \nL 809 4519 \nL 3088 4519 \nL 3088 3981 \nL 1259 3981 \nL 1013 2750 \nQ 1425 3038 1878 3038 \nQ 2478 3038 2890 2622 \nQ 3303 2206 3303 1553 \nQ 3303 931 2941 478 \nQ 2500 -78 1738 -78 \nQ 1113 -78 717 272 \nQ 322 622 266 1200 \nz\n\" transform=\"scale(0.015625)\"/>\n       </defs>\n       <use xlink:href=\"#ArialMT-35\"/>\n      </g>\n     </g>\n    </g>\n    <g id=\"xtick_3\">\n     <g id=\"line2d_3\">\n      <path d=\"M 254.41914 293.871375 \nL 254.41914 27.759375 \n\" clip-path=\"url(#p07e169260a)\" style=\"fill: none; stroke: #ffffff; stroke-linecap: round\"/>\n     </g>\n     <g id=\"text_3\">\n      <!-- 10 -->\n      <g style=\"fill: #262626\" transform=\"translate(244.409452 316.255437) scale(0.18 -0.18)\">\n       <defs>\n        <path id=\"ArialMT-31\" d=\"M 2384 0 \nL 1822 0 \nL 1822 3584 \nQ 1619 3391 1289 3197 \nQ 959 3003 697 2906 \nL 697 3450 \nQ 1169 3672 1522 3987 \nQ 1875 4303 2022 4600 \nL 2384 4600 \nL 2384 0 \nz\n\" transform=\"scale(0.015625)\"/>\n       </defs>\n       <use xlink:href=\"#ArialMT-31\"/>\n       <use xlink:href=\"#ArialMT-30\" x=\"55.615234\"/>\n      </g>\n     </g>\n    </g>\n    <g id=\"xtick_4\">\n     <g id=\"line2d_4\">\n      <path d=\"M 331.717841 293.871375 \nL 331.717841 27.759375 \n\" clip-path=\"url(#p07e169260a)\" style=\"fill: none; stroke: #ffffff; stroke-linecap: round\"/>\n     </g>\n     <g id=\"text_4\">\n      <!-- 15 -->\n      <g style=\"fill: #262626\" transform=\"translate(321.708153 316.255437) scale(0.18 -0.18)\">\n       <use xlink:href=\"#ArialMT-31\"/>\n       <use xlink:href=\"#ArialMT-35\" x=\"55.615234\"/>\n      </g>\n     </g>\n    </g>\n    <g id=\"xtick_5\">\n     <g id=\"line2d_5\">\n      <path d=\"M 409.016542 293.871375 \nL 409.016542 27.759375 \n\" clip-path=\"url(#p07e169260a)\" style=\"fill: none; stroke: #ffffff; stroke-linecap: round\"/>\n     </g>\n     <g id=\"text_5\">\n      <!-- 20 -->\n      <g style=\"fill: #262626\" transform=\"translate(399.006855 316.255437) scale(0.18 -0.18)\">\n       <defs>\n        <path id=\"ArialMT-32\" d=\"M 3222 541 \nL 3222 0 \nL 194 0 \nQ 188 203 259 391 \nQ 375 700 629 1000 \nQ 884 1300 1366 1694 \nQ 2113 2306 2375 2664 \nQ 2638 3022 2638 3341 \nQ 2638 3675 2398 3904 \nQ 2159 4134 1775 4134 \nQ 1369 4134 1125 3890 \nQ 881 3647 878 3216 \nL 300 3275 \nQ 359 3922 746 4261 \nQ 1134 4600 1788 4600 \nQ 2447 4600 2831 4234 \nQ 3216 3869 3216 3328 \nQ 3216 3053 3103 2787 \nQ 2991 2522 2730 2228 \nQ 2469 1934 1863 1422 \nQ 1356 997 1212 845 \nQ 1069 694 975 541 \nL 3222 541 \nz\n\" transform=\"scale(0.015625)\"/>\n       </defs>\n       <use xlink:href=\"#ArialMT-32\"/>\n       <use xlink:href=\"#ArialMT-30\" x=\"55.615234\"/>\n      </g>\n     </g>\n    </g>\n    <g id=\"text_6\">\n     <!-- Number of features -->\n     <g style=\"fill: #262626\" transform=\"translate(192.019687 338.148562) scale(0.2 -0.2)\">\n      <defs>\n       <path id=\"ArialMT-4e\" d=\"M 488 0 \nL 488 4581 \nL 1109 4581 \nL 3516 984 \nL 3516 4581 \nL 4097 4581 \nL 4097 0 \nL 3475 0 \nL 1069 3600 \nL 1069 0 \nL 488 0 \nz\n\" transform=\"scale(0.015625)\"/>\n       <path id=\"ArialMT-75\" d=\"M 2597 0 \nL 2597 488 \nQ 2209 -75 1544 -75 \nQ 1250 -75 995 37 \nQ 741 150 617 320 \nQ 494 491 444 738 \nQ 409 903 409 1263 \nL 409 3319 \nL 972 3319 \nL 972 1478 \nQ 972 1038 1006 884 \nQ 1059 663 1231 536 \nQ 1403 409 1656 409 \nQ 1909 409 2131 539 \nQ 2353 669 2445 892 \nQ 2538 1116 2538 1541 \nL 2538 3319 \nL 3100 3319 \nL 3100 0 \nL 2597 0 \nz\n\" transform=\"scale(0.015625)\"/>\n       <path id=\"ArialMT-6d\" d=\"M 422 0 \nL 422 3319 \nL 925 3319 \nL 925 2853 \nQ 1081 3097 1340 3245 \nQ 1600 3394 1931 3394 \nQ 2300 3394 2536 3241 \nQ 2772 3088 2869 2813 \nQ 3263 3394 3894 3394 \nQ 4388 3394 4653 3120 \nQ 4919 2847 4919 2278 \nL 4919 0 \nL 4359 0 \nL 4359 2091 \nQ 4359 2428 4304 2576 \nQ 4250 2725 4106 2815 \nQ 3963 2906 3769 2906 \nQ 3419 2906 3187 2673 \nQ 2956 2441 2956 1928 \nL 2956 0 \nL 2394 0 \nL 2394 2156 \nQ 2394 2531 2256 2718 \nQ 2119 2906 1806 2906 \nQ 1569 2906 1367 2781 \nQ 1166 2656 1075 2415 \nQ 984 2175 984 1722 \nL 984 0 \nL 422 0 \nz\n\" transform=\"scale(0.015625)\"/>\n       <path id=\"ArialMT-62\" d=\"M 941 0 \nL 419 0 \nL 419 4581 \nL 981 4581 \nL 981 2947 \nQ 1338 3394 1891 3394 \nQ 2197 3394 2470 3270 \nQ 2744 3147 2920 2923 \nQ 3097 2700 3197 2384 \nQ 3297 2069 3297 1709 \nQ 3297 856 2875 390 \nQ 2453 -75 1863 -75 \nQ 1275 -75 941 416 \nL 941 0 \nz\nM 934 1684 \nQ 934 1088 1097 822 \nQ 1363 388 1816 388 \nQ 2184 388 2453 708 \nQ 2722 1028 2722 1663 \nQ 2722 2313 2464 2622 \nQ 2206 2931 1841 2931 \nQ 1472 2931 1203 2611 \nQ 934 2291 934 1684 \nz\n\" transform=\"scale(0.015625)\"/>\n       <path id=\"ArialMT-65\" d=\"M 2694 1069 \nL 3275 997 \nQ 3138 488 2766 206 \nQ 2394 -75 1816 -75 \nQ 1088 -75 661 373 \nQ 234 822 234 1631 \nQ 234 2469 665 2931 \nQ 1097 3394 1784 3394 \nQ 2450 3394 2872 2941 \nQ 3294 2488 3294 1666 \nQ 3294 1616 3291 1516 \nL 816 1516 \nQ 847 969 1125 678 \nQ 1403 388 1819 388 \nQ 2128 388 2347 550 \nQ 2566 713 2694 1069 \nz\nM 847 1978 \nL 2700 1978 \nQ 2663 2397 2488 2606 \nQ 2219 2931 1791 2931 \nQ 1403 2931 1139 2672 \nQ 875 2413 847 1978 \nz\n\" transform=\"scale(0.015625)\"/>\n       <path id=\"ArialMT-72\" d=\"M 416 0 \nL 416 3319 \nL 922 3319 \nL 922 2816 \nQ 1116 3169 1280 3281 \nQ 1444 3394 1641 3394 \nQ 1925 3394 2219 3213 \nL 2025 2691 \nQ 1819 2813 1613 2813 \nQ 1428 2813 1281 2702 \nQ 1134 2591 1072 2394 \nQ 978 2094 978 1738 \nL 978 0 \nL 416 0 \nz\n\" transform=\"scale(0.015625)\"/>\n       <path id=\"ArialMT-20\" transform=\"scale(0.015625)\"/>\n       <path id=\"ArialMT-6f\" d=\"M 213 1659 \nQ 213 2581 725 3025 \nQ 1153 3394 1769 3394 \nQ 2453 3394 2887 2945 \nQ 3322 2497 3322 1706 \nQ 3322 1066 3130 698 \nQ 2938 331 2570 128 \nQ 2203 -75 1769 -75 \nQ 1072 -75 642 372 \nQ 213 819 213 1659 \nz\nM 791 1659 \nQ 791 1022 1069 705 \nQ 1347 388 1769 388 \nQ 2188 388 2466 706 \nQ 2744 1025 2744 1678 \nQ 2744 2294 2464 2611 \nQ 2184 2928 1769 2928 \nQ 1347 2928 1069 2612 \nQ 791 2297 791 1659 \nz\n\" transform=\"scale(0.015625)\"/>\n       <path id=\"ArialMT-66\" d=\"M 556 0 \nL 556 2881 \nL 59 2881 \nL 59 3319 \nL 556 3319 \nL 556 3672 \nQ 556 4006 616 4169 \nQ 697 4388 901 4523 \nQ 1106 4659 1475 4659 \nQ 1713 4659 2000 4603 \nL 1916 4113 \nQ 1741 4144 1584 4144 \nQ 1328 4144 1222 4034 \nQ 1116 3925 1116 3625 \nL 1116 3319 \nL 1763 3319 \nL 1763 2881 \nL 1116 2881 \nL 1116 0 \nL 556 0 \nz\n\" transform=\"scale(0.015625)\"/>\n       <path id=\"ArialMT-61\" d=\"M 2588 409 \nQ 2275 144 1986 34 \nQ 1697 -75 1366 -75 \nQ 819 -75 525 192 \nQ 231 459 231 875 \nQ 231 1119 342 1320 \nQ 453 1522 633 1644 \nQ 813 1766 1038 1828 \nQ 1203 1872 1538 1913 \nQ 2219 1994 2541 2106 \nQ 2544 2222 2544 2253 \nQ 2544 2597 2384 2738 \nQ 2169 2928 1744 2928 \nQ 1347 2928 1158 2789 \nQ 969 2650 878 2297 \nL 328 2372 \nQ 403 2725 575 2942 \nQ 747 3159 1072 3276 \nQ 1397 3394 1825 3394 \nQ 2250 3394 2515 3294 \nQ 2781 3194 2906 3042 \nQ 3031 2891 3081 2659 \nQ 3109 2516 3109 2141 \nL 3109 1391 \nQ 3109 606 3145 398 \nQ 3181 191 3288 0 \nL 2700 0 \nQ 2613 175 2588 409 \nz\nM 2541 1666 \nQ 2234 1541 1622 1453 \nQ 1275 1403 1131 1340 \nQ 988 1278 909 1158 \nQ 831 1038 831 891 \nQ 831 666 1001 516 \nQ 1172 366 1500 366 \nQ 1825 366 2078 508 \nQ 2331 650 2450 897 \nQ 2541 1088 2541 1459 \nL 2541 1666 \nz\n\" transform=\"scale(0.015625)\"/>\n       <path id=\"ArialMT-74\" d=\"M 1650 503 \nL 1731 6 \nQ 1494 -44 1306 -44 \nQ 1000 -44 831 53 \nQ 663 150 594 308 \nQ 525 466 525 972 \nL 525 2881 \nL 113 2881 \nL 113 3319 \nL 525 3319 \nL 525 4141 \nL 1084 4478 \nL 1084 3319 \nL 1650 3319 \nL 1650 2881 \nL 1084 2881 \nL 1084 941 \nQ 1084 700 1114 631 \nQ 1144 563 1211 522 \nQ 1278 481 1403 481 \nQ 1497 481 1650 503 \nz\n\" transform=\"scale(0.015625)\"/>\n       <path id=\"ArialMT-73\" d=\"M 197 991 \nL 753 1078 \nQ 800 744 1014 566 \nQ 1228 388 1613 388 \nQ 2000 388 2187 545 \nQ 2375 703 2375 916 \nQ 2375 1106 2209 1216 \nQ 2094 1291 1634 1406 \nQ 1016 1563 777 1677 \nQ 538 1791 414 1992 \nQ 291 2194 291 2438 \nQ 291 2659 392 2848 \nQ 494 3038 669 3163 \nQ 800 3259 1026 3326 \nQ 1253 3394 1513 3394 \nQ 1903 3394 2198 3281 \nQ 2494 3169 2634 2976 \nQ 2775 2784 2828 2463 \nL 2278 2388 \nQ 2241 2644 2061 2787 \nQ 1881 2931 1553 2931 \nQ 1166 2931 1000 2803 \nQ 834 2675 834 2503 \nQ 834 2394 903 2306 \nQ 972 2216 1119 2156 \nQ 1203 2125 1616 2013 \nQ 2213 1853 2448 1751 \nQ 2684 1650 2818 1456 \nQ 2953 1263 2953 975 \nQ 2953 694 2789 445 \nQ 2625 197 2315 61 \nQ 2006 -75 1616 -75 \nQ 969 -75 630 194 \nQ 291 463 197 991 \nz\n\" transform=\"scale(0.015625)\"/>\n      </defs>\n      <use xlink:href=\"#ArialMT-4e\"/>\n      <use xlink:href=\"#ArialMT-75\" x=\"72.216797\"/>\n      <use xlink:href=\"#ArialMT-6d\" x=\"127.832031\"/>\n      <use xlink:href=\"#ArialMT-62\" x=\"211.132812\"/>\n      <use xlink:href=\"#ArialMT-65\" x=\"266.748047\"/>\n      <use xlink:href=\"#ArialMT-72\" x=\"322.363281\"/>\n      <use xlink:href=\"#ArialMT-20\" x=\"355.664062\"/>\n      <use xlink:href=\"#ArialMT-6f\" x=\"383.447266\"/>\n      <use xlink:href=\"#ArialMT-66\" x=\"439.0625\"/>\n      <use xlink:href=\"#ArialMT-20\" x=\"466.845703\"/>\n      <use xlink:href=\"#ArialMT-66\" x=\"494.628906\"/>\n      <use xlink:href=\"#ArialMT-65\" x=\"522.412109\"/>\n      <use xlink:href=\"#ArialMT-61\" x=\"578.027344\"/>\n      <use xlink:href=\"#ArialMT-74\" x=\"633.642578\"/>\n      <use xlink:href=\"#ArialMT-75\" x=\"661.425781\"/>\n      <use xlink:href=\"#ArialMT-72\" x=\"717.041016\"/>\n      <use xlink:href=\"#ArialMT-65\" x=\"750.341797\"/>\n      <use xlink:href=\"#ArialMT-73\" x=\"805.957031\"/>\n     </g>\n    </g>\n   </g>\n   <g id=\"matplotlib.axis_2\">\n    <g id=\"ytick_1\">\n     <g id=\"line2d_6\">\n      <path d=\"M 99.04875 271.933307 \nL 456.16875 271.933307 \n\" clip-path=\"url(#p07e169260a)\" style=\"fill: none; stroke: #ffffff; stroke-linecap: round\"/>\n     </g>\n     <g id=\"line2d_7\">\n      <defs>\n       <path id=\"mbed9216f59\" d=\"M 0 0 \nL -6 0 \n\" style=\"stroke: #bb83f4; stroke-width: 1.25\"/>\n      </defs>\n      <g>\n       <use xlink:href=\"#mbed9216f59\" x=\"99.04875\" y=\"271.933307\" style=\"fill: #bb83f4; stroke: #bb83f4; stroke-width: 1.25\"/>\n      </g>\n     </g>\n     <g id=\"text_7\">\n      <!-- 130000 -->\n      <g style=\"fill: #bb83f4\" transform=\"translate(29.490625 278.375338) scale(0.18 -0.18)\">\n       <defs>\n        <path id=\"ArialMT-33\" d=\"M 269 1209 \nL 831 1284 \nQ 928 806 1161 595 \nQ 1394 384 1728 384 \nQ 2125 384 2398 659 \nQ 2672 934 2672 1341 \nQ 2672 1728 2419 1979 \nQ 2166 2231 1775 2231 \nQ 1616 2231 1378 2169 \nL 1441 2663 \nQ 1497 2656 1531 2656 \nQ 1891 2656 2178 2843 \nQ 2466 3031 2466 3422 \nQ 2466 3731 2256 3934 \nQ 2047 4138 1716 4138 \nQ 1388 4138 1169 3931 \nQ 950 3725 888 3313 \nL 325 3413 \nQ 428 3978 793 4289 \nQ 1159 4600 1703 4600 \nQ 2078 4600 2393 4439 \nQ 2709 4278 2876 4000 \nQ 3044 3722 3044 3409 \nQ 3044 3113 2884 2869 \nQ 2725 2625 2413 2481 \nQ 2819 2388 3044 2092 \nQ 3269 1797 3269 1353 \nQ 3269 753 2831 336 \nQ 2394 -81 1725 -81 \nQ 1122 -81 723 278 \nQ 325 638 269 1209 \nz\n\" transform=\"scale(0.015625)\"/>\n       </defs>\n       <use xlink:href=\"#ArialMT-31\"/>\n       <use xlink:href=\"#ArialMT-33\" x=\"55.615234\"/>\n       <use xlink:href=\"#ArialMT-30\" x=\"111.230469\"/>\n       <use xlink:href=\"#ArialMT-30\" x=\"166.845703\"/>\n       <use xlink:href=\"#ArialMT-30\" x=\"222.460938\"/>\n       <use xlink:href=\"#ArialMT-30\" x=\"278.076172\"/>\n      </g>\n     </g>\n    </g>\n    <g id=\"ytick_2\">\n     <g id=\"line2d_8\">\n      <path d=\"M 99.04875 226.626141 \nL 456.16875 226.626141 \n\" clip-path=\"url(#p07e169260a)\" style=\"fill: none; stroke: #ffffff; stroke-linecap: round\"/>\n     </g>\n     <g id=\"line2d_9\">\n      <g>\n       <use xlink:href=\"#mbed9216f59\" x=\"99.04875\" y=\"226.626141\" style=\"fill: #bb83f4; stroke: #bb83f4; stroke-width: 1.25\"/>\n      </g>\n     </g>\n     <g id=\"text_8\">\n      <!-- 135000 -->\n      <g style=\"fill: #bb83f4\" transform=\"translate(29.490625 233.068172) scale(0.18 -0.18)\">\n       <use xlink:href=\"#ArialMT-31\"/>\n       <use xlink:href=\"#ArialMT-33\" x=\"55.615234\"/>\n       <use xlink:href=\"#ArialMT-35\" x=\"111.230469\"/>\n       <use xlink:href=\"#ArialMT-30\" x=\"166.845703\"/>\n       <use xlink:href=\"#ArialMT-30\" x=\"222.460938\"/>\n       <use xlink:href=\"#ArialMT-30\" x=\"278.076172\"/>\n      </g>\n     </g>\n    </g>\n    <g id=\"ytick_3\">\n     <g id=\"line2d_10\">\n      <path d=\"M 99.04875 181.318974 \nL 456.16875 181.318974 \n\" clip-path=\"url(#p07e169260a)\" style=\"fill: none; stroke: #ffffff; stroke-linecap: round\"/>\n     </g>\n     <g id=\"line2d_11\">\n      <g>\n       <use xlink:href=\"#mbed9216f59\" x=\"99.04875\" y=\"181.318974\" style=\"fill: #bb83f4; stroke: #bb83f4; stroke-width: 1.25\"/>\n      </g>\n     </g>\n     <g id=\"text_9\">\n      <!-- 140000 -->\n      <g style=\"fill: #bb83f4\" transform=\"translate(29.490625 187.761005) scale(0.18 -0.18)\">\n       <defs>\n        <path id=\"ArialMT-34\" d=\"M 2069 0 \nL 2069 1097 \nL 81 1097 \nL 81 1613 \nL 2172 4581 \nL 2631 4581 \nL 2631 1613 \nL 3250 1613 \nL 3250 1097 \nL 2631 1097 \nL 2631 0 \nL 2069 0 \nz\nM 2069 1613 \nL 2069 3678 \nL 634 1613 \nL 2069 1613 \nz\n\" transform=\"scale(0.015625)\"/>\n       </defs>\n       <use xlink:href=\"#ArialMT-31\"/>\n       <use xlink:href=\"#ArialMT-34\" x=\"55.615234\"/>\n       <use xlink:href=\"#ArialMT-30\" x=\"111.230469\"/>\n       <use xlink:href=\"#ArialMT-30\" x=\"166.845703\"/>\n       <use xlink:href=\"#ArialMT-30\" x=\"222.460938\"/>\n       <use xlink:href=\"#ArialMT-30\" x=\"278.076172\"/>\n      </g>\n     </g>\n    </g>\n    <g id=\"ytick_4\">\n     <g id=\"line2d_12\">\n      <path d=\"M 99.04875 136.011808 \nL 456.16875 136.011808 \n\" clip-path=\"url(#p07e169260a)\" style=\"fill: none; stroke: #ffffff; stroke-linecap: round\"/>\n     </g>\n     <g id=\"line2d_13\">\n      <g>\n       <use xlink:href=\"#mbed9216f59\" x=\"99.04875\" y=\"136.011808\" style=\"fill: #bb83f4; stroke: #bb83f4; stroke-width: 1.25\"/>\n      </g>\n     </g>\n     <g id=\"text_10\">\n      <!-- 145000 -->\n      <g style=\"fill: #bb83f4\" transform=\"translate(29.490625 142.453839) scale(0.18 -0.18)\">\n       <use xlink:href=\"#ArialMT-31\"/>\n       <use xlink:href=\"#ArialMT-34\" x=\"55.615234\"/>\n       <use xlink:href=\"#ArialMT-35\" x=\"111.230469\"/>\n       <use xlink:href=\"#ArialMT-30\" x=\"166.845703\"/>\n       <use xlink:href=\"#ArialMT-30\" x=\"222.460938\"/>\n       <use xlink:href=\"#ArialMT-30\" x=\"278.076172\"/>\n      </g>\n     </g>\n    </g>\n    <g id=\"ytick_5\">\n     <g id=\"line2d_14\">\n      <path d=\"M 99.04875 90.704641 \nL 456.16875 90.704641 \n\" clip-path=\"url(#p07e169260a)\" style=\"fill: none; stroke: #ffffff; stroke-linecap: round\"/>\n     </g>\n     <g id=\"line2d_15\">\n      <g>\n       <use xlink:href=\"#mbed9216f59\" x=\"99.04875\" y=\"90.704641\" style=\"fill: #bb83f4; stroke: #bb83f4; stroke-width: 1.25\"/>\n      </g>\n     </g>\n     <g id=\"text_11\">\n      <!-- 150000 -->\n      <g style=\"fill: #bb83f4\" transform=\"translate(29.490625 97.146672) scale(0.18 -0.18)\">\n       <use xlink:href=\"#ArialMT-31\"/>\n       <use xlink:href=\"#ArialMT-35\" x=\"55.615234\"/>\n       <use xlink:href=\"#ArialMT-30\" x=\"111.230469\"/>\n       <use xlink:href=\"#ArialMT-30\" x=\"166.845703\"/>\n       <use xlink:href=\"#ArialMT-30\" x=\"222.460938\"/>\n       <use xlink:href=\"#ArialMT-30\" x=\"278.076172\"/>\n      </g>\n     </g>\n    </g>\n    <g id=\"ytick_6\">\n     <g id=\"line2d_16\">\n      <path d=\"M 99.04875 45.397475 \nL 456.16875 45.397475 \n\" clip-path=\"url(#p07e169260a)\" style=\"fill: none; stroke: #ffffff; stroke-linecap: round\"/>\n     </g>\n     <g id=\"line2d_17\">\n      <g>\n       <use xlink:href=\"#mbed9216f59\" x=\"99.04875\" y=\"45.397475\" style=\"fill: #bb83f4; stroke: #bb83f4; stroke-width: 1.25\"/>\n      </g>\n     </g>\n     <g id=\"text_12\">\n      <!-- 155000 -->\n      <g style=\"fill: #bb83f4\" transform=\"translate(29.490625 51.839506) scale(0.18 -0.18)\">\n       <use xlink:href=\"#ArialMT-31\"/>\n       <use xlink:href=\"#ArialMT-35\" x=\"55.615234\"/>\n       <use xlink:href=\"#ArialMT-35\" x=\"111.230469\"/>\n       <use xlink:href=\"#ArialMT-30\" x=\"166.845703\"/>\n       <use xlink:href=\"#ArialMT-30\" x=\"222.460938\"/>\n       <use xlink:href=\"#ArialMT-30\" x=\"278.076172\"/>\n      </g>\n     </g>\n    </g>\n    <g id=\"text_13\">\n     <!-- RMSE -->\n     <g style=\"fill: #bb83f4\" transform=\"translate(21.515625 189.707562) rotate(-90) scale(0.2 -0.2)\">\n      <defs>\n       <path id=\"ArialMT-52\" d=\"M 503 0 \nL 503 4581 \nL 2534 4581 \nQ 3147 4581 3465 4457 \nQ 3784 4334 3975 4021 \nQ 4166 3709 4166 3331 \nQ 4166 2844 3850 2509 \nQ 3534 2175 2875 2084 \nQ 3116 1969 3241 1856 \nQ 3506 1613 3744 1247 \nL 4541 0 \nL 3778 0 \nL 3172 953 \nQ 2906 1366 2734 1584 \nQ 2563 1803 2427 1890 \nQ 2291 1978 2150 2013 \nQ 2047 2034 1813 2034 \nL 1109 2034 \nL 1109 0 \nL 503 0 \nz\nM 1109 2559 \nL 2413 2559 \nQ 2828 2559 3062 2645 \nQ 3297 2731 3419 2920 \nQ 3541 3109 3541 3331 \nQ 3541 3656 3305 3865 \nQ 3069 4075 2559 4075 \nL 1109 4075 \nL 1109 2559 \nz\n\" transform=\"scale(0.015625)\"/>\n       <path id=\"ArialMT-4d\" d=\"M 475 0 \nL 475 4581 \nL 1388 4581 \nL 2472 1338 \nQ 2622 884 2691 659 \nQ 2769 909 2934 1394 \nL 4031 4581 \nL 4847 4581 \nL 4847 0 \nL 4263 0 \nL 4263 3834 \nL 2931 0 \nL 2384 0 \nL 1059 3900 \nL 1059 0 \nL 475 0 \nz\n\" transform=\"scale(0.015625)\"/>\n       <path id=\"ArialMT-53\" d=\"M 288 1472 \nL 859 1522 \nQ 900 1178 1048 958 \nQ 1197 738 1509 602 \nQ 1822 466 2213 466 \nQ 2559 466 2825 569 \nQ 3091 672 3220 851 \nQ 3350 1031 3350 1244 \nQ 3350 1459 3225 1620 \nQ 3100 1781 2813 1891 \nQ 2628 1963 1997 2114 \nQ 1366 2266 1113 2400 \nQ 784 2572 623 2826 \nQ 463 3081 463 3397 \nQ 463 3744 659 4045 \nQ 856 4347 1234 4503 \nQ 1613 4659 2075 4659 \nQ 2584 4659 2973 4495 \nQ 3363 4331 3572 4012 \nQ 3781 3694 3797 3291 \nL 3216 3247 \nQ 3169 3681 2898 3903 \nQ 2628 4125 2100 4125 \nQ 1550 4125 1298 3923 \nQ 1047 3722 1047 3438 \nQ 1047 3191 1225 3031 \nQ 1400 2872 2139 2705 \nQ 2878 2538 3153 2413 \nQ 3553 2228 3743 1945 \nQ 3934 1663 3934 1294 \nQ 3934 928 3725 604 \nQ 3516 281 3123 101 \nQ 2731 -78 2241 -78 \nQ 1619 -78 1198 103 \nQ 778 284 539 648 \nQ 300 1013 288 1472 \nz\n\" transform=\"scale(0.015625)\"/>\n       <path id=\"ArialMT-45\" d=\"M 506 0 \nL 506 4581 \nL 3819 4581 \nL 3819 4041 \nL 1113 4041 \nL 1113 2638 \nL 3647 2638 \nL 3647 2100 \nL 1113 2100 \nL 1113 541 \nL 3925 541 \nL 3925 0 \nL 506 0 \nz\n\" transform=\"scale(0.015625)\"/>\n      </defs>\n      <use xlink:href=\"#ArialMT-52\"/>\n      <use xlink:href=\"#ArialMT-4d\" x=\"72.216797\"/>\n      <use xlink:href=\"#ArialMT-53\" x=\"155.517578\"/>\n      <use xlink:href=\"#ArialMT-45\" x=\"222.216797\"/>\n     </g>\n    </g>\n   </g>\n   <g id=\"PolyCollection_1\"/>\n   <g id=\"line2d_18\">\n    <path d=\"M 115.281477 39.855375 \nL 146.200958 226.975465 \nL 208.039919 255.749149 \nL 254.41914 240.394753 \nL 269.87888 259.759941 \nL 285.33862 245.641645 \nL 300.79836 281.775375 \nL 331.717841 245.9953 \nL 362.637321 246.597141 \nL 393.556802 256.232052 \nL 424.476282 250.48169 \nL 439.936023 239.643887 \n\" clip-path=\"url(#p07e169260a)\" style=\"fill: none; stroke: #bb83f4; stroke-width: 1.5; stroke-linecap: round\"/>\n   </g>\n   <g id=\"patch_3\">\n    <path d=\"M 99.04875 293.871375 \nL 99.04875 27.759375 \n\" style=\"fill: none; stroke: #ffffff; stroke-width: 1.25; stroke-linejoin: miter; stroke-linecap: square\"/>\n   </g>\n   <g id=\"patch_4\">\n    <path d=\"M 456.16875 293.871375 \nL 456.16875 27.759375 \n\" style=\"fill: none; stroke: #ffffff; stroke-width: 1.25; stroke-linejoin: miter; stroke-linecap: square\"/>\n   </g>\n   <g id=\"patch_5\">\n    <path d=\"M 99.04875 293.871375 \nL 456.16875 293.871375 \n\" style=\"fill: none; stroke: #ffffff; stroke-width: 1.25; stroke-linejoin: miter; stroke-linecap: square\"/>\n   </g>\n   <g id=\"patch_6\">\n    <path d=\"M 99.04875 27.759375 \nL 456.16875 27.759375 \n\" style=\"fill: none; stroke: #ffffff; stroke-width: 1.25; stroke-linejoin: miter; stroke-linecap: square\"/>\n   </g>\n  </g>\n  <g id=\"axes_2\">\n   <g id=\"matplotlib.axis_3\">\n    <g id=\"ytick_7\">\n     <g id=\"line2d_19\">\n      <defs>\n       <path id=\"mc864a87817\" d=\"M 0 0 \nL 6 0 \n\" style=\"stroke: #3ba3ec; stroke-width: 1.25\"/>\n      </defs>\n      <g>\n       <use xlink:href=\"#mc864a87817\" x=\"456.16875\" y=\"287.454687\" style=\"fill: #3ba3ec; stroke: #3ba3ec; stroke-width: 1.25\"/>\n      </g>\n     </g>\n     <g id=\"text_14\">\n      <!-- 6 -->\n      <g style=\"fill: #3ba3ec\" transform=\"translate(465.66875 293.896719) scale(0.18 -0.18)\">\n       <defs>\n        <path id=\"ArialMT-36\" d=\"M 3184 3459 \nL 2625 3416 \nQ 2550 3747 2413 3897 \nQ 2184 4138 1850 4138 \nQ 1581 4138 1378 3988 \nQ 1113 3794 959 3422 \nQ 806 3050 800 2363 \nQ 1003 2672 1297 2822 \nQ 1591 2972 1913 2972 \nQ 2475 2972 2870 2558 \nQ 3266 2144 3266 1488 \nQ 3266 1056 3080 686 \nQ 2894 316 2569 119 \nQ 2244 -78 1831 -78 \nQ 1128 -78 684 439 \nQ 241 956 241 2144 \nQ 241 3472 731 4075 \nQ 1159 4600 1884 4600 \nQ 2425 4600 2770 4297 \nQ 3116 3994 3184 3459 \nz\nM 888 1484 \nQ 888 1194 1011 928 \nQ 1134 663 1356 523 \nQ 1578 384 1822 384 \nQ 2178 384 2434 671 \nQ 2691 959 2691 1453 \nQ 2691 1928 2437 2201 \nQ 2184 2475 1800 2475 \nQ 1419 2475 1153 2201 \nQ 888 1928 888 1484 \nz\n\" transform=\"scale(0.015625)\"/>\n       </defs>\n       <use xlink:href=\"#ArialMT-36\"/>\n      </g>\n     </g>\n    </g>\n    <g id=\"ytick_8\">\n     <g id=\"line2d_20\">\n      <g>\n       <use xlink:href=\"#mc864a87817\" x=\"456.16875\" y=\"254.202556\" style=\"fill: #3ba3ec; stroke: #3ba3ec; stroke-width: 1.25\"/>\n      </g>\n     </g>\n     <g id=\"text_15\">\n      <!-- 8 -->\n      <g style=\"fill: #3ba3ec\" transform=\"translate(465.66875 260.644587) scale(0.18 -0.18)\">\n       <defs>\n        <path id=\"ArialMT-38\" d=\"M 1131 2484 \nQ 781 2613 612 2850 \nQ 444 3088 444 3419 \nQ 444 3919 803 4259 \nQ 1163 4600 1759 4600 \nQ 2359 4600 2725 4251 \nQ 3091 3903 3091 3403 \nQ 3091 3084 2923 2848 \nQ 2756 2613 2416 2484 \nQ 2838 2347 3058 2040 \nQ 3278 1734 3278 1309 \nQ 3278 722 2862 322 \nQ 2447 -78 1769 -78 \nQ 1091 -78 675 323 \nQ 259 725 259 1325 \nQ 259 1772 486 2073 \nQ 713 2375 1131 2484 \nz\nM 1019 3438 \nQ 1019 3113 1228 2906 \nQ 1438 2700 1772 2700 \nQ 2097 2700 2305 2904 \nQ 2513 3109 2513 3406 \nQ 2513 3716 2298 3927 \nQ 2084 4138 1766 4138 \nQ 1444 4138 1231 3931 \nQ 1019 3725 1019 3438 \nz\nM 838 1322 \nQ 838 1081 952 856 \nQ 1066 631 1291 507 \nQ 1516 384 1775 384 \nQ 2178 384 2440 643 \nQ 2703 903 2703 1303 \nQ 2703 1709 2433 1975 \nQ 2163 2241 1756 2241 \nQ 1359 2241 1098 1978 \nQ 838 1716 838 1322 \nz\n\" transform=\"scale(0.015625)\"/>\n       </defs>\n       <use xlink:href=\"#ArialMT-38\"/>\n      </g>\n     </g>\n    </g>\n    <g id=\"ytick_9\">\n     <g id=\"line2d_21\">\n      <g>\n       <use xlink:href=\"#mc864a87817\" x=\"456.16875\" y=\"220.950425\" style=\"fill: #3ba3ec; stroke: #3ba3ec; stroke-width: 1.25\"/>\n      </g>\n     </g>\n     <g id=\"text_16\">\n      <!-- 10 -->\n      <g style=\"fill: #3ba3ec\" transform=\"translate(465.66875 227.392456) scale(0.18 -0.18)\">\n       <use xlink:href=\"#ArialMT-31\"/>\n       <use xlink:href=\"#ArialMT-30\" x=\"55.615234\"/>\n      </g>\n     </g>\n    </g>\n    <g id=\"ytick_10\">\n     <g id=\"line2d_22\">\n      <g>\n       <use xlink:href=\"#mc864a87817\" x=\"456.16875\" y=\"187.698294\" style=\"fill: #3ba3ec; stroke: #3ba3ec; stroke-width: 1.25\"/>\n      </g>\n     </g>\n     <g id=\"text_17\">\n      <!-- 12 -->\n      <g style=\"fill: #3ba3ec\" transform=\"translate(465.66875 194.140325) scale(0.18 -0.18)\">\n       <use xlink:href=\"#ArialMT-31\"/>\n       <use xlink:href=\"#ArialMT-32\" x=\"55.615234\"/>\n      </g>\n     </g>\n    </g>\n    <g id=\"ytick_11\">\n     <g id=\"line2d_23\">\n      <g>\n       <use xlink:href=\"#mc864a87817\" x=\"456.16875\" y=\"154.446163\" style=\"fill: #3ba3ec; stroke: #3ba3ec; stroke-width: 1.25\"/>\n      </g>\n     </g>\n     <g id=\"text_18\">\n      <!-- 14 -->\n      <g style=\"fill: #3ba3ec\" transform=\"translate(465.66875 160.888194) scale(0.18 -0.18)\">\n       <use xlink:href=\"#ArialMT-31\"/>\n       <use xlink:href=\"#ArialMT-34\" x=\"55.615234\"/>\n      </g>\n     </g>\n    </g>\n    <g id=\"ytick_12\">\n     <g id=\"line2d_24\">\n      <g>\n       <use xlink:href=\"#mc864a87817\" x=\"456.16875\" y=\"121.194031\" style=\"fill: #3ba3ec; stroke: #3ba3ec; stroke-width: 1.25\"/>\n      </g>\n     </g>\n     <g id=\"text_19\">\n      <!-- 16 -->\n      <g style=\"fill: #3ba3ec\" transform=\"translate(465.66875 127.636063) scale(0.18 -0.18)\">\n       <use xlink:href=\"#ArialMT-31\"/>\n       <use xlink:href=\"#ArialMT-36\" x=\"55.615234\"/>\n      </g>\n     </g>\n    </g>\n    <g id=\"ytick_13\">\n     <g id=\"line2d_25\">\n      <g>\n       <use xlink:href=\"#mc864a87817\" x=\"456.16875\" y=\"87.9419\" style=\"fill: #3ba3ec; stroke: #3ba3ec; stroke-width: 1.25\"/>\n      </g>\n     </g>\n     <g id=\"text_20\">\n      <!-- 18 -->\n      <g style=\"fill: #3ba3ec\" transform=\"translate(465.66875 94.383931) scale(0.18 -0.18)\">\n       <use xlink:href=\"#ArialMT-31\"/>\n       <use xlink:href=\"#ArialMT-38\" x=\"55.615234\"/>\n      </g>\n     </g>\n    </g>\n    <g id=\"ytick_14\">\n     <g id=\"line2d_26\">\n      <g>\n       <use xlink:href=\"#mc864a87817\" x=\"456.16875\" y=\"54.689769\" style=\"fill: #3ba3ec; stroke: #3ba3ec; stroke-width: 1.25\"/>\n      </g>\n     </g>\n     <g id=\"text_21\">\n      <!-- 20 -->\n      <g style=\"fill: #3ba3ec\" transform=\"translate(465.66875 61.1318) scale(0.18 -0.18)\">\n       <use xlink:href=\"#ArialMT-32\"/>\n       <use xlink:href=\"#ArialMT-30\" x=\"55.615234\"/>\n      </g>\n     </g>\n    </g>\n    <g id=\"text_22\">\n     <!-- Time (s) -->\n     <g style=\"fill: #3ba3ec\" transform=\"translate(504.2475 197.098187) rotate(-90) scale(0.2 -0.2)\">\n      <defs>\n       <path id=\"ArialMT-54\" d=\"M 1659 0 \nL 1659 4041 \nL 150 4041 \nL 150 4581 \nL 3781 4581 \nL 3781 4041 \nL 2266 4041 \nL 2266 0 \nL 1659 0 \nz\n\" transform=\"scale(0.015625)\"/>\n       <path id=\"ArialMT-69\" d=\"M 425 3934 \nL 425 4581 \nL 988 4581 \nL 988 3934 \nL 425 3934 \nz\nM 425 0 \nL 425 3319 \nL 988 3319 \nL 988 0 \nL 425 0 \nz\n\" transform=\"scale(0.015625)\"/>\n       <path id=\"ArialMT-28\" d=\"M 1497 -1347 \nQ 1031 -759 709 28 \nQ 388 816 388 1659 \nQ 388 2403 628 3084 \nQ 909 3875 1497 4659 \nL 1900 4659 \nQ 1522 4009 1400 3731 \nQ 1209 3300 1100 2831 \nQ 966 2247 966 1656 \nQ 966 153 1900 -1347 \nL 1497 -1347 \nz\n\" transform=\"scale(0.015625)\"/>\n       <path id=\"ArialMT-29\" d=\"M 791 -1347 \nL 388 -1347 \nQ 1322 153 1322 1656 \nQ 1322 2244 1188 2822 \nQ 1081 3291 891 3722 \nQ 769 4003 388 4659 \nL 791 4659 \nQ 1378 3875 1659 3084 \nQ 1900 2403 1900 1659 \nQ 1900 816 1576 28 \nQ 1253 -759 791 -1347 \nz\n\" transform=\"scale(0.015625)\"/>\n      </defs>\n      <use xlink:href=\"#ArialMT-54\"/>\n      <use xlink:href=\"#ArialMT-69\" x=\"57.333984\"/>\n      <use xlink:href=\"#ArialMT-6d\" x=\"79.550781\"/>\n      <use xlink:href=\"#ArialMT-65\" x=\"162.851562\"/>\n      <use xlink:href=\"#ArialMT-20\" x=\"218.466797\"/>\n      <use xlink:href=\"#ArialMT-28\" x=\"246.25\"/>\n      <use xlink:href=\"#ArialMT-73\" x=\"279.550781\"/>\n      <use xlink:href=\"#ArialMT-29\" x=\"329.550781\"/>\n     </g>\n    </g>\n   </g>\n   <g id=\"PolyCollection_2\"/>\n   <g id=\"line2d_27\">\n    <path d=\"M 115.281477 281.775375 \nL 146.200958 257.012645 \nL 208.039919 211.510513 \nL 254.41914 177.742959 \nL 269.87888 167.422528 \nL 285.33862 157.399335 \nL 300.79836 143.673336 \nL 331.717841 119.918329 \nL 362.637321 98.57929 \nL 393.556802 72.449583 \nL 424.476282 53.604107 \nL 439.936023 39.855375 \n\" clip-path=\"url(#p07e169260a)\" style=\"fill: none; stroke: #3ba3ec; stroke-width: 1.5; stroke-linecap: round\"/>\n   </g>\n   <g id=\"patch_7\">\n    <path d=\"M 99.04875 293.871375 \nL 99.04875 27.759375 \n\" style=\"fill: none; stroke: #bb83f4; stroke-width: 1.25; stroke-linejoin: miter; stroke-linecap: square\"/>\n   </g>\n   <g id=\"patch_8\">\n    <path d=\"M 456.16875 293.871375 \nL 456.16875 27.759375 \n\" style=\"fill: none; stroke: #3ba3ec; stroke-width: 1.25; stroke-linejoin: miter; stroke-linecap: square\"/>\n   </g>\n   <g id=\"patch_9\">\n    <path d=\"M 99.04875 293.871375 \nL 456.16875 293.871375 \n\" style=\"fill: none; stroke: #ffffff; stroke-width: 1.25; stroke-linejoin: miter; stroke-linecap: square\"/>\n   </g>\n   <g id=\"patch_10\">\n    <path d=\"M 99.04875 27.759375 \nL 456.16875 27.759375 \n\" style=\"fill: none; stroke: #ffffff; stroke-width: 1.25; stroke-linejoin: miter; stroke-linecap: square\"/>\n   </g>\n   <g id=\"text_23\">\n    <!-- Gradient Boosting Random Forest -->\n    <g style=\"fill: #262626\" transform=\"translate(125.875937 21.759375) scale(0.2 -0.2)\">\n     <defs>\n      <path id=\"ArialMT-47\" d=\"M 2638 1797 \nL 2638 2334 \nL 4578 2338 \nL 4578 638 \nQ 4131 281 3656 101 \nQ 3181 -78 2681 -78 \nQ 2006 -78 1454 211 \nQ 903 500 622 1047 \nQ 341 1594 341 2269 \nQ 341 2938 620 3517 \nQ 900 4097 1425 4378 \nQ 1950 4659 2634 4659 \nQ 3131 4659 3532 4498 \nQ 3934 4338 4162 4050 \nQ 4391 3763 4509 3300 \nL 3963 3150 \nQ 3859 3500 3706 3700 \nQ 3553 3900 3268 4020 \nQ 2984 4141 2638 4141 \nQ 2222 4141 1919 4014 \nQ 1616 3888 1430 3681 \nQ 1244 3475 1141 3228 \nQ 966 2803 966 2306 \nQ 966 1694 1177 1281 \nQ 1388 869 1791 669 \nQ 2194 469 2647 469 \nQ 3041 469 3416 620 \nQ 3791 772 3984 944 \nL 3984 1797 \nL 2638 1797 \nz\n\" transform=\"scale(0.015625)\"/>\n      <path id=\"ArialMT-64\" d=\"M 2575 0 \nL 2575 419 \nQ 2259 -75 1647 -75 \nQ 1250 -75 917 144 \nQ 584 363 401 755 \nQ 219 1147 219 1656 \nQ 219 2153 384 2558 \nQ 550 2963 881 3178 \nQ 1213 3394 1622 3394 \nQ 1922 3394 2156 3267 \nQ 2391 3141 2538 2938 \nL 2538 4581 \nL 3097 4581 \nL 3097 0 \nL 2575 0 \nz\nM 797 1656 \nQ 797 1019 1065 703 \nQ 1334 388 1700 388 \nQ 2069 388 2326 689 \nQ 2584 991 2584 1609 \nQ 2584 2291 2321 2609 \nQ 2059 2928 1675 2928 \nQ 1300 2928 1048 2622 \nQ 797 2316 797 1656 \nz\n\" transform=\"scale(0.015625)\"/>\n      <path id=\"ArialMT-6e\" d=\"M 422 0 \nL 422 3319 \nL 928 3319 \nL 928 2847 \nQ 1294 3394 1984 3394 \nQ 2284 3394 2536 3286 \nQ 2788 3178 2913 3003 \nQ 3038 2828 3088 2588 \nQ 3119 2431 3119 2041 \nL 3119 0 \nL 2556 0 \nL 2556 2019 \nQ 2556 2363 2490 2533 \nQ 2425 2703 2258 2804 \nQ 2091 2906 1866 2906 \nQ 1506 2906 1245 2678 \nQ 984 2450 984 1813 \nL 984 0 \nL 422 0 \nz\n\" transform=\"scale(0.015625)\"/>\n      <path id=\"ArialMT-42\" d=\"M 469 0 \nL 469 4581 \nL 2188 4581 \nQ 2713 4581 3030 4442 \nQ 3347 4303 3526 4014 \nQ 3706 3725 3706 3409 \nQ 3706 3116 3547 2856 \nQ 3388 2597 3066 2438 \nQ 3481 2316 3704 2022 \nQ 3928 1728 3928 1328 \nQ 3928 1006 3792 729 \nQ 3656 453 3456 303 \nQ 3256 153 2954 76 \nQ 2653 0 2216 0 \nL 469 0 \nz\nM 1075 2656 \nL 2066 2656 \nQ 2469 2656 2644 2709 \nQ 2875 2778 2992 2937 \nQ 3109 3097 3109 3338 \nQ 3109 3566 3000 3739 \nQ 2891 3913 2687 3977 \nQ 2484 4041 1991 4041 \nL 1075 4041 \nL 1075 2656 \nz\nM 1075 541 \nL 2216 541 \nQ 2509 541 2628 563 \nQ 2838 600 2978 687 \nQ 3119 775 3209 942 \nQ 3300 1109 3300 1328 \nQ 3300 1584 3169 1773 \nQ 3038 1963 2805 2039 \nQ 2572 2116 2134 2116 \nL 1075 2116 \nL 1075 541 \nz\n\" transform=\"scale(0.015625)\"/>\n      <path id=\"ArialMT-67\" d=\"M 319 -275 \nL 866 -356 \nQ 900 -609 1056 -725 \nQ 1266 -881 1628 -881 \nQ 2019 -881 2231 -725 \nQ 2444 -569 2519 -288 \nQ 2563 -116 2559 434 \nQ 2191 0 1641 0 \nQ 956 0 581 494 \nQ 206 988 206 1678 \nQ 206 2153 378 2554 \nQ 550 2956 876 3175 \nQ 1203 3394 1644 3394 \nQ 2231 3394 2613 2919 \nL 2613 3319 \nL 3131 3319 \nL 3131 450 \nQ 3131 -325 2973 -648 \nQ 2816 -972 2473 -1159 \nQ 2131 -1347 1631 -1347 \nQ 1038 -1347 672 -1080 \nQ 306 -813 319 -275 \nz\nM 784 1719 \nQ 784 1066 1043 766 \nQ 1303 466 1694 466 \nQ 2081 466 2343 764 \nQ 2606 1063 2606 1700 \nQ 2606 2309 2336 2618 \nQ 2066 2928 1684 2928 \nQ 1309 2928 1046 2623 \nQ 784 2319 784 1719 \nz\n\" transform=\"scale(0.015625)\"/>\n      <path id=\"ArialMT-46\" d=\"M 525 0 \nL 525 4581 \nL 3616 4581 \nL 3616 4041 \nL 1131 4041 \nL 1131 2622 \nL 3281 2622 \nL 3281 2081 \nL 1131 2081 \nL 1131 0 \nL 525 0 \nz\n\" transform=\"scale(0.015625)\"/>\n     </defs>\n     <use xlink:href=\"#ArialMT-47\"/>\n     <use xlink:href=\"#ArialMT-72\" x=\"77.783203\"/>\n     <use xlink:href=\"#ArialMT-61\" x=\"111.083984\"/>\n     <use xlink:href=\"#ArialMT-64\" x=\"166.699219\"/>\n     <use xlink:href=\"#ArialMT-69\" x=\"222.314453\"/>\n     <use xlink:href=\"#ArialMT-65\" x=\"244.53125\"/>\n     <use xlink:href=\"#ArialMT-6e\" x=\"300.146484\"/>\n     <use xlink:href=\"#ArialMT-74\" x=\"355.761719\"/>\n     <use xlink:href=\"#ArialMT-20\" x=\"383.544922\"/>\n     <use xlink:href=\"#ArialMT-42\" x=\"411.328125\"/>\n     <use xlink:href=\"#ArialMT-6f\" x=\"478.027344\"/>\n     <use xlink:href=\"#ArialMT-6f\" x=\"533.642578\"/>\n     <use xlink:href=\"#ArialMT-73\" x=\"589.257812\"/>\n     <use xlink:href=\"#ArialMT-74\" x=\"639.257812\"/>\n     <use xlink:href=\"#ArialMT-69\" x=\"667.041016\"/>\n     <use xlink:href=\"#ArialMT-6e\" x=\"689.257812\"/>\n     <use xlink:href=\"#ArialMT-67\" x=\"744.873047\"/>\n     <use xlink:href=\"#ArialMT-20\" x=\"800.488281\"/>\n     <use xlink:href=\"#ArialMT-52\" x=\"828.271484\"/>\n     <use xlink:href=\"#ArialMT-61\" x=\"900.488281\"/>\n     <use xlink:href=\"#ArialMT-6e\" x=\"956.103516\"/>\n     <use xlink:href=\"#ArialMT-64\" x=\"1011.71875\"/>\n     <use xlink:href=\"#ArialMT-6f\" x=\"1067.333984\"/>\n     <use xlink:href=\"#ArialMT-6d\" x=\"1122.949219\"/>\n     <use xlink:href=\"#ArialMT-20\" x=\"1206.25\"/>\n     <use xlink:href=\"#ArialMT-46\" x=\"1234.033203\"/>\n     <use xlink:href=\"#ArialMT-6f\" x=\"1295.117188\"/>\n     <use xlink:href=\"#ArialMT-72\" x=\"1350.732422\"/>\n     <use xlink:href=\"#ArialMT-65\" x=\"1384.033203\"/>\n     <use xlink:href=\"#ArialMT-73\" x=\"1439.648438\"/>\n     <use xlink:href=\"#ArialMT-74\" x=\"1489.648438\"/>\n    </g>\n   </g>\n  </g>\n </g>\n <defs>\n  <clipPath id=\"p07e169260a\">\n   <rect x=\"99.04875\" y=\"27.759375\" width=\"357.12\" height=\"266.112\"/>\n  </clipPath>\n </defs>\n</svg>\n",
      "text/plain": [
       "<Figure size 640x480 with 2 Axes>"
      ]
     },
     "metadata": {},
     "output_type": "display_data"
    }
   ],
   "source": [
    "max_depth = [1, 2, 3, 4, 5, 6, 7, 10, 14, None]\n",
    "n_estimators = [1, 5, 10, 100, 200, 300, 400, 500, 600, 700, 1000, 1500]\n",
    "n_features = [1, 3, 7, 10, 11, 12, 13, 15, 17, 19, 21, 22]\n",
    "\n",
    "color_rmse = sns.husl_palette(9)[7]\n",
    "color_time = sns.husl_palette(9)[6]\n",
    "\n",
    "ax1 = sns.lineplot(x=n_features, y=rmse_gbt_n_features, ci=False, color=color_rmse)\n",
    "ax1.set_ylabel(\"RMSE\", color=color_rmse, fontsize=20)\n",
    "ax1.tick_params(axis='y', colors=color_rmse)\n",
    "plt.yticks(fontsize=18)\n",
    "plt.xticks(fontsize=18)\n",
    "ax2 = ax1.twinx()\n",
    "\n",
    "sns.lineplot(x=n_features, y=time_gbt_n_features, ci=False, color=color_time, ax=ax2)\n",
    "ax2.set_ylabel(\"Time (s)\", color=color_time, fontsize=20)\n",
    "ax2.tick_params(axis='y', colors=color_time)\n",
    "ax2.grid(False)\n",
    "\n",
    "ax2.spines['left'].set_color(color_rmse)\n",
    "ax2.spines['right'].set_color(color_time)\n",
    "ax2.set_title(\"Gradient Boosting Random Forest\", fontsize=20)\n",
    "ax1.set_xlabel(\"Number of features\", fontsize=20)\n",
    "plt.yticks(fontsize=18)\n",
    "plt.savefig('./report/exp2/n_features.pdf', bbox_inches='tight')\n",
    "#labels = list(str(i) for i in range(0, 15, 2)) + ['None']\n",
    "#ax2.set_xticks(range(0, 17, 2), labels)\n",
    "None"
   ]
  },
  {
   "cell_type": "code",
   "execution_count": 44,
   "metadata": {},
   "outputs": [
    {
     "name": "stdout",
     "output_type": "stream",
     "text": [
      "[155611.61402899702, 134961.44934213773, 131786.0484096668, 133480.52599212123, 131343.42611389686, 132901.49043852865, 128913.85087981995, 132862.4618391588, 132796.04397275773, 131732.75628514178, 132367.35361116272, 133563.38993529606]\n"
     ]
    }
   ],
   "source": [
    "print(rmse_gbt_n_features)"
   ]
  },
  {
   "cell_type": "code",
   "execution_count": 45,
   "metadata": {},
   "outputs": [],
   "source": [
    "rmse_gbt_max_depth = []\n",
    "time_gbt_max_depth = []\n",
    "for depth in max_depth:\n",
    "    gbt_clf = GradientBoostingMSE(\n",
    "        feature_subsample_size=13, n_estimators=600,\n",
    "        max_depth=depth)\n",
    "    start_time = time()\n",
    "    gbt_clf.fit(X_train, y_train)\n",
    "    end_time = time()\n",
    "    time_gbt_max_depth.append(end_time - start_time)\n",
    "    rmse_gbt_max_depth.append(rmse(gbt_clf, X_test, y_test))"
   ]
  },
  {
   "cell_type": "code",
   "execution_count": 46,
   "metadata": {},
   "outputs": [
    {
     "data": {
      "image/svg+xml": "<?xml version=\"1.0\" encoding=\"utf-8\" standalone=\"no\"?>\n<!DOCTYPE svg PUBLIC \"-//W3C//DTD SVG 1.1//EN\"\n  \"http://www.w3.org/Graphics/SVG/1.1/DTD/svg11.dtd\">\n<svg xmlns:xlink=\"http://www.w3.org/1999/xlink\" width=\"515.656875pt\" height=\"349.567312pt\" viewBox=\"0 0 515.656875 349.567312\" xmlns=\"http://www.w3.org/2000/svg\" version=\"1.1\">\n <metadata>\n  <rdf:RDF xmlns:dc=\"http://purl.org/dc/elements/1.1/\" xmlns:cc=\"http://creativecommons.org/ns#\" xmlns:rdf=\"http://www.w3.org/1999/02/22-rdf-syntax-ns#\">\n   <cc:Work>\n    <dc:type rdf:resource=\"http://purl.org/dc/dcmitype/StillImage\"/>\n    <dc:date>2022-12-19T23:29:03.732173</dc:date>\n    <dc:format>image/svg+xml</dc:format>\n    <dc:creator>\n     <cc:Agent>\n      <dc:title>Matplotlib v3.6.2, https://matplotlib.org/</dc:title>\n     </cc:Agent>\n    </dc:creator>\n   </cc:Work>\n  </rdf:RDF>\n </metadata>\n <defs>\n  <style type=\"text/css\">*{stroke-linejoin: round; stroke-linecap: butt}</style>\n </defs>\n <g id=\"figure_1\">\n  <g id=\"patch_1\">\n   <path d=\"M 0 349.567312 \nL 515.656875 349.567312 \nL 515.656875 0 \nL 0 0 \nz\n\" style=\"fill: #ffffff\"/>\n  </g>\n  <g id=\"axes_1\">\n   <g id=\"patch_2\">\n    <path d=\"M 99.04875 293.871375 \nL 456.16875 293.871375 \nL 456.16875 27.759375 \nL 99.04875 27.759375 \nz\n\" style=\"fill: #eaeaf2\"/>\n   </g>\n   <g id=\"matplotlib.axis_1\">\n    <g id=\"xtick_1\">\n     <g id=\"line2d_1\">\n      <path d=\"M 99.04875 293.871375 \nL 99.04875 27.759375 \n\" clip-path=\"url(#p4251fc2297)\" style=\"fill: none; stroke: #ffffff; stroke-linecap: round\"/>\n     </g>\n     <g id=\"text_1\">\n      <!-- 0 -->\n      <g style=\"fill: #262626\" transform=\"translate(94.043906 316.255437) scale(0.18 -0.18)\">\n       <defs>\n        <path id=\"ArialMT-30\" d=\"M 266 2259 \nQ 266 3072 433 3567 \nQ 600 4063 929 4331 \nQ 1259 4600 1759 4600 \nQ 2128 4600 2406 4451 \nQ 2684 4303 2865 4023 \nQ 3047 3744 3150 3342 \nQ 3253 2941 3253 2259 \nQ 3253 1453 3087 958 \nQ 2922 463 2592 192 \nQ 2263 -78 1759 -78 \nQ 1097 -78 719 397 \nQ 266 969 266 2259 \nz\nM 844 2259 \nQ 844 1131 1108 757 \nQ 1372 384 1759 384 \nQ 2147 384 2411 759 \nQ 2675 1134 2675 2259 \nQ 2675 3391 2411 3762 \nQ 2147 4134 1753 4134 \nQ 1366 4134 1134 3806 \nQ 844 3388 844 2259 \nz\n\" transform=\"scale(0.015625)\"/>\n       </defs>\n       <use xlink:href=\"#ArialMT-30\"/>\n      </g>\n     </g>\n    </g>\n    <g id=\"xtick_2\">\n     <g id=\"line2d_2\">\n      <path d=\"M 141.689944 293.871375 \nL 141.689944 27.759375 \n\" clip-path=\"url(#p4251fc2297)\" style=\"fill: none; stroke: #ffffff; stroke-linecap: round\"/>\n     </g>\n     <g id=\"text_2\">\n      <!-- 2 -->\n      <g style=\"fill: #262626\" transform=\"translate(136.6851 316.255437) scale(0.18 -0.18)\">\n       <defs>\n        <path id=\"ArialMT-32\" d=\"M 3222 541 \nL 3222 0 \nL 194 0 \nQ 188 203 259 391 \nQ 375 700 629 1000 \nQ 884 1300 1366 1694 \nQ 2113 2306 2375 2664 \nQ 2638 3022 2638 3341 \nQ 2638 3675 2398 3904 \nQ 2159 4134 1775 4134 \nQ 1369 4134 1125 3890 \nQ 881 3647 878 3216 \nL 300 3275 \nQ 359 3922 746 4261 \nQ 1134 4600 1788 4600 \nQ 2447 4600 2831 4234 \nQ 3216 3869 3216 3328 \nQ 3216 3053 3103 2787 \nQ 2991 2522 2730 2228 \nQ 2469 1934 1863 1422 \nQ 1356 997 1212 845 \nQ 1069 694 975 541 \nL 3222 541 \nz\n\" transform=\"scale(0.015625)\"/>\n       </defs>\n       <use xlink:href=\"#ArialMT-32\"/>\n      </g>\n     </g>\n    </g>\n    <g id=\"xtick_3\">\n     <g id=\"line2d_3\">\n      <path d=\"M 184.331138 293.871375 \nL 184.331138 27.759375 \n\" clip-path=\"url(#p4251fc2297)\" style=\"fill: none; stroke: #ffffff; stroke-linecap: round\"/>\n     </g>\n     <g id=\"text_3\">\n      <!-- 4 -->\n      <g style=\"fill: #262626\" transform=\"translate(179.326294 316.255437) scale(0.18 -0.18)\">\n       <defs>\n        <path id=\"ArialMT-34\" d=\"M 2069 0 \nL 2069 1097 \nL 81 1097 \nL 81 1613 \nL 2172 4581 \nL 2631 4581 \nL 2631 1613 \nL 3250 1613 \nL 3250 1097 \nL 2631 1097 \nL 2631 0 \nL 2069 0 \nz\nM 2069 1613 \nL 2069 3678 \nL 634 1613 \nL 2069 1613 \nz\n\" transform=\"scale(0.015625)\"/>\n       </defs>\n       <use xlink:href=\"#ArialMT-34\"/>\n      </g>\n     </g>\n    </g>\n    <g id=\"xtick_4\">\n     <g id=\"line2d_4\">\n      <path d=\"M 226.972332 293.871375 \nL 226.972332 27.759375 \n\" clip-path=\"url(#p4251fc2297)\" style=\"fill: none; stroke: #ffffff; stroke-linecap: round\"/>\n     </g>\n     <g id=\"text_4\">\n      <!-- 6 -->\n      <g style=\"fill: #262626\" transform=\"translate(221.967488 316.255437) scale(0.18 -0.18)\">\n       <defs>\n        <path id=\"ArialMT-36\" d=\"M 3184 3459 \nL 2625 3416 \nQ 2550 3747 2413 3897 \nQ 2184 4138 1850 4138 \nQ 1581 4138 1378 3988 \nQ 1113 3794 959 3422 \nQ 806 3050 800 2363 \nQ 1003 2672 1297 2822 \nQ 1591 2972 1913 2972 \nQ 2475 2972 2870 2558 \nQ 3266 2144 3266 1488 \nQ 3266 1056 3080 686 \nQ 2894 316 2569 119 \nQ 2244 -78 1831 -78 \nQ 1128 -78 684 439 \nQ 241 956 241 2144 \nQ 241 3472 731 4075 \nQ 1159 4600 1884 4600 \nQ 2425 4600 2770 4297 \nQ 3116 3994 3184 3459 \nz\nM 888 1484 \nQ 888 1194 1011 928 \nQ 1134 663 1356 523 \nQ 1578 384 1822 384 \nQ 2178 384 2434 671 \nQ 2691 959 2691 1453 \nQ 2691 1928 2437 2201 \nQ 2184 2475 1800 2475 \nQ 1419 2475 1153 2201 \nQ 888 1928 888 1484 \nz\n\" transform=\"scale(0.015625)\"/>\n       </defs>\n       <use xlink:href=\"#ArialMT-36\"/>\n      </g>\n     </g>\n    </g>\n    <g id=\"xtick_5\">\n     <g id=\"line2d_5\">\n      <path d=\"M 269.613526 293.871375 \nL 269.613526 27.759375 \n\" clip-path=\"url(#p4251fc2297)\" style=\"fill: none; stroke: #ffffff; stroke-linecap: round\"/>\n     </g>\n     <g id=\"text_5\">\n      <!-- 8 -->\n      <g style=\"fill: #262626\" transform=\"translate(264.608682 316.255437) scale(0.18 -0.18)\">\n       <defs>\n        <path id=\"ArialMT-38\" d=\"M 1131 2484 \nQ 781 2613 612 2850 \nQ 444 3088 444 3419 \nQ 444 3919 803 4259 \nQ 1163 4600 1759 4600 \nQ 2359 4600 2725 4251 \nQ 3091 3903 3091 3403 \nQ 3091 3084 2923 2848 \nQ 2756 2613 2416 2484 \nQ 2838 2347 3058 2040 \nQ 3278 1734 3278 1309 \nQ 3278 722 2862 322 \nQ 2447 -78 1769 -78 \nQ 1091 -78 675 323 \nQ 259 725 259 1325 \nQ 259 1772 486 2073 \nQ 713 2375 1131 2484 \nz\nM 1019 3438 \nQ 1019 3113 1228 2906 \nQ 1438 2700 1772 2700 \nQ 2097 2700 2305 2904 \nQ 2513 3109 2513 3406 \nQ 2513 3716 2298 3927 \nQ 2084 4138 1766 4138 \nQ 1444 4138 1231 3931 \nQ 1019 3725 1019 3438 \nz\nM 838 1322 \nQ 838 1081 952 856 \nQ 1066 631 1291 507 \nQ 1516 384 1775 384 \nQ 2178 384 2440 643 \nQ 2703 903 2703 1303 \nQ 2703 1709 2433 1975 \nQ 2163 2241 1756 2241 \nQ 1359 2241 1098 1978 \nQ 838 1716 838 1322 \nz\n\" transform=\"scale(0.015625)\"/>\n       </defs>\n       <use xlink:href=\"#ArialMT-38\"/>\n      </g>\n     </g>\n    </g>\n    <g id=\"xtick_6\">\n     <g id=\"line2d_6\">\n      <path d=\"M 312.25472 293.871375 \nL 312.25472 27.759375 \n\" clip-path=\"url(#p4251fc2297)\" style=\"fill: none; stroke: #ffffff; stroke-linecap: round\"/>\n     </g>\n     <g id=\"text_6\">\n      <!-- 10 -->\n      <g style=\"fill: #262626\" transform=\"translate(302.245033 316.255437) scale(0.18 -0.18)\">\n       <defs>\n        <path id=\"ArialMT-31\" d=\"M 2384 0 \nL 1822 0 \nL 1822 3584 \nQ 1619 3391 1289 3197 \nQ 959 3003 697 2906 \nL 697 3450 \nQ 1169 3672 1522 3987 \nQ 1875 4303 2022 4600 \nL 2384 4600 \nL 2384 0 \nz\n\" transform=\"scale(0.015625)\"/>\n       </defs>\n       <use xlink:href=\"#ArialMT-31\"/>\n       <use xlink:href=\"#ArialMT-30\" x=\"55.615234\"/>\n      </g>\n     </g>\n    </g>\n    <g id=\"xtick_7\">\n     <g id=\"line2d_7\">\n      <path d=\"M 354.895914 293.871375 \nL 354.895914 27.759375 \n\" clip-path=\"url(#p4251fc2297)\" style=\"fill: none; stroke: #ffffff; stroke-linecap: round\"/>\n     </g>\n     <g id=\"text_7\">\n      <!-- 12 -->\n      <g style=\"fill: #262626\" transform=\"translate(344.886227 316.255437) scale(0.18 -0.18)\">\n       <use xlink:href=\"#ArialMT-31\"/>\n       <use xlink:href=\"#ArialMT-32\" x=\"55.615234\"/>\n      </g>\n     </g>\n    </g>\n    <g id=\"xtick_8\">\n     <g id=\"line2d_8\">\n      <path d=\"M 397.537108 293.871375 \nL 397.537108 27.759375 \n\" clip-path=\"url(#p4251fc2297)\" style=\"fill: none; stroke: #ffffff; stroke-linecap: round\"/>\n     </g>\n     <g id=\"text_8\">\n      <!-- 14 -->\n      <g style=\"fill: #262626\" transform=\"translate(387.527421 316.255437) scale(0.18 -0.18)\">\n       <use xlink:href=\"#ArialMT-31\"/>\n       <use xlink:href=\"#ArialMT-34\" x=\"55.615234\"/>\n      </g>\n     </g>\n    </g>\n    <g id=\"xtick_9\">\n     <g id=\"line2d_9\">\n      <path d=\"M 440.178302 293.871375 \nL 440.178302 27.759375 \n\" clip-path=\"url(#p4251fc2297)\" style=\"fill: none; stroke: #ffffff; stroke-linecap: round\"/>\n     </g>\n     <g id=\"text_9\">\n      <!-- $\\infty$ -->\n      <g style=\"fill: #262626\" transform=\"translate(432.618302 316.255437) scale(0.18 -0.18)\">\n       <defs>\n        <path id=\"DejaVuSans-221e\" d=\"M 2916 1091 \nQ 2819 1203 2666 1466 \nQ 2456 1091 2272 925 \nQ 2041 725 1681 725 \nQ 1259 725 981 1041 \nQ 688 1372 688 1919 \nQ 688 2444 981 2800 \nQ 1244 3116 1688 3116 \nQ 1916 3116 2084 3022 \nQ 2281 2919 2416 2741 \nQ 2541 2581 2666 2366 \nQ 2875 2741 3059 2906 \nQ 3291 3106 3650 3106 \nQ 4072 3106 4350 2791 \nQ 4644 2459 4644 1913 \nQ 4644 1388 4350 1031 \nQ 4088 716 3644 716 \nQ 3416 716 3247 809 \nQ 3078 894 2916 1091 \nz\nM 1647 1134 \nQ 2163 1134 2472 1884 \nQ 2075 2703 1647 2703 \nQ 1334 2703 1175 2478 \nQ 1003 2238 1003 1919 \nQ 1003 1569 1175 1353 \nQ 1350 1134 1647 1134 \nz\nM 3684 2697 \nQ 3219 2697 2859 1947 \nQ 3253 1128 3684 1128 \nQ 3997 1128 4156 1353 \nQ 4328 1594 4328 1913 \nQ 4328 2263 4156 2478 \nQ 3981 2697 3684 2697 \nz\n\" transform=\"scale(0.015625)\"/>\n       </defs>\n       <use xlink:href=\"#DejaVuSans-221e\" transform=\"translate(0 0.3125)\"/>\n      </g>\n     </g>\n    </g>\n    <g id=\"text_10\">\n     <!-- Max depth of the tree -->\n     <g style=\"fill: #262626\" transform=\"translate(183.115 338.392312) scale(0.2 -0.2)\">\n      <defs>\n       <path id=\"ArialMT-4d\" d=\"M 475 0 \nL 475 4581 \nL 1388 4581 \nL 2472 1338 \nQ 2622 884 2691 659 \nQ 2769 909 2934 1394 \nL 4031 4581 \nL 4847 4581 \nL 4847 0 \nL 4263 0 \nL 4263 3834 \nL 2931 0 \nL 2384 0 \nL 1059 3900 \nL 1059 0 \nL 475 0 \nz\n\" transform=\"scale(0.015625)\"/>\n       <path id=\"ArialMT-61\" d=\"M 2588 409 \nQ 2275 144 1986 34 \nQ 1697 -75 1366 -75 \nQ 819 -75 525 192 \nQ 231 459 231 875 \nQ 231 1119 342 1320 \nQ 453 1522 633 1644 \nQ 813 1766 1038 1828 \nQ 1203 1872 1538 1913 \nQ 2219 1994 2541 2106 \nQ 2544 2222 2544 2253 \nQ 2544 2597 2384 2738 \nQ 2169 2928 1744 2928 \nQ 1347 2928 1158 2789 \nQ 969 2650 878 2297 \nL 328 2372 \nQ 403 2725 575 2942 \nQ 747 3159 1072 3276 \nQ 1397 3394 1825 3394 \nQ 2250 3394 2515 3294 \nQ 2781 3194 2906 3042 \nQ 3031 2891 3081 2659 \nQ 3109 2516 3109 2141 \nL 3109 1391 \nQ 3109 606 3145 398 \nQ 3181 191 3288 0 \nL 2700 0 \nQ 2613 175 2588 409 \nz\nM 2541 1666 \nQ 2234 1541 1622 1453 \nQ 1275 1403 1131 1340 \nQ 988 1278 909 1158 \nQ 831 1038 831 891 \nQ 831 666 1001 516 \nQ 1172 366 1500 366 \nQ 1825 366 2078 508 \nQ 2331 650 2450 897 \nQ 2541 1088 2541 1459 \nL 2541 1666 \nz\n\" transform=\"scale(0.015625)\"/>\n       <path id=\"ArialMT-78\" d=\"M 47 0 \nL 1259 1725 \nL 138 3319 \nL 841 3319 \nL 1350 2541 \nQ 1494 2319 1581 2169 \nQ 1719 2375 1834 2534 \nL 2394 3319 \nL 3066 3319 \nL 1919 1756 \nL 3153 0 \nL 2463 0 \nL 1781 1031 \nL 1600 1309 \nL 728 0 \nL 47 0 \nz\n\" transform=\"scale(0.015625)\"/>\n       <path id=\"ArialMT-20\" transform=\"scale(0.015625)\"/>\n       <path id=\"ArialMT-64\" d=\"M 2575 0 \nL 2575 419 \nQ 2259 -75 1647 -75 \nQ 1250 -75 917 144 \nQ 584 363 401 755 \nQ 219 1147 219 1656 \nQ 219 2153 384 2558 \nQ 550 2963 881 3178 \nQ 1213 3394 1622 3394 \nQ 1922 3394 2156 3267 \nQ 2391 3141 2538 2938 \nL 2538 4581 \nL 3097 4581 \nL 3097 0 \nL 2575 0 \nz\nM 797 1656 \nQ 797 1019 1065 703 \nQ 1334 388 1700 388 \nQ 2069 388 2326 689 \nQ 2584 991 2584 1609 \nQ 2584 2291 2321 2609 \nQ 2059 2928 1675 2928 \nQ 1300 2928 1048 2622 \nQ 797 2316 797 1656 \nz\n\" transform=\"scale(0.015625)\"/>\n       <path id=\"ArialMT-65\" d=\"M 2694 1069 \nL 3275 997 \nQ 3138 488 2766 206 \nQ 2394 -75 1816 -75 \nQ 1088 -75 661 373 \nQ 234 822 234 1631 \nQ 234 2469 665 2931 \nQ 1097 3394 1784 3394 \nQ 2450 3394 2872 2941 \nQ 3294 2488 3294 1666 \nQ 3294 1616 3291 1516 \nL 816 1516 \nQ 847 969 1125 678 \nQ 1403 388 1819 388 \nQ 2128 388 2347 550 \nQ 2566 713 2694 1069 \nz\nM 847 1978 \nL 2700 1978 \nQ 2663 2397 2488 2606 \nQ 2219 2931 1791 2931 \nQ 1403 2931 1139 2672 \nQ 875 2413 847 1978 \nz\n\" transform=\"scale(0.015625)\"/>\n       <path id=\"ArialMT-70\" d=\"M 422 -1272 \nL 422 3319 \nL 934 3319 \nL 934 2888 \nQ 1116 3141 1344 3267 \nQ 1572 3394 1897 3394 \nQ 2322 3394 2647 3175 \nQ 2972 2956 3137 2557 \nQ 3303 2159 3303 1684 \nQ 3303 1175 3120 767 \nQ 2938 359 2589 142 \nQ 2241 -75 1856 -75 \nQ 1575 -75 1351 44 \nQ 1128 163 984 344 \nL 984 -1272 \nL 422 -1272 \nz\nM 931 1641 \nQ 931 1000 1190 694 \nQ 1450 388 1819 388 \nQ 2194 388 2461 705 \nQ 2728 1022 2728 1688 \nQ 2728 2322 2467 2637 \nQ 2206 2953 1844 2953 \nQ 1484 2953 1207 2617 \nQ 931 2281 931 1641 \nz\n\" transform=\"scale(0.015625)\"/>\n       <path id=\"ArialMT-74\" d=\"M 1650 503 \nL 1731 6 \nQ 1494 -44 1306 -44 \nQ 1000 -44 831 53 \nQ 663 150 594 308 \nQ 525 466 525 972 \nL 525 2881 \nL 113 2881 \nL 113 3319 \nL 525 3319 \nL 525 4141 \nL 1084 4478 \nL 1084 3319 \nL 1650 3319 \nL 1650 2881 \nL 1084 2881 \nL 1084 941 \nQ 1084 700 1114 631 \nQ 1144 563 1211 522 \nQ 1278 481 1403 481 \nQ 1497 481 1650 503 \nz\n\" transform=\"scale(0.015625)\"/>\n       <path id=\"ArialMT-68\" d=\"M 422 0 \nL 422 4581 \nL 984 4581 \nL 984 2938 \nQ 1378 3394 1978 3394 \nQ 2347 3394 2619 3248 \nQ 2891 3103 3008 2847 \nQ 3125 2591 3125 2103 \nL 3125 0 \nL 2563 0 \nL 2563 2103 \nQ 2563 2525 2380 2717 \nQ 2197 2909 1863 2909 \nQ 1613 2909 1392 2779 \nQ 1172 2650 1078 2428 \nQ 984 2206 984 1816 \nL 984 0 \nL 422 0 \nz\n\" transform=\"scale(0.015625)\"/>\n       <path id=\"ArialMT-6f\" d=\"M 213 1659 \nQ 213 2581 725 3025 \nQ 1153 3394 1769 3394 \nQ 2453 3394 2887 2945 \nQ 3322 2497 3322 1706 \nQ 3322 1066 3130 698 \nQ 2938 331 2570 128 \nQ 2203 -75 1769 -75 \nQ 1072 -75 642 372 \nQ 213 819 213 1659 \nz\nM 791 1659 \nQ 791 1022 1069 705 \nQ 1347 388 1769 388 \nQ 2188 388 2466 706 \nQ 2744 1025 2744 1678 \nQ 2744 2294 2464 2611 \nQ 2184 2928 1769 2928 \nQ 1347 2928 1069 2612 \nQ 791 2297 791 1659 \nz\n\" transform=\"scale(0.015625)\"/>\n       <path id=\"ArialMT-66\" d=\"M 556 0 \nL 556 2881 \nL 59 2881 \nL 59 3319 \nL 556 3319 \nL 556 3672 \nQ 556 4006 616 4169 \nQ 697 4388 901 4523 \nQ 1106 4659 1475 4659 \nQ 1713 4659 2000 4603 \nL 1916 4113 \nQ 1741 4144 1584 4144 \nQ 1328 4144 1222 4034 \nQ 1116 3925 1116 3625 \nL 1116 3319 \nL 1763 3319 \nL 1763 2881 \nL 1116 2881 \nL 1116 0 \nL 556 0 \nz\n\" transform=\"scale(0.015625)\"/>\n       <path id=\"ArialMT-72\" d=\"M 416 0 \nL 416 3319 \nL 922 3319 \nL 922 2816 \nQ 1116 3169 1280 3281 \nQ 1444 3394 1641 3394 \nQ 1925 3394 2219 3213 \nL 2025 2691 \nQ 1819 2813 1613 2813 \nQ 1428 2813 1281 2702 \nQ 1134 2591 1072 2394 \nQ 978 2094 978 1738 \nL 978 0 \nL 416 0 \nz\n\" transform=\"scale(0.015625)\"/>\n      </defs>\n      <use xlink:href=\"#ArialMT-4d\"/>\n      <use xlink:href=\"#ArialMT-61\" x=\"83.300781\"/>\n      <use xlink:href=\"#ArialMT-78\" x=\"138.916016\"/>\n      <use xlink:href=\"#ArialMT-20\" x=\"188.916016\"/>\n      <use xlink:href=\"#ArialMT-64\" x=\"216.699219\"/>\n      <use xlink:href=\"#ArialMT-65\" x=\"272.314453\"/>\n      <use xlink:href=\"#ArialMT-70\" x=\"327.929688\"/>\n      <use xlink:href=\"#ArialMT-74\" x=\"383.544922\"/>\n      <use xlink:href=\"#ArialMT-68\" x=\"411.328125\"/>\n      <use xlink:href=\"#ArialMT-20\" x=\"466.943359\"/>\n      <use xlink:href=\"#ArialMT-6f\" x=\"494.726562\"/>\n      <use xlink:href=\"#ArialMT-66\" x=\"550.341797\"/>\n      <use xlink:href=\"#ArialMT-20\" x=\"578.125\"/>\n      <use xlink:href=\"#ArialMT-74\" x=\"605.908203\"/>\n      <use xlink:href=\"#ArialMT-68\" x=\"633.691406\"/>\n      <use xlink:href=\"#ArialMT-65\" x=\"689.306641\"/>\n      <use xlink:href=\"#ArialMT-20\" x=\"744.921875\"/>\n      <use xlink:href=\"#ArialMT-74\" x=\"772.705078\"/>\n      <use xlink:href=\"#ArialMT-72\" x=\"800.488281\"/>\n      <use xlink:href=\"#ArialMT-65\" x=\"833.789062\"/>\n      <use xlink:href=\"#ArialMT-65\" x=\"889.404297\"/>\n     </g>\n    </g>\n   </g>\n   <g id=\"matplotlib.axis_2\">\n    <g id=\"ytick_1\">\n     <g id=\"line2d_10\">\n      <path d=\"M 99.04875 285.435314 \nL 456.16875 285.435314 \n\" clip-path=\"url(#p4251fc2297)\" style=\"fill: none; stroke: #ffffff; stroke-linecap: round\"/>\n     </g>\n     <g id=\"line2d_11\">\n      <defs>\n       <path id=\"m82ce5e473b\" d=\"M 0 0 \nL -6 0 \n\" style=\"stroke: #bb83f4; stroke-width: 1.25\"/>\n      </defs>\n      <g>\n       <use xlink:href=\"#m82ce5e473b\" x=\"99.04875\" y=\"285.435314\" style=\"fill: #bb83f4; stroke: #bb83f4; stroke-width: 1.25\"/>\n      </g>\n     </g>\n     <g id=\"text_11\">\n      <!-- 130000 -->\n      <g style=\"fill: #bb83f4\" transform=\"translate(29.490625 291.877345) scale(0.18 -0.18)\">\n       <defs>\n        <path id=\"ArialMT-33\" d=\"M 269 1209 \nL 831 1284 \nQ 928 806 1161 595 \nQ 1394 384 1728 384 \nQ 2125 384 2398 659 \nQ 2672 934 2672 1341 \nQ 2672 1728 2419 1979 \nQ 2166 2231 1775 2231 \nQ 1616 2231 1378 2169 \nL 1441 2663 \nQ 1497 2656 1531 2656 \nQ 1891 2656 2178 2843 \nQ 2466 3031 2466 3422 \nQ 2466 3731 2256 3934 \nQ 2047 4138 1716 4138 \nQ 1388 4138 1169 3931 \nQ 950 3725 888 3313 \nL 325 3413 \nQ 428 3978 793 4289 \nQ 1159 4600 1703 4600 \nQ 2078 4600 2393 4439 \nQ 2709 4278 2876 4000 \nQ 3044 3722 3044 3409 \nQ 3044 3113 2884 2869 \nQ 2725 2625 2413 2481 \nQ 2819 2388 3044 2092 \nQ 3269 1797 3269 1353 \nQ 3269 753 2831 336 \nQ 2394 -81 1725 -81 \nQ 1122 -81 723 278 \nQ 325 638 269 1209 \nz\n\" transform=\"scale(0.015625)\"/>\n       </defs>\n       <use xlink:href=\"#ArialMT-31\"/>\n       <use xlink:href=\"#ArialMT-33\" x=\"55.615234\"/>\n       <use xlink:href=\"#ArialMT-30\" x=\"111.230469\"/>\n       <use xlink:href=\"#ArialMT-30\" x=\"166.845703\"/>\n       <use xlink:href=\"#ArialMT-30\" x=\"222.460938\"/>\n       <use xlink:href=\"#ArialMT-30\" x=\"278.076172\"/>\n      </g>\n     </g>\n    </g>\n    <g id=\"ytick_2\">\n     <g id=\"line2d_12\">\n      <path d=\"M 99.04875 230.71673 \nL 456.16875 230.71673 \n\" clip-path=\"url(#p4251fc2297)\" style=\"fill: none; stroke: #ffffff; stroke-linecap: round\"/>\n     </g>\n     <g id=\"line2d_13\">\n      <g>\n       <use xlink:href=\"#m82ce5e473b\" x=\"99.04875\" y=\"230.71673\" style=\"fill: #bb83f4; stroke: #bb83f4; stroke-width: 1.25\"/>\n      </g>\n     </g>\n     <g id=\"text_12\">\n      <!-- 140000 -->\n      <g style=\"fill: #bb83f4\" transform=\"translate(29.490625 237.158761) scale(0.18 -0.18)\">\n       <use xlink:href=\"#ArialMT-31\"/>\n       <use xlink:href=\"#ArialMT-34\" x=\"55.615234\"/>\n       <use xlink:href=\"#ArialMT-30\" x=\"111.230469\"/>\n       <use xlink:href=\"#ArialMT-30\" x=\"166.845703\"/>\n       <use xlink:href=\"#ArialMT-30\" x=\"222.460938\"/>\n       <use xlink:href=\"#ArialMT-30\" x=\"278.076172\"/>\n      </g>\n     </g>\n    </g>\n    <g id=\"ytick_3\">\n     <g id=\"line2d_14\">\n      <path d=\"M 99.04875 175.998146 \nL 456.16875 175.998146 \n\" clip-path=\"url(#p4251fc2297)\" style=\"fill: none; stroke: #ffffff; stroke-linecap: round\"/>\n     </g>\n     <g id=\"line2d_15\">\n      <g>\n       <use xlink:href=\"#m82ce5e473b\" x=\"99.04875\" y=\"175.998146\" style=\"fill: #bb83f4; stroke: #bb83f4; stroke-width: 1.25\"/>\n      </g>\n     </g>\n     <g id=\"text_13\">\n      <!-- 150000 -->\n      <g style=\"fill: #bb83f4\" transform=\"translate(29.490625 182.440177) scale(0.18 -0.18)\">\n       <defs>\n        <path id=\"ArialMT-35\" d=\"M 266 1200 \nL 856 1250 \nQ 922 819 1161 601 \nQ 1400 384 1738 384 \nQ 2144 384 2425 690 \nQ 2706 997 2706 1503 \nQ 2706 1984 2436 2262 \nQ 2166 2541 1728 2541 \nQ 1456 2541 1237 2417 \nQ 1019 2294 894 2097 \nL 366 2166 \nL 809 4519 \nL 3088 4519 \nL 3088 3981 \nL 1259 3981 \nL 1013 2750 \nQ 1425 3038 1878 3038 \nQ 2478 3038 2890 2622 \nQ 3303 2206 3303 1553 \nQ 3303 931 2941 478 \nQ 2500 -78 1738 -78 \nQ 1113 -78 717 272 \nQ 322 622 266 1200 \nz\n\" transform=\"scale(0.015625)\"/>\n       </defs>\n       <use xlink:href=\"#ArialMT-31\"/>\n       <use xlink:href=\"#ArialMT-35\" x=\"55.615234\"/>\n       <use xlink:href=\"#ArialMT-30\" x=\"111.230469\"/>\n       <use xlink:href=\"#ArialMT-30\" x=\"166.845703\"/>\n       <use xlink:href=\"#ArialMT-30\" x=\"222.460938\"/>\n       <use xlink:href=\"#ArialMT-30\" x=\"278.076172\"/>\n      </g>\n     </g>\n    </g>\n    <g id=\"ytick_4\">\n     <g id=\"line2d_16\">\n      <path d=\"M 99.04875 121.279562 \nL 456.16875 121.279562 \n\" clip-path=\"url(#p4251fc2297)\" style=\"fill: none; stroke: #ffffff; stroke-linecap: round\"/>\n     </g>\n     <g id=\"line2d_17\">\n      <g>\n       <use xlink:href=\"#m82ce5e473b\" x=\"99.04875\" y=\"121.279562\" style=\"fill: #bb83f4; stroke: #bb83f4; stroke-width: 1.25\"/>\n      </g>\n     </g>\n     <g id=\"text_14\">\n      <!-- 160000 -->\n      <g style=\"fill: #bb83f4\" transform=\"translate(29.490625 127.721593) scale(0.18 -0.18)\">\n       <use xlink:href=\"#ArialMT-31\"/>\n       <use xlink:href=\"#ArialMT-36\" x=\"55.615234\"/>\n       <use xlink:href=\"#ArialMT-30\" x=\"111.230469\"/>\n       <use xlink:href=\"#ArialMT-30\" x=\"166.845703\"/>\n       <use xlink:href=\"#ArialMT-30\" x=\"222.460938\"/>\n       <use xlink:href=\"#ArialMT-30\" x=\"278.076172\"/>\n      </g>\n     </g>\n    </g>\n    <g id=\"ytick_5\">\n     <g id=\"line2d_18\">\n      <path d=\"M 99.04875 66.560978 \nL 456.16875 66.560978 \n\" clip-path=\"url(#p4251fc2297)\" style=\"fill: none; stroke: #ffffff; stroke-linecap: round\"/>\n     </g>\n     <g id=\"line2d_19\">\n      <g>\n       <use xlink:href=\"#m82ce5e473b\" x=\"99.04875\" y=\"66.560978\" style=\"fill: #bb83f4; stroke: #bb83f4; stroke-width: 1.25\"/>\n      </g>\n     </g>\n     <g id=\"text_15\">\n      <!-- 170000 -->\n      <g style=\"fill: #bb83f4\" transform=\"translate(29.490625 73.003009) scale(0.18 -0.18)\">\n       <defs>\n        <path id=\"ArialMT-37\" d=\"M 303 3981 \nL 303 4522 \nL 3269 4522 \nL 3269 4084 \nQ 2831 3619 2401 2847 \nQ 1972 2075 1738 1259 \nQ 1569 684 1522 0 \nL 944 0 \nQ 953 541 1156 1306 \nQ 1359 2072 1739 2783 \nQ 2119 3494 2547 3981 \nL 303 3981 \nz\n\" transform=\"scale(0.015625)\"/>\n       </defs>\n       <use xlink:href=\"#ArialMT-31\"/>\n       <use xlink:href=\"#ArialMT-37\" x=\"55.615234\"/>\n       <use xlink:href=\"#ArialMT-30\" x=\"111.230469\"/>\n       <use xlink:href=\"#ArialMT-30\" x=\"166.845703\"/>\n       <use xlink:href=\"#ArialMT-30\" x=\"222.460938\"/>\n       <use xlink:href=\"#ArialMT-30\" x=\"278.076172\"/>\n      </g>\n     </g>\n    </g>\n    <g id=\"text_16\">\n     <!-- RMSE -->\n     <g style=\"fill: #bb83f4\" transform=\"translate(21.515625 189.707562) rotate(-90) scale(0.2 -0.2)\">\n      <defs>\n       <path id=\"ArialMT-52\" d=\"M 503 0 \nL 503 4581 \nL 2534 4581 \nQ 3147 4581 3465 4457 \nQ 3784 4334 3975 4021 \nQ 4166 3709 4166 3331 \nQ 4166 2844 3850 2509 \nQ 3534 2175 2875 2084 \nQ 3116 1969 3241 1856 \nQ 3506 1613 3744 1247 \nL 4541 0 \nL 3778 0 \nL 3172 953 \nQ 2906 1366 2734 1584 \nQ 2563 1803 2427 1890 \nQ 2291 1978 2150 2013 \nQ 2047 2034 1813 2034 \nL 1109 2034 \nL 1109 0 \nL 503 0 \nz\nM 1109 2559 \nL 2413 2559 \nQ 2828 2559 3062 2645 \nQ 3297 2731 3419 2920 \nQ 3541 3109 3541 3331 \nQ 3541 3656 3305 3865 \nQ 3069 4075 2559 4075 \nL 1109 4075 \nL 1109 2559 \nz\n\" transform=\"scale(0.015625)\"/>\n       <path id=\"ArialMT-53\" d=\"M 288 1472 \nL 859 1522 \nQ 900 1178 1048 958 \nQ 1197 738 1509 602 \nQ 1822 466 2213 466 \nQ 2559 466 2825 569 \nQ 3091 672 3220 851 \nQ 3350 1031 3350 1244 \nQ 3350 1459 3225 1620 \nQ 3100 1781 2813 1891 \nQ 2628 1963 1997 2114 \nQ 1366 2266 1113 2400 \nQ 784 2572 623 2826 \nQ 463 3081 463 3397 \nQ 463 3744 659 4045 \nQ 856 4347 1234 4503 \nQ 1613 4659 2075 4659 \nQ 2584 4659 2973 4495 \nQ 3363 4331 3572 4012 \nQ 3781 3694 3797 3291 \nL 3216 3247 \nQ 3169 3681 2898 3903 \nQ 2628 4125 2100 4125 \nQ 1550 4125 1298 3923 \nQ 1047 3722 1047 3438 \nQ 1047 3191 1225 3031 \nQ 1400 2872 2139 2705 \nQ 2878 2538 3153 2413 \nQ 3553 2228 3743 1945 \nQ 3934 1663 3934 1294 \nQ 3934 928 3725 604 \nQ 3516 281 3123 101 \nQ 2731 -78 2241 -78 \nQ 1619 -78 1198 103 \nQ 778 284 539 648 \nQ 300 1013 288 1472 \nz\n\" transform=\"scale(0.015625)\"/>\n       <path id=\"ArialMT-45\" d=\"M 506 0 \nL 506 4581 \nL 3819 4581 \nL 3819 4041 \nL 1113 4041 \nL 1113 2638 \nL 3647 2638 \nL 3647 2100 \nL 1113 2100 \nL 1113 541 \nL 3925 541 \nL 3925 0 \nL 506 0 \nz\n\" transform=\"scale(0.015625)\"/>\n      </defs>\n      <use xlink:href=\"#ArialMT-52\"/>\n      <use xlink:href=\"#ArialMT-4d\" x=\"72.216797\"/>\n      <use xlink:href=\"#ArialMT-53\" x=\"155.517578\"/>\n      <use xlink:href=\"#ArialMT-45\" x=\"222.216797\"/>\n     </g>\n    </g>\n   </g>\n   <g id=\"PolyCollection_1\"/>\n   <g id=\"line2d_20\">\n    <path d=\"M 120.369347 39.855375 \nL 141.689944 231.56389 \nL 163.010541 276.871053 \nL 184.331138 274.772035 \nL 205.651735 279.349957 \nL 226.972332 281.775375 \nL 248.292929 270.1048 \nL 312.25472 225.602363 \nL 397.537108 178.308129 \nL 440.178302 191.371657 \n\" clip-path=\"url(#p4251fc2297)\" style=\"fill: none; stroke: #bb83f4; stroke-width: 1.5; stroke-linecap: round\"/>\n   </g>\n   <g id=\"patch_3\">\n    <path d=\"M 99.04875 293.871375 \nL 99.04875 27.759375 \n\" style=\"fill: none; stroke: #ffffff; stroke-width: 1.25; stroke-linejoin: miter; stroke-linecap: square\"/>\n   </g>\n   <g id=\"patch_4\">\n    <path d=\"M 456.16875 293.871375 \nL 456.16875 27.759375 \n\" style=\"fill: none; stroke: #ffffff; stroke-width: 1.25; stroke-linejoin: miter; stroke-linecap: square\"/>\n   </g>\n   <g id=\"patch_5\">\n    <path d=\"M 99.04875 293.871375 \nL 456.16875 293.871375 \n\" style=\"fill: none; stroke: #ffffff; stroke-width: 1.25; stroke-linejoin: miter; stroke-linecap: square\"/>\n   </g>\n   <g id=\"patch_6\">\n    <path d=\"M 99.04875 27.759375 \nL 456.16875 27.759375 \n\" style=\"fill: none; stroke: #ffffff; stroke-width: 1.25; stroke-linejoin: miter; stroke-linecap: square\"/>\n   </g>\n  </g>\n  <g id=\"axes_2\">\n   <g id=\"matplotlib.axis_3\">\n    <g id=\"ytick_6\">\n     <g id=\"line2d_21\">\n      <defs>\n       <path id=\"m21d54687ac\" d=\"M 0 0 \nL 6 0 \n\" style=\"stroke: #3ba3ec; stroke-width: 1.25\"/>\n      </defs>\n      <g>\n       <use xlink:href=\"#m21d54687ac\" x=\"456.16875\" y=\"268.513067\" style=\"fill: #3ba3ec; stroke: #3ba3ec; stroke-width: 1.25\"/>\n      </g>\n     </g>\n     <g id=\"text_17\">\n      <!-- 10 -->\n      <g style=\"fill: #3ba3ec\" transform=\"translate(465.66875 274.955098) scale(0.18 -0.18)\">\n       <use xlink:href=\"#ArialMT-31\"/>\n       <use xlink:href=\"#ArialMT-30\" x=\"55.615234\"/>\n      </g>\n     </g>\n    </g>\n    <g id=\"ytick_7\">\n     <g id=\"line2d_22\">\n      <g>\n       <use xlink:href=\"#m21d54687ac\" x=\"456.16875\" y=\"212.584336\" style=\"fill: #3ba3ec; stroke: #3ba3ec; stroke-width: 1.25\"/>\n      </g>\n     </g>\n     <g id=\"text_18\">\n      <!-- 20 -->\n      <g style=\"fill: #3ba3ec\" transform=\"translate(465.66875 219.026367) scale(0.18 -0.18)\">\n       <use xlink:href=\"#ArialMT-32\"/>\n       <use xlink:href=\"#ArialMT-30\" x=\"55.615234\"/>\n      </g>\n     </g>\n    </g>\n    <g id=\"ytick_8\">\n     <g id=\"line2d_23\">\n      <g>\n       <use xlink:href=\"#m21d54687ac\" x=\"456.16875\" y=\"156.655605\" style=\"fill: #3ba3ec; stroke: #3ba3ec; stroke-width: 1.25\"/>\n      </g>\n     </g>\n     <g id=\"text_19\">\n      <!-- 30 -->\n      <g style=\"fill: #3ba3ec\" transform=\"translate(465.66875 163.097636) scale(0.18 -0.18)\">\n       <use xlink:href=\"#ArialMT-33\"/>\n       <use xlink:href=\"#ArialMT-30\" x=\"55.615234\"/>\n      </g>\n     </g>\n    </g>\n    <g id=\"ytick_9\">\n     <g id=\"line2d_24\">\n      <g>\n       <use xlink:href=\"#m21d54687ac\" x=\"456.16875\" y=\"100.726874\" style=\"fill: #3ba3ec; stroke: #3ba3ec; stroke-width: 1.25\"/>\n      </g>\n     </g>\n     <g id=\"text_20\">\n      <!-- 40 -->\n      <g style=\"fill: #3ba3ec\" transform=\"translate(465.66875 107.168905) scale(0.18 -0.18)\">\n       <use xlink:href=\"#ArialMT-34\"/>\n       <use xlink:href=\"#ArialMT-30\" x=\"55.615234\"/>\n      </g>\n     </g>\n    </g>\n    <g id=\"ytick_10\">\n     <g id=\"line2d_25\">\n      <g>\n       <use xlink:href=\"#m21d54687ac\" x=\"456.16875\" y=\"44.798143\" style=\"fill: #3ba3ec; stroke: #3ba3ec; stroke-width: 1.25\"/>\n      </g>\n     </g>\n     <g id=\"text_21\">\n      <!-- 50 -->\n      <g style=\"fill: #3ba3ec\" transform=\"translate(465.66875 51.240174) scale(0.18 -0.18)\">\n       <use xlink:href=\"#ArialMT-35\"/>\n       <use xlink:href=\"#ArialMT-30\" x=\"55.615234\"/>\n      </g>\n     </g>\n    </g>\n    <g id=\"text_22\">\n     <!-- Time (s) -->\n     <g style=\"fill: #3ba3ec\" transform=\"translate(504.2475 197.098187) rotate(-90) scale(0.2 -0.2)\">\n      <defs>\n       <path id=\"ArialMT-54\" d=\"M 1659 0 \nL 1659 4041 \nL 150 4041 \nL 150 4581 \nL 3781 4581 \nL 3781 4041 \nL 2266 4041 \nL 2266 0 \nL 1659 0 \nz\n\" transform=\"scale(0.015625)\"/>\n       <path id=\"ArialMT-69\" d=\"M 425 3934 \nL 425 4581 \nL 988 4581 \nL 988 3934 \nL 425 3934 \nz\nM 425 0 \nL 425 3319 \nL 988 3319 \nL 988 0 \nL 425 0 \nz\n\" transform=\"scale(0.015625)\"/>\n       <path id=\"ArialMT-6d\" d=\"M 422 0 \nL 422 3319 \nL 925 3319 \nL 925 2853 \nQ 1081 3097 1340 3245 \nQ 1600 3394 1931 3394 \nQ 2300 3394 2536 3241 \nQ 2772 3088 2869 2813 \nQ 3263 3394 3894 3394 \nQ 4388 3394 4653 3120 \nQ 4919 2847 4919 2278 \nL 4919 0 \nL 4359 0 \nL 4359 2091 \nQ 4359 2428 4304 2576 \nQ 4250 2725 4106 2815 \nQ 3963 2906 3769 2906 \nQ 3419 2906 3187 2673 \nQ 2956 2441 2956 1928 \nL 2956 0 \nL 2394 0 \nL 2394 2156 \nQ 2394 2531 2256 2718 \nQ 2119 2906 1806 2906 \nQ 1569 2906 1367 2781 \nQ 1166 2656 1075 2415 \nQ 984 2175 984 1722 \nL 984 0 \nL 422 0 \nz\n\" transform=\"scale(0.015625)\"/>\n       <path id=\"ArialMT-28\" d=\"M 1497 -1347 \nQ 1031 -759 709 28 \nQ 388 816 388 1659 \nQ 388 2403 628 3084 \nQ 909 3875 1497 4659 \nL 1900 4659 \nQ 1522 4009 1400 3731 \nQ 1209 3300 1100 2831 \nQ 966 2247 966 1656 \nQ 966 153 1900 -1347 \nL 1497 -1347 \nz\n\" transform=\"scale(0.015625)\"/>\n       <path id=\"ArialMT-73\" d=\"M 197 991 \nL 753 1078 \nQ 800 744 1014 566 \nQ 1228 388 1613 388 \nQ 2000 388 2187 545 \nQ 2375 703 2375 916 \nQ 2375 1106 2209 1216 \nQ 2094 1291 1634 1406 \nQ 1016 1563 777 1677 \nQ 538 1791 414 1992 \nQ 291 2194 291 2438 \nQ 291 2659 392 2848 \nQ 494 3038 669 3163 \nQ 800 3259 1026 3326 \nQ 1253 3394 1513 3394 \nQ 1903 3394 2198 3281 \nQ 2494 3169 2634 2976 \nQ 2775 2784 2828 2463 \nL 2278 2388 \nQ 2241 2644 2061 2787 \nQ 1881 2931 1553 2931 \nQ 1166 2931 1000 2803 \nQ 834 2675 834 2503 \nQ 834 2394 903 2306 \nQ 972 2216 1119 2156 \nQ 1203 2125 1616 2013 \nQ 2213 1853 2448 1751 \nQ 2684 1650 2818 1456 \nQ 2953 1263 2953 975 \nQ 2953 694 2789 445 \nQ 2625 197 2315 61 \nQ 2006 -75 1616 -75 \nQ 969 -75 630 194 \nQ 291 463 197 991 \nz\n\" transform=\"scale(0.015625)\"/>\n       <path id=\"ArialMT-29\" d=\"M 791 -1347 \nL 388 -1347 \nQ 1322 153 1322 1656 \nQ 1322 2244 1188 2822 \nQ 1081 3291 891 3722 \nQ 769 4003 388 4659 \nL 791 4659 \nQ 1378 3875 1659 3084 \nQ 1900 2403 1900 1659 \nQ 1900 816 1576 28 \nQ 1253 -759 791 -1347 \nz\n\" transform=\"scale(0.015625)\"/>\n      </defs>\n      <use xlink:href=\"#ArialMT-54\"/>\n      <use xlink:href=\"#ArialMT-69\" x=\"57.333984\"/>\n      <use xlink:href=\"#ArialMT-6d\" x=\"79.550781\"/>\n      <use xlink:href=\"#ArialMT-65\" x=\"162.851562\"/>\n      <use xlink:href=\"#ArialMT-20\" x=\"218.466797\"/>\n      <use xlink:href=\"#ArialMT-28\" x=\"246.25\"/>\n      <use xlink:href=\"#ArialMT-73\" x=\"279.550781\"/>\n      <use xlink:href=\"#ArialMT-29\" x=\"329.550781\"/>\n     </g>\n    </g>\n   </g>\n   <g id=\"PolyCollection_2\"/>\n   <g id=\"line2d_26\">\n    <path d=\"M 120.369347 281.775375 \nL 141.689944 262.893034 \nL 163.010541 242.570636 \nL 184.331138 221.242708 \nL 205.651735 203.080489 \nL 226.972332 182.582089 \nL 248.292929 162.420023 \nL 312.25472 108.499027 \nL 397.537108 39.855375 \nL 440.178302 112.950826 \n\" clip-path=\"url(#p4251fc2297)\" style=\"fill: none; stroke: #3ba3ec; stroke-width: 1.5; stroke-linecap: round\"/>\n   </g>\n   <g id=\"patch_7\">\n    <path d=\"M 99.04875 293.871375 \nL 99.04875 27.759375 \n\" style=\"fill: none; stroke: #bb83f4; stroke-width: 1.25; stroke-linejoin: miter; stroke-linecap: square\"/>\n   </g>\n   <g id=\"patch_8\">\n    <path d=\"M 456.16875 293.871375 \nL 456.16875 27.759375 \n\" style=\"fill: none; stroke: #3ba3ec; stroke-width: 1.25; stroke-linejoin: miter; stroke-linecap: square\"/>\n   </g>\n   <g id=\"patch_9\">\n    <path d=\"M 99.04875 293.871375 \nL 456.16875 293.871375 \n\" style=\"fill: none; stroke: #ffffff; stroke-width: 1.25; stroke-linejoin: miter; stroke-linecap: square\"/>\n   </g>\n   <g id=\"patch_10\">\n    <path d=\"M 99.04875 27.759375 \nL 456.16875 27.759375 \n\" style=\"fill: none; stroke: #ffffff; stroke-width: 1.25; stroke-linejoin: miter; stroke-linecap: square\"/>\n   </g>\n   <g id=\"text_23\">\n    <!-- Gradient Boosting Random Forest -->\n    <g style=\"fill: #262626\" transform=\"translate(125.875937 21.759375) scale(0.2 -0.2)\">\n     <defs>\n      <path id=\"ArialMT-47\" d=\"M 2638 1797 \nL 2638 2334 \nL 4578 2338 \nL 4578 638 \nQ 4131 281 3656 101 \nQ 3181 -78 2681 -78 \nQ 2006 -78 1454 211 \nQ 903 500 622 1047 \nQ 341 1594 341 2269 \nQ 341 2938 620 3517 \nQ 900 4097 1425 4378 \nQ 1950 4659 2634 4659 \nQ 3131 4659 3532 4498 \nQ 3934 4338 4162 4050 \nQ 4391 3763 4509 3300 \nL 3963 3150 \nQ 3859 3500 3706 3700 \nQ 3553 3900 3268 4020 \nQ 2984 4141 2638 4141 \nQ 2222 4141 1919 4014 \nQ 1616 3888 1430 3681 \nQ 1244 3475 1141 3228 \nQ 966 2803 966 2306 \nQ 966 1694 1177 1281 \nQ 1388 869 1791 669 \nQ 2194 469 2647 469 \nQ 3041 469 3416 620 \nQ 3791 772 3984 944 \nL 3984 1797 \nL 2638 1797 \nz\n\" transform=\"scale(0.015625)\"/>\n      <path id=\"ArialMT-6e\" d=\"M 422 0 \nL 422 3319 \nL 928 3319 \nL 928 2847 \nQ 1294 3394 1984 3394 \nQ 2284 3394 2536 3286 \nQ 2788 3178 2913 3003 \nQ 3038 2828 3088 2588 \nQ 3119 2431 3119 2041 \nL 3119 0 \nL 2556 0 \nL 2556 2019 \nQ 2556 2363 2490 2533 \nQ 2425 2703 2258 2804 \nQ 2091 2906 1866 2906 \nQ 1506 2906 1245 2678 \nQ 984 2450 984 1813 \nL 984 0 \nL 422 0 \nz\n\" transform=\"scale(0.015625)\"/>\n      <path id=\"ArialMT-42\" d=\"M 469 0 \nL 469 4581 \nL 2188 4581 \nQ 2713 4581 3030 4442 \nQ 3347 4303 3526 4014 \nQ 3706 3725 3706 3409 \nQ 3706 3116 3547 2856 \nQ 3388 2597 3066 2438 \nQ 3481 2316 3704 2022 \nQ 3928 1728 3928 1328 \nQ 3928 1006 3792 729 \nQ 3656 453 3456 303 \nQ 3256 153 2954 76 \nQ 2653 0 2216 0 \nL 469 0 \nz\nM 1075 2656 \nL 2066 2656 \nQ 2469 2656 2644 2709 \nQ 2875 2778 2992 2937 \nQ 3109 3097 3109 3338 \nQ 3109 3566 3000 3739 \nQ 2891 3913 2687 3977 \nQ 2484 4041 1991 4041 \nL 1075 4041 \nL 1075 2656 \nz\nM 1075 541 \nL 2216 541 \nQ 2509 541 2628 563 \nQ 2838 600 2978 687 \nQ 3119 775 3209 942 \nQ 3300 1109 3300 1328 \nQ 3300 1584 3169 1773 \nQ 3038 1963 2805 2039 \nQ 2572 2116 2134 2116 \nL 1075 2116 \nL 1075 541 \nz\n\" transform=\"scale(0.015625)\"/>\n      <path id=\"ArialMT-67\" d=\"M 319 -275 \nL 866 -356 \nQ 900 -609 1056 -725 \nQ 1266 -881 1628 -881 \nQ 2019 -881 2231 -725 \nQ 2444 -569 2519 -288 \nQ 2563 -116 2559 434 \nQ 2191 0 1641 0 \nQ 956 0 581 494 \nQ 206 988 206 1678 \nQ 206 2153 378 2554 \nQ 550 2956 876 3175 \nQ 1203 3394 1644 3394 \nQ 2231 3394 2613 2919 \nL 2613 3319 \nL 3131 3319 \nL 3131 450 \nQ 3131 -325 2973 -648 \nQ 2816 -972 2473 -1159 \nQ 2131 -1347 1631 -1347 \nQ 1038 -1347 672 -1080 \nQ 306 -813 319 -275 \nz\nM 784 1719 \nQ 784 1066 1043 766 \nQ 1303 466 1694 466 \nQ 2081 466 2343 764 \nQ 2606 1063 2606 1700 \nQ 2606 2309 2336 2618 \nQ 2066 2928 1684 2928 \nQ 1309 2928 1046 2623 \nQ 784 2319 784 1719 \nz\n\" transform=\"scale(0.015625)\"/>\n      <path id=\"ArialMT-46\" d=\"M 525 0 \nL 525 4581 \nL 3616 4581 \nL 3616 4041 \nL 1131 4041 \nL 1131 2622 \nL 3281 2622 \nL 3281 2081 \nL 1131 2081 \nL 1131 0 \nL 525 0 \nz\n\" transform=\"scale(0.015625)\"/>\n     </defs>\n     <use xlink:href=\"#ArialMT-47\"/>\n     <use xlink:href=\"#ArialMT-72\" x=\"77.783203\"/>\n     <use xlink:href=\"#ArialMT-61\" x=\"111.083984\"/>\n     <use xlink:href=\"#ArialMT-64\" x=\"166.699219\"/>\n     <use xlink:href=\"#ArialMT-69\" x=\"222.314453\"/>\n     <use xlink:href=\"#ArialMT-65\" x=\"244.53125\"/>\n     <use xlink:href=\"#ArialMT-6e\" x=\"300.146484\"/>\n     <use xlink:href=\"#ArialMT-74\" x=\"355.761719\"/>\n     <use xlink:href=\"#ArialMT-20\" x=\"383.544922\"/>\n     <use xlink:href=\"#ArialMT-42\" x=\"411.328125\"/>\n     <use xlink:href=\"#ArialMT-6f\" x=\"478.027344\"/>\n     <use xlink:href=\"#ArialMT-6f\" x=\"533.642578\"/>\n     <use xlink:href=\"#ArialMT-73\" x=\"589.257812\"/>\n     <use xlink:href=\"#ArialMT-74\" x=\"639.257812\"/>\n     <use xlink:href=\"#ArialMT-69\" x=\"667.041016\"/>\n     <use xlink:href=\"#ArialMT-6e\" x=\"689.257812\"/>\n     <use xlink:href=\"#ArialMT-67\" x=\"744.873047\"/>\n     <use xlink:href=\"#ArialMT-20\" x=\"800.488281\"/>\n     <use xlink:href=\"#ArialMT-52\" x=\"828.271484\"/>\n     <use xlink:href=\"#ArialMT-61\" x=\"900.488281\"/>\n     <use xlink:href=\"#ArialMT-6e\" x=\"956.103516\"/>\n     <use xlink:href=\"#ArialMT-64\" x=\"1011.71875\"/>\n     <use xlink:href=\"#ArialMT-6f\" x=\"1067.333984\"/>\n     <use xlink:href=\"#ArialMT-6d\" x=\"1122.949219\"/>\n     <use xlink:href=\"#ArialMT-20\" x=\"1206.25\"/>\n     <use xlink:href=\"#ArialMT-46\" x=\"1234.033203\"/>\n     <use xlink:href=\"#ArialMT-6f\" x=\"1295.117188\"/>\n     <use xlink:href=\"#ArialMT-72\" x=\"1350.732422\"/>\n     <use xlink:href=\"#ArialMT-65\" x=\"1384.033203\"/>\n     <use xlink:href=\"#ArialMT-73\" x=\"1439.648438\"/>\n     <use xlink:href=\"#ArialMT-74\" x=\"1489.648438\"/>\n    </g>\n   </g>\n  </g>\n </g>\n <defs>\n  <clipPath id=\"p4251fc2297\">\n   <rect x=\"99.04875\" y=\"27.759375\" width=\"357.12\" height=\"266.112\"/>\n  </clipPath>\n </defs>\n</svg>\n",
      "text/plain": [
       "<Figure size 640x480 with 2 Axes>"
      ]
     },
     "metadata": {},
     "output_type": "display_data"
    }
   ],
   "source": [
    "color_rmse = sns.husl_palette(9)[7]\n",
    "color_time = sns.husl_palette(9)[6]\n",
    "x = max_depth[:-1] + [16]\n",
    "ax1 = sns.lineplot(x=x, y=rmse_gbt_max_depth, ci=False, color=color_rmse)\n",
    "ax1.set_ylabel(\"RMSE\", color=color_rmse, fontsize=20)\n",
    "ax1.tick_params(axis='y', colors=color_rmse)\n",
    "plt.yticks(fontsize=18)\n",
    "plt.xticks(fontsize=18)\n",
    "ax2 = ax1.twinx()\n",
    "\n",
    "sns.lineplot(x=x, y=time_gbt_max_depth, ci=False, color=color_time, ax=ax2)\n",
    "ax2.set_ylabel(\"Time (s)\", color=color_time, fontsize=20)\n",
    "ax2.tick_params(axis='y', colors=color_time)\n",
    "ax2.grid(False)\n",
    "\n",
    "ax2.spines['left'].set_color(color_rmse)\n",
    "ax2.spines['right'].set_color(color_time)\n",
    "ax2.set_title(\"Gradient Boosting Random Forest\", fontsize=20)\n",
    "ax1.set_xlabel(\"Max depth of the tree\", fontsize=20)\n",
    "labels = list(str(i) for i in range(0, 15, 2)) + ['$\\infty$']\n",
    "ax2.set_xticks(range(0, 17, 2), labels)\n",
    "plt.xticks(fontsize=18)\n",
    "plt.yticks(fontsize=18)\n",
    "plt.savefig('./report/exp2/max_depth.pdf', bbox_inches='tight')\n",
    "None"
   ]
  },
  {
   "cell_type": "code",
   "execution_count": 54,
   "metadata": {},
   "outputs": [
    {
     "name": "stdout",
     "output_type": "stream",
     "text": [
      "[1.0000e-05 3.0000e-05 7.0000e-05 1.8000e-04 4.6000e-04 1.2100e-03\n",
      " 3.1600e-03 8.2500e-03 2.1540e-02 5.6230e-02 1.4678e-01 3.8312e-01\n",
      " 1.0000e+00]\n"
     ]
    }
   ],
   "source": [
    "learning_rates = np.round(np.logspace(-5, 0, 13), 5)\n",
    "print(learning_rates)"
   ]
  },
  {
   "cell_type": "code",
   "execution_count": 47,
   "metadata": {},
   "outputs": [],
   "source": [
    "rmse_gbt_learning_rates = []\n",
    "time_gbt_learning_rates = []\n",
    "import warnings\n",
    "warnings.filterwarnings('ignore')\n",
    "for learning_rate in learning_rates:\n",
    "    gbt_clf = GradientBoostingMSE(\n",
    "        feature_subsample_size=13,\n",
    "        n_estimators=600,\n",
    "        max_depth=6,\n",
    "        learning_rate=learning_rate\n",
    "    )\n",
    "    start_time = time()\n",
    "    gbt_clf.fit(X_train, y_train)\n",
    "    end_time = time()\n",
    "    time_gbt_learning_rates.append(end_time - start_time)\n",
    "    rmse_gbt_learning_rates.append(rmse(gbt_clf, X_test, y_test))"
   ]
  },
  {
   "cell_type": "code",
   "execution_count": 55,
   "metadata": {},
   "outputs": [
    {
     "data": {
      "image/svg+xml": "<?xml version=\"1.0\" encoding=\"utf-8\" standalone=\"no\"?>\n<!DOCTYPE svg PUBLIC \"-//W3C//DTD SVG 1.1//EN\"\n  \"http://www.w3.org/Graphics/SVG/1.1/DTD/svg11.dtd\">\n<svg xmlns:xlink=\"http://www.w3.org/1999/xlink\" width=\"530.667187pt\" height=\"349.557937pt\" viewBox=\"0 0 530.667187 349.557937\" xmlns=\"http://www.w3.org/2000/svg\" version=\"1.1\">\n <metadata>\n  <rdf:RDF xmlns:dc=\"http://purl.org/dc/elements/1.1/\" xmlns:cc=\"http://creativecommons.org/ns#\" xmlns:rdf=\"http://www.w3.org/1999/02/22-rdf-syntax-ns#\">\n   <cc:Work>\n    <dc:type rdf:resource=\"http://purl.org/dc/dcmitype/StillImage\"/>\n    <dc:date>2022-12-19T23:49:32.658479</dc:date>\n    <dc:format>image/svg+xml</dc:format>\n    <dc:creator>\n     <cc:Agent>\n      <dc:title>Matplotlib v3.6.2, https://matplotlib.org/</dc:title>\n     </cc:Agent>\n    </dc:creator>\n   </cc:Work>\n  </rdf:RDF>\n </metadata>\n <defs>\n  <style type=\"text/css\">*{stroke-linejoin: round; stroke-linecap: butt}</style>\n </defs>\n <g id=\"figure_1\">\n  <g id=\"patch_1\">\n   <path d=\"M 0 349.557937 \nL 530.667187 349.557937 \nL 530.667187 0 \nL 0 0 \nz\n\" style=\"fill: #ffffff\"/>\n  </g>\n  <g id=\"axes_1\">\n   <g id=\"patch_2\">\n    <path d=\"M 99.04875 293.871375 \nL 456.16875 293.871375 \nL 456.16875 27.759375 \nL 99.04875 27.759375 \nz\n\" style=\"fill: #eaeaf2\"/>\n   </g>\n   <g id=\"matplotlib.axis_1\">\n    <g id=\"xtick_1\">\n     <g id=\"line2d_1\">\n      <path d=\"M 115.278231 293.871375 \nL 115.278231 27.759375 \n\" clip-path=\"url(#p27236d1bfd)\" style=\"fill: none; stroke: #ffffff; stroke-linecap: round\"/>\n     </g>\n     <g id=\"text_1\">\n      <!-- 0.0 -->\n      <g style=\"fill: #262626\" transform=\"translate(102.768231 316.255437) scale(0.18 -0.18)\">\n       <defs>\n        <path id=\"ArialMT-30\" d=\"M 266 2259 \nQ 266 3072 433 3567 \nQ 600 4063 929 4331 \nQ 1259 4600 1759 4600 \nQ 2128 4600 2406 4451 \nQ 2684 4303 2865 4023 \nQ 3047 3744 3150 3342 \nQ 3253 2941 3253 2259 \nQ 3253 1453 3087 958 \nQ 2922 463 2592 192 \nQ 2263 -78 1759 -78 \nQ 1097 -78 719 397 \nQ 266 969 266 2259 \nz\nM 844 2259 \nQ 844 1131 1108 757 \nQ 1372 384 1759 384 \nQ 2147 384 2411 759 \nQ 2675 1134 2675 2259 \nQ 2675 3391 2411 3762 \nQ 2147 4134 1753 4134 \nQ 1366 4134 1134 3806 \nQ 844 3388 844 2259 \nz\n\" transform=\"scale(0.015625)\"/>\n        <path id=\"ArialMT-2e\" d=\"M 581 0 \nL 581 641 \nL 1222 641 \nL 1222 0 \nL 581 0 \nz\n\" transform=\"scale(0.015625)\"/>\n       </defs>\n       <use xlink:href=\"#ArialMT-30\"/>\n       <use xlink:href=\"#ArialMT-2e\" x=\"55.615234\"/>\n       <use xlink:href=\"#ArialMT-30\" x=\"83.398438\"/>\n      </g>\n     </g>\n    </g>\n    <g id=\"xtick_2\">\n     <g id=\"line2d_2\">\n      <path d=\"M 180.209789 293.871375 \nL 180.209789 27.759375 \n\" clip-path=\"url(#p27236d1bfd)\" style=\"fill: none; stroke: #ffffff; stroke-linecap: round\"/>\n     </g>\n     <g id=\"text_2\">\n      <!-- 0.2 -->\n      <g style=\"fill: #262626\" transform=\"translate(167.699789 316.255437) scale(0.18 -0.18)\">\n       <defs>\n        <path id=\"ArialMT-32\" d=\"M 3222 541 \nL 3222 0 \nL 194 0 \nQ 188 203 259 391 \nQ 375 700 629 1000 \nQ 884 1300 1366 1694 \nQ 2113 2306 2375 2664 \nQ 2638 3022 2638 3341 \nQ 2638 3675 2398 3904 \nQ 2159 4134 1775 4134 \nQ 1369 4134 1125 3890 \nQ 881 3647 878 3216 \nL 300 3275 \nQ 359 3922 746 4261 \nQ 1134 4600 1788 4600 \nQ 2447 4600 2831 4234 \nQ 3216 3869 3216 3328 \nQ 3216 3053 3103 2787 \nQ 2991 2522 2730 2228 \nQ 2469 1934 1863 1422 \nQ 1356 997 1212 845 \nQ 1069 694 975 541 \nL 3222 541 \nz\n\" transform=\"scale(0.015625)\"/>\n       </defs>\n       <use xlink:href=\"#ArialMT-30\"/>\n       <use xlink:href=\"#ArialMT-2e\" x=\"55.615234\"/>\n       <use xlink:href=\"#ArialMT-32\" x=\"83.398438\"/>\n      </g>\n     </g>\n    </g>\n    <g id=\"xtick_3\">\n     <g id=\"line2d_3\">\n      <path d=\"M 245.141348 293.871375 \nL 245.141348 27.759375 \n\" clip-path=\"url(#p27236d1bfd)\" style=\"fill: none; stroke: #ffffff; stroke-linecap: round\"/>\n     </g>\n     <g id=\"text_3\">\n      <!-- 0.4 -->\n      <g style=\"fill: #262626\" transform=\"translate(232.631348 316.255437) scale(0.18 -0.18)\">\n       <defs>\n        <path id=\"ArialMT-34\" d=\"M 2069 0 \nL 2069 1097 \nL 81 1097 \nL 81 1613 \nL 2172 4581 \nL 2631 4581 \nL 2631 1613 \nL 3250 1613 \nL 3250 1097 \nL 2631 1097 \nL 2631 0 \nL 2069 0 \nz\nM 2069 1613 \nL 2069 3678 \nL 634 1613 \nL 2069 1613 \nz\n\" transform=\"scale(0.015625)\"/>\n       </defs>\n       <use xlink:href=\"#ArialMT-30\"/>\n       <use xlink:href=\"#ArialMT-2e\" x=\"55.615234\"/>\n       <use xlink:href=\"#ArialMT-34\" x=\"83.398438\"/>\n      </g>\n     </g>\n    </g>\n    <g id=\"xtick_4\">\n     <g id=\"line2d_4\">\n      <path d=\"M 310.072906 293.871375 \nL 310.072906 27.759375 \n\" clip-path=\"url(#p27236d1bfd)\" style=\"fill: none; stroke: #ffffff; stroke-linecap: round\"/>\n     </g>\n     <g id=\"text_4\">\n      <!-- 0.6 -->\n      <g style=\"fill: #262626\" transform=\"translate(297.562906 316.255437) scale(0.18 -0.18)\">\n       <defs>\n        <path id=\"ArialMT-36\" d=\"M 3184 3459 \nL 2625 3416 \nQ 2550 3747 2413 3897 \nQ 2184 4138 1850 4138 \nQ 1581 4138 1378 3988 \nQ 1113 3794 959 3422 \nQ 806 3050 800 2363 \nQ 1003 2672 1297 2822 \nQ 1591 2972 1913 2972 \nQ 2475 2972 2870 2558 \nQ 3266 2144 3266 1488 \nQ 3266 1056 3080 686 \nQ 2894 316 2569 119 \nQ 2244 -78 1831 -78 \nQ 1128 -78 684 439 \nQ 241 956 241 2144 \nQ 241 3472 731 4075 \nQ 1159 4600 1884 4600 \nQ 2425 4600 2770 4297 \nQ 3116 3994 3184 3459 \nz\nM 888 1484 \nQ 888 1194 1011 928 \nQ 1134 663 1356 523 \nQ 1578 384 1822 384 \nQ 2178 384 2434 671 \nQ 2691 959 2691 1453 \nQ 2691 1928 2437 2201 \nQ 2184 2475 1800 2475 \nQ 1419 2475 1153 2201 \nQ 888 1928 888 1484 \nz\n\" transform=\"scale(0.015625)\"/>\n       </defs>\n       <use xlink:href=\"#ArialMT-30\"/>\n       <use xlink:href=\"#ArialMT-2e\" x=\"55.615234\"/>\n       <use xlink:href=\"#ArialMT-36\" x=\"83.398438\"/>\n      </g>\n     </g>\n    </g>\n    <g id=\"xtick_5\">\n     <g id=\"line2d_5\">\n      <path d=\"M 375.004464 293.871375 \nL 375.004464 27.759375 \n\" clip-path=\"url(#p27236d1bfd)\" style=\"fill: none; stroke: #ffffff; stroke-linecap: round\"/>\n     </g>\n     <g id=\"text_5\">\n      <!-- 0.8 -->\n      <g style=\"fill: #262626\" transform=\"translate(362.494464 316.255437) scale(0.18 -0.18)\">\n       <defs>\n        <path id=\"ArialMT-38\" d=\"M 1131 2484 \nQ 781 2613 612 2850 \nQ 444 3088 444 3419 \nQ 444 3919 803 4259 \nQ 1163 4600 1759 4600 \nQ 2359 4600 2725 4251 \nQ 3091 3903 3091 3403 \nQ 3091 3084 2923 2848 \nQ 2756 2613 2416 2484 \nQ 2838 2347 3058 2040 \nQ 3278 1734 3278 1309 \nQ 3278 722 2862 322 \nQ 2447 -78 1769 -78 \nQ 1091 -78 675 323 \nQ 259 725 259 1325 \nQ 259 1772 486 2073 \nQ 713 2375 1131 2484 \nz\nM 1019 3438 \nQ 1019 3113 1228 2906 \nQ 1438 2700 1772 2700 \nQ 2097 2700 2305 2904 \nQ 2513 3109 2513 3406 \nQ 2513 3716 2298 3927 \nQ 2084 4138 1766 4138 \nQ 1444 4138 1231 3931 \nQ 1019 3725 1019 3438 \nz\nM 838 1322 \nQ 838 1081 952 856 \nQ 1066 631 1291 507 \nQ 1516 384 1775 384 \nQ 2178 384 2440 643 \nQ 2703 903 2703 1303 \nQ 2703 1709 2433 1975 \nQ 2163 2241 1756 2241 \nQ 1359 2241 1098 1978 \nQ 838 1716 838 1322 \nz\n\" transform=\"scale(0.015625)\"/>\n       </defs>\n       <use xlink:href=\"#ArialMT-30\"/>\n       <use xlink:href=\"#ArialMT-2e\" x=\"55.615234\"/>\n       <use xlink:href=\"#ArialMT-38\" x=\"83.398438\"/>\n      </g>\n     </g>\n    </g>\n    <g id=\"xtick_6\">\n     <g id=\"line2d_6\">\n      <path d=\"M 439.936023 293.871375 \nL 439.936023 27.759375 \n\" clip-path=\"url(#p27236d1bfd)\" style=\"fill: none; stroke: #ffffff; stroke-linecap: round\"/>\n     </g>\n     <g id=\"text_6\">\n      <!-- 1.0 -->\n      <g style=\"fill: #262626\" transform=\"translate(427.426023 316.255437) scale(0.18 -0.18)\">\n       <defs>\n        <path id=\"ArialMT-31\" d=\"M 2384 0 \nL 1822 0 \nL 1822 3584 \nQ 1619 3391 1289 3197 \nQ 959 3003 697 2906 \nL 697 3450 \nQ 1169 3672 1522 3987 \nQ 1875 4303 2022 4600 \nL 2384 4600 \nL 2384 0 \nz\n\" transform=\"scale(0.015625)\"/>\n       </defs>\n       <use xlink:href=\"#ArialMT-31\"/>\n       <use xlink:href=\"#ArialMT-2e\" x=\"55.615234\"/>\n       <use xlink:href=\"#ArialMT-30\" x=\"83.398438\"/>\n      </g>\n     </g>\n    </g>\n    <g id=\"text_7\">\n     <!-- Learning rate -->\n     <g style=\"fill: #262626\" transform=\"translate(218.68375 338.148562) scale(0.2 -0.2)\">\n      <defs>\n       <path id=\"ArialMT-4c\" d=\"M 469 0 \nL 469 4581 \nL 1075 4581 \nL 1075 541 \nL 3331 541 \nL 3331 0 \nL 469 0 \nz\n\" transform=\"scale(0.015625)\"/>\n       <path id=\"ArialMT-65\" d=\"M 2694 1069 \nL 3275 997 \nQ 3138 488 2766 206 \nQ 2394 -75 1816 -75 \nQ 1088 -75 661 373 \nQ 234 822 234 1631 \nQ 234 2469 665 2931 \nQ 1097 3394 1784 3394 \nQ 2450 3394 2872 2941 \nQ 3294 2488 3294 1666 \nQ 3294 1616 3291 1516 \nL 816 1516 \nQ 847 969 1125 678 \nQ 1403 388 1819 388 \nQ 2128 388 2347 550 \nQ 2566 713 2694 1069 \nz\nM 847 1978 \nL 2700 1978 \nQ 2663 2397 2488 2606 \nQ 2219 2931 1791 2931 \nQ 1403 2931 1139 2672 \nQ 875 2413 847 1978 \nz\n\" transform=\"scale(0.015625)\"/>\n       <path id=\"ArialMT-61\" d=\"M 2588 409 \nQ 2275 144 1986 34 \nQ 1697 -75 1366 -75 \nQ 819 -75 525 192 \nQ 231 459 231 875 \nQ 231 1119 342 1320 \nQ 453 1522 633 1644 \nQ 813 1766 1038 1828 \nQ 1203 1872 1538 1913 \nQ 2219 1994 2541 2106 \nQ 2544 2222 2544 2253 \nQ 2544 2597 2384 2738 \nQ 2169 2928 1744 2928 \nQ 1347 2928 1158 2789 \nQ 969 2650 878 2297 \nL 328 2372 \nQ 403 2725 575 2942 \nQ 747 3159 1072 3276 \nQ 1397 3394 1825 3394 \nQ 2250 3394 2515 3294 \nQ 2781 3194 2906 3042 \nQ 3031 2891 3081 2659 \nQ 3109 2516 3109 2141 \nL 3109 1391 \nQ 3109 606 3145 398 \nQ 3181 191 3288 0 \nL 2700 0 \nQ 2613 175 2588 409 \nz\nM 2541 1666 \nQ 2234 1541 1622 1453 \nQ 1275 1403 1131 1340 \nQ 988 1278 909 1158 \nQ 831 1038 831 891 \nQ 831 666 1001 516 \nQ 1172 366 1500 366 \nQ 1825 366 2078 508 \nQ 2331 650 2450 897 \nQ 2541 1088 2541 1459 \nL 2541 1666 \nz\n\" transform=\"scale(0.015625)\"/>\n       <path id=\"ArialMT-72\" d=\"M 416 0 \nL 416 3319 \nL 922 3319 \nL 922 2816 \nQ 1116 3169 1280 3281 \nQ 1444 3394 1641 3394 \nQ 1925 3394 2219 3213 \nL 2025 2691 \nQ 1819 2813 1613 2813 \nQ 1428 2813 1281 2702 \nQ 1134 2591 1072 2394 \nQ 978 2094 978 1738 \nL 978 0 \nL 416 0 \nz\n\" transform=\"scale(0.015625)\"/>\n       <path id=\"ArialMT-6e\" d=\"M 422 0 \nL 422 3319 \nL 928 3319 \nL 928 2847 \nQ 1294 3394 1984 3394 \nQ 2284 3394 2536 3286 \nQ 2788 3178 2913 3003 \nQ 3038 2828 3088 2588 \nQ 3119 2431 3119 2041 \nL 3119 0 \nL 2556 0 \nL 2556 2019 \nQ 2556 2363 2490 2533 \nQ 2425 2703 2258 2804 \nQ 2091 2906 1866 2906 \nQ 1506 2906 1245 2678 \nQ 984 2450 984 1813 \nL 984 0 \nL 422 0 \nz\n\" transform=\"scale(0.015625)\"/>\n       <path id=\"ArialMT-69\" d=\"M 425 3934 \nL 425 4581 \nL 988 4581 \nL 988 3934 \nL 425 3934 \nz\nM 425 0 \nL 425 3319 \nL 988 3319 \nL 988 0 \nL 425 0 \nz\n\" transform=\"scale(0.015625)\"/>\n       <path id=\"ArialMT-67\" d=\"M 319 -275 \nL 866 -356 \nQ 900 -609 1056 -725 \nQ 1266 -881 1628 -881 \nQ 2019 -881 2231 -725 \nQ 2444 -569 2519 -288 \nQ 2563 -116 2559 434 \nQ 2191 0 1641 0 \nQ 956 0 581 494 \nQ 206 988 206 1678 \nQ 206 2153 378 2554 \nQ 550 2956 876 3175 \nQ 1203 3394 1644 3394 \nQ 2231 3394 2613 2919 \nL 2613 3319 \nL 3131 3319 \nL 3131 450 \nQ 3131 -325 2973 -648 \nQ 2816 -972 2473 -1159 \nQ 2131 -1347 1631 -1347 \nQ 1038 -1347 672 -1080 \nQ 306 -813 319 -275 \nz\nM 784 1719 \nQ 784 1066 1043 766 \nQ 1303 466 1694 466 \nQ 2081 466 2343 764 \nQ 2606 1063 2606 1700 \nQ 2606 2309 2336 2618 \nQ 2066 2928 1684 2928 \nQ 1309 2928 1046 2623 \nQ 784 2319 784 1719 \nz\n\" transform=\"scale(0.015625)\"/>\n       <path id=\"ArialMT-20\" transform=\"scale(0.015625)\"/>\n       <path id=\"ArialMT-74\" d=\"M 1650 503 \nL 1731 6 \nQ 1494 -44 1306 -44 \nQ 1000 -44 831 53 \nQ 663 150 594 308 \nQ 525 466 525 972 \nL 525 2881 \nL 113 2881 \nL 113 3319 \nL 525 3319 \nL 525 4141 \nL 1084 4478 \nL 1084 3319 \nL 1650 3319 \nL 1650 2881 \nL 1084 2881 \nL 1084 941 \nQ 1084 700 1114 631 \nQ 1144 563 1211 522 \nQ 1278 481 1403 481 \nQ 1497 481 1650 503 \nz\n\" transform=\"scale(0.015625)\"/>\n      </defs>\n      <use xlink:href=\"#ArialMT-4c\"/>\n      <use xlink:href=\"#ArialMT-65\" x=\"55.615234\"/>\n      <use xlink:href=\"#ArialMT-61\" x=\"111.230469\"/>\n      <use xlink:href=\"#ArialMT-72\" x=\"166.845703\"/>\n      <use xlink:href=\"#ArialMT-6e\" x=\"200.146484\"/>\n      <use xlink:href=\"#ArialMT-69\" x=\"255.761719\"/>\n      <use xlink:href=\"#ArialMT-6e\" x=\"277.978516\"/>\n      <use xlink:href=\"#ArialMT-67\" x=\"333.59375\"/>\n      <use xlink:href=\"#ArialMT-20\" x=\"389.208984\"/>\n      <use xlink:href=\"#ArialMT-72\" x=\"416.992188\"/>\n      <use xlink:href=\"#ArialMT-61\" x=\"450.292969\"/>\n      <use xlink:href=\"#ArialMT-74\" x=\"505.908203\"/>\n      <use xlink:href=\"#ArialMT-65\" x=\"533.691406\"/>\n     </g>\n    </g>\n   </g>\n   <g id=\"matplotlib.axis_2\">\n    <g id=\"ytick_1\">\n     <g id=\"line2d_7\">\n      <path d=\"M 99.04875 264.615889 \nL 456.16875 264.615889 \n\" clip-path=\"url(#p27236d1bfd)\" style=\"fill: none; stroke: #ffffff; stroke-linecap: round\"/>\n     </g>\n     <g id=\"line2d_8\">\n      <defs>\n       <path id=\"m1aaf85539a\" d=\"M 0 0 \nL -6 0 \n\" style=\"stroke: #bb83f4; stroke-width: 1.25\"/>\n      </defs>\n      <g>\n       <use xlink:href=\"#m1aaf85539a\" x=\"99.04875\" y=\"264.615889\" style=\"fill: #bb83f4; stroke: #bb83f4; stroke-width: 1.25\"/>\n      </g>\n     </g>\n     <g id=\"text_8\">\n      <!-- 150000 -->\n      <g style=\"fill: #bb83f4\" transform=\"translate(29.490625 271.05792) scale(0.18 -0.18)\">\n       <defs>\n        <path id=\"ArialMT-35\" d=\"M 266 1200 \nL 856 1250 \nQ 922 819 1161 601 \nQ 1400 384 1738 384 \nQ 2144 384 2425 690 \nQ 2706 997 2706 1503 \nQ 2706 1984 2436 2262 \nQ 2166 2541 1728 2541 \nQ 1456 2541 1237 2417 \nQ 1019 2294 894 2097 \nL 366 2166 \nL 809 4519 \nL 3088 4519 \nL 3088 3981 \nL 1259 3981 \nL 1013 2750 \nQ 1425 3038 1878 3038 \nQ 2478 3038 2890 2622 \nQ 3303 2206 3303 1553 \nQ 3303 931 2941 478 \nQ 2500 -78 1738 -78 \nQ 1113 -78 717 272 \nQ 322 622 266 1200 \nz\n\" transform=\"scale(0.015625)\"/>\n       </defs>\n       <use xlink:href=\"#ArialMT-31\"/>\n       <use xlink:href=\"#ArialMT-35\" x=\"55.615234\"/>\n       <use xlink:href=\"#ArialMT-30\" x=\"111.230469\"/>\n       <use xlink:href=\"#ArialMT-30\" x=\"166.845703\"/>\n       <use xlink:href=\"#ArialMT-30\" x=\"222.460938\"/>\n       <use xlink:href=\"#ArialMT-30\" x=\"278.076172\"/>\n      </g>\n     </g>\n    </g>\n    <g id=\"ytick_2\">\n     <g id=\"line2d_9\">\n      <path d=\"M 99.04875 218.456534 \nL 456.16875 218.456534 \n\" clip-path=\"url(#p27236d1bfd)\" style=\"fill: none; stroke: #ffffff; stroke-linecap: round\"/>\n     </g>\n     <g id=\"line2d_10\">\n      <g>\n       <use xlink:href=\"#m1aaf85539a\" x=\"99.04875\" y=\"218.456534\" style=\"fill: #bb83f4; stroke: #bb83f4; stroke-width: 1.25\"/>\n      </g>\n     </g>\n     <g id=\"text_9\">\n      <!-- 200000 -->\n      <g style=\"fill: #bb83f4\" transform=\"translate(29.490625 224.898566) scale(0.18 -0.18)\">\n       <use xlink:href=\"#ArialMT-32\"/>\n       <use xlink:href=\"#ArialMT-30\" x=\"55.615234\"/>\n       <use xlink:href=\"#ArialMT-30\" x=\"111.230469\"/>\n       <use xlink:href=\"#ArialMT-30\" x=\"166.845703\"/>\n       <use xlink:href=\"#ArialMT-30\" x=\"222.460938\"/>\n       <use xlink:href=\"#ArialMT-30\" x=\"278.076172\"/>\n      </g>\n     </g>\n    </g>\n    <g id=\"ytick_3\">\n     <g id=\"line2d_11\">\n      <path d=\"M 99.04875 172.29718 \nL 456.16875 172.29718 \n\" clip-path=\"url(#p27236d1bfd)\" style=\"fill: none; stroke: #ffffff; stroke-linecap: round\"/>\n     </g>\n     <g id=\"line2d_12\">\n      <g>\n       <use xlink:href=\"#m1aaf85539a\" x=\"99.04875\" y=\"172.29718\" style=\"fill: #bb83f4; stroke: #bb83f4; stroke-width: 1.25\"/>\n      </g>\n     </g>\n     <g id=\"text_10\">\n      <!-- 250000 -->\n      <g style=\"fill: #bb83f4\" transform=\"translate(29.490625 178.739211) scale(0.18 -0.18)\">\n       <use xlink:href=\"#ArialMT-32\"/>\n       <use xlink:href=\"#ArialMT-35\" x=\"55.615234\"/>\n       <use xlink:href=\"#ArialMT-30\" x=\"111.230469\"/>\n       <use xlink:href=\"#ArialMT-30\" x=\"166.845703\"/>\n       <use xlink:href=\"#ArialMT-30\" x=\"222.460938\"/>\n       <use xlink:href=\"#ArialMT-30\" x=\"278.076172\"/>\n      </g>\n     </g>\n    </g>\n    <g id=\"ytick_4\">\n     <g id=\"line2d_13\">\n      <path d=\"M 99.04875 126.137825 \nL 456.16875 126.137825 \n\" clip-path=\"url(#p27236d1bfd)\" style=\"fill: none; stroke: #ffffff; stroke-linecap: round\"/>\n     </g>\n     <g id=\"line2d_14\">\n      <g>\n       <use xlink:href=\"#m1aaf85539a\" x=\"99.04875\" y=\"126.137825\" style=\"fill: #bb83f4; stroke: #bb83f4; stroke-width: 1.25\"/>\n      </g>\n     </g>\n     <g id=\"text_11\">\n      <!-- 300000 -->\n      <g style=\"fill: #bb83f4\" transform=\"translate(29.490625 132.579856) scale(0.18 -0.18)\">\n       <defs>\n        <path id=\"ArialMT-33\" d=\"M 269 1209 \nL 831 1284 \nQ 928 806 1161 595 \nQ 1394 384 1728 384 \nQ 2125 384 2398 659 \nQ 2672 934 2672 1341 \nQ 2672 1728 2419 1979 \nQ 2166 2231 1775 2231 \nQ 1616 2231 1378 2169 \nL 1441 2663 \nQ 1497 2656 1531 2656 \nQ 1891 2656 2178 2843 \nQ 2466 3031 2466 3422 \nQ 2466 3731 2256 3934 \nQ 2047 4138 1716 4138 \nQ 1388 4138 1169 3931 \nQ 950 3725 888 3313 \nL 325 3413 \nQ 428 3978 793 4289 \nQ 1159 4600 1703 4600 \nQ 2078 4600 2393 4439 \nQ 2709 4278 2876 4000 \nQ 3044 3722 3044 3409 \nQ 3044 3113 2884 2869 \nQ 2725 2625 2413 2481 \nQ 2819 2388 3044 2092 \nQ 3269 1797 3269 1353 \nQ 3269 753 2831 336 \nQ 2394 -81 1725 -81 \nQ 1122 -81 723 278 \nQ 325 638 269 1209 \nz\n\" transform=\"scale(0.015625)\"/>\n       </defs>\n       <use xlink:href=\"#ArialMT-33\"/>\n       <use xlink:href=\"#ArialMT-30\" x=\"55.615234\"/>\n       <use xlink:href=\"#ArialMT-30\" x=\"111.230469\"/>\n       <use xlink:href=\"#ArialMT-30\" x=\"166.845703\"/>\n       <use xlink:href=\"#ArialMT-30\" x=\"222.460938\"/>\n       <use xlink:href=\"#ArialMT-30\" x=\"278.076172\"/>\n      </g>\n     </g>\n    </g>\n    <g id=\"ytick_5\">\n     <g id=\"line2d_15\">\n      <path d=\"M 99.04875 79.97847 \nL 456.16875 79.97847 \n\" clip-path=\"url(#p27236d1bfd)\" style=\"fill: none; stroke: #ffffff; stroke-linecap: round\"/>\n     </g>\n     <g id=\"line2d_16\">\n      <g>\n       <use xlink:href=\"#m1aaf85539a\" x=\"99.04875\" y=\"79.97847\" style=\"fill: #bb83f4; stroke: #bb83f4; stroke-width: 1.25\"/>\n      </g>\n     </g>\n     <g id=\"text_12\">\n      <!-- 350000 -->\n      <g style=\"fill: #bb83f4\" transform=\"translate(29.490625 86.420501) scale(0.18 -0.18)\">\n       <use xlink:href=\"#ArialMT-33\"/>\n       <use xlink:href=\"#ArialMT-35\" x=\"55.615234\"/>\n       <use xlink:href=\"#ArialMT-30\" x=\"111.230469\"/>\n       <use xlink:href=\"#ArialMT-30\" x=\"166.845703\"/>\n       <use xlink:href=\"#ArialMT-30\" x=\"222.460938\"/>\n       <use xlink:href=\"#ArialMT-30\" x=\"278.076172\"/>\n      </g>\n     </g>\n    </g>\n    <g id=\"ytick_6\">\n     <g id=\"line2d_17\">\n      <path d=\"M 99.04875 33.819115 \nL 456.16875 33.819115 \n\" clip-path=\"url(#p27236d1bfd)\" style=\"fill: none; stroke: #ffffff; stroke-linecap: round\"/>\n     </g>\n     <g id=\"line2d_18\">\n      <g>\n       <use xlink:href=\"#m1aaf85539a\" x=\"99.04875\" y=\"33.819115\" style=\"fill: #bb83f4; stroke: #bb83f4; stroke-width: 1.25\"/>\n      </g>\n     </g>\n     <g id=\"text_13\">\n      <!-- 400000 -->\n      <g style=\"fill: #bb83f4\" transform=\"translate(29.490625 40.261146) scale(0.18 -0.18)\">\n       <use xlink:href=\"#ArialMT-34\"/>\n       <use xlink:href=\"#ArialMT-30\" x=\"55.615234\"/>\n       <use xlink:href=\"#ArialMT-30\" x=\"111.230469\"/>\n       <use xlink:href=\"#ArialMT-30\" x=\"166.845703\"/>\n       <use xlink:href=\"#ArialMT-30\" x=\"222.460938\"/>\n       <use xlink:href=\"#ArialMT-30\" x=\"278.076172\"/>\n      </g>\n     </g>\n    </g>\n    <g id=\"text_14\">\n     <!-- RMSE -->\n     <g style=\"fill: #bb83f4\" transform=\"translate(21.515625 189.707562) rotate(-90) scale(0.2 -0.2)\">\n      <defs>\n       <path id=\"ArialMT-52\" d=\"M 503 0 \nL 503 4581 \nL 2534 4581 \nQ 3147 4581 3465 4457 \nQ 3784 4334 3975 4021 \nQ 4166 3709 4166 3331 \nQ 4166 2844 3850 2509 \nQ 3534 2175 2875 2084 \nQ 3116 1969 3241 1856 \nQ 3506 1613 3744 1247 \nL 4541 0 \nL 3778 0 \nL 3172 953 \nQ 2906 1366 2734 1584 \nQ 2563 1803 2427 1890 \nQ 2291 1978 2150 2013 \nQ 2047 2034 1813 2034 \nL 1109 2034 \nL 1109 0 \nL 503 0 \nz\nM 1109 2559 \nL 2413 2559 \nQ 2828 2559 3062 2645 \nQ 3297 2731 3419 2920 \nQ 3541 3109 3541 3331 \nQ 3541 3656 3305 3865 \nQ 3069 4075 2559 4075 \nL 1109 4075 \nL 1109 2559 \nz\n\" transform=\"scale(0.015625)\"/>\n       <path id=\"ArialMT-4d\" d=\"M 475 0 \nL 475 4581 \nL 1388 4581 \nL 2472 1338 \nQ 2622 884 2691 659 \nQ 2769 909 2934 1394 \nL 4031 4581 \nL 4847 4581 \nL 4847 0 \nL 4263 0 \nL 4263 3834 \nL 2931 0 \nL 2384 0 \nL 1059 3900 \nL 1059 0 \nL 475 0 \nz\n\" transform=\"scale(0.015625)\"/>\n       <path id=\"ArialMT-53\" d=\"M 288 1472 \nL 859 1522 \nQ 900 1178 1048 958 \nQ 1197 738 1509 602 \nQ 1822 466 2213 466 \nQ 2559 466 2825 569 \nQ 3091 672 3220 851 \nQ 3350 1031 3350 1244 \nQ 3350 1459 3225 1620 \nQ 3100 1781 2813 1891 \nQ 2628 1963 1997 2114 \nQ 1366 2266 1113 2400 \nQ 784 2572 623 2826 \nQ 463 3081 463 3397 \nQ 463 3744 659 4045 \nQ 856 4347 1234 4503 \nQ 1613 4659 2075 4659 \nQ 2584 4659 2973 4495 \nQ 3363 4331 3572 4012 \nQ 3781 3694 3797 3291 \nL 3216 3247 \nQ 3169 3681 2898 3903 \nQ 2628 4125 2100 4125 \nQ 1550 4125 1298 3923 \nQ 1047 3722 1047 3438 \nQ 1047 3191 1225 3031 \nQ 1400 2872 2139 2705 \nQ 2878 2538 3153 2413 \nQ 3553 2228 3743 1945 \nQ 3934 1663 3934 1294 \nQ 3934 928 3725 604 \nQ 3516 281 3123 101 \nQ 2731 -78 2241 -78 \nQ 1619 -78 1198 103 \nQ 778 284 539 648 \nQ 300 1013 288 1472 \nz\n\" transform=\"scale(0.015625)\"/>\n       <path id=\"ArialMT-45\" d=\"M 506 0 \nL 506 4581 \nL 3819 4581 \nL 3819 4041 \nL 1113 4041 \nL 1113 2638 \nL 3647 2638 \nL 3647 2100 \nL 1113 2100 \nL 1113 541 \nL 3925 541 \nL 3925 0 \nL 506 0 \nz\n\" transform=\"scale(0.015625)\"/>\n      </defs>\n      <use xlink:href=\"#ArialMT-52\"/>\n      <use xlink:href=\"#ArialMT-4d\" x=\"72.216797\"/>\n      <use xlink:href=\"#ArialMT-53\" x=\"155.517578\"/>\n      <use xlink:href=\"#ArialMT-45\" x=\"222.216797\"/>\n     </g>\n    </g>\n   </g>\n   <g id=\"PolyCollection_1\"/>\n   <g id=\"line2d_19\">\n    <path d=\"M 115.281477 39.855375 \nL 115.28797 42.928346 \nL 115.300957 48.934771 \nL 115.336669 64.684063 \nL 115.427573 100.097129 \nL 115.671067 168.950338 \nL 116.304149 244.993403 \nL 117.956657 275.856568 \nL 122.27136 280.712108 \nL 133.533738 281.457108 \nL 162.931501 281.775375 \nL 239.661124 267.430627 \nL 439.936023 221.613162 \n\" clip-path=\"url(#p27236d1bfd)\" style=\"fill: none; stroke: #bb83f4; stroke-width: 1.5; stroke-linecap: round\"/>\n   </g>\n   <g id=\"patch_3\">\n    <path d=\"M 99.04875 293.871375 \nL 99.04875 27.759375 \n\" style=\"fill: none; stroke: #ffffff; stroke-width: 1.25; stroke-linejoin: miter; stroke-linecap: square\"/>\n   </g>\n   <g id=\"patch_4\">\n    <path d=\"M 456.16875 293.871375 \nL 456.16875 27.759375 \n\" style=\"fill: none; stroke: #ffffff; stroke-width: 1.25; stroke-linejoin: miter; stroke-linecap: square\"/>\n   </g>\n   <g id=\"patch_5\">\n    <path d=\"M 99.04875 293.871375 \nL 456.16875 293.871375 \n\" style=\"fill: none; stroke: #ffffff; stroke-width: 1.25; stroke-linejoin: miter; stroke-linecap: square\"/>\n   </g>\n   <g id=\"patch_6\">\n    <path d=\"M 99.04875 27.759375 \nL 456.16875 27.759375 \n\" style=\"fill: none; stroke: #ffffff; stroke-width: 1.25; stroke-linejoin: miter; stroke-linecap: square\"/>\n   </g>\n  </g>\n  <g id=\"axes_2\">\n   <g id=\"matplotlib.axis_3\">\n    <g id=\"ytick_7\">\n     <g id=\"line2d_20\">\n      <defs>\n       <path id=\"m0a0f89b26d\" d=\"M 0 0 \nL 6 0 \n\" style=\"stroke: #3ba3ec; stroke-width: 1.25\"/>\n      </defs>\n      <g>\n       <use xlink:href=\"#m0a0f89b26d\" x=\"456.16875\" y=\"265.203142\" style=\"fill: #3ba3ec; stroke: #3ba3ec; stroke-width: 1.25\"/>\n      </g>\n     </g>\n     <g id=\"text_15\">\n      <!-- 22.5 -->\n      <g style=\"fill: #3ba3ec\" transform=\"translate(465.66875 271.645173) scale(0.18 -0.18)\">\n       <use xlink:href=\"#ArialMT-32\"/>\n       <use xlink:href=\"#ArialMT-32\" x=\"55.615234\"/>\n       <use xlink:href=\"#ArialMT-2e\" x=\"111.230469\"/>\n       <use xlink:href=\"#ArialMT-35\" x=\"139.013672\"/>\n      </g>\n     </g>\n    </g>\n    <g id=\"ytick_8\">\n     <g id=\"line2d_21\">\n      <g>\n       <use xlink:href=\"#m0a0f89b26d\" x=\"456.16875\" y=\"230.476224\" style=\"fill: #3ba3ec; stroke: #3ba3ec; stroke-width: 1.25\"/>\n      </g>\n     </g>\n     <g id=\"text_16\">\n      <!-- 23.0 -->\n      <g style=\"fill: #3ba3ec\" transform=\"translate(465.66875 236.918256) scale(0.18 -0.18)\">\n       <use xlink:href=\"#ArialMT-32\"/>\n       <use xlink:href=\"#ArialMT-33\" x=\"55.615234\"/>\n       <use xlink:href=\"#ArialMT-2e\" x=\"111.230469\"/>\n       <use xlink:href=\"#ArialMT-30\" x=\"139.013672\"/>\n      </g>\n     </g>\n    </g>\n    <g id=\"ytick_9\">\n     <g id=\"line2d_22\">\n      <g>\n       <use xlink:href=\"#m0a0f89b26d\" x=\"456.16875\" y=\"195.749306\" style=\"fill: #3ba3ec; stroke: #3ba3ec; stroke-width: 1.25\"/>\n      </g>\n     </g>\n     <g id=\"text_17\">\n      <!-- 23.5 -->\n      <g style=\"fill: #3ba3ec\" transform=\"translate(465.66875 202.191338) scale(0.18 -0.18)\">\n       <use xlink:href=\"#ArialMT-32\"/>\n       <use xlink:href=\"#ArialMT-33\" x=\"55.615234\"/>\n       <use xlink:href=\"#ArialMT-2e\" x=\"111.230469\"/>\n       <use xlink:href=\"#ArialMT-35\" x=\"139.013672\"/>\n      </g>\n     </g>\n    </g>\n    <g id=\"ytick_10\">\n     <g id=\"line2d_23\">\n      <g>\n       <use xlink:href=\"#m0a0f89b26d\" x=\"456.16875\" y=\"161.022388\" style=\"fill: #3ba3ec; stroke: #3ba3ec; stroke-width: 1.25\"/>\n      </g>\n     </g>\n     <g id=\"text_18\">\n      <!-- 24.0 -->\n      <g style=\"fill: #3ba3ec\" transform=\"translate(465.66875 167.46442) scale(0.18 -0.18)\">\n       <use xlink:href=\"#ArialMT-32\"/>\n       <use xlink:href=\"#ArialMT-34\" x=\"55.615234\"/>\n       <use xlink:href=\"#ArialMT-2e\" x=\"111.230469\"/>\n       <use xlink:href=\"#ArialMT-30\" x=\"139.013672\"/>\n      </g>\n     </g>\n    </g>\n    <g id=\"ytick_11\">\n     <g id=\"line2d_24\">\n      <g>\n       <use xlink:href=\"#m0a0f89b26d\" x=\"456.16875\" y=\"126.29547\" style=\"fill: #3ba3ec; stroke: #3ba3ec; stroke-width: 1.25\"/>\n      </g>\n     </g>\n     <g id=\"text_19\">\n      <!-- 24.5 -->\n      <g style=\"fill: #3ba3ec\" transform=\"translate(465.66875 132.737502) scale(0.18 -0.18)\">\n       <use xlink:href=\"#ArialMT-32\"/>\n       <use xlink:href=\"#ArialMT-34\" x=\"55.615234\"/>\n       <use xlink:href=\"#ArialMT-2e\" x=\"111.230469\"/>\n       <use xlink:href=\"#ArialMT-35\" x=\"139.013672\"/>\n      </g>\n     </g>\n    </g>\n    <g id=\"ytick_12\">\n     <g id=\"line2d_25\">\n      <g>\n       <use xlink:href=\"#m0a0f89b26d\" x=\"456.16875\" y=\"91.568553\" style=\"fill: #3ba3ec; stroke: #3ba3ec; stroke-width: 1.25\"/>\n      </g>\n     </g>\n     <g id=\"text_20\">\n      <!-- 25.0 -->\n      <g style=\"fill: #3ba3ec\" transform=\"translate(465.66875 98.010584) scale(0.18 -0.18)\">\n       <use xlink:href=\"#ArialMT-32\"/>\n       <use xlink:href=\"#ArialMT-35\" x=\"55.615234\"/>\n       <use xlink:href=\"#ArialMT-2e\" x=\"111.230469\"/>\n       <use xlink:href=\"#ArialMT-30\" x=\"139.013672\"/>\n      </g>\n     </g>\n    </g>\n    <g id=\"ytick_13\">\n     <g id=\"line2d_26\">\n      <g>\n       <use xlink:href=\"#m0a0f89b26d\" x=\"456.16875\" y=\"56.841635\" style=\"fill: #3ba3ec; stroke: #3ba3ec; stroke-width: 1.25\"/>\n      </g>\n     </g>\n     <g id=\"text_21\">\n      <!-- 25.5 -->\n      <g style=\"fill: #3ba3ec\" transform=\"translate(465.66875 63.283666) scale(0.18 -0.18)\">\n       <use xlink:href=\"#ArialMT-32\"/>\n       <use xlink:href=\"#ArialMT-35\" x=\"55.615234\"/>\n       <use xlink:href=\"#ArialMT-2e\" x=\"111.230469\"/>\n       <use xlink:href=\"#ArialMT-35\" x=\"139.013672\"/>\n      </g>\n     </g>\n    </g>\n    <g id=\"text_22\">\n     <!-- Time (s) -->\n     <g style=\"fill: #3ba3ec\" transform=\"translate(519.257813 197.098187) rotate(-90) scale(0.2 -0.2)\">\n      <defs>\n       <path id=\"ArialMT-54\" d=\"M 1659 0 \nL 1659 4041 \nL 150 4041 \nL 150 4581 \nL 3781 4581 \nL 3781 4041 \nL 2266 4041 \nL 2266 0 \nL 1659 0 \nz\n\" transform=\"scale(0.015625)\"/>\n       <path id=\"ArialMT-6d\" d=\"M 422 0 \nL 422 3319 \nL 925 3319 \nL 925 2853 \nQ 1081 3097 1340 3245 \nQ 1600 3394 1931 3394 \nQ 2300 3394 2536 3241 \nQ 2772 3088 2869 2813 \nQ 3263 3394 3894 3394 \nQ 4388 3394 4653 3120 \nQ 4919 2847 4919 2278 \nL 4919 0 \nL 4359 0 \nL 4359 2091 \nQ 4359 2428 4304 2576 \nQ 4250 2725 4106 2815 \nQ 3963 2906 3769 2906 \nQ 3419 2906 3187 2673 \nQ 2956 2441 2956 1928 \nL 2956 0 \nL 2394 0 \nL 2394 2156 \nQ 2394 2531 2256 2718 \nQ 2119 2906 1806 2906 \nQ 1569 2906 1367 2781 \nQ 1166 2656 1075 2415 \nQ 984 2175 984 1722 \nL 984 0 \nL 422 0 \nz\n\" transform=\"scale(0.015625)\"/>\n       <path id=\"ArialMT-28\" d=\"M 1497 -1347 \nQ 1031 -759 709 28 \nQ 388 816 388 1659 \nQ 388 2403 628 3084 \nQ 909 3875 1497 4659 \nL 1900 4659 \nQ 1522 4009 1400 3731 \nQ 1209 3300 1100 2831 \nQ 966 2247 966 1656 \nQ 966 153 1900 -1347 \nL 1497 -1347 \nz\n\" transform=\"scale(0.015625)\"/>\n       <path id=\"ArialMT-73\" d=\"M 197 991 \nL 753 1078 \nQ 800 744 1014 566 \nQ 1228 388 1613 388 \nQ 2000 388 2187 545 \nQ 2375 703 2375 916 \nQ 2375 1106 2209 1216 \nQ 2094 1291 1634 1406 \nQ 1016 1563 777 1677 \nQ 538 1791 414 1992 \nQ 291 2194 291 2438 \nQ 291 2659 392 2848 \nQ 494 3038 669 3163 \nQ 800 3259 1026 3326 \nQ 1253 3394 1513 3394 \nQ 1903 3394 2198 3281 \nQ 2494 3169 2634 2976 \nQ 2775 2784 2828 2463 \nL 2278 2388 \nQ 2241 2644 2061 2787 \nQ 1881 2931 1553 2931 \nQ 1166 2931 1000 2803 \nQ 834 2675 834 2503 \nQ 834 2394 903 2306 \nQ 972 2216 1119 2156 \nQ 1203 2125 1616 2013 \nQ 2213 1853 2448 1751 \nQ 2684 1650 2818 1456 \nQ 2953 1263 2953 975 \nQ 2953 694 2789 445 \nQ 2625 197 2315 61 \nQ 2006 -75 1616 -75 \nQ 969 -75 630 194 \nQ 291 463 197 991 \nz\n\" transform=\"scale(0.015625)\"/>\n       <path id=\"ArialMT-29\" d=\"M 791 -1347 \nL 388 -1347 \nQ 1322 153 1322 1656 \nQ 1322 2244 1188 2822 \nQ 1081 3291 891 3722 \nQ 769 4003 388 4659 \nL 791 4659 \nQ 1378 3875 1659 3084 \nQ 1900 2403 1900 1659 \nQ 1900 816 1576 28 \nQ 1253 -759 791 -1347 \nz\n\" transform=\"scale(0.015625)\"/>\n      </defs>\n      <use xlink:href=\"#ArialMT-54\"/>\n      <use xlink:href=\"#ArialMT-69\" x=\"57.333984\"/>\n      <use xlink:href=\"#ArialMT-6d\" x=\"79.550781\"/>\n      <use xlink:href=\"#ArialMT-65\" x=\"162.851562\"/>\n      <use xlink:href=\"#ArialMT-20\" x=\"218.466797\"/>\n      <use xlink:href=\"#ArialMT-28\" x=\"246.25\"/>\n      <use xlink:href=\"#ArialMT-73\" x=\"279.550781\"/>\n      <use xlink:href=\"#ArialMT-29\" x=\"329.550781\"/>\n     </g>\n    </g>\n   </g>\n   <g id=\"PolyCollection_2\"/>\n   <g id=\"line2d_27\">\n    <path d=\"M 115.281477 268.782306 \nL 115.28797 274.889263 \nL 115.300957 270.733131 \nL 115.336669 275.235182 \nL 115.427573 273.861457 \nL 115.671067 273.315504 \nL 116.304149 281.775375 \nL 117.956657 219.399505 \nL 122.27136 130.528055 \nL 133.533738 79.553446 \nL 162.931501 95.153545 \nL 239.661124 39.855375 \nL 439.936023 50.344777 \n\" clip-path=\"url(#p27236d1bfd)\" style=\"fill: none; stroke: #3ba3ec; stroke-width: 1.5; stroke-linecap: round\"/>\n   </g>\n   <g id=\"patch_7\">\n    <path d=\"M 99.04875 293.871375 \nL 99.04875 27.759375 \n\" style=\"fill: none; stroke: #bb83f4; stroke-width: 1.25; stroke-linejoin: miter; stroke-linecap: square\"/>\n   </g>\n   <g id=\"patch_8\">\n    <path d=\"M 456.16875 293.871375 \nL 456.16875 27.759375 \n\" style=\"fill: none; stroke: #3ba3ec; stroke-width: 1.25; stroke-linejoin: miter; stroke-linecap: square\"/>\n   </g>\n   <g id=\"patch_9\">\n    <path d=\"M 99.04875 293.871375 \nL 456.16875 293.871375 \n\" style=\"fill: none; stroke: #ffffff; stroke-width: 1.25; stroke-linejoin: miter; stroke-linecap: square\"/>\n   </g>\n   <g id=\"patch_10\">\n    <path d=\"M 99.04875 27.759375 \nL 456.16875 27.759375 \n\" style=\"fill: none; stroke: #ffffff; stroke-width: 1.25; stroke-linejoin: miter; stroke-linecap: square\"/>\n   </g>\n   <g id=\"text_23\">\n    <!-- Gradient Boosting Random Forest -->\n    <g style=\"fill: #262626\" transform=\"translate(125.875937 21.759375) scale(0.2 -0.2)\">\n     <defs>\n      <path id=\"ArialMT-47\" d=\"M 2638 1797 \nL 2638 2334 \nL 4578 2338 \nL 4578 638 \nQ 4131 281 3656 101 \nQ 3181 -78 2681 -78 \nQ 2006 -78 1454 211 \nQ 903 500 622 1047 \nQ 341 1594 341 2269 \nQ 341 2938 620 3517 \nQ 900 4097 1425 4378 \nQ 1950 4659 2634 4659 \nQ 3131 4659 3532 4498 \nQ 3934 4338 4162 4050 \nQ 4391 3763 4509 3300 \nL 3963 3150 \nQ 3859 3500 3706 3700 \nQ 3553 3900 3268 4020 \nQ 2984 4141 2638 4141 \nQ 2222 4141 1919 4014 \nQ 1616 3888 1430 3681 \nQ 1244 3475 1141 3228 \nQ 966 2803 966 2306 \nQ 966 1694 1177 1281 \nQ 1388 869 1791 669 \nQ 2194 469 2647 469 \nQ 3041 469 3416 620 \nQ 3791 772 3984 944 \nL 3984 1797 \nL 2638 1797 \nz\n\" transform=\"scale(0.015625)\"/>\n      <path id=\"ArialMT-64\" d=\"M 2575 0 \nL 2575 419 \nQ 2259 -75 1647 -75 \nQ 1250 -75 917 144 \nQ 584 363 401 755 \nQ 219 1147 219 1656 \nQ 219 2153 384 2558 \nQ 550 2963 881 3178 \nQ 1213 3394 1622 3394 \nQ 1922 3394 2156 3267 \nQ 2391 3141 2538 2938 \nL 2538 4581 \nL 3097 4581 \nL 3097 0 \nL 2575 0 \nz\nM 797 1656 \nQ 797 1019 1065 703 \nQ 1334 388 1700 388 \nQ 2069 388 2326 689 \nQ 2584 991 2584 1609 \nQ 2584 2291 2321 2609 \nQ 2059 2928 1675 2928 \nQ 1300 2928 1048 2622 \nQ 797 2316 797 1656 \nz\n\" transform=\"scale(0.015625)\"/>\n      <path id=\"ArialMT-42\" d=\"M 469 0 \nL 469 4581 \nL 2188 4581 \nQ 2713 4581 3030 4442 \nQ 3347 4303 3526 4014 \nQ 3706 3725 3706 3409 \nQ 3706 3116 3547 2856 \nQ 3388 2597 3066 2438 \nQ 3481 2316 3704 2022 \nQ 3928 1728 3928 1328 \nQ 3928 1006 3792 729 \nQ 3656 453 3456 303 \nQ 3256 153 2954 76 \nQ 2653 0 2216 0 \nL 469 0 \nz\nM 1075 2656 \nL 2066 2656 \nQ 2469 2656 2644 2709 \nQ 2875 2778 2992 2937 \nQ 3109 3097 3109 3338 \nQ 3109 3566 3000 3739 \nQ 2891 3913 2687 3977 \nQ 2484 4041 1991 4041 \nL 1075 4041 \nL 1075 2656 \nz\nM 1075 541 \nL 2216 541 \nQ 2509 541 2628 563 \nQ 2838 600 2978 687 \nQ 3119 775 3209 942 \nQ 3300 1109 3300 1328 \nQ 3300 1584 3169 1773 \nQ 3038 1963 2805 2039 \nQ 2572 2116 2134 2116 \nL 1075 2116 \nL 1075 541 \nz\n\" transform=\"scale(0.015625)\"/>\n      <path id=\"ArialMT-6f\" d=\"M 213 1659 \nQ 213 2581 725 3025 \nQ 1153 3394 1769 3394 \nQ 2453 3394 2887 2945 \nQ 3322 2497 3322 1706 \nQ 3322 1066 3130 698 \nQ 2938 331 2570 128 \nQ 2203 -75 1769 -75 \nQ 1072 -75 642 372 \nQ 213 819 213 1659 \nz\nM 791 1659 \nQ 791 1022 1069 705 \nQ 1347 388 1769 388 \nQ 2188 388 2466 706 \nQ 2744 1025 2744 1678 \nQ 2744 2294 2464 2611 \nQ 2184 2928 1769 2928 \nQ 1347 2928 1069 2612 \nQ 791 2297 791 1659 \nz\n\" transform=\"scale(0.015625)\"/>\n      <path id=\"ArialMT-46\" d=\"M 525 0 \nL 525 4581 \nL 3616 4581 \nL 3616 4041 \nL 1131 4041 \nL 1131 2622 \nL 3281 2622 \nL 3281 2081 \nL 1131 2081 \nL 1131 0 \nL 525 0 \nz\n\" transform=\"scale(0.015625)\"/>\n     </defs>\n     <use xlink:href=\"#ArialMT-47\"/>\n     <use xlink:href=\"#ArialMT-72\" x=\"77.783203\"/>\n     <use xlink:href=\"#ArialMT-61\" x=\"111.083984\"/>\n     <use xlink:href=\"#ArialMT-64\" x=\"166.699219\"/>\n     <use xlink:href=\"#ArialMT-69\" x=\"222.314453\"/>\n     <use xlink:href=\"#ArialMT-65\" x=\"244.53125\"/>\n     <use xlink:href=\"#ArialMT-6e\" x=\"300.146484\"/>\n     <use xlink:href=\"#ArialMT-74\" x=\"355.761719\"/>\n     <use xlink:href=\"#ArialMT-20\" x=\"383.544922\"/>\n     <use xlink:href=\"#ArialMT-42\" x=\"411.328125\"/>\n     <use xlink:href=\"#ArialMT-6f\" x=\"478.027344\"/>\n     <use xlink:href=\"#ArialMT-6f\" x=\"533.642578\"/>\n     <use xlink:href=\"#ArialMT-73\" x=\"589.257812\"/>\n     <use xlink:href=\"#ArialMT-74\" x=\"639.257812\"/>\n     <use xlink:href=\"#ArialMT-69\" x=\"667.041016\"/>\n     <use xlink:href=\"#ArialMT-6e\" x=\"689.257812\"/>\n     <use xlink:href=\"#ArialMT-67\" x=\"744.873047\"/>\n     <use xlink:href=\"#ArialMT-20\" x=\"800.488281\"/>\n     <use xlink:href=\"#ArialMT-52\" x=\"828.271484\"/>\n     <use xlink:href=\"#ArialMT-61\" x=\"900.488281\"/>\n     <use xlink:href=\"#ArialMT-6e\" x=\"956.103516\"/>\n     <use xlink:href=\"#ArialMT-64\" x=\"1011.71875\"/>\n     <use xlink:href=\"#ArialMT-6f\" x=\"1067.333984\"/>\n     <use xlink:href=\"#ArialMT-6d\" x=\"1122.949219\"/>\n     <use xlink:href=\"#ArialMT-20\" x=\"1206.25\"/>\n     <use xlink:href=\"#ArialMT-46\" x=\"1234.033203\"/>\n     <use xlink:href=\"#ArialMT-6f\" x=\"1295.117188\"/>\n     <use xlink:href=\"#ArialMT-72\" x=\"1350.732422\"/>\n     <use xlink:href=\"#ArialMT-65\" x=\"1384.033203\"/>\n     <use xlink:href=\"#ArialMT-73\" x=\"1439.648438\"/>\n     <use xlink:href=\"#ArialMT-74\" x=\"1489.648438\"/>\n    </g>\n   </g>\n  </g>\n </g>\n <defs>\n  <clipPath id=\"p27236d1bfd\">\n   <rect x=\"99.04875\" y=\"27.759375\" width=\"357.12\" height=\"266.112\"/>\n  </clipPath>\n </defs>\n</svg>\n",
      "text/plain": [
       "<Figure size 640x480 with 2 Axes>"
      ]
     },
     "metadata": {},
     "output_type": "display_data"
    }
   ],
   "source": [
    "color_rmse = sns.husl_palette(9)[7]\n",
    "color_time = sns.husl_palette(9)[6]\n",
    "\n",
    "ax1 = sns.lineplot(x=learning_rates, y=rmse_gbt_learning_rates, ci=False,\n",
    "                   color=color_rmse)\n",
    "ax1.set_ylabel(\"RMSE\", color=color_rmse, fontsize=20)\n",
    "ax1.tick_params(axis='y', colors=color_rmse)\n",
    "plt.yticks(fontsize=18)\n",
    "plt.xticks(fontsize=18)\n",
    "ax2 = ax1.twinx()\n",
    "\n",
    "sns.lineplot(x=learning_rates, y=time_gbt_learning_rates, ci=False, \n",
    "             color=color_time, ax=ax2)\n",
    "ax2.set_ylabel(\"Time (s)\", color=color_time, fontsize=20)\n",
    "ax2.tick_params(axis='y', colors=color_time)\n",
    "ax2.grid(False)\n",
    "\n",
    "ax2.spines['left'].set_color(color_rmse)\n",
    "ax2.spines['right'].set_color(color_time)\n",
    "ax2.set_title(\"Gradient Boosting Random Forest\", fontsize=20)\n",
    "ax1.set_xlabel(\"Learning rate\", fontsize=20)\n",
    "plt.yticks(fontsize=18)\n",
    "plt.savefig('./report/exp2/learning_rate.pdf', bbox_inches='tight')\n",
    "#labels = list(str(i) for i in range(0, 15, 2)) + ['None']\n",
    "#ax2.set_xticks(range(0, 17, 2), labels)\n",
    "None\n"
   ]
  },
  {
   "cell_type": "code",
   "execution_count": 53,
   "metadata": {},
   "outputs": [
    {
     "data": {
      "text/plain": [
       "[393461.4989714766,\n",
       " 390132.84474959865,\n",
       " 383626.6606717321,\n",
       " 366566.96336005675,\n",
       " 328207.38693898625,\n",
       " 253625.31222982716,\n",
       " 171255.15604575168,\n",
       " 137824.05170053322,\n",
       " 132564.51117034498,\n",
       " 131757.52373307315,\n",
       " 131412.7755433226,\n",
       " 146951.06426056163,\n",
       " 196580.72872284963]"
      ]
     },
     "execution_count": 53,
     "metadata": {},
     "output_type": "execute_result"
    }
   ],
   "source": [
    "rmse_gbt_learning_rates"
   ]
  },
  {
   "cell_type": "code",
   "execution_count": 50,
   "metadata": {},
   "outputs": [
    {
     "data": {
      "text/plain": [
       "array([1.0000e-05, 3.0000e-05, 7.0000e-05, 1.8000e-04, 4.6000e-04,\n",
       "       1.2100e-03, 3.1600e-03, 8.2500e-03, 2.1540e-02, 5.6230e-02,\n",
       "       1.4678e-01, 3.8312e-01, 1.0000e+00])"
      ]
     },
     "execution_count": 50,
     "metadata": {},
     "output_type": "execute_result"
    }
   ],
   "source": []
  },
  {
   "cell_type": "code",
   "execution_count": null,
   "metadata": {},
   "outputs": [],
   "source": []
  }
 ],
 "metadata": {
  "kernelspec": {
   "display_name": "Python 3.9.0 ('task3': venv)",
   "language": "python",
   "name": "python3"
  },
  "language_info": {
   "codemirror_mode": {
    "name": "ipython",
    "version": 3
   },
   "file_extension": ".py",
   "mimetype": "text/x-python",
   "name": "python",
   "nbconvert_exporter": "python",
   "pygments_lexer": "ipython3",
   "version": "3.9.0"
  },
  "orig_nbformat": 4,
  "vscode": {
   "interpreter": {
    "hash": "83e6e0f5b3a7c5670152ed193b70112863861f83524939ca0e6f92e167458100"
   }
  }
 },
 "nbformat": 4,
 "nbformat_minor": 2
}
